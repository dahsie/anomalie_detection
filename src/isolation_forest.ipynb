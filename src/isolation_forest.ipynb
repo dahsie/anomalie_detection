{
 "cells": [
  {
   "cell_type": "markdown",
   "metadata": {},
   "source": [
    "### Import des différents librairies"
   ]
  },
  {
   "cell_type": "code",
   "execution_count": 677,
   "metadata": {},
   "outputs": [],
   "source": [
    "import numpy as np\n",
    "import pandas as pd\n",
    "import matplotlib.pyplot as plt\n",
    "import seaborn as sb\n",
    "\n",
    "from sklearn.metrics import make_scorer, roc_auc_score,confusion_matrix\n",
    "from sklearn.metrics import f1_score,accuracy_score,precision_score,recall_score\n",
    "from sklearn.metrics import precision_recall_curve\n",
    "from sklearn.metrics import PrecisionRecallDisplay\n",
    "from sklearn.metrics import RocCurveDisplay,roc_curve\n",
    "from sklearn import metrics\n",
    "\n",
    "from sklearn.model_selection import train_test_split\n",
    "from sklearn.model_selection import GridSearchCV\n",
    "from sklearn.model_selection import ParameterGrid\n",
    "from sklearn.model_selection import KFold,StratifiedKFold\n",
    "\n",
    "#The model\n",
    "from sklearn.ensemble import IsolationForest\n",
    "\n",
    "#For preprocessing\n",
    "from sklearn.preprocessing import MinMaxScaler,StandardScaler\n",
    "\n",
    "# from tqdm import tqdm\n",
    "from tqdm.notebook import tqdm\n",
    "import warnings \n",
    "warnings.simplefilter(\"ignore\")"
   ]
  },
  {
   "cell_type": "markdown",
   "metadata": {},
   "source": [
    "### Pretraitement"
   ]
  },
  {
   "cell_type": "code",
   "execution_count": 678,
   "metadata": {},
   "outputs": [],
   "source": [
    "class AnomalyDetectionDataLoader:\n",
    "    \n",
    "    def __init__(self, file_path, test_size=0.15, random_state=42):\n",
    "        self.file_path = file_path\n",
    "        self.test_size = test_size\n",
    "        self.random_state = random_state\n",
    "        self.data = None\n",
    "        self.target = None\n",
    "        self.xtrain = None\n",
    "        self.xtest = None\n",
    "        self.ytrain = None\n",
    "        self.ytest = None\n",
    "        self.scaler = MinMaxScaler()\n",
    "\n",
    "    def load_data(self):\n",
    "        self.data = pd.read_csv(self.file_path)\n",
    "        \n",
    "        self.data.drop_duplicates(keep=\"last\", inplace=True)\n",
    "\n",
    "        self.target = self.data[\"Class\"]\n",
    "        self.data = self.data.drop([\"Class\", \"Time\"], axis=1)\n",
    "\n",
    "    def preprocess_data(self):\n",
    "\n",
    "        data_scaled_array = self.scaler.fit_transform(self.data)\n",
    "        self.data = pd.DataFrame(data_scaled_array, columns=self.data.columns)\n",
    "\n",
    "    def split_data(self):\n",
    "        \n",
    "        self.xtrain, self.xtest, self.ytrain, self.ytest = train_test_split(\n",
    "            self.data, self.target, test_size=self.test_size, random_state=self.random_state, shuffle=True)\n",
    "\n",
    "    def get_train_data(self):\n",
    "        return self.xtrain, self.ytrain\n",
    "\n",
    "    def get_test_data(self):\n",
    "        return self.xtest, self.ytest\n",
    "\n",
    "    def get_scaler(self):\n",
    "        return self.scaler\n",
    "\n"
   ]
  },
  {
   "cell_type": "markdown",
   "metadata": {},
   "source": [
    "### Transformation des targets\n",
    "ypred return un vecteur contenant que de -1 pour des données anormales et 1 pour les données normales alors que les targets des <br>\n",
    "des données initial contiennet des 0 pour des données normales et 1 pour des données anormales. Il faut donc transformer ce vecteur <br>\n",
    "en un vecteur contenant des 1 pour des données normales et -1 pour les anomalies"
   ]
  },
  {
   "cell_type": "code",
   "execution_count": 679,
   "metadata": {},
   "outputs": [],
   "source": [
    "def transform_target(target):\n",
    "    \"\"\"Args:\n",
    "        target: np.ndarry or pd.DataFrame\n",
    "    \"\"\"\n",
    "    n=target.shape[0]\n",
    "    if isinstance(target,np.ndarray):\n",
    "        target[target==1]=-1\n",
    "        target[target==0]=1\n",
    "        \n",
    "    elif isinstance(target,pd.DataFrame) or isinstance(target,pd.Series):\n",
    "        target[target==1]=-1\n",
    "        target[target==0]=1\n",
    "    return target\n",
    "\n",
    "\n",
    "def inverse_transform_target(target):\n",
    "    n=target.shape[0]\n",
    "    if isinstance(target,pd.DataFrame) or isinstance(target,pd.Series):\n",
    "        target[target==1]=0\n",
    "        target[target==-1]=1\n",
    "        \n",
    "    elif isinstance(target,np.ndarray): \n",
    "        target[target==1]=0\n",
    "        target[target==-1]=1\n",
    "    return target"
   ]
  },
  {
   "cell_type": "markdown",
   "metadata": {},
   "source": [
    "### Visualisation des résultats"
   ]
  },
  {
   "cell_type": "code",
   "execution_count": 680,
   "metadata": {},
   "outputs": [],
   "source": [
    "def confusin_matrix_display(ytest,ypred):\n",
    "    metrics.ConfusionMatrixDisplay(confusion_matrix(ytest,ypred)).plot()\n",
    "    plt.title(\"Confusion Matrix\")\n",
    "    plt.show()\n",
    "\n",
    "def precision_recall_display(ytest, ypred):\n",
    "    precision, recall, _ = precision_recall_curve(ytest, ypred)\n",
    "    PrecisionRecallDisplay(precision=precision, recall=recall).plot()\n",
    "    plt.title(\"Precision_Recall_Curve\")\n",
    "    plt.show()\n",
    "\n",
    "def roc_curve_disolay(ytest, ypred):\n",
    "    fpr, tpr, thresholds = metrics.roc_curve(ytest, ypred)\n",
    "    roc_auc = metrics.auc(fpr, tpr)\n",
    "    display = metrics.RocCurveDisplay(fpr=fpr, tpr=tpr, roc_auc=roc_auc)\n",
    "    print(f\"roc_auc {roc_auc}\")\n",
    "    display.plot()\n",
    "    plt.title(\"ROC_Curve\")\n",
    "    plt.show()\n",
    "\n",
    "def scores(ytest,ypred):\n",
    "    df=pd.DataFrame({\"f1_score\" : [f1_score(ytest,ypred)],\n",
    "                     \"accuracy_score\" : [accuracy_score(ytest,ypred)],\n",
    "                     \"precision_score\" : [precision_score(ytest,ypred)],\n",
    "                     \"recall_score\" : [recall_score(ytest,ypred)]\n",
    "    })\n",
    "    print(df)\n",
    "    return df\n",
    " \n",
    "def evaluation(ytrue,ypred):\n",
    "    confusin_matrix_display(ytrue,ypred)\n",
    "    precision_recall_display(ytrue, ypred)\n",
    "    roc_curve_disolay(ytrue, ypred)\n",
    "    scores(ytest,ypred)"
   ]
  },
  {
   "cell_type": "markdown",
   "metadata": {},
   "source": [
    "### Recherche des hyperparametres :Grid Search Cross-Validation (GridSearchCV)\n",
    "Notre approche ici es d'implémenter notre propre fonction pour la recherche des hyper paramètres de nos différents modèles.<br> Par exemple les étiquettes de prédiction de notre jeu de données de fraudes banquaires sont 0 pour les transactions normales et 1 pour les transaction frauduleuses.<br> Cependant les étiquettes prédites par l'algorithme de forêt d'isolation (Isoalation Forest) sont -1 et 1. Les étiquettes prédictes et les étiquettes réelles sont différentes. <br>\n",
    "Pour faire face à ce problème nous avons implémenté deux fonctions, transformed_target et inverse_transforme_target, pour convertir les labels de sorte à avoir les deux labels dans la bonne version. <br>\n",
    "Cependant lors de la recherche des hyeper paramètres, nous passont nos données une seule fois en argment de la fonction GridSearchCV. Nous ne sommes donc pas à mesure de convertir les labels de prédiction de chaques modèle afin de l'evaluer. Nous avons jugé interessant d'implémenter notre fonction de GridSearchCV de sorte à pouvoir transformer les étiquettes de prédictions de chaque modèle sur un lot de paramètres données afin de pouvoir l'évaluer. "
   ]
  },
  {
   "cell_type": "code",
   "execution_count": 681,
   "metadata": {},
   "outputs": [],
   "source": [
    "class CustomGridSearchCV:\n",
    "    \n",
    "    def __init__(self, estimator, param_grid, n_splits=5, random_state=42):\n",
    "        self.estimator = estimator\n",
    "        self.param_grid = param_grid\n",
    "        self.n_splits = n_splits\n",
    "        self.random_state = random_state\n",
    "        self.best_score = 0\n",
    "        self.best_params = None\n",
    "        self.best_estimator = None\n",
    "\n",
    "    def fit(self, X, y):\n",
    "        \n",
    "        f1_scorer = make_scorer(f1_score)\n",
    "        param_grid = ParameterGrid(self.param_grid)\n",
    "        skf=StratifiedKFold(n_splits=self.n_splits, random_state=None, shuffle=False)\n",
    "        \n",
    "        for params in tqdm(param_grid):\n",
    "            \n",
    "            \n",
    "            total_score = 0\n",
    "\n",
    "            # Itérer sur les plis de la validation croisée\n",
    "            for train_index, val_index in tqdm(skf.split(X,y)):\n",
    "                xtrain_fold, xval_fold = X.iloc[train_index], X.iloc[val_index]\n",
    "                ytrain_fold, yval_fold = y.iloc[train_index], y.iloc[val_index]\n",
    "\n",
    "                # Entraîner le modèle\n",
    "                model = self.estimator.set_params(**params)\n",
    "                model.fit(xtrain_fold)\n",
    "\n",
    "                # Faire des prédictions\n",
    "                ypred_val = model.predict(xval_fold)\n",
    "                ypred_val = inverse_transform_target(ypred_val)\n",
    "\n",
    "                current_score = f1_score(ypred_val, yval_fold)\n",
    "\n",
    "                total_score += current_score\n",
    "\n",
    "            avg_score = total_score / self.n_splits\n",
    "\n",
    "            # Afficher les paramètres et le score moyen\n",
    "            print(\"Paramètres:\", params)\n",
    "            print(\"Score moyen (f1_score):\", avg_score)\n",
    "            print(\" \")\n",
    "\n",
    "            if avg_score > self.best_score:\n",
    "                self.best_score = avg_score\n",
    "                self.best_params = params\n",
    "                self.best_estimator=model\n",
    "\n",
    "        # Afficher les meilleurs paramètres\n",
    "        print(\"Meilleurs paramètres :\", self.best_params)\n",
    "        print(\"Meilleur score moyen (f1_score) :\", self.best_score)\n",
    "    def predict(self,xtest):\n",
    "        return self.best_estimator.predict(xtest)"
   ]
  },
  {
   "cell_type": "markdown",
   "metadata": {},
   "source": [
    "## Expérimentation sur différents jeux de données"
   ]
  },
  {
   "cell_type": "markdown",
   "metadata": {},
   "source": [
    "### Credit cards fraud detection\n",
    "Le jeu de données des transaction frauduleuses"
   ]
  },
  {
   "cell_type": "code",
   "execution_count": 682,
   "metadata": {},
   "outputs": [],
   "source": [
    "# Utilisation de la classe\n",
    "data_loader = AnomalyDetectionDataLoader(file_path=\"/home/dah/anomalie_detection/anomalie_detection/data/creditcard.csv\")\n",
    "data_loader.load_data()\n",
    "data_loader.preprocess_data()\n",
    "data_loader.split_data()\n",
    "\n",
    "xtrain, ytrain = data_loader.get_train_data()\n",
    "xtest, ytest = data_loader.get_test_data()\n",
    "scaler = data_loader.get_scaler()\n"
   ]
  },
  {
   "cell_type": "code",
   "execution_count": 683,
   "metadata": {},
   "outputs": [
    {
     "data": {
      "application/vnd.jupyter.widget-view+json": {
       "model_id": "cedccb625822406f9b09f97d4a005fce",
       "version_major": 2,
       "version_minor": 0
      },
      "text/plain": [
       "  0%|          | 0/8 [00:00<?, ?it/s]"
      ]
     },
     "metadata": {},
     "output_type": "display_data"
    },
    {
     "data": {
      "application/vnd.jupyter.widget-view+json": {
       "model_id": "ea408f7495f94639839bbd9bd7e948d3",
       "version_major": 2,
       "version_minor": 0
      },
      "text/plain": [
       "0it [00:00, ?it/s]"
      ]
     },
     "metadata": {},
     "output_type": "display_data"
    },
    {
     "name": "stdout",
     "output_type": "stream",
     "text": [
      "Paramètres: {'contamination': 0.009, 'max_features': 0.9, 'max_samples': 0.8, 'n_estimators': 300}\n",
      "Score moyen (f1_score): 0.2167861213355536\n",
      " \n"
     ]
    },
    {
     "data": {
      "application/vnd.jupyter.widget-view+json": {
       "model_id": "0f420166d5f64943ad1392f5278e18f4",
       "version_major": 2,
       "version_minor": 0
      },
      "text/plain": [
       "0it [00:00, ?it/s]"
      ]
     },
     "metadata": {},
     "output_type": "display_data"
    },
    {
     "name": "stdout",
     "output_type": "stream",
     "text": [
      "Paramètres: {'contamination': 0.009, 'max_features': 0.9, 'max_samples': 0.8, 'n_estimators': 400}\n",
      "Score moyen (f1_score): 0.21764028469782656\n",
      " \n"
     ]
    },
    {
     "data": {
      "application/vnd.jupyter.widget-view+json": {
       "model_id": "b3de0b05cd5241d9b59d0d79d4d59359",
       "version_major": 2,
       "version_minor": 0
      },
      "text/plain": [
       "0it [00:00, ?it/s]"
      ]
     },
     "metadata": {},
     "output_type": "display_data"
    },
    {
     "name": "stdout",
     "output_type": "stream",
     "text": [
      "Paramètres: {'contamination': 0.009, 'max_features': 0.9, 'max_samples': 0.8, 'n_estimators': 500}\n",
      "Score moyen (f1_score): 0.2188208620180001\n",
      " \n"
     ]
    },
    {
     "data": {
      "application/vnd.jupyter.widget-view+json": {
       "model_id": "3598d5c870c14d5d9ed454b1218f8ae5",
       "version_major": 2,
       "version_minor": 0
      },
      "text/plain": [
       "0it [00:00, ?it/s]"
      ]
     },
     "metadata": {},
     "output_type": "display_data"
    },
    {
     "name": "stdout",
     "output_type": "stream",
     "text": [
      "Paramètres: {'contamination': 0.009, 'max_features': 0.9, 'max_samples': 0.8, 'n_estimators': 600}\n",
      "Score moyen (f1_score): 0.21925998325015073\n",
      " \n"
     ]
    },
    {
     "data": {
      "application/vnd.jupyter.widget-view+json": {
       "model_id": "3c029183babb446697f2075b48463e40",
       "version_major": 2,
       "version_minor": 0
      },
      "text/plain": [
       "0it [00:00, ?it/s]"
      ]
     },
     "metadata": {},
     "output_type": "display_data"
    },
    {
     "name": "stdout",
     "output_type": "stream",
     "text": [
      "Paramètres: {'contamination': 0.009, 'max_features': 0.9, 'max_samples': 0.8, 'n_estimators': 700}\n",
      "Score moyen (f1_score): 0.218392112496474\n",
      " \n"
     ]
    },
    {
     "data": {
      "application/vnd.jupyter.widget-view+json": {
       "model_id": "d2999cc21f7f4470b4e138f18edb20d5",
       "version_major": 2,
       "version_minor": 0
      },
      "text/plain": [
       "0it [00:00, ?it/s]"
      ]
     },
     "metadata": {},
     "output_type": "display_data"
    },
    {
     "name": "stdout",
     "output_type": "stream",
     "text": [
      "Paramètres: {'contamination': 0.009, 'max_features': 0.9, 'max_samples': 0.8, 'n_estimators': 800}\n",
      "Score moyen (f1_score): 0.21789017424105106\n",
      " \n"
     ]
    },
    {
     "data": {
      "application/vnd.jupyter.widget-view+json": {
       "model_id": "e931f3fce21348b4b66286e9961ad4d7",
       "version_major": 2,
       "version_minor": 0
      },
      "text/plain": [
       "0it [00:00, ?it/s]"
      ]
     },
     "metadata": {},
     "output_type": "display_data"
    },
    {
     "name": "stdout",
     "output_type": "stream",
     "text": [
      "Paramètres: {'contamination': 0.009, 'max_features': 0.9, 'max_samples': 0.8, 'n_estimators': 900}\n",
      "Score moyen (f1_score): 0.21695708750343154\n",
      " \n"
     ]
    },
    {
     "data": {
      "application/vnd.jupyter.widget-view+json": {
       "model_id": "8805159190a14ad4920802651eba6d5f",
       "version_major": 2,
       "version_minor": 0
      },
      "text/plain": [
       "0it [00:00, ?it/s]"
      ]
     },
     "metadata": {},
     "output_type": "display_data"
    },
    {
     "name": "stdout",
     "output_type": "stream",
     "text": [
      "Paramètres: {'contamination': 0.009, 'max_features': 0.9, 'max_samples': 0.8, 'n_estimators': 1000}\n",
      "Score moyen (f1_score): 0.21664638063250502\n",
      " \n",
      "Meilleurs paramètres : {'contamination': 0.009, 'max_features': 0.9, 'max_samples': 0.8, 'n_estimators': 600}\n",
      "Meilleur score moyen (f1_score) : 0.21925998325015073\n"
     ]
    }
   ],
   "source": [
    "parameters={\n",
    "    \"n_estimators\":[100,200,300,400,500],\n",
    "    \"contamination\":[0.15],\n",
    "    \"max_samples\":[1.0],\n",
    "    \"max_features\":[1.0],\n",
    "    # \"bootstrap\":[False,True]\n",
    "}\n",
    "\n",
    "best_par={\n",
    "          'contamination': [0.009],\n",
    "          'max_features': [0.9], \n",
    "          'max_samples': [0.8], \n",
    "          'n_estimators': [300,400,500,600,700,800,900,1000]\n",
    "}\n",
    "model=CustomGridSearchCV(estimator=IsolationForest(random_state=42), param_grid=best_par, n_splits=5, random_state=42)\n",
    "model.fit(xtrain,ytrain)"
   ]
  },
  {
   "cell_type": "code",
   "execution_count": 684,
   "metadata": {},
   "outputs": [],
   "source": [
    "ypred=model.predict(xtest)"
   ]
  },
  {
   "cell_type": "code",
   "execution_count": 685,
   "metadata": {},
   "outputs": [],
   "source": [
    "ypred=inverse_transform_target(ypred)"
   ]
  },
  {
   "cell_type": "code",
   "execution_count": 686,
   "metadata": {},
   "outputs": [
    {
     "data": {
      "image/png": "[encoded data removed]",
      "text/plain": [
       "<Figure size 640x480 with 2 Axes>"
      ]
     },
     "metadata": {},
     "output_type": "display_data"
    },
    {
     "data": {
      "image/png": "[encoded data removed]",
      "text/plain": [
       "<Figure size 640x480 with 1 Axes>"
      ]
     },
     "metadata": {},
     "output_type": "display_data"
    },
    {
     "name": "stdout",
     "output_type": "stream",
     "text": [
      "roc_auc 0.8267520665275829\n"
     ]
    },
    {
     "data": {
      "image/png": "[encoded data removed]",
      "text/plain": [
       "<Figure size 640x480 with 1 Axes>"
      ]
     },
     "metadata": {},
     "output_type": "display_data"
    },
    {
     "name": "stdout",
     "output_type": "stream",
     "text": [
      "   f1_score  accuracy_score  precision_score  recall_score\n",
      "0  0.193966        0.991212         0.113636      0.661765\n"
     ]
    }
   ],
   "source": [
    "evaluation(ytest,ypred)"
   ]
  },
  {
   "cell_type": "code",
   "execution_count": null,
   "metadata": {},
   "outputs": [],
   "source": []
  }
 ],
 "metadata": {
  "kernelspec": {
   "display_name": "Python 3 (ipykernel)",
   "language": "python",
   "name": "python3"
  },
  "language_info": {
   "codemirror_mode": {
    "name": "ipython",
    "version": 3
   },
   "file_extension": ".py",
   "mimetype": "text/x-python",
   "name": "python",
   "nbconvert_exporter": "python",
   "pygments_lexer": "ipython3",
   "version": "3.11.4"
  },
  "widgets": {
   "application/vnd.jupyter.widget-state+json": {
    "state": {
     "0073a742328043298badf189fc93bee3": {
      "model_module": "@jupyter-widgets/controls",
      "model_module_version": "2.0.0",
      "model_name": "ProgressStyleModel",
      "state": {
       "description_width": ""
      }
     },
     "00e48fbce528406b9a223be78ea7f53b": {
      "model_module": "@jupyter-widgets/base",
      "model_module_version": "2.0.0",
      "model_name": "LayoutModel",
      "state": {
       "width": "20px"
      }
     },
     "0141248f32f44a6a97666a6105936955": {
      "model_module": "@jupyter-widgets/base",
      "model_module_version": "2.0.0",
      "model_name": "LayoutModel",
      "state": {}
     },
     "0193f4e18ae14bf6af926e9a5063b059": {
      "model_module": "@jupyter-widgets/controls",
      "model_module_version": "2.0.0",
      "model_name": "HTMLStyleModel",
      "state": {
       "description_width": "",
       "font_size": null,
       "text_color": null
      }
     },
     "01a19a8c260d4f02bd5ba713e593fd17": {
      "model_module": "@jupyter-widgets/controls",
      "model_module_version": "2.0.0",
      "model_name": "HBoxModel",
      "state": {
       "children": [
        "IPY_MODEL_3ee3937cedb1400a9f50dd1aa57fbfbf",
        "IPY_MODEL_25883ee365a14db2836f7b695c6f7da6",
        "IPY_MODEL_d35b09a8b1f74540a159ef4bc386adcd"
       ],
       "layout": "IPY_MODEL_a463b6eac5c348eeb119164f1b871670"
      }
     },
     "020fddf8611548eda11f1eaf010eaf88": {
      "model_module": "@jupyter-widgets/base",
      "model_module_version": "2.0.0",
      "model_name": "LayoutModel",
      "state": {}
     },
     "03492a7bf6714fcdb5ea705eab7fe0dc": {
      "model_module": "@jupyter-widgets/base",
      "model_module_version": "2.0.0",
      "model_name": "LayoutModel",
      "state": {}
     },
     "0422db9707074f1abe4908db19ca514d": {
      "model_module": "@jupyter-widgets/base",
      "model_module_version": "2.0.0",
      "model_name": "LayoutModel",
      "state": {}
     },
     "04c3e223cdb848b1ac1512b298fc91f8": {
      "model_module": "@jupyter-widgets/controls",
      "model_module_version": "2.0.0",
      "model_name": "ProgressStyleModel",
      "state": {
       "description_width": ""
      }
     },
     "060f6cad8ca249dea137eb36895cca49": {
      "model_module": "@jupyter-widgets/base",
      "model_module_version": "2.0.0",
      "model_name": "LayoutModel",
      "state": {
       "width": "20px"
      }
     },
     "06382c5e5a0c472e9048dd882900300d": {
      "model_module": "@jupyter-widgets/controls",
      "model_module_version": "2.0.0",
      "model_name": "ProgressStyleModel",
      "state": {
       "description_width": ""
      }
     },
     "0643d1c2032349dcb80cb838eb4fe6a0": {
      "model_module": "@jupyter-widgets/controls",
      "model_module_version": "2.0.0",
      "model_name": "ProgressStyleModel",
      "state": {
       "description_width": ""
      }
     },
     "071084c807cf4583a1a5425882545dbc": {
      "model_module": "@jupyter-widgets/controls",
      "model_module_version": "2.0.0",
      "model_name": "HTMLModel",
      "state": {
       "layout": "IPY_MODEL_a8346007a2c34375a4c46effac9f39c2",
       "style": "IPY_MODEL_6a9010a8f11c4357972aa53a4c563b66",
       "value": " 0/? [00:14&lt;?, ?it/s]"
      }
     },
     "07bc8b1235da42ca971a2c95d4e94574": {
      "model_module": "@jupyter-widgets/base",
      "model_module_version": "2.0.0",
      "model_name": "LayoutModel",
      "state": {}
     },
     "0b31438028534d6fa30ac5543233bf4f": {
      "model_module": "@jupyter-widgets/controls",
      "model_module_version": "2.0.0",
      "model_name": "HTMLModel",
      "state": {
       "layout": "IPY_MODEL_85511da74b3e45098bc800309a559677",
       "style": "IPY_MODEL_42575579cfe74f48abb434239e2291ed",
       "value": "100%"
      }
     },
     "0dcadf2e7312437b8a0b08cace109b7f": {
      "model_module": "@jupyter-widgets/controls",
      "model_module_version": "2.0.0",
      "model_name": "HTMLStyleModel",
      "state": {
       "description_width": "",
       "font_size": null,
       "text_color": null
      }
     },
     "0e7b7749d26848fdadf33b6022026878": {
      "model_module": "@jupyter-widgets/controls",
      "model_module_version": "2.0.0",
      "model_name": "FloatProgressModel",
      "state": {
       "bar_style": "danger",
       "layout": "IPY_MODEL_f98f01bada554ed4b9461b49065ea1f7",
       "max": 240,
       "style": "IPY_MODEL_3744d7f3ddec4c7780fc2ecd82017fec",
       "value": 128
      }
     },
     "0e848e6b552d423face77d7cc58b256c": {
      "model_module": "@jupyter-widgets/controls",
      "model_module_version": "2.0.0",
      "model_name": "HTMLStyleModel",
      "state": {
       "description_width": "",
       "font_size": null,
       "text_color": null
      }
     },
     "0f2d282d754f416da1f3addb7bf70fd5": {
      "model_module": "@jupyter-widgets/base",
      "model_module_version": "2.0.0",
      "model_name": "LayoutModel",
      "state": {}
     },
     "0f420166d5f64943ad1392f5278e18f4": {
      "model_module": "@jupyter-widgets/controls",
      "model_module_version": "2.0.0",
      "model_name": "HBoxModel",
      "state": {
       "children": [
        "IPY_MODEL_6c5876e237514fb8835e598dc59844bc",
        "IPY_MODEL_33fd11abe70e4c1d8c3f97cd16e6361d",
        "IPY_MODEL_53f87fe70da147bd8dfe817bf8df0b1e"
       ],
       "layout": "IPY_MODEL_0f502c77ede94bc8a0b3e1b95d9f0040"
      }
     },
     "0f502c77ede94bc8a0b3e1b95d9f0040": {
      "model_module": "@jupyter-widgets/base",
      "model_module_version": "2.0.0",
      "model_name": "LayoutModel",
      "state": {}
     },
     "11cae57ec47e4928a014d7d7f977b8dc": {
      "model_module": "@jupyter-widgets/controls",
      "model_module_version": "2.0.0",
      "model_name": "ProgressStyleModel",
      "state": {
       "description_width": ""
      }
     },
     "12268293194248ffa219be5dbda77f19": {
      "model_module": "@jupyter-widgets/controls",
      "model_module_version": "2.0.0",
      "model_name": "FloatProgressModel",
      "state": {
       "bar_style": "danger",
       "layout": "IPY_MODEL_a42f735942364139abd7761dd6c4cc06",
       "max": 216,
       "style": "IPY_MODEL_ab2ec1aaaf504e969fa0684f73a04802",
       "value": 72
      }
     },
     "1310402f90ce42e5ab6d1cfc996b6536": {
      "model_module": "@jupyter-widgets/base",
      "model_module_version": "2.0.0",
      "model_name": "LayoutModel",
      "state": {}
     },
     "13a16e9a8f4a4086b538a7b327327d87": {
      "model_module": "@jupyter-widgets/base",
      "model_module_version": "2.0.0",
      "model_name": "LayoutModel",
      "state": {}
     },
     "13bfaad8d438443ca04bf6df8e45782c": {
      "model_module": "@jupyter-widgets/controls",
      "model_module_version": "2.0.0",
      "model_name": "HTMLModel",
      "state": {
       "layout": "IPY_MODEL_adea85e4f3594d70aa09702ebb87c4a0",
       "style": "IPY_MODEL_1d240f74302247679d93d983aff46398",
       "value": "  1%"
      }
     },
     "1425564c68094535a7c555e416014d88": {
      "model_module": "@jupyter-widgets/controls",
      "model_module_version": "2.0.0",
      "model_name": "HTMLModel",
      "state": {
       "layout": "IPY_MODEL_89aac4f3d4d7436197f190f132654330",
       "style": "IPY_MODEL_bf28fd64a27e49358b245142951f6464",
       "value": " 0/5 [00:00&lt;?, ?it/s]"
      }
     },
     "147b7f7b60d84a229c87fcdba60d040b": {
      "model_module": "@jupyter-widgets/base",
      "model_module_version": "2.0.0",
      "model_name": "LayoutModel",
      "state": {}
     },
     "14b69e702c244fb2bd94a719ea2ce209": {
      "model_module": "@jupyter-widgets/controls",
      "model_module_version": "2.0.0",
      "model_name": "FloatProgressModel",
      "state": {
       "bar_style": "danger",
       "layout": "IPY_MODEL_ffa4d620c01b4e37be54ac847aa4435a",
       "max": 360,
       "style": "IPY_MODEL_6da67b173a9b4dcdb8fa305614a3ee59",
       "value": 4
      }
     },
     "14bd3afbc56c47e0b895ee2459f78b22": {
      "model_module": "@jupyter-widgets/controls",
      "model_module_version": "2.0.0",
      "model_name": "ProgressStyleModel",
      "state": {
       "description_width": ""
      }
     },
     "168ce05893414160aae6b6141b412ee2": {
      "model_module": "@jupyter-widgets/base",
      "model_module_version": "2.0.0",
      "model_name": "LayoutModel",
      "state": {}
     },
     "17b7c354e7ab470084509dde1c3c081e": {
      "model_module": "@jupyter-widgets/controls",
      "model_module_version": "2.0.0",
      "model_name": "HTMLModel",
      "state": {
       "layout": "IPY_MODEL_a5e377497dd14dd78d4f4a1ad79ce279",
       "style": "IPY_MODEL_8c69906985b44b128f4773a088de948b"
      }
     },
     "1801a33bbff245f986928b47ea20079b": {
      "model_module": "@jupyter-widgets/controls",
      "model_module_version": "2.0.0",
      "model_name": "HTMLModel",
      "state": {
       "layout": "IPY_MODEL_92b6e89ddff64d32bca9627e5ed3c109",
       "style": "IPY_MODEL_c9823b8f34894c059c0fecf80358ae22",
       "value": " 5/? [02:55&lt;00:00, 35.22s/it]"
      }
     },
     "1a39f844072447d7949454aebed6ac89": {
      "model_module": "@jupyter-widgets/controls",
      "model_module_version": "2.0.0",
      "model_name": "HTMLModel",
      "state": {
       "layout": "IPY_MODEL_b76c1e9c0eb64282be2a5e6302a9b01c",
       "style": "IPY_MODEL_dcd60733b902492fa029ee2620013214",
       "value": " 8/8 [21:38&lt;00:00, 204.13s/it]"
      }
     },
     "1ce65531a07c47f08beecf9885fefdad": {
      "model_module": "@jupyter-widgets/controls",
      "model_module_version": "2.0.0",
      "model_name": "HTMLModel",
      "state": {
       "layout": "IPY_MODEL_9d543e4c036c42c39f2107df8fa5b858",
       "style": "IPY_MODEL_75869d2c572e4794a068895cf06d05c2",
       "value": " 63/216 [18:37&lt;38:48, 15.22s/it]"
      }
     },
     "1d240f74302247679d93d983aff46398": {
      "model_module": "@jupyter-widgets/controls",
      "model_module_version": "2.0.0",
      "model_name": "HTMLStyleModel",
      "state": {
       "description_width": "",
       "font_size": null,
       "text_color": null
      }
     },
     "1f34ea93ab4949858b6a1beece0e0bd6": {
      "model_module": "@jupyter-widgets/base",
      "model_module_version": "2.0.0",
      "model_name": "LayoutModel",
      "state": {}
     },
     "2054f71bbe474730b954206e9fdf2282": {
      "model_module": "@jupyter-widgets/base",
      "model_module_version": "2.0.0",
      "model_name": "LayoutModel",
      "state": {}
     },
     "21914c3279694968a89e0ba032d5f4b4": {
      "model_module": "@jupyter-widgets/controls",
      "model_module_version": "2.0.0",
      "model_name": "HTMLModel",
      "state": {
       "layout": "IPY_MODEL_5b1c28f91a7b4ed587e5f3e468d8695b",
       "style": "IPY_MODEL_6c7e258f5b8e4bd49dbd9954dfa34dba",
       "value": " 33%"
      }
     },
     "22c3120dba0a4ae49d62e3874061b0ae": {
      "model_module": "@jupyter-widgets/base",
      "model_module_version": "2.0.0",
      "model_name": "LayoutModel",
      "state": {}
     },
     "24121c8a6a844ae58f127edfb44bb650": {
      "model_module": "@jupyter-widgets/controls",
      "model_module_version": "2.0.0",
      "model_name": "FloatProgressModel",
      "state": {
       "bar_style": "danger",
       "layout": "IPY_MODEL_4eb7dba4a5414bfdbc096b8ca91e7a29",
       "max": 5,
       "style": "IPY_MODEL_7f55f608fb1147d2b0f121bd615658f1"
      }
     },
     "244fa6d9cc9845cd93a9d48c601dbfc2": {
      "model_module": "@jupyter-widgets/base",
      "model_module_version": "2.0.0",
      "model_name": "LayoutModel",
      "state": {}
     },
     "255944e1e919435a94becc4a2df78967": {
      "model_module": "@jupyter-widgets/controls",
      "model_module_version": "2.0.0",
      "model_name": "HTMLModel",
      "state": {
       "layout": "IPY_MODEL_602064c87be94f72a3522ce651f4f1a4",
       "style": "IPY_MODEL_4c024c60d7934fa2921f32ff6a944e68"
      }
     },
     "25883ee365a14db2836f7b695c6f7da6": {
      "model_module": "@jupyter-widgets/controls",
      "model_module_version": "2.0.0",
      "model_name": "FloatProgressModel",
      "state": {
       "bar_style": "success",
       "layout": "IPY_MODEL_6919b871fae14c5f9781fdbb7cb220b3",
       "max": 8,
       "style": "IPY_MODEL_e937444d00e94ffebabe7fd1def80eba",
       "value": 8
      }
     },
     "2697d607a6fb4296960ddcb13a2eac91": {
      "model_module": "@jupyter-widgets/controls",
      "model_module_version": "2.0.0",
      "model_name": "HTMLModel",
      "state": {
       "layout": "IPY_MODEL_f079106a596448b6b60286f61f7c9485",
       "style": "IPY_MODEL_0dcadf2e7312437b8a0b08cace109b7f",
       "value": " 43%"
      }
     },
     "28c524939b454b80817323d8f9ecbc89": {
      "model_module": "@jupyter-widgets/controls",
      "model_module_version": "2.0.0",
      "model_name": "ProgressStyleModel",
      "state": {
       "description_width": ""
      }
     },
     "298ff4fcd88e438bb872dc09a04cb3b4": {
      "model_module": "@jupyter-widgets/base",
      "model_module_version": "2.0.0",
      "model_name": "LayoutModel",
      "state": {}
     },
     "29abe8b973544513973009e4918aad7c": {
      "model_module": "@jupyter-widgets/controls",
      "model_module_version": "2.0.0",
      "model_name": "HTMLModel",
      "state": {
       "layout": "IPY_MODEL_8fde1570ca374a24a082a41b787db979",
       "style": "IPY_MODEL_7d9a52233504445f9a6193fc359f8093",
       "value": " 128/240 [42:12&lt;35:23, 18.96s/it]"
      }
     },
     "2aa65bb8c3ca4ea399d3f9ce4173c540": {
      "model_module": "@jupyter-widgets/controls",
      "model_module_version": "2.0.0",
      "model_name": "HTMLStyleModel",
      "state": {
       "description_width": "",
       "font_size": null,
       "text_color": null
      }
     },
     "2b8ba59142d641c6be3fef846ce603ed": {
      "model_module": "@jupyter-widgets/controls",
      "model_module_version": "2.0.0",
      "model_name": "HTMLStyleModel",
      "state": {
       "description_width": "",
       "font_size": null,
       "text_color": null
      }
     },
     "2bc47fec0002498e83c5a0f356b73b9e": {
      "model_module": "@jupyter-widgets/controls",
      "model_module_version": "2.0.0",
      "model_name": "HTMLModel",
      "state": {
       "layout": "IPY_MODEL_2054f71bbe474730b954206e9fdf2282",
       "style": "IPY_MODEL_a482668d587d4012be9595b0d3462b4c"
      }
     },
     "2c40f96b8e14405fa59ebf4e7322645e": {
      "model_module": "@jupyter-widgets/controls",
      "model_module_version": "2.0.0",
      "model_name": "HTMLModel",
      "state": {
       "layout": "IPY_MODEL_77c2963a33134c06be2d3f6f0fe8444e",
       "style": "IPY_MODEL_633ac54812f3417dac5963ea65e196c8",
       "value": " 5/5 [03:51&lt;00:00, 56.89s/it]"
      }
     },
     "30bb95c861544fb3aa265189fd2cee50": {
      "model_module": "@jupyter-widgets/controls",
      "model_module_version": "2.0.0",
      "model_name": "HBoxModel",
      "state": {
       "children": [
        "IPY_MODEL_c8e2893a87c5473ca784b45f136f151a",
        "IPY_MODEL_0e7b7749d26848fdadf33b6022026878",
        "IPY_MODEL_29abe8b973544513973009e4918aad7c"
       ],
       "layout": "IPY_MODEL_168ce05893414160aae6b6141b412ee2"
      }
     },
     "312eaa52a77947aa8f6e27166250e17f": {
      "model_module": "@jupyter-widgets/base",
      "model_module_version": "2.0.0",
      "model_name": "LayoutModel",
      "state": {}
     },
     "31768140bf1e40a3bbd1108eba30b6c9": {
      "model_module": "@jupyter-widgets/controls",
      "model_module_version": "2.0.0",
      "model_name": "HTMLStyleModel",
      "state": {
       "description_width": "",
       "font_size": null,
       "text_color": null
      }
     },
     "32f614c3076c4d5ea3069c7c78535432": {
      "model_module": "@jupyter-widgets/base",
      "model_module_version": "2.0.0",
      "model_name": "LayoutModel",
      "state": {}
     },
     "33fd11abe70e4c1d8c3f97cd16e6361d": {
      "model_module": "@jupyter-widgets/controls",
      "model_module_version": "2.0.0",
      "model_name": "FloatProgressModel",
      "state": {
       "bar_style": "success",
       "layout": "IPY_MODEL_6d2c1716cbc24721ac18b5caa46a5581",
       "max": 1,
       "style": "IPY_MODEL_5e33d8e518d34926b451660d767977e1",
       "value": 1
      }
     },
     "35160100420c448c8a6d59332ee7b0cc": {
      "model_module": "@jupyter-widgets/base",
      "model_module_version": "2.0.0",
      "model_name": "LayoutModel",
      "state": {}
     },
     "3598d5c870c14d5d9ed454b1218f8ae5": {
      "model_module": "@jupyter-widgets/controls",
      "model_module_version": "2.0.0",
      "model_name": "HBoxModel",
      "state": {
       "children": [
        "IPY_MODEL_e9129f1cbda543269e29f3141baecd9e",
        "IPY_MODEL_7d38f8e85efd47d2aa03f3da20bfa403",
        "IPY_MODEL_51d23790068440afa91c350c20706c42"
       ],
       "layout": "IPY_MODEL_570e88893dd2486fa2d3f89de68930b3"
      }
     },
     "366e78aac0154157bf0fc546dd8fce1a": {
      "model_module": "@jupyter-widgets/controls",
      "model_module_version": "2.0.0",
      "model_name": "HTMLStyleModel",
      "state": {
       "description_width": "",
       "font_size": null,
       "text_color": null
      }
     },
     "373f8d1fbf9c45fc9f35120bc0c7c23c": {
      "model_module": "@jupyter-widgets/controls",
      "model_module_version": "2.0.0",
      "model_name": "HTMLModel",
      "state": {
       "layout": "IPY_MODEL_e980775b405f498a8e9f8a3488e76ec5",
       "style": "IPY_MODEL_2aa65bb8c3ca4ea399d3f9ce4173c540",
       "value": " 0/8 [00:14&lt;?, ?it/s]"
      }
     },
     "3744d7f3ddec4c7780fc2ecd82017fec": {
      "model_module": "@jupyter-widgets/controls",
      "model_module_version": "2.0.0",
      "model_name": "ProgressStyleModel",
      "state": {
       "description_width": ""
      }
     },
     "390c6157ee9e4e47ba5c470e9ed3dda0": {
      "model_module": "@jupyter-widgets/controls",
      "model_module_version": "2.0.0",
      "model_name": "ProgressStyleModel",
      "state": {
       "description_width": ""
      }
     },
     "3abaa1d7752d4505b61646ce2bccd3a3": {
      "model_module": "@jupyter-widgets/base",
      "model_module_version": "2.0.0",
      "model_name": "LayoutModel",
      "state": {}
     },
     "3c029183babb446697f2075b48463e40": {
      "model_module": "@jupyter-widgets/controls",
      "model_module_version": "2.0.0",
      "model_name": "HBoxModel",
      "state": {
       "children": [
        "IPY_MODEL_a2a3414c6e714b91b8173b6748b02988",
        "IPY_MODEL_b5733eba9eaa49df90135b61a23fb362",
        "IPY_MODEL_1801a33bbff245f986928b47ea20079b"
       ],
       "layout": "IPY_MODEL_ded0e8203b944a1a9ff179b7fbb8814c"
      }
     },
     "3c79d29d7c334d6a83ea4a73b5d376fa": {
      "model_module": "@jupyter-widgets/controls",
      "model_module_version": "2.0.0",
      "model_name": "HTMLStyleModel",
      "state": {
       "description_width": "",
       "font_size": null,
       "text_color": null
      }
     },
     "3eaeeaf50b7441e986fd91c760ef50e3": {
      "model_module": "@jupyter-widgets/controls",
      "model_module_version": "2.0.0",
      "model_name": "HTMLStyleModel",
      "state": {
       "description_width": "",
       "font_size": null,
       "text_color": null
      }
     },
     "3ee3937cedb1400a9f50dd1aa57fbfbf": {
      "model_module": "@jupyter-widgets/controls",
      "model_module_version": "2.0.0",
      "model_name": "HTMLModel",
      "state": {
       "layout": "IPY_MODEL_dd97329d6bd7444e9ddfc8b019a2dae9",
       "style": "IPY_MODEL_6c51fbb1f09046d4a3872bfed20875d0",
       "value": "100%"
      }
     },
     "3ee6d625c9ae487b87376313713b772e": {
      "model_module": "@jupyter-widgets/controls",
      "model_module_version": "2.0.0",
      "model_name": "HTMLModel",
      "state": {
       "layout": "IPY_MODEL_c12f3de204d74e67afe76d00eae67590",
       "style": "IPY_MODEL_65a9b06eebaf4c30bec570e9a56f5abd",
       "value": " 29%"
      }
     },
     "3f7c392cf17e4417bd122240c8d403d9": {
      "model_module": "@jupyter-widgets/controls",
      "model_module_version": "2.0.0",
      "model_name": "ProgressStyleModel",
      "state": {
       "description_width": ""
      }
     },
     "3fd2c97c45b248acb2d41c5132fd3ab6": {
      "model_module": "@jupyter-widgets/base",
      "model_module_version": "2.0.0",
      "model_name": "LayoutModel",
      "state": {}
     },
     "41c98065e0ed4a46838fdb12a344b5c6": {
      "model_module": "@jupyter-widgets/base",
      "model_module_version": "2.0.0",
      "model_name": "LayoutModel",
      "state": {}
     },
     "424652163c2841c78a37d973c6ae1ad8": {
      "model_module": "@jupyter-widgets/controls",
      "model_module_version": "2.0.0",
      "model_name": "HTMLModel",
      "state": {
       "layout": "IPY_MODEL_c092b9937df94759bd2c75170122440c",
       "style": "IPY_MODEL_db03aa9fb80e448fa1ea16fd6d8f529e",
       "value": "100%"
      }
     },
     "42575579cfe74f48abb434239e2291ed": {
      "model_module": "@jupyter-widgets/controls",
      "model_module_version": "2.0.0",
      "model_name": "HTMLStyleModel",
      "state": {
       "description_width": "",
       "font_size": null,
       "text_color": null
      }
     },
     "42627e99342643229d5fdf0c9a6786c1": {
      "model_module": "@jupyter-widgets/controls",
      "model_module_version": "2.0.0",
      "model_name": "HBoxModel",
      "state": {
       "children": [
        "IPY_MODEL_c07bfa879f2a4d408798a5a4315e1cb2",
        "IPY_MODEL_acdaa06920fc43c0ae7eb15826415e6c",
        "IPY_MODEL_8bbea190ff4f4364b0126b5ae8a76bc5"
       ],
       "layout": "IPY_MODEL_de5aff9b833e4dfba7abc9096ec7749f"
      }
     },
     "42951c8cac564a7896e1f41378926011": {
      "model_module": "@jupyter-widgets/controls",
      "model_module_version": "2.0.0",
      "model_name": "HTMLStyleModel",
      "state": {
       "description_width": "",
       "font_size": null,
       "text_color": null
      }
     },
     "43c62b2b309f4203a121ba376663cb64": {
      "model_module": "@jupyter-widgets/base",
      "model_module_version": "2.0.0",
      "model_name": "LayoutModel",
      "state": {}
     },
     "4442fb820b3c4939bacfc9ccdc414f1f": {
      "model_module": "@jupyter-widgets/controls",
      "model_module_version": "2.0.0",
      "model_name": "FloatProgressModel",
      "state": {
       "bar_style": "success",
       "layout": "IPY_MODEL_9aec2182246647c39044f4bc46c90c71",
       "max": 1,
       "style": "IPY_MODEL_28c524939b454b80817323d8f9ecbc89",
       "value": 1
      }
     },
     "448996b99bd043b39ee5ef697d19fb97": {
      "model_module": "@jupyter-widgets/base",
      "model_module_version": "2.0.0",
      "model_name": "LayoutModel",
      "state": {}
     },
     "451c7ad37cdf44aea2f5c61382c026ff": {
      "model_module": "@jupyter-widgets/controls",
      "model_module_version": "2.0.0",
      "model_name": "HTMLStyleModel",
      "state": {
       "description_width": "",
       "font_size": null,
       "text_color": null
      }
     },
     "454880f35739453fa2a6c467778dbb5a": {
      "model_module": "@jupyter-widgets/controls",
      "model_module_version": "2.0.0",
      "model_name": "HTMLModel",
      "state": {
       "layout": "IPY_MODEL_ba6704bbcfe442338a2bb0824aa88b9a",
       "style": "IPY_MODEL_a11b671756014a50bbae91992599879d",
       "value": "  0%"
      }
     },
     "468615125a3c4d52918c6ec72e76a68a": {
      "model_module": "@jupyter-widgets/controls",
      "model_module_version": "2.0.0",
      "model_name": "FloatProgressModel",
      "state": {
       "bar_style": "success",
       "layout": "IPY_MODEL_9a3faea875ff4e1eaad144f6bb9215ec",
       "max": 1,
       "style": "IPY_MODEL_0073a742328043298badf189fc93bee3",
       "value": 1
      }
     },
     "46c31dc211a54721ac3127b856bc5ee1": {
      "model_module": "@jupyter-widgets/controls",
      "model_module_version": "2.0.0",
      "model_name": "HTMLStyleModel",
      "state": {
       "description_width": "",
       "font_size": null,
       "text_color": null
      }
     },
     "46cfa8b3af404bd0ba9fd8b523ce9312": {
      "model_module": "@jupyter-widgets/base",
      "model_module_version": "2.0.0",
      "model_name": "LayoutModel",
      "state": {}
     },
     "495c1683ec4a4d39aff323b4b76c9cec": {
      "model_module": "@jupyter-widgets/controls",
      "model_module_version": "2.0.0",
      "model_name": "HTMLModel",
      "state": {
       "layout": "IPY_MODEL_03492a7bf6714fcdb5ea705eab7fe0dc",
       "style": "IPY_MODEL_c6e1fb40456c4c108205b8fdcf9240d3",
       "value": "  0%"
      }
     },
     "49965fddb44e46e981952a350167b358": {
      "model_module": "@jupyter-widgets/base",
      "model_module_version": "2.0.0",
      "model_name": "LayoutModel",
      "state": {}
     },
     "4c024c60d7934fa2921f32ff6a944e68": {
      "model_module": "@jupyter-widgets/controls",
      "model_module_version": "2.0.0",
      "model_name": "HTMLStyleModel",
      "state": {
       "description_width": "",
       "font_size": null,
       "text_color": null
      }
     },
     "4dae72cb5b634c39ab2456211eab0bf1": {
      "model_module": "@jupyter-widgets/controls",
      "model_module_version": "2.0.0",
      "model_name": "HBoxModel",
      "state": {
       "children": [
        "IPY_MODEL_7c6976b4ef35410f9d7db72fec9d3fcb",
        "IPY_MODEL_24121c8a6a844ae58f127edfb44bb650",
        "IPY_MODEL_1425564c68094535a7c555e416014d88"
       ],
       "layout": "IPY_MODEL_55ce4e19aedb42c3ae601b3e5cba7339"
      }
     },
     "4eb7dba4a5414bfdbc096b8ca91e7a29": {
      "model_module": "@jupyter-widgets/base",
      "model_module_version": "2.0.0",
      "model_name": "LayoutModel",
      "state": {}
     },
     "4f712497aacb4644821bab5c6f652f0e": {
      "model_module": "@jupyter-widgets/controls",
      "model_module_version": "2.0.0",
      "model_name": "ProgressStyleModel",
      "state": {
       "description_width": ""
      }
     },
     "4fa6b588d14a424e900a5998fac18436": {
      "model_module": "@jupyter-widgets/controls",
      "model_module_version": "2.0.0",
      "model_name": "ProgressStyleModel",
      "state": {
       "description_width": ""
      }
     },
     "51d23790068440afa91c350c20706c42": {
      "model_module": "@jupyter-widgets/controls",
      "model_module_version": "2.0.0",
      "model_name": "HTMLModel",
      "state": {
       "layout": "IPY_MODEL_7682debb5b0a4f0c985c1a14e08a7e8a",
       "style": "IPY_MODEL_a1363faf63764f50b787b4e8520e4495",
       "value": " 5/? [02:28&lt;00:00, 29.64s/it]"
      }
     },
     "527a87a1a62147f0b67c3ef08fed39c5": {
      "model_module": "@jupyter-widgets/controls",
      "model_module_version": "2.0.0",
      "model_name": "FloatProgressModel",
      "state": {
       "bar_style": "danger",
       "layout": "IPY_MODEL_6d94436ecf5c4afb9400bbb73590e309",
       "max": 5,
       "style": "IPY_MODEL_4f712497aacb4644821bab5c6f652f0e"
      }
     },
     "5301b4cad4094247a107a1823e6a4dde": {
      "model_module": "@jupyter-widgets/controls",
      "model_module_version": "2.0.0",
      "model_name": "HTMLStyleModel",
      "state": {
       "description_width": "",
       "font_size": null,
       "text_color": null
      }
     },
     "535a8ada12b7415f87d4dced369cf960": {
      "model_module": "@jupyter-widgets/controls",
      "model_module_version": "2.0.0",
      "model_name": "FloatProgressModel",
      "state": {
       "bar_style": "success",
       "layout": "IPY_MODEL_be0e33af969945d7812bf46537fac63b",
       "max": 5,
       "style": "IPY_MODEL_fd37de9bac0743a3bf65244f80798066",
       "value": 5
      }
     },
     "53f87fe70da147bd8dfe817bf8df0b1e": {
      "model_module": "@jupyter-widgets/controls",
      "model_module_version": "2.0.0",
      "model_name": "HTMLModel",
      "state": {
       "layout": "IPY_MODEL_298ff4fcd88e438bb872dc09a04cb3b4",
       "style": "IPY_MODEL_71a8888e04ea4d96a749cc2ee1ed3f50",
       "value": " 5/? [01:37&lt;00:00, 19.13s/it]"
      }
     },
     "55b6e7c698f844b1a3b2741e69ed8163": {
      "model_module": "@jupyter-widgets/controls",
      "model_module_version": "2.0.0",
      "model_name": "HTMLModel",
      "state": {
       "layout": "IPY_MODEL_8534e5461b3d4c8ab24ad994f7784b3a",
       "style": "IPY_MODEL_753dcb2e198e4d3da0b941640fb7c0ed",
       "value": " 0/5 [00:00&lt;?, ?it/s]"
      }
     },
     "55cc320f3709405085f1184f3462bdf4": {
      "model_module": "@jupyter-widgets/base",
      "model_module_version": "2.0.0",
      "model_name": "LayoutModel",
      "state": {}
     },
     "55ce4e19aedb42c3ae601b3e5cba7339": {
      "model_module": "@jupyter-widgets/base",
      "model_module_version": "2.0.0",
      "model_name": "LayoutModel",
      "state": {}
     },
     "570e88893dd2486fa2d3f89de68930b3": {
      "model_module": "@jupyter-widgets/base",
      "model_module_version": "2.0.0",
      "model_name": "LayoutModel",
      "state": {}
     },
     "57a188af4c604083b077f4f363200bd8": {
      "model_module": "@jupyter-widgets/controls",
      "model_module_version": "2.0.0",
      "model_name": "HBoxModel",
      "state": {
       "children": [
        "IPY_MODEL_fbedfb5b75454d8eba546910d02cda94",
        "IPY_MODEL_85453ca8e7f2419bb0cf7ef8b94c73b8",
        "IPY_MODEL_b9ffadded1f4475c8cf99e361d031c2f"
       ],
       "layout": "IPY_MODEL_13a16e9a8f4a4086b538a7b327327d87"
      }
     },
     "58a34b92d335439bbe3c9d9ae050cd20": {
      "model_module": "@jupyter-widgets/controls",
      "model_module_version": "2.0.0",
      "model_name": "FloatProgressModel",
      "state": {
       "bar_style": "success",
       "layout": "IPY_MODEL_07bc8b1235da42ca971a2c95d4e94574",
       "max": 360,
       "style": "IPY_MODEL_3f7c392cf17e4417bd122240c8d403d9",
       "value": 360
      }
     },
     "59c54471fe4b4cfeb36391eb235ab504": {
      "model_module": "@jupyter-widgets/controls",
      "model_module_version": "2.0.0",
      "model_name": "HTMLStyleModel",
      "state": {
       "description_width": "",
       "font_size": null,
       "text_color": null
      }
     },
     "5b1c28f91a7b4ed587e5f3e468d8695b": {
      "model_module": "@jupyter-widgets/base",
      "model_module_version": "2.0.0",
      "model_name": "LayoutModel",
      "state": {}
     },
     "5b3c8259315a430396b47028ecb285e8": {
      "model_module": "@jupyter-widgets/base",
      "model_module_version": "2.0.0",
      "model_name": "LayoutModel",
      "state": {}
     },
     "5c39bf87819f44aeaa96efd857636f0b": {
      "model_module": "@jupyter-widgets/controls",
      "model_module_version": "2.0.0",
      "model_name": "HTMLModel",
      "state": {
       "layout": "IPY_MODEL_55cc320f3709405085f1184f3462bdf4",
       "style": "IPY_MODEL_d1e142d9c05c4d59a19ed33a82efc954"
      }
     },
     "5d20a34110694116b5b9c2c52e5c1b1a": {
      "model_module": "@jupyter-widgets/controls",
      "model_module_version": "2.0.0",
      "model_name": "HTMLModel",
      "state": {
       "layout": "IPY_MODEL_22c3120dba0a4ae49d62e3874061b0ae",
       "style": "IPY_MODEL_31768140bf1e40a3bbd1108eba30b6c9",
       "value": " 72/216 [19:11&lt;38:37, 16.09s/it]"
      }
     },
     "5d66ec8b3f704629a5a61006118ff2d7": {
      "model_module": "@jupyter-widgets/controls",
      "model_module_version": "2.0.0",
      "model_name": "HTMLStyleModel",
      "state": {
       "description_width": "",
       "font_size": null,
       "text_color": null
      }
     },
     "5d96cc3268ae4df3bc09041bd8b99310": {
      "model_module": "@jupyter-widgets/controls",
      "model_module_version": "2.0.0",
      "model_name": "HTMLModel",
      "state": {
       "layout": "IPY_MODEL_d3219322e29b491381879b4bf977a850",
       "style": "IPY_MODEL_c5636443c5c44ddf8afb7e5dd246c45a"
      }
     },
     "5e33d8e518d34926b451660d767977e1": {
      "model_module": "@jupyter-widgets/controls",
      "model_module_version": "2.0.0",
      "model_name": "ProgressStyleModel",
      "state": {
       "description_width": ""
      }
     },
     "5e609f5a9a784e8ab75336fe8f22a72c": {
      "model_module": "@jupyter-widgets/controls",
      "model_module_version": "2.0.0",
      "model_name": "HTMLModel",
      "state": {
       "layout": "IPY_MODEL_c8722c5e85ad46e58061657def622cf0",
       "style": "IPY_MODEL_8630ce4891ac4ef78ef2dd52c701354f",
       "value": "100%"
      }
     },
     "5ef97f90c6aa4af68ee8840c759fcbcf": {
      "model_module": "@jupyter-widgets/base",
      "model_module_version": "2.0.0",
      "model_name": "LayoutModel",
      "state": {}
     },
     "5f150a0b279c4ae386555b59b00ae45f": {
      "model_module": "@jupyter-widgets/base",
      "model_module_version": "2.0.0",
      "model_name": "LayoutModel",
      "state": {
       "width": "20px"
      }
     },
     "602064c87be94f72a3522ce651f4f1a4": {
      "model_module": "@jupyter-widgets/base",
      "model_module_version": "2.0.0",
      "model_name": "LayoutModel",
      "state": {}
     },
     "633ac54812f3417dac5963ea65e196c8": {
      "model_module": "@jupyter-widgets/controls",
      "model_module_version": "2.0.0",
      "model_name": "HTMLStyleModel",
      "state": {
       "description_width": "",
       "font_size": null,
       "text_color": null
      }
     },
     "64c7ae79dc2340a18d7ee02c2beaf313": {
      "model_module": "@jupyter-widgets/base",
      "model_module_version": "2.0.0",
      "model_name": "LayoutModel",
      "state": {
       "width": "20px"
      }
     },
     "65a9b06eebaf4c30bec570e9a56f5abd": {
      "model_module": "@jupyter-widgets/controls",
      "model_module_version": "2.0.0",
      "model_name": "HTMLStyleModel",
      "state": {
       "description_width": "",
       "font_size": null,
       "text_color": null
      }
     },
     "6919b871fae14c5f9781fdbb7cb220b3": {
      "model_module": "@jupyter-widgets/base",
      "model_module_version": "2.0.0",
      "model_name": "LayoutModel",
      "state": {}
     },
     "6950dccff37b4a0dba8ca097820b41c6": {
      "model_module": "@jupyter-widgets/controls",
      "model_module_version": "2.0.0",
      "model_name": "HTMLModel",
      "state": {
       "layout": "IPY_MODEL_721c307eb3ab47fa953371c12b884cfa",
       "style": "IPY_MODEL_cba3a5d0042b4f1fb95e946fd2ab56e4",
       "value": " 6/240 [02:05&lt;1:18:48, 20.21s/it]"
      }
     },
     "6a297cbfc5404077b9912c2554305486": {
      "model_module": "@jupyter-widgets/controls",
      "model_module_version": "2.0.0",
      "model_name": "ProgressStyleModel",
      "state": {
       "description_width": ""
      }
     },
     "6a9010a8f11c4357972aa53a4c563b66": {
      "model_module": "@jupyter-widgets/controls",
      "model_module_version": "2.0.0",
      "model_name": "HTMLStyleModel",
      "state": {
       "description_width": "",
       "font_size": null,
       "text_color": null
      }
     },
     "6b6c51345ea646ac9b85fdfcc7103f8d": {
      "model_module": "@jupyter-widgets/base",
      "model_module_version": "2.0.0",
      "model_name": "LayoutModel",
      "state": {}
     },
     "6c51fbb1f09046d4a3872bfed20875d0": {
      "model_module": "@jupyter-widgets/controls",
      "model_module_version": "2.0.0",
      "model_name": "HTMLStyleModel",
      "state": {
       "description_width": "",
       "font_size": null,
       "text_color": null
      }
     },
     "6c5876e237514fb8835e598dc59844bc": {
      "model_module": "@jupyter-widgets/controls",
      "model_module_version": "2.0.0",
      "model_name": "HTMLModel",
      "state": {
       "layout": "IPY_MODEL_85da143265fd4f89b6e68cb678b1418b",
       "style": "IPY_MODEL_fae4102e56d846a68ece6538548c47e1"
      }
     },
     "6c7e258f5b8e4bd49dbd9954dfa34dba": {
      "model_module": "@jupyter-widgets/controls",
      "model_module_version": "2.0.0",
      "model_name": "HTMLStyleModel",
      "state": {
       "description_width": "",
       "font_size": null,
       "text_color": null
      }
     },
     "6c7fb9ae4fa24d5f8ac508e5c5914a90": {
      "model_module": "@jupyter-widgets/controls",
      "model_module_version": "2.0.0",
      "model_name": "HTMLStyleModel",
      "state": {
       "description_width": "",
       "font_size": null,
       "text_color": null
      }
     },
     "6c8480318f674128a2aa8aecec9a65ec": {
      "model_module": "@jupyter-widgets/controls",
      "model_module_version": "2.0.0",
      "model_name": "HBoxModel",
      "state": {
       "children": [
        "IPY_MODEL_454880f35739453fa2a6c467778dbb5a",
        "IPY_MODEL_bfbe6cde33e14d0880be4bf75fea3aad",
        "IPY_MODEL_373f8d1fbf9c45fc9f35120bc0c7c23c"
       ],
       "layout": "IPY_MODEL_0422db9707074f1abe4908db19ca514d"
      }
     },
     "6d2c1716cbc24721ac18b5caa46a5581": {
      "model_module": "@jupyter-widgets/base",
      "model_module_version": "2.0.0",
      "model_name": "LayoutModel",
      "state": {
       "width": "20px"
      }
     },
     "6d94436ecf5c4afb9400bbb73590e309": {
      "model_module": "@jupyter-widgets/base",
      "model_module_version": "2.0.0",
      "model_name": "LayoutModel",
      "state": {}
     },
     "6da67b173a9b4dcdb8fa305614a3ee59": {
      "model_module": "@jupyter-widgets/controls",
      "model_module_version": "2.0.0",
      "model_name": "ProgressStyleModel",
      "state": {
       "description_width": ""
      }
     },
     "6db74e34b7e4496b9da14197228bad8f": {
      "model_module": "@jupyter-widgets/base",
      "model_module_version": "2.0.0",
      "model_name": "LayoutModel",
      "state": {}
     },
     "71a8888e04ea4d96a749cc2ee1ed3f50": {
      "model_module": "@jupyter-widgets/controls",
      "model_module_version": "2.0.0",
      "model_name": "HTMLStyleModel",
      "state": {
       "description_width": "",
       "font_size": null,
       "text_color": null
      }
     },
     "721c307eb3ab47fa953371c12b884cfa": {
      "model_module": "@jupyter-widgets/base",
      "model_module_version": "2.0.0",
      "model_name": "LayoutModel",
      "state": {}
     },
     "72fa25bb22d64ee6bc77d5db55d84b95": {
      "model_module": "@jupyter-widgets/base",
      "model_module_version": "2.0.0",
      "model_name": "LayoutModel",
      "state": {}
     },
     "737ecab8a6994bc4802b18c5eea9bd17": {
      "model_module": "@jupyter-widgets/controls",
      "model_module_version": "2.0.0",
      "model_name": "HTMLStyleModel",
      "state": {
       "description_width": "",
       "font_size": null,
       "text_color": null
      }
     },
     "753dcb2e198e4d3da0b941640fb7c0ed": {
      "model_module": "@jupyter-widgets/controls",
      "model_module_version": "2.0.0",
      "model_name": "HTMLStyleModel",
      "state": {
       "description_width": "",
       "font_size": null,
       "text_color": null
      }
     },
     "75869d2c572e4794a068895cf06d05c2": {
      "model_module": "@jupyter-widgets/controls",
      "model_module_version": "2.0.0",
      "model_name": "HTMLStyleModel",
      "state": {
       "description_width": "",
       "font_size": null,
       "text_color": null
      }
     },
     "760a7af06aa84933bf83b1aa39cbcdcb": {
      "model_module": "@jupyter-widgets/controls",
      "model_module_version": "2.0.0",
      "model_name": "HTMLModel",
      "state": {
       "layout": "IPY_MODEL_0f2d282d754f416da1f3addb7bf70fd5",
       "style": "IPY_MODEL_ede54c8978a64e429e923eae2b699e74",
       "value": "  2%"
      }
     },
     "7682debb5b0a4f0c985c1a14e08a7e8a": {
      "model_module": "@jupyter-widgets/base",
      "model_module_version": "2.0.0",
      "model_name": "LayoutModel",
      "state": {}
     },
     "76f26aea12764c4eb3ebddd9f207e02a": {
      "model_module": "@jupyter-widgets/controls",
      "model_module_version": "2.0.0",
      "model_name": "FloatProgressModel",
      "state": {
       "bar_style": "success",
       "layout": "IPY_MODEL_87aef076487d4a358a8f5d2e5fb6bc93",
       "max": 360,
       "style": "IPY_MODEL_81e2d0b2f84a4047acd2692f7c0c9d1c",
       "value": 360
      }
     },
     "77c2963a33134c06be2d3f6f0fe8444e": {
      "model_module": "@jupyter-widgets/base",
      "model_module_version": "2.0.0",
      "model_name": "LayoutModel",
      "state": {}
     },
     "7918cf1619a948aea162e29f55552c16": {
      "model_module": "@jupyter-widgets/controls",
      "model_module_version": "2.0.0",
      "model_name": "HBoxModel",
      "state": {
       "children": [
        "IPY_MODEL_2bc47fec0002498e83c5a0f356b73b9e",
        "IPY_MODEL_88542eac3fdc4bf4a48215141f0c64a9",
        "IPY_MODEL_071084c807cf4583a1a5425882545dbc"
       ],
       "layout": "IPY_MODEL_7df723b506e1449b8465e9caad403658"
      }
     },
     "7921de9e36d041d19508077e69003c11": {
      "model_module": "@jupyter-widgets/base",
      "model_module_version": "2.0.0",
      "model_name": "LayoutModel",
      "state": {}
     },
     "799d054162f1438dbfe23ec1adb5d98c": {
      "model_module": "@jupyter-widgets/controls",
      "model_module_version": "2.0.0",
      "model_name": "HTMLModel",
      "state": {
       "layout": "IPY_MODEL_312eaa52a77947aa8f6e27166250e17f",
       "style": "IPY_MODEL_59c54471fe4b4cfeb36391eb235ab504",
       "value": "100%"
      }
     },
     "79eb2ee9f9d54e9692bc89e9286dd69f": {
      "model_module": "@jupyter-widgets/controls",
      "model_module_version": "2.0.0",
      "model_name": "FloatProgressModel",
      "state": {
       "bar_style": "danger",
       "layout": "IPY_MODEL_7921de9e36d041d19508077e69003c11",
       "max": 360,
       "style": "IPY_MODEL_06382c5e5a0c472e9048dd882900300d"
      }
     },
     "7a0bcc82f9fc4db8baec3dd7e91c35a4": {
      "model_module": "@jupyter-widgets/controls",
      "model_module_version": "2.0.0",
      "model_name": "HTMLStyleModel",
      "state": {
       "description_width": "",
       "font_size": null,
       "text_color": null
      }
     },
     "7bca15c33d86456c8a598eb2fbf4756a": {
      "model_module": "@jupyter-widgets/base",
      "model_module_version": "2.0.0",
      "model_name": "LayoutModel",
      "state": {}
     },
     "7c6976b4ef35410f9d7db72fec9d3fcb": {
      "model_module": "@jupyter-widgets/controls",
      "model_module_version": "2.0.0",
      "model_name": "HTMLModel",
      "state": {
       "layout": "IPY_MODEL_0141248f32f44a6a97666a6105936955",
       "style": "IPY_MODEL_2b8ba59142d641c6be3fef846ce603ed",
       "value": "  0%"
      }
     },
     "7d38f8e85efd47d2aa03f3da20bfa403": {
      "model_module": "@jupyter-widgets/controls",
      "model_module_version": "2.0.0",
      "model_name": "FloatProgressModel",
      "state": {
       "bar_style": "success",
       "layout": "IPY_MODEL_060f6cad8ca249dea137eb36895cca49",
       "max": 1,
       "style": "IPY_MODEL_0643d1c2032349dcb80cb838eb4fe6a0",
       "value": 1
      }
     },
     "7d9a52233504445f9a6193fc359f8093": {
      "model_module": "@jupyter-widgets/controls",
      "model_module_version": "2.0.0",
      "model_name": "HTMLStyleModel",
      "state": {
       "description_width": "",
       "font_size": null,
       "text_color": null
      }
     },
     "7de047a503c84fb7a3f848cdaee4b868": {
      "model_module": "@jupyter-widgets/controls",
      "model_module_version": "2.0.0",
      "model_name": "HTMLModel",
      "state": {
       "layout": "IPY_MODEL_3abaa1d7752d4505b61646ce2bccd3a3",
       "style": "IPY_MODEL_9839a0179d9849a8b1a717d194d3e7af",
       "value": " 5/? [04:10&lt;00:00, 50.30s/it]"
      }
     },
     "7df723b506e1449b8465e9caad403658": {
      "model_module": "@jupyter-widgets/base",
      "model_module_version": "2.0.0",
      "model_name": "LayoutModel",
      "state": {}
     },
     "7e1e35b347854ee9bd8b478f8d147079": {
      "model_module": "@jupyter-widgets/controls",
      "model_module_version": "2.0.0",
      "model_name": "HTMLModel",
      "state": {
       "layout": "IPY_MODEL_46cfa8b3af404bd0ba9fd8b523ce9312",
       "style": "IPY_MODEL_fae00cd3f46e4d67b392d1888f041042",
       "value": "  0%"
      }
     },
     "7f55f608fb1147d2b0f121bd615658f1": {
      "model_module": "@jupyter-widgets/controls",
      "model_module_version": "2.0.0",
      "model_name": "ProgressStyleModel",
      "state": {
       "description_width": ""
      }
     },
     "81dd562edd1f4d5d8901e62316284680": {
      "model_module": "@jupyter-widgets/base",
      "model_module_version": "2.0.0",
      "model_name": "LayoutModel",
      "state": {}
     },
     "81e2d0b2f84a4047acd2692f7c0c9d1c": {
      "model_module": "@jupyter-widgets/controls",
      "model_module_version": "2.0.0",
      "model_name": "ProgressStyleModel",
      "state": {
       "description_width": ""
      }
     },
     "84213679df21460ab80fa07f823aa2ed": {
      "model_module": "@jupyter-widgets/controls",
      "model_module_version": "2.0.0",
      "model_name": "HTMLModel",
      "state": {
       "layout": "IPY_MODEL_9575435b613a457ab63cf155a8b8023e",
       "style": "IPY_MODEL_7a0bcc82f9fc4db8baec3dd7e91c35a4",
       "value": " 0/5 [00:00&lt;?, ?it/s]"
      }
     },
     "8534e5461b3d4c8ab24ad994f7784b3a": {
      "model_module": "@jupyter-widgets/base",
      "model_module_version": "2.0.0",
      "model_name": "LayoutModel",
      "state": {}
     },
     "85453ca8e7f2419bb0cf7ef8b94c73b8": {
      "model_module": "@jupyter-widgets/controls",
      "model_module_version": "2.0.0",
      "model_name": "FloatProgressModel",
      "state": {
       "bar_style": "danger",
       "layout": "IPY_MODEL_1310402f90ce42e5ab6d1cfc996b6536",
       "max": 240,
       "style": "IPY_MODEL_eae2a786127e44c5894b6c49938e81aa",
       "value": 4
      }
     },
     "85511da74b3e45098bc800309a559677": {
      "model_module": "@jupyter-widgets/base",
      "model_module_version": "2.0.0",
      "model_name": "LayoutModel",
      "state": {}
     },
     "856ebdf795c54d21a175902591ddd442": {
      "model_module": "@jupyter-widgets/controls",
      "model_module_version": "2.0.0",
      "model_name": "ProgressStyleModel",
      "state": {
       "description_width": ""
      }
     },
     "85da143265fd4f89b6e68cb678b1418b": {
      "model_module": "@jupyter-widgets/base",
      "model_module_version": "2.0.0",
      "model_name": "LayoutModel",
      "state": {}
     },
     "8630ce4891ac4ef78ef2dd52c701354f": {
      "model_module": "@jupyter-widgets/controls",
      "model_module_version": "2.0.0",
      "model_name": "HTMLStyleModel",
      "state": {
       "description_width": "",
       "font_size": null,
       "text_color": null
      }
     },
     "87aef076487d4a358a8f5d2e5fb6bc93": {
      "model_module": "@jupyter-widgets/base",
      "model_module_version": "2.0.0",
      "model_name": "LayoutModel",
      "state": {}
     },
     "8805159190a14ad4920802651eba6d5f": {
      "model_module": "@jupyter-widgets/controls",
      "model_module_version": "2.0.0",
      "model_name": "HBoxModel",
      "state": {
       "children": [
        "IPY_MODEL_255944e1e919435a94becc4a2df78967",
        "IPY_MODEL_468615125a3c4d52918c6ec72e76a68a",
        "IPY_MODEL_7de047a503c84fb7a3f848cdaee4b868"
       ],
       "layout": "IPY_MODEL_dfedbd368e124a2b8f7e7a706bfbe133"
      }
     },
     "88542eac3fdc4bf4a48215141f0c64a9": {
      "model_module": "@jupyter-widgets/controls",
      "model_module_version": "2.0.0",
      "model_name": "FloatProgressModel",
      "state": {
       "bar_style": "danger",
       "layout": "IPY_MODEL_ad4b41816158489dbe3bea5d44c9f9ab",
       "max": 1,
       "style": "IPY_MODEL_cfd23e5855014823b1a9af6bf4de56b1"
      }
     },
     "88aa637e651c444f9826d05f04ce84ad": {
      "model_module": "@jupyter-widgets/controls",
      "model_module_version": "2.0.0",
      "model_name": "HTMLModel",
      "state": {
       "layout": "IPY_MODEL_ce4d3c5af34b47469d1ffdeae998ff4d",
       "style": "IPY_MODEL_3eaeeaf50b7441e986fd91c760ef50e3",
       "value": " 103/240 [37:47&lt;46:01, 20.16s/it]"
      }
     },
     "89aac4f3d4d7436197f190f132654330": {
      "model_module": "@jupyter-widgets/base",
      "model_module_version": "2.0.0",
      "model_name": "LayoutModel",
      "state": {}
     },
     "8bbea190ff4f4364b0126b5ae8a76bc5": {
      "model_module": "@jupyter-widgets/controls",
      "model_module_version": "2.0.0",
      "model_name": "HTMLModel",
      "state": {
       "layout": "IPY_MODEL_d642338c23d54889b377d0f3087e5fcf",
       "style": "IPY_MODEL_5301b4cad4094247a107a1823e6a4dde",
       "value": " 0/5 [00:00&lt;?, ?it/s]"
      }
     },
     "8c66d029ad8648229876e0fac7a61248": {
      "model_module": "@jupyter-widgets/controls",
      "model_module_version": "2.0.0",
      "model_name": "FloatProgressModel",
      "state": {
       "bar_style": "success",
       "layout": "IPY_MODEL_5f150a0b279c4ae386555b59b00ae45f",
       "max": 1,
       "style": "IPY_MODEL_14bd3afbc56c47e0b895ee2459f78b22",
       "value": 1
      }
     },
     "8c69906985b44b128f4773a088de948b": {
      "model_module": "@jupyter-widgets/controls",
      "model_module_version": "2.0.0",
      "model_name": "HTMLStyleModel",
      "state": {
       "description_width": "",
       "font_size": null,
       "text_color": null
      }
     },
     "8c9bd9ace55645fe8575686d7f658674": {
      "model_module": "@jupyter-widgets/controls",
      "model_module_version": "2.0.0",
      "model_name": "HTMLModel",
      "state": {
       "layout": "IPY_MODEL_a4400af0ab2f4facb53bcf33740d6312",
       "style": "IPY_MODEL_ee78a0b426864e4cabda2352b5b3fdb6",
       "value": " 5/? [01:16&lt;00:00, 14.91s/it]"
      }
     },
     "8e040ac8c6ed4667ad08c71453f00be0": {
      "model_module": "@jupyter-widgets/base",
      "model_module_version": "2.0.0",
      "model_name": "LayoutModel",
      "state": {}
     },
     "8f353b0be2394c9597842b8564c53806": {
      "model_module": "@jupyter-widgets/controls",
      "model_module_version": "2.0.0",
      "model_name": "HBoxModel",
      "state": {
       "children": [
        "IPY_MODEL_13bfaad8d438443ca04bf6df8e45782c",
        "IPY_MODEL_14b69e702c244fb2bd94a719ea2ce209",
        "IPY_MODEL_9d0ff6aac37a449d91e0637865202910"
       ],
       "layout": "IPY_MODEL_448996b99bd043b39ee5ef697d19fb97"
      }
     },
     "8fde1570ca374a24a082a41b787db979": {
      "model_module": "@jupyter-widgets/base",
      "model_module_version": "2.0.0",
      "model_name": "LayoutModel",
      "state": {}
     },
     "9240b40482dc4c99a976dfaab2f1a23b": {
      "model_module": "@jupyter-widgets/base",
      "model_module_version": "2.0.0",
      "model_name": "LayoutModel",
      "state": {}
     },
     "92b6e89ddff64d32bca9627e5ed3c109": {
      "model_module": "@jupyter-widgets/base",
      "model_module_version": "2.0.0",
      "model_name": "LayoutModel",
      "state": {}
     },
     "9575435b613a457ab63cf155a8b8023e": {
      "model_module": "@jupyter-widgets/base",
      "model_module_version": "2.0.0",
      "model_name": "LayoutModel",
      "state": {}
     },
     "958c943fbf364be88a0eee2e3b90085e": {
      "model_module": "@jupyter-widgets/base",
      "model_module_version": "2.0.0",
      "model_name": "LayoutModel",
      "state": {}
     },
     "972eb5135b1240b4b23630575591e64f": {
      "model_module": "@jupyter-widgets/controls",
      "model_module_version": "2.0.0",
      "model_name": "HBoxModel",
      "state": {
       "children": [
        "IPY_MODEL_799d054162f1438dbfe23ec1adb5d98c",
        "IPY_MODEL_58a34b92d335439bbe3c9d9ae050cd20",
        "IPY_MODEL_bd86b898d89d418bad6d3cbd16d7cade"
       ],
       "layout": "IPY_MODEL_cee93bc7b5bf47c79b36fe5ecd5edb11"
      }
     },
     "9813a9bbec5b4a6c97063f81224c8c87": {
      "model_module": "@jupyter-widgets/base",
      "model_module_version": "2.0.0",
      "model_name": "LayoutModel",
      "state": {}
     },
     "9839a0179d9849a8b1a717d194d3e7af": {
      "model_module": "@jupyter-widgets/controls",
      "model_module_version": "2.0.0",
      "model_name": "HTMLStyleModel",
      "state": {
       "description_width": "",
       "font_size": null,
       "text_color": null
      }
     },
     "989f2cfee61540b298c528883f6266b9": {
      "model_module": "@jupyter-widgets/controls",
      "model_module_version": "2.0.0",
      "model_name": "HTMLModel",
      "state": {
       "layout": "IPY_MODEL_244fa6d9cc9845cd93a9d48c601dbfc2",
       "style": "IPY_MODEL_42951c8cac564a7896e1f41378926011",
       "value": " 360/360 [1:12:06&lt;00:00, 13.99s/it]"
      }
     },
     "99fe79786a654e7cb17251db27b7a60a": {
      "model_module": "@jupyter-widgets/controls",
      "model_module_version": "2.0.0",
      "model_name": "FloatProgressModel",
      "state": {
       "bar_style": "success",
       "layout": "IPY_MODEL_64c7ae79dc2340a18d7ee02c2beaf313",
       "max": 1,
       "style": "IPY_MODEL_11cae57ec47e4928a014d7d7f977b8dc",
       "value": 1
      }
     },
     "9a3faea875ff4e1eaad144f6bb9215ec": {
      "model_module": "@jupyter-widgets/base",
      "model_module_version": "2.0.0",
      "model_name": "LayoutModel",
      "state": {
       "width": "20px"
      }
     },
     "9aec2182246647c39044f4bc46c90c71": {
      "model_module": "@jupyter-widgets/base",
      "model_module_version": "2.0.0",
      "model_name": "LayoutModel",
      "state": {
       "width": "20px"
      }
     },
     "9b6b47722c714df4bda77201f68bcabc": {
      "model_module": "@jupyter-widgets/controls",
      "model_module_version": "2.0.0",
      "model_name": "ProgressStyleModel",
      "state": {
       "description_width": ""
      }
     },
     "9b7d2ffa4bf34f02957288c11915106a": {
      "model_module": "@jupyter-widgets/controls",
      "model_module_version": "2.0.0",
      "model_name": "HBoxModel",
      "state": {
       "children": [
        "IPY_MODEL_0b31438028534d6fa30ac5543233bf4f",
        "IPY_MODEL_535a8ada12b7415f87d4dced369cf960",
        "IPY_MODEL_2c40f96b8e14405fa59ebf4e7322645e"
       ],
       "layout": "IPY_MODEL_f5327422e30949909493934e98c11d8e"
      }
     },
     "9c8609b52bd3442f98bb88477147cc4d": {
      "model_module": "@jupyter-widgets/controls",
      "model_module_version": "2.0.0",
      "model_name": "HTMLModel",
      "state": {
       "layout": "IPY_MODEL_9240b40482dc4c99a976dfaab2f1a23b",
       "style": "IPY_MODEL_d5e57e9fd5d54b469d224fd3ddc59ee9",
       "value": " 5/? [02:06&lt;00:00, 24.65s/it]"
      }
     },
     "9d0ff6aac37a449d91e0637865202910": {
      "model_module": "@jupyter-widgets/controls",
      "model_module_version": "2.0.0",
      "model_name": "HTMLModel",
      "state": {
       "layout": "IPY_MODEL_f31a62d95e3c4517b1220e1425a24c18",
       "style": "IPY_MODEL_6c7fb9ae4fa24d5f8ac508e5c5914a90",
       "value": " 4/360 [00:44&lt;1:09:20, 11.69s/it]"
      }
     },
     "9d543e4c036c42c39f2107df8fa5b858": {
      "model_module": "@jupyter-widgets/base",
      "model_module_version": "2.0.0",
      "model_name": "LayoutModel",
      "state": {}
     },
     "9e625b03b14c46e6b842a6c029662031": {
      "model_module": "@jupyter-widgets/base",
      "model_module_version": "2.0.0",
      "model_name": "LayoutModel",
      "state": {}
     },
     "a021a9caf29f46e2868ab071795ae651": {
      "model_module": "@jupyter-widgets/controls",
      "model_module_version": "2.0.0",
      "model_name": "FloatProgressModel",
      "state": {
       "bar_style": "danger",
       "layout": "IPY_MODEL_49965fddb44e46e981952a350167b358",
       "max": 240,
       "style": "IPY_MODEL_9b6b47722c714df4bda77201f68bcabc",
       "value": 103
      }
     },
     "a11b671756014a50bbae91992599879d": {
      "model_module": "@jupyter-widgets/controls",
      "model_module_version": "2.0.0",
      "model_name": "HTMLStyleModel",
      "state": {
       "description_width": "",
       "font_size": null,
       "text_color": null
      }
     },
     "a1363faf63764f50b787b4e8520e4495": {
      "model_module": "@jupyter-widgets/controls",
      "model_module_version": "2.0.0",
      "model_name": "HTMLStyleModel",
      "state": {
       "description_width": "",
       "font_size": null,
       "text_color": null
      }
     },
     "a2a3414c6e714b91b8173b6748b02988": {
      "model_module": "@jupyter-widgets/controls",
      "model_module_version": "2.0.0",
      "model_name": "HTMLModel",
      "state": {
       "layout": "IPY_MODEL_3fd2c97c45b248acb2d41c5132fd3ab6",
       "style": "IPY_MODEL_f3fa75002bda42dc9951bf5176bfa17f"
      }
     },
     "a38c9289f833418c8bab716c8d965e92": {
      "model_module": "@jupyter-widgets/controls",
      "model_module_version": "2.0.0",
      "model_name": "FloatProgressModel",
      "state": {
       "bar_style": "danger",
       "layout": "IPY_MODEL_81dd562edd1f4d5d8901e62316284680",
       "max": 5,
       "style": "IPY_MODEL_6a297cbfc5404077b9912c2554305486"
      }
     },
     "a3e56b1650d94b3084d537514d263470": {
      "model_module": "@jupyter-widgets/controls",
      "model_module_version": "2.0.0",
      "model_name": "HTMLStyleModel",
      "state": {
       "description_width": "",
       "font_size": null,
       "text_color": null
      }
     },
     "a3e9d672830f48348c48a44d0c304eb3": {
      "model_module": "@jupyter-widgets/controls",
      "model_module_version": "2.0.0",
      "model_name": "HTMLStyleModel",
      "state": {
       "description_width": "",
       "font_size": null,
       "text_color": null
      }
     },
     "a42f735942364139abd7761dd6c4cc06": {
      "model_module": "@jupyter-widgets/base",
      "model_module_version": "2.0.0",
      "model_name": "LayoutModel",
      "state": {}
     },
     "a4400af0ab2f4facb53bcf33740d6312": {
      "model_module": "@jupyter-widgets/base",
      "model_module_version": "2.0.0",
      "model_name": "LayoutModel",
      "state": {}
     },
     "a463b6eac5c348eeb119164f1b871670": {
      "model_module": "@jupyter-widgets/base",
      "model_module_version": "2.0.0",
      "model_name": "LayoutModel",
      "state": {}
     },
     "a482668d587d4012be9595b0d3462b4c": {
      "model_module": "@jupyter-widgets/controls",
      "model_module_version": "2.0.0",
      "model_name": "HTMLStyleModel",
      "state": {
       "description_width": "",
       "font_size": null,
       "text_color": null
      }
     },
     "a5e377497dd14dd78d4f4a1ad79ce279": {
      "model_module": "@jupyter-widgets/base",
      "model_module_version": "2.0.0",
      "model_name": "LayoutModel",
      "state": {}
     },
     "a6da1612d5f445108a8060af959221e5": {
      "model_module": "@jupyter-widgets/controls",
      "model_module_version": "2.0.0",
      "model_name": "ProgressStyleModel",
      "state": {
       "description_width": ""
      }
     },
     "a8346007a2c34375a4c46effac9f39c2": {
      "model_module": "@jupyter-widgets/base",
      "model_module_version": "2.0.0",
      "model_name": "LayoutModel",
      "state": {}
     },
     "aa5d3e6a56f645d7b4380d1743b91ef0": {
      "model_module": "@jupyter-widgets/controls",
      "model_module_version": "2.0.0",
      "model_name": "HTMLModel",
      "state": {
       "layout": "IPY_MODEL_5b3c8259315a430396b47028ecb285e8",
       "style": "IPY_MODEL_451c7ad37cdf44aea2f5c61382c026ff",
       "value": "  0%"
      }
     },
     "ab2ec1aaaf504e969fa0684f73a04802": {
      "model_module": "@jupyter-widgets/controls",
      "model_module_version": "2.0.0",
      "model_name": "ProgressStyleModel",
      "state": {
       "description_width": ""
      }
     },
     "ab844061ff3a4fe68e398f71106e923c": {
      "model_module": "@jupyter-widgets/base",
      "model_module_version": "2.0.0",
      "model_name": "LayoutModel",
      "state": {}
     },
     "acdaa06920fc43c0ae7eb15826415e6c": {
      "model_module": "@jupyter-widgets/controls",
      "model_module_version": "2.0.0",
      "model_name": "FloatProgressModel",
      "state": {
       "bar_style": "danger",
       "layout": "IPY_MODEL_43c62b2b309f4203a121ba376663cb64",
       "max": 5,
       "style": "IPY_MODEL_856ebdf795c54d21a175902591ddd442"
      }
     },
     "ad4b41816158489dbe3bea5d44c9f9ab": {
      "model_module": "@jupyter-widgets/base",
      "model_module_version": "2.0.0",
      "model_name": "LayoutModel",
      "state": {
       "width": "20px"
      }
     },
     "adea85e4f3594d70aa09702ebb87c4a0": {
      "model_module": "@jupyter-widgets/base",
      "model_module_version": "2.0.0",
      "model_name": "LayoutModel",
      "state": {}
     },
     "b1f93a28e7cc43baae5044cdd82fa72d": {
      "model_module": "@jupyter-widgets/base",
      "model_module_version": "2.0.0",
      "model_name": "LayoutModel",
      "state": {}
     },
     "b2fe965be3d34b92a22a8b8d9959e4fa": {
      "model_module": "@jupyter-widgets/base",
      "model_module_version": "2.0.0",
      "model_name": "LayoutModel",
      "state": {}
     },
     "b3de0b05cd5241d9b59d0d79d4d59359": {
      "model_module": "@jupyter-widgets/controls",
      "model_module_version": "2.0.0",
      "model_name": "HBoxModel",
      "state": {
       "children": [
        "IPY_MODEL_f7efe4b760ab4da5bcfc78554cace3b1",
        "IPY_MODEL_4442fb820b3c4939bacfc9ccdc414f1f",
        "IPY_MODEL_9c8609b52bd3442f98bb88477147cc4d"
       ],
       "layout": "IPY_MODEL_35160100420c448c8a6d59332ee7b0cc"
      }
     },
     "b5733eba9eaa49df90135b61a23fb362": {
      "model_module": "@jupyter-widgets/controls",
      "model_module_version": "2.0.0",
      "model_name": "FloatProgressModel",
      "state": {
       "bar_style": "success",
       "layout": "IPY_MODEL_ddf9e56b7dd544a89787789ff0708ff0",
       "max": 1,
       "style": "IPY_MODEL_4fa6b588d14a424e900a5998fac18436",
       "value": 1
      }
     },
     "b578e28b0467440fb448eabe938b843c": {
      "model_module": "@jupyter-widgets/base",
      "model_module_version": "2.0.0",
      "model_name": "LayoutModel",
      "state": {}
     },
     "b6239967194a4b06aebd0fef2f0eb127": {
      "model_module": "@jupyter-widgets/base",
      "model_module_version": "2.0.0",
      "model_name": "LayoutModel",
      "state": {}
     },
     "b76c1e9c0eb64282be2a5e6302a9b01c": {
      "model_module": "@jupyter-widgets/base",
      "model_module_version": "2.0.0",
      "model_name": "LayoutModel",
      "state": {}
     },
     "b833b926e7aa47638d6fb627627caf36": {
      "model_module": "@jupyter-widgets/controls",
      "model_module_version": "2.0.0",
      "model_name": "HTMLStyleModel",
      "state": {
       "description_width": "",
       "font_size": null,
       "text_color": null
      }
     },
     "b957af326f08496191395086b273f0ec": {
      "model_module": "@jupyter-widgets/controls",
      "model_module_version": "2.0.0",
      "model_name": "ProgressStyleModel",
      "state": {
       "description_width": ""
      }
     },
     "b9ffadded1f4475c8cf99e361d031c2f": {
      "model_module": "@jupyter-widgets/controls",
      "model_module_version": "2.0.0",
      "model_name": "HTMLModel",
      "state": {
       "layout": "IPY_MODEL_ab844061ff3a4fe68e398f71106e923c",
       "style": "IPY_MODEL_737ecab8a6994bc4802b18c5eea9bd17",
       "value": " 4/240 [01:28&lt;1:22:30, 20.97s/it]"
      }
     },
     "ba6704bbcfe442338a2bb0824aa88b9a": {
      "model_module": "@jupyter-widgets/base",
      "model_module_version": "2.0.0",
      "model_name": "LayoutModel",
      "state": {}
     },
     "bc94b5b72bbf4ad1aa3dc57d11fbe8aa": {
      "model_module": "@jupyter-widgets/controls",
      "model_module_version": "2.0.0",
      "model_name": "HTMLStyleModel",
      "state": {
       "description_width": "",
       "font_size": null,
       "text_color": null
      }
     },
     "bd86b898d89d418bad6d3cbd16d7cade": {
      "model_module": "@jupyter-widgets/controls",
      "model_module_version": "2.0.0",
      "model_name": "HTMLModel",
      "state": {
       "layout": "IPY_MODEL_cd77b27a95bc4f7bb2348f1b96f0f5e3",
       "style": "IPY_MODEL_0193f4e18ae14bf6af926e9a5063b059",
       "value": " 360/360 [2:29:19&lt;00:00, 28.91s/it]"
      }
     },
     "be0e33af969945d7812bf46537fac63b": {
      "model_module": "@jupyter-widgets/base",
      "model_module_version": "2.0.0",
      "model_name": "LayoutModel",
      "state": {}
     },
     "bf28fd64a27e49358b245142951f6464": {
      "model_module": "@jupyter-widgets/controls",
      "model_module_version": "2.0.0",
      "model_name": "HTMLStyleModel",
      "state": {
       "description_width": "",
       "font_size": null,
       "text_color": null
      }
     },
     "bfbe6cde33e14d0880be4bf75fea3aad": {
      "model_module": "@jupyter-widgets/controls",
      "model_module_version": "2.0.0",
      "model_name": "FloatProgressModel",
      "state": {
       "bar_style": "danger",
       "layout": "IPY_MODEL_958c943fbf364be88a0eee2e3b90085e",
       "max": 8,
       "style": "IPY_MODEL_c339707edb024bf48c500e692f51e4a6"
      }
     },
     "c07bfa879f2a4d408798a5a4315e1cb2": {
      "model_module": "@jupyter-widgets/controls",
      "model_module_version": "2.0.0",
      "model_name": "HTMLModel",
      "state": {
       "layout": "IPY_MODEL_32f614c3076c4d5ea3069c7c78535432",
       "style": "IPY_MODEL_366e78aac0154157bf0fc546dd8fce1a",
       "value": "  0%"
      }
     },
     "c092b9937df94759bd2c75170122440c": {
      "model_module": "@jupyter-widgets/base",
      "model_module_version": "2.0.0",
      "model_name": "LayoutModel",
      "state": {}
     },
     "c12f3de204d74e67afe76d00eae67590": {
      "model_module": "@jupyter-widgets/base",
      "model_module_version": "2.0.0",
      "model_name": "LayoutModel",
      "state": {}
     },
     "c339707edb024bf48c500e692f51e4a6": {
      "model_module": "@jupyter-widgets/controls",
      "model_module_version": "2.0.0",
      "model_name": "ProgressStyleModel",
      "state": {
       "description_width": ""
      }
     },
     "c5636443c5c44ddf8afb7e5dd246c45a": {
      "model_module": "@jupyter-widgets/controls",
      "model_module_version": "2.0.0",
      "model_name": "HTMLStyleModel",
      "state": {
       "description_width": "",
       "font_size": null,
       "text_color": null
      }
     },
     "c6e1fb40456c4c108205b8fdcf9240d3": {
      "model_module": "@jupyter-widgets/controls",
      "model_module_version": "2.0.0",
      "model_name": "HTMLStyleModel",
      "state": {
       "description_width": "",
       "font_size": null,
       "text_color": null
      }
     },
     "c7690adb58654e599a7c2e537080eee2": {
      "model_module": "@jupyter-widgets/controls",
      "model_module_version": "2.0.0",
      "model_name": "HTMLModel",
      "state": {
       "layout": "IPY_MODEL_41c98065e0ed4a46838fdb12a344b5c6",
       "style": "IPY_MODEL_a3e9d672830f48348c48a44d0c304eb3",
       "value": " 5/? [03:48&lt;00:00, 45.21s/it]"
      }
     },
     "c80f4bfece80434f88133459db981227": {
      "model_module": "@jupyter-widgets/controls",
      "model_module_version": "2.0.0",
      "model_name": "FloatProgressModel",
      "state": {
       "bar_style": "danger",
       "layout": "IPY_MODEL_1f34ea93ab4949858b6a1beece0e0bd6",
       "max": 216,
       "style": "IPY_MODEL_a6da1612d5f445108a8060af959221e5",
       "value": 63
      }
     },
     "c8722c5e85ad46e58061657def622cf0": {
      "model_module": "@jupyter-widgets/base",
      "model_module_version": "2.0.0",
      "model_name": "LayoutModel",
      "state": {}
     },
     "c89a23bb3a334247a032e8b55e049976": {
      "model_module": "@jupyter-widgets/controls",
      "model_module_version": "2.0.0",
      "model_name": "HBoxModel",
      "state": {
       "children": [
        "IPY_MODEL_21914c3279694968a89e0ba032d5f4b4",
        "IPY_MODEL_12268293194248ffa219be5dbda77f19",
        "IPY_MODEL_5d20a34110694116b5b9c2c52e5c1b1a"
       ],
       "layout": "IPY_MODEL_b1f93a28e7cc43baae5044cdd82fa72d"
      }
     },
     "c8e2893a87c5473ca784b45f136f151a": {
      "model_module": "@jupyter-widgets/controls",
      "model_module_version": "2.0.0",
      "model_name": "HTMLModel",
      "state": {
       "layout": "IPY_MODEL_6b6c51345ea646ac9b85fdfcc7103f8d",
       "style": "IPY_MODEL_0e848e6b552d423face77d7cc58b256c",
       "value": " 53%"
      }
     },
     "c9823b8f34894c059c0fecf80358ae22": {
      "model_module": "@jupyter-widgets/controls",
      "model_module_version": "2.0.0",
      "model_name": "HTMLStyleModel",
      "state": {
       "description_width": "",
       "font_size": null,
       "text_color": null
      }
     },
     "c9e3a1284022483aa37419e3b7a9f9ef": {
      "model_module": "@jupyter-widgets/base",
      "model_module_version": "2.0.0",
      "model_name": "LayoutModel",
      "state": {}
     },
     "cba3a5d0042b4f1fb95e946fd2ab56e4": {
      "model_module": "@jupyter-widgets/controls",
      "model_module_version": "2.0.0",
      "model_name": "HTMLStyleModel",
      "state": {
       "description_width": "",
       "font_size": null,
       "text_color": null
      }
     },
     "ccd07c1c575d402aabee0104d52c7ffe": {
      "model_module": "@jupyter-widgets/base",
      "model_module_version": "2.0.0",
      "model_name": "LayoutModel",
      "state": {}
     },
     "cd77b27a95bc4f7bb2348f1b96f0f5e3": {
      "model_module": "@jupyter-widgets/base",
      "model_module_version": "2.0.0",
      "model_name": "LayoutModel",
      "state": {}
     },
     "ce4d3c5af34b47469d1ffdeae998ff4d": {
      "model_module": "@jupyter-widgets/base",
      "model_module_version": "2.0.0",
      "model_name": "LayoutModel",
      "state": {}
     },
     "cedccb625822406f9b09f97d4a005fce": {
      "model_module": "@jupyter-widgets/controls",
      "model_module_version": "2.0.0",
      "model_name": "HBoxModel",
      "state": {
       "children": [
        "IPY_MODEL_5e609f5a9a784e8ab75336fe8f22a72c",
        "IPY_MODEL_d67840ca10df46d4a7cb59ae12822e05",
        "IPY_MODEL_1a39f844072447d7949454aebed6ac89"
       ],
       "layout": "IPY_MODEL_b2fe965be3d34b92a22a8b8d9959e4fa"
      }
     },
     "cee93bc7b5bf47c79b36fe5ecd5edb11": {
      "model_module": "@jupyter-widgets/base",
      "model_module_version": "2.0.0",
      "model_name": "LayoutModel",
      "state": {}
     },
     "cfd23e5855014823b1a9af6bf4de56b1": {
      "model_module": "@jupyter-widgets/controls",
      "model_module_version": "2.0.0",
      "model_name": "ProgressStyleModel",
      "state": {
       "description_width": ""
      }
     },
     "d1e142d9c05c4d59a19ed33a82efc954": {
      "model_module": "@jupyter-widgets/controls",
      "model_module_version": "2.0.0",
      "model_name": "HTMLStyleModel",
      "state": {
       "description_width": "",
       "font_size": null,
       "text_color": null
      }
     },
     "d296df3b7664471495ed0c67728e35b9": {
      "model_module": "@jupyter-widgets/controls",
      "model_module_version": "2.0.0",
      "model_name": "HBoxModel",
      "state": {
       "children": [
        "IPY_MODEL_424652163c2841c78a37d973c6ae1ad8",
        "IPY_MODEL_76f26aea12764c4eb3ebddd9f207e02a",
        "IPY_MODEL_989f2cfee61540b298c528883f6266b9"
       ],
       "layout": "IPY_MODEL_7bca15c33d86456c8a598eb2fbf4756a"
      }
     },
     "d2999cc21f7f4470b4e138f18edb20d5": {
      "model_module": "@jupyter-widgets/controls",
      "model_module_version": "2.0.0",
      "model_name": "HBoxModel",
      "state": {
       "children": [
        "IPY_MODEL_17b7c354e7ab470084509dde1c3c081e",
        "IPY_MODEL_8c66d029ad8648229876e0fac7a61248",
        "IPY_MODEL_f13396b3564d43e78d5cf603a6d8c74a"
       ],
       "layout": "IPY_MODEL_ff0e06a9a5e843c5a1bbe98b976f9fe4"
      }
     },
     "d3219322e29b491381879b4bf977a850": {
      "model_module": "@jupyter-widgets/base",
      "model_module_version": "2.0.0",
      "model_name": "LayoutModel",
      "state": {}
     },
     "d35b09a8b1f74540a159ef4bc386adcd": {
      "model_module": "@jupyter-widgets/controls",
      "model_module_version": "2.0.0",
      "model_name": "HTMLModel",
      "state": {
       "layout": "IPY_MODEL_c9e3a1284022483aa37419e3b7a9f9ef",
       "style": "IPY_MODEL_b833b926e7aa47638d6fb627627caf36",
       "value": " 8/8 [14:39&lt;00:00, 138.45s/it]"
      }
     },
     "d40fd9daf6eb4e10a5c5ca2b5715b992": {
      "model_module": "@jupyter-widgets/base",
      "model_module_version": "2.0.0",
      "model_name": "LayoutModel",
      "state": {}
     },
     "d5de9307a9d14ecfba7ddb327e221eb0": {
      "model_module": "@jupyter-widgets/controls",
      "model_module_version": "2.0.0",
      "model_name": "FloatProgressModel",
      "state": {
       "bar_style": "danger",
       "layout": "IPY_MODEL_9e625b03b14c46e6b842a6c029662031",
       "max": 240,
       "style": "IPY_MODEL_04c3e223cdb848b1ac1512b298fc91f8",
       "value": 6
      }
     },
     "d5e57e9fd5d54b469d224fd3ddc59ee9": {
      "model_module": "@jupyter-widgets/controls",
      "model_module_version": "2.0.0",
      "model_name": "HTMLStyleModel",
      "state": {
       "description_width": "",
       "font_size": null,
       "text_color": null
      }
     },
     "d642338c23d54889b377d0f3087e5fcf": {
      "model_module": "@jupyter-widgets/base",
      "model_module_version": "2.0.0",
      "model_name": "LayoutModel",
      "state": {}
     },
     "d67840ca10df46d4a7cb59ae12822e05": {
      "model_module": "@jupyter-widgets/controls",
      "model_module_version": "2.0.0",
      "model_name": "FloatProgressModel",
      "state": {
       "bar_style": "success",
       "layout": "IPY_MODEL_b6239967194a4b06aebd0fef2f0eb127",
       "max": 8,
       "style": "IPY_MODEL_390c6157ee9e4e47ba5c470e9ed3dda0",
       "value": 8
      }
     },
     "d6dba1e7e17d4b9a9645a3f500e4c0ea": {
      "model_module": "@jupyter-widgets/controls",
      "model_module_version": "2.0.0",
      "model_name": "HBoxModel",
      "state": {
       "children": [
        "IPY_MODEL_7e1e35b347854ee9bd8b478f8d147079",
        "IPY_MODEL_527a87a1a62147f0b67c3ef08fed39c5",
        "IPY_MODEL_55b6e7c698f844b1a3b2741e69ed8163"
       ],
       "layout": "IPY_MODEL_ccd07c1c575d402aabee0104d52c7ffe"
      }
     },
     "d98d20327da348d49f65849fb21ce732": {
      "model_module": "@jupyter-widgets/controls",
      "model_module_version": "2.0.0",
      "model_name": "FloatProgressModel",
      "state": {
       "bar_style": "success",
       "layout": "IPY_MODEL_00e48fbce528406b9a223be78ea7f53b",
       "max": 1,
       "style": "IPY_MODEL_b957af326f08496191395086b273f0ec",
       "value": 1
      }
     },
     "db03aa9fb80e448fa1ea16fd6d8f529e": {
      "model_module": "@jupyter-widgets/controls",
      "model_module_version": "2.0.0",
      "model_name": "HTMLStyleModel",
      "state": {
       "description_width": "",
       "font_size": null,
       "text_color": null
      }
     },
     "db94fa6530384c12bd208bb65b615823": {
      "model_module": "@jupyter-widgets/controls",
      "model_module_version": "2.0.0",
      "model_name": "HBoxModel",
      "state": {
       "children": [
        "IPY_MODEL_495c1683ec4a4d39aff323b4b76c9cec",
        "IPY_MODEL_79eb2ee9f9d54e9692bc89e9286dd69f",
        "IPY_MODEL_ddecb2dbffe145c48861a3aae877afda"
       ],
       "layout": "IPY_MODEL_d40fd9daf6eb4e10a5c5ca2b5715b992"
      }
     },
     "dcd60733b902492fa029ee2620013214": {
      "model_module": "@jupyter-widgets/controls",
      "model_module_version": "2.0.0",
      "model_name": "HTMLStyleModel",
      "state": {
       "description_width": "",
       "font_size": null,
       "text_color": null
      }
     },
     "dd97329d6bd7444e9ddfc8b019a2dae9": {
      "model_module": "@jupyter-widgets/base",
      "model_module_version": "2.0.0",
      "model_name": "LayoutModel",
      "state": {}
     },
     "ddecb2dbffe145c48861a3aae877afda": {
      "model_module": "@jupyter-widgets/controls",
      "model_module_version": "2.0.0",
      "model_name": "HTMLModel",
      "state": {
       "layout": "IPY_MODEL_6db74e34b7e4496b9da14197228bad8f",
       "style": "IPY_MODEL_a3e56b1650d94b3084d537514d263470",
       "value": " 0/360 [00:04&lt;?, ?it/s]"
      }
     },
     "ddf9e56b7dd544a89787789ff0708ff0": {
      "model_module": "@jupyter-widgets/base",
      "model_module_version": "2.0.0",
      "model_name": "LayoutModel",
      "state": {
       "width": "20px"
      }
     },
     "de5aff9b833e4dfba7abc9096ec7749f": {
      "model_module": "@jupyter-widgets/base",
      "model_module_version": "2.0.0",
      "model_name": "LayoutModel",
      "state": {}
     },
     "ded0e8203b944a1a9ff179b7fbb8814c": {
      "model_module": "@jupyter-widgets/base",
      "model_module_version": "2.0.0",
      "model_name": "LayoutModel",
      "state": {}
     },
     "df84e7ac59bc421ab5ff779e6d62bfd8": {
      "model_module": "@jupyter-widgets/base",
      "model_module_version": "2.0.0",
      "model_name": "LayoutModel",
      "state": {}
     },
     "dfedbd368e124a2b8f7e7a706bfbe133": {
      "model_module": "@jupyter-widgets/base",
      "model_module_version": "2.0.0",
      "model_name": "LayoutModel",
      "state": {}
     },
     "e910cfd19bf443699d1a2c21fdba069b": {
      "model_module": "@jupyter-widgets/base",
      "model_module_version": "2.0.0",
      "model_name": "LayoutModel",
      "state": {}
     },
     "e9129f1cbda543269e29f3141baecd9e": {
      "model_module": "@jupyter-widgets/controls",
      "model_module_version": "2.0.0",
      "model_name": "HTMLModel",
      "state": {
       "layout": "IPY_MODEL_b578e28b0467440fb448eabe938b843c",
       "style": "IPY_MODEL_46c31dc211a54721ac3127b856bc5ee1"
      }
     },
     "e931f3fce21348b4b66286e9961ad4d7": {
      "model_module": "@jupyter-widgets/controls",
      "model_module_version": "2.0.0",
      "model_name": "HBoxModel",
      "state": {
       "children": [
        "IPY_MODEL_5c39bf87819f44aeaa96efd857636f0b",
        "IPY_MODEL_99fe79786a654e7cb17251db27b7a60a",
        "IPY_MODEL_c7690adb58654e599a7c2e537080eee2"
       ],
       "layout": "IPY_MODEL_147b7f7b60d84a229c87fcdba60d040b"
      }
     },
     "e937444d00e94ffebabe7fd1def80eba": {
      "model_module": "@jupyter-widgets/controls",
      "model_module_version": "2.0.0",
      "model_name": "ProgressStyleModel",
      "state": {
       "description_width": ""
      }
     },
     "e980775b405f498a8e9f8a3488e76ec5": {
      "model_module": "@jupyter-widgets/base",
      "model_module_version": "2.0.0",
      "model_name": "LayoutModel",
      "state": {}
     },
     "ea408f7495f94639839bbd9bd7e948d3": {
      "model_module": "@jupyter-widgets/controls",
      "model_module_version": "2.0.0",
      "model_name": "HBoxModel",
      "state": {
       "children": [
        "IPY_MODEL_5d96cc3268ae4df3bc09041bd8b99310",
        "IPY_MODEL_d98d20327da348d49f65849fb21ce732",
        "IPY_MODEL_8c9bd9ace55645fe8575686d7f658674"
       ],
       "layout": "IPY_MODEL_5ef97f90c6aa4af68ee8840c759fcbcf"
      }
     },
     "ea8b758df26a4e4b9058fa6b7f96797d": {
      "model_module": "@jupyter-widgets/controls",
      "model_module_version": "2.0.0",
      "model_name": "HBoxModel",
      "state": {
       "children": [
        "IPY_MODEL_760a7af06aa84933bf83b1aa39cbcdcb",
        "IPY_MODEL_d5de9307a9d14ecfba7ddb327e221eb0",
        "IPY_MODEL_6950dccff37b4a0dba8ca097820b41c6"
       ],
       "layout": "IPY_MODEL_df84e7ac59bc421ab5ff779e6d62bfd8"
      }
     },
     "eae2a786127e44c5894b6c49938e81aa": {
      "model_module": "@jupyter-widgets/controls",
      "model_module_version": "2.0.0",
      "model_name": "ProgressStyleModel",
      "state": {
       "description_width": ""
      }
     },
     "ede54c8978a64e429e923eae2b699e74": {
      "model_module": "@jupyter-widgets/controls",
      "model_module_version": "2.0.0",
      "model_name": "HTMLStyleModel",
      "state": {
       "description_width": "",
       "font_size": null,
       "text_color": null
      }
     },
     "ee31aa2a454247d8bd9a82e45bf24923": {
      "model_module": "@jupyter-widgets/controls",
      "model_module_version": "2.0.0",
      "model_name": "HBoxModel",
      "state": {
       "children": [
        "IPY_MODEL_2697d607a6fb4296960ddcb13a2eac91",
        "IPY_MODEL_a021a9caf29f46e2868ab071795ae651",
        "IPY_MODEL_88aa637e651c444f9826d05f04ce84ad"
       ],
       "layout": "IPY_MODEL_72fa25bb22d64ee6bc77d5db55d84b95"
      }
     },
     "ee78a0b426864e4cabda2352b5b3fdb6": {
      "model_module": "@jupyter-widgets/controls",
      "model_module_version": "2.0.0",
      "model_name": "HTMLStyleModel",
      "state": {
       "description_width": "",
       "font_size": null,
       "text_color": null
      }
     },
     "f01ec5cbe5fb47df82e0dcfad36cb674": {
      "model_module": "@jupyter-widgets/controls",
      "model_module_version": "2.0.0",
      "model_name": "HBoxModel",
      "state": {
       "children": [
        "IPY_MODEL_aa5d3e6a56f645d7b4380d1743b91ef0",
        "IPY_MODEL_a38c9289f833418c8bab716c8d965e92",
        "IPY_MODEL_84213679df21460ab80fa07f823aa2ed"
       ],
       "layout": "IPY_MODEL_9813a9bbec5b4a6c97063f81224c8c87"
      }
     },
     "f079106a596448b6b60286f61f7c9485": {
      "model_module": "@jupyter-widgets/base",
      "model_module_version": "2.0.0",
      "model_name": "LayoutModel",
      "state": {}
     },
     "f13396b3564d43e78d5cf603a6d8c74a": {
      "model_module": "@jupyter-widgets/controls",
      "model_module_version": "2.0.0",
      "model_name": "HTMLModel",
      "state": {
       "layout": "IPY_MODEL_f942c27aacaa46c786809299448e9dc8",
       "style": "IPY_MODEL_bc94b5b72bbf4ad1aa3dc57d11fbe8aa",
       "value": " 5/? [03:15&lt;00:00, 39.02s/it]"
      }
     },
     "f31a62d95e3c4517b1220e1425a24c18": {
      "model_module": "@jupyter-widgets/base",
      "model_module_version": "2.0.0",
      "model_name": "LayoutModel",
      "state": {}
     },
     "f3fa75002bda42dc9951bf5176bfa17f": {
      "model_module": "@jupyter-widgets/controls",
      "model_module_version": "2.0.0",
      "model_name": "HTMLStyleModel",
      "state": {
       "description_width": "",
       "font_size": null,
       "text_color": null
      }
     },
     "f5327422e30949909493934e98c11d8e": {
      "model_module": "@jupyter-widgets/base",
      "model_module_version": "2.0.0",
      "model_name": "LayoutModel",
      "state": {}
     },
     "f7efe4b760ab4da5bcfc78554cace3b1": {
      "model_module": "@jupyter-widgets/controls",
      "model_module_version": "2.0.0",
      "model_name": "HTMLModel",
      "state": {
       "layout": "IPY_MODEL_020fddf8611548eda11f1eaf010eaf88",
       "style": "IPY_MODEL_5d66ec8b3f704629a5a61006118ff2d7"
      }
     },
     "f942c27aacaa46c786809299448e9dc8": {
      "model_module": "@jupyter-widgets/base",
      "model_module_version": "2.0.0",
      "model_name": "LayoutModel",
      "state": {}
     },
     "f98f01bada554ed4b9461b49065ea1f7": {
      "model_module": "@jupyter-widgets/base",
      "model_module_version": "2.0.0",
      "model_name": "LayoutModel",
      "state": {}
     },
     "fa8c132cf57445159c28f31814f2e724": {
      "model_module": "@jupyter-widgets/controls",
      "model_module_version": "2.0.0",
      "model_name": "HBoxModel",
      "state": {
       "children": [
        "IPY_MODEL_3ee6d625c9ae487b87376313713b772e",
        "IPY_MODEL_c80f4bfece80434f88133459db981227",
        "IPY_MODEL_1ce65531a07c47f08beecf9885fefdad"
       ],
       "layout": "IPY_MODEL_e910cfd19bf443699d1a2c21fdba069b"
      }
     },
     "fae00cd3f46e4d67b392d1888f041042": {
      "model_module": "@jupyter-widgets/controls",
      "model_module_version": "2.0.0",
      "model_name": "HTMLStyleModel",
      "state": {
       "description_width": "",
       "font_size": null,
       "text_color": null
      }
     },
     "fae4102e56d846a68ece6538548c47e1": {
      "model_module": "@jupyter-widgets/controls",
      "model_module_version": "2.0.0",
      "model_name": "HTMLStyleModel",
      "state": {
       "description_width": "",
       "font_size": null,
       "text_color": null
      }
     },
     "fbedfb5b75454d8eba546910d02cda94": {
      "model_module": "@jupyter-widgets/controls",
      "model_module_version": "2.0.0",
      "model_name": "HTMLModel",
      "state": {
       "layout": "IPY_MODEL_8e040ac8c6ed4667ad08c71453f00be0",
       "style": "IPY_MODEL_3c79d29d7c334d6a83ea4a73b5d376fa",
       "value": "  2%"
      }
     },
     "fd37de9bac0743a3bf65244f80798066": {
      "model_module": "@jupyter-widgets/controls",
      "model_module_version": "2.0.0",
      "model_name": "ProgressStyleModel",
      "state": {
       "description_width": ""
      }
     },
     "ff0e06a9a5e843c5a1bbe98b976f9fe4": {
      "model_module": "@jupyter-widgets/base",
      "model_module_version": "2.0.0",
      "model_name": "LayoutModel",
      "state": {}
     },
     "ffa4d620c01b4e37be54ac847aa4435a": {
      "model_module": "@jupyter-widgets/base",
      "model_module_version": "2.0.0",
      "model_name": "LayoutModel",
      "state": {}
     }
    },
    "version_major": 2,
    "version_minor": 0
   }
  }
 },
 "nbformat": 4,
 "nbformat_minor": 4
}
