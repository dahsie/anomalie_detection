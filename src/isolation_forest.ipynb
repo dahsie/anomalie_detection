{
 "cells": [
  {
   "cell_type": "markdown",
   "metadata": {},
   "source": [
    "### Import des différents librairies"
   ]
  },
  {
   "cell_type": "code",
   "execution_count": 1,
   "metadata": {},
   "outputs": [],
   "source": [
    "import numpy as np\n",
    "import pandas as pd\n",
    "import matplotlib.pyplot as plt\n",
    "import seaborn as sb\n",
    "\n",
    "from sklearn.metrics import make_scorer, roc_auc_score,confusion_matrix\n",
    "from sklearn.metrics import f1_score,accuracy_score,precision_score,recall_score\n",
    "from sklearn.metrics import precision_recall_curve\n",
    "from sklearn.metrics import PrecisionRecallDisplay\n",
    "from sklearn.metrics import RocCurveDisplay,roc_curve\n",
    "from sklearn import metrics\n",
    "\n",
    "from sklearn.model_selection import train_test_split\n",
    "from sklearn.model_selection import GridSearchCV\n",
    "from sklearn.model_selection import ParameterGrid\n",
    "from sklearn.model_selection import KFold,StratifiedKFold\n",
    "\n",
    "#The model\n",
    "from sklearn.ensemble import IsolationForest\n",
    "\n",
    "#For preprocessing\n",
    "from sklearn.preprocessing import MinMaxScaler,StandardScaler\n",
    "\n",
    "# from tqdm import tqdm\n",
    "from tqdm.notebook import tqdm\n",
    "import warnings \n",
    "warnings.simplefilter(\"ignore\")"
   ]
  },
  {
   "cell_type": "markdown",
   "metadata": {},
   "source": [
    "### Pretraitement"
   ]
  },
  {
   "cell_type": "code",
   "execution_count": 2,
   "metadata": {},
   "outputs": [],
   "source": [
    "class AnomalyDetectionDataLoader:\n",
    "    \n",
    "    def __init__(self, file_path, test_size=0.15, random_state=42):\n",
    "        self.file_path = file_path\n",
    "        self.test_size = test_size\n",
    "        self.random_state = random_state\n",
    "        self.data = None\n",
    "        self.target = None\n",
    "        self.xtrain = None\n",
    "        self.xtest = None\n",
    "        self.ytrain = None\n",
    "        self.ytest = None\n",
    "        self.scaler = MinMaxScaler()\n",
    "\n",
    "    def load_data(self):\n",
    "        self.data = pd.read_csv(self.file_path)\n",
    "        \n",
    "        self.data.drop_duplicates(keep=\"last\", inplace=True)\n",
    "\n",
    "        self.target = self.data[\"Class\"]\n",
    "        self.data = self.data.drop([\"Class\", \"Time\"], axis=1)\n",
    "\n",
    "    def preprocess_data(self):\n",
    "\n",
    "        data_scaled_array = self.scaler.fit_transform(self.data)\n",
    "        self.data = pd.DataFrame(data_scaled_array, columns=self.data.columns)\n",
    "\n",
    "    def split_data(self):\n",
    "        \n",
    "        self.xtrain, self.xtest, self.ytrain, self.ytest = train_test_split(\n",
    "            self.data, self.target, test_size=self.test_size, random_state=self.random_state, shuffle=True)\n",
    "\n",
    "    def get_train_data(self):\n",
    "        return self.xtrain, self.ytrain\n",
    "\n",
    "    def get_test_data(self):\n",
    "        return self.xtest, self.ytest\n",
    "\n",
    "    def get_scaler(self):\n",
    "        return self.scaler\n",
    "\n"
   ]
  },
  {
   "cell_type": "markdown",
   "metadata": {},
   "source": [
    "### Transformation des targets\n",
    "ypred return un vecteur contenant que de -1 pour des données anormales et 1 pour les données normales alors que les targets des <br>\n",
    "des données initial contiennet des 0 pour des données normales et 1 pour des données anormales. Il faut donc transformer ce vecteur <br>\n",
    "en un vecteur contenant des 1 pour des données normales et -1 pour les anomalies"
   ]
  },
  {
   "cell_type": "code",
   "execution_count": 3,
   "metadata": {},
   "outputs": [],
   "source": [
    "def transform_target(target):\n",
    "    \"\"\"Args:\n",
    "        target: np.ndarry or pd.DataFrame\n",
    "    \"\"\"\n",
    "    n=target.shape[0]\n",
    "    if isinstance(target,np.ndarray):\n",
    "        target[target==1]=-1\n",
    "        target[target==0]=1\n",
    "        \n",
    "    elif isinstance(target,pd.DataFrame) or isinstance(target,pd.Series):\n",
    "        target[target==1]=-1\n",
    "        target[target==0]=1\n",
    "    return target\n",
    "\n",
    "\n",
    "def inverse_transform_target(target):\n",
    "    n=target.shape[0]\n",
    "    if isinstance(target,pd.DataFrame) or isinstance(target,pd.Series):\n",
    "        target[target==1]=0\n",
    "        target[target==-1]=1\n",
    "        \n",
    "    elif isinstance(target,np.ndarray): \n",
    "        target[target==1]=0\n",
    "        target[target==-1]=1\n",
    "    return target"
   ]
  },
  {
   "cell_type": "markdown",
   "metadata": {},
   "source": [
    "### Visualisation des résultats"
   ]
  },
  {
   "cell_type": "code",
   "execution_count": 4,
   "metadata": {},
   "outputs": [],
   "source": [
    "def confusin_matrix_display(ytest,ypred):\n",
    "    metrics.ConfusionMatrixDisplay(confusion_matrix(ytest,ypred)).plot()\n",
    "    plt.title(\"Confusion Matrix\")\n",
    "    plt.show()\n",
    "\n",
    "def precision_recall_display(ytest, ypred):\n",
    "    precision, recall, _ = precision_recall_curve(ytest, ypred)\n",
    "    PrecisionRecallDisplay(precision=precision, recall=recall).plot()\n",
    "    plt.title(\"Precision_Recall_Curve\")\n",
    "    plt.show()\n",
    "\n",
    "def roc_curve_disolay(ytest, ypred):\n",
    "    fpr, tpr, thresholds = metrics.roc_curve(ytest, ypred)\n",
    "    roc_auc = metrics.auc(fpr, tpr)\n",
    "    display = metrics.RocCurveDisplay(fpr=fpr, tpr=tpr, roc_auc=roc_auc)\n",
    "    print(f\"roc_auc {roc_auc}\")\n",
    "    display.plot()\n",
    "    plt.title(\"ROC_Curve\")\n",
    "    plt.show()\n",
    "\n",
    "def scores(ytest,ypred):\n",
    "    df=pd.DataFrame({\"f1_score\" : [f1_score(ytest,ypred)],\n",
    "                     \"accuracy_score\" : [accuracy_score(ytest,ypred)],\n",
    "                     \"precision_score\" : [precision_score(ytest,ypred)],\n",
    "                     \"recall_score\" : [recall_score(ytest,ypred)]\n",
    "    })\n",
    "    print(df)\n",
    "    return df\n",
    " \n",
    "def evaluation(ytrue,ypred):\n",
    "    confusin_matrix_display(ytrue,ypred)\n",
    "    precision_recall_display(ytrue, ypred)\n",
    "    roc_curve_disolay(ytrue, ypred)\n",
    "    scores(ytest,ypred)"
   ]
  },
  {
   "cell_type": "markdown",
   "metadata": {},
   "source": [
    "### Recherche des hyperparametres :Grid Search Cross-Validation (GridSearchCV)\n",
    "Notre approche ici es d'implémenter notre propre fonction pour la recherche des hyper paramètres de nos différents modèles.<br> Par exemple les étiquettes de prédiction de notre jeu de données de fraudes banquaires sont 0 pour les transactions normales et 1 pour les transaction frauduleuses.<br> Cependant les étiquettes prédites par l'algorithme de forêt d'isolation (Isoalation Forest) sont -1 et 1. Les étiquettes prédictes et les étiquettes réelles sont différentes. <br>\n",
    "Pour faire face à ce problème nous avons implémenté deux fonctions, transformed_target et inverse_transforme_target, pour convertir les labels de sorte à avoir les deux labels dans la bonne version. <br>\n",
    "Cependant lors de la recherche des hyeper paramètres, nous passont nos données une seule fois en argment de la fonction GridSearchCV. Nous ne sommes donc pas à mesure de convertir les labels de prédiction de chaques modèle afin de l'evaluer. Nous avons jugé interessant d'implémenter notre fonction de GridSearchCV de sorte à pouvoir transformer les étiquettes de prédictions de chaque modèle sur un lot de paramètres données afin de pouvoir l'évaluer. "
   ]
  },
  {
   "cell_type": "code",
   "execution_count": 5,
   "metadata": {},
   "outputs": [],
   "source": [
    "class CustomGridSearchCV:\n",
    "    \n",
    "    def __init__(self, estimator, param_grid, n_splits=5, random_state=42):\n",
    "        self.estimator = estimator\n",
    "        self.param_grid = param_grid\n",
    "        self.n_splits = n_splits\n",
    "        self.random_state = random_state\n",
    "        self.best_score = 0\n",
    "        self.best_params = None\n",
    "        self.best_estimator = None\n",
    "\n",
    "    def fit(self, X, y):\n",
    "        \n",
    "        f1_scorer = make_scorer(f1_score)\n",
    "        param_grid = ParameterGrid(self.param_grid)\n",
    "        skf=StratifiedKFold(n_splits=self.n_splits, random_state=None, shuffle=False)\n",
    "        \n",
    "        for params in tqdm(param_grid):\n",
    "            \n",
    "            \n",
    "            total_score = 0\n",
    "\n",
    "            # Itérer sur les plis de la validation croisée\n",
    "            for train_index, val_index in tqdm(skf.split(X,y)):\n",
    "                xtrain_fold, xval_fold = X.iloc[train_index], X.iloc[val_index]\n",
    "                ytrain_fold, yval_fold = y.iloc[train_index], y.iloc[val_index]\n",
    "\n",
    "                # Entraîner le modèle\n",
    "                model = self.estimator.set_params(**params)\n",
    "                model.fit(xtrain_fold)\n",
    "\n",
    "                # Faire des prédictions\n",
    "                ypred_val = model.predict(xval_fold)\n",
    "                ypred_val = inverse_transform_target(ypred_val)\n",
    "\n",
    "                current_score = f1_score(ypred_val, yval_fold)\n",
    "\n",
    "                total_score += current_score\n",
    "\n",
    "            avg_score = total_score / self.n_splits\n",
    "\n",
    "            # Afficher les paramètres et le score moyen\n",
    "            print(\"Paramètres:\", params)\n",
    "            print(\"Score moyen (f1_score):\", avg_score)\n",
    "            print(\" \")\n",
    "\n",
    "            if avg_score > self.best_score:\n",
    "                self.best_score = avg_score\n",
    "                self.best_params = params\n",
    "                self.best_estimator=model\n",
    "\n",
    "        # Afficher les meilleurs paramètres\n",
    "        print(\"Meilleurs paramètres :\", self.best_params)\n",
    "        print(\"Meilleur score moyen (f1_score) :\", self.best_score)\n",
    "    def predict(self,xtest):\n",
    "        return self.best_estimator.predict(xtest)"
   ]
  },
  {
   "cell_type": "markdown",
   "metadata": {},
   "source": [
    "## Expérimentation sur différents jeux de données"
   ]
  },
  {
   "cell_type": "markdown",
   "metadata": {},
   "source": [
    "### Credit cards fraud detection\n",
    "Le jeu de données des transaction frauduleuses"
   ]
  },
  {
   "cell_type": "code",
   "execution_count": 6,
   "metadata": {},
   "outputs": [],
   "source": [
    "# Utilisation de la classe\n",
    "data_loader = AnomalyDetectionDataLoader(file_path=\"/home/dah/anomalie_detection/anomalie_detection/data/creditcard.csv\")\n",
    "data_loader.load_data()\n",
    "data_loader.preprocess_data()\n",
    "data_loader.split_data()\n",
    "\n",
    "xtrain, ytrain = data_loader.get_train_data()\n",
    "xtest, ytest = data_loader.get_test_data()\n",
    "scaler = data_loader.get_scaler()\n"
   ]
  },
  {
   "cell_type": "code",
   "execution_count": 683,
   "metadata": {},
   "outputs": [
    {
     "data": {
      "application/vnd.jupyter.widget-view+json": {
       "model_id": "cedccb625822406f9b09f97d4a005fce",
       "version_major": 2,
       "version_minor": 0
      },
      "text/plain": [
       "  0%|          | 0/8 [00:00<?, ?it/s]"
      ]
     },
     "metadata": {},
     "output_type": "display_data"
    },
    {
     "data": {
      "application/vnd.jupyter.widget-view+json": {
       "model_id": "ea408f7495f94639839bbd9bd7e948d3",
       "version_major": 2,
       "version_minor": 0
      },
      "text/plain": [
       "0it [00:00, ?it/s]"
      ]
     },
     "metadata": {},
     "output_type": "display_data"
    },
    {
     "name": "stdout",
     "output_type": "stream",
     "text": [
      "Paramètres: {'contamination': 0.009, 'max_features': 0.9, 'max_samples': 0.8, 'n_estimators': 300}\n",
      "Score moyen (f1_score): 0.2167861213355536\n",
      " \n"
     ]
    },
    {
     "data": {
      "application/vnd.jupyter.widget-view+json": {
       "model_id": "0f420166d5f64943ad1392f5278e18f4",
       "version_major": 2,
       "version_minor": 0
      },
      "text/plain": [
       "0it [00:00, ?it/s]"
      ]
     },
     "metadata": {},
     "output_type": "display_data"
    },
    {
     "name": "stdout",
     "output_type": "stream",
     "text": [
      "Paramètres: {'contamination': 0.009, 'max_features': 0.9, 'max_samples': 0.8, 'n_estimators': 400}\n",
      "Score moyen (f1_score): 0.21764028469782656\n",
      " \n"
     ]
    },
    {
     "data": {
      "application/vnd.jupyter.widget-view+json": {
       "model_id": "b3de0b05cd5241d9b59d0d79d4d59359",
       "version_major": 2,
       "version_minor": 0
      },
      "text/plain": [
       "0it [00:00, ?it/s]"
      ]
     },
     "metadata": {},
     "output_type": "display_data"
    },
    {
     "name": "stdout",
     "output_type": "stream",
     "text": [
      "Paramètres: {'contamination': 0.009, 'max_features': 0.9, 'max_samples': 0.8, 'n_estimators': 500}\n",
      "Score moyen (f1_score): 0.2188208620180001\n",
      " \n"
     ]
    },
    {
     "data": {
      "application/vnd.jupyter.widget-view+json": {
       "model_id": "3598d5c870c14d5d9ed454b1218f8ae5",
       "version_major": 2,
       "version_minor": 0
      },
      "text/plain": [
       "0it [00:00, ?it/s]"
      ]
     },
     "metadata": {},
     "output_type": "display_data"
    },
    {
     "name": "stdout",
     "output_type": "stream",
     "text": [
      "Paramètres: {'contamination': 0.009, 'max_features': 0.9, 'max_samples': 0.8, 'n_estimators': 600}\n",
      "Score moyen (f1_score): 0.21925998325015073\n",
      " \n"
     ]
    },
    {
     "data": {
      "application/vnd.jupyter.widget-view+json": {
       "model_id": "3c029183babb446697f2075b48463e40",
       "version_major": 2,
       "version_minor": 0
      },
      "text/plain": [
       "0it [00:00, ?it/s]"
      ]
     },
     "metadata": {},
     "output_type": "display_data"
    },
    {
     "name": "stdout",
     "output_type": "stream",
     "text": [
      "Paramètres: {'contamination': 0.009, 'max_features': 0.9, 'max_samples': 0.8, 'n_estimators': 700}\n",
      "Score moyen (f1_score): 0.218392112496474\n",
      " \n"
     ]
    },
    {
     "data": {
      "application/vnd.jupyter.widget-view+json": {
       "model_id": "d2999cc21f7f4470b4e138f18edb20d5",
       "version_major": 2,
       "version_minor": 0
      },
      "text/plain": [
       "0it [00:00, ?it/s]"
      ]
     },
     "metadata": {},
     "output_type": "display_data"
    },
    {
     "name": "stdout",
     "output_type": "stream",
     "text": [
      "Paramètres: {'contamination': 0.009, 'max_features': 0.9, 'max_samples': 0.8, 'n_estimators': 800}\n",
      "Score moyen (f1_score): 0.21789017424105106\n",
      " \n"
     ]
    },
    {
     "data": {
      "application/vnd.jupyter.widget-view+json": {
       "model_id": "e931f3fce21348b4b66286e9961ad4d7",
       "version_major": 2,
       "version_minor": 0
      },
      "text/plain": [
       "0it [00:00, ?it/s]"
      ]
     },
     "metadata": {},
     "output_type": "display_data"
    },
    {
     "name": "stdout",
     "output_type": "stream",
     "text": [
      "Paramètres: {'contamination': 0.009, 'max_features': 0.9, 'max_samples': 0.8, 'n_estimators': 900}\n",
      "Score moyen (f1_score): 0.21695708750343154\n",
      " \n"
     ]
    },
    {
     "data": {
      "application/vnd.jupyter.widget-view+json": {
       "model_id": "8805159190a14ad4920802651eba6d5f",
       "version_major": 2,
       "version_minor": 0
      },
      "text/plain": [
       "0it [00:00, ?it/s]"
      ]
     },
     "metadata": {},
     "output_type": "display_data"
    },
    {
     "name": "stdout",
     "output_type": "stream",
     "text": [
      "Paramètres: {'contamination': 0.009, 'max_features': 0.9, 'max_samples': 0.8, 'n_estimators': 1000}\n",
      "Score moyen (f1_score): 0.21664638063250502\n",
      " \n",
      "Meilleurs paramètres : {'contamination': 0.009, 'max_features': 0.9, 'max_samples': 0.8, 'n_estimators': 600}\n",
      "Meilleur score moyen (f1_score) : 0.21925998325015073\n"
     ]
    }
   ],
   "source": [
    "parameters={\n",
    "    \"n_estimators\":[100,200,300,400,500],\n",
    "    \"contamination\":[0.15],\n",
    "    \"max_samples\":[1.0],\n",
    "    \"max_features\":[1.0],\n",
    "    # \"bootstrap\":[False,True]\n",
    "}\n",
    "\n",
    "best_par={\n",
    "          'contamination': [0.009],\n",
    "          'max_features': [0.9], \n",
    "          'max_samples': [0.8], \n",
    "          'n_estimators': [300,400,500,600,700,800,900,1000]\n",
    "}\n",
    "model=CustomGridSearchCV(estimator=IsolationForest(random_state=42), param_grid=best_par, n_splits=5, random_state=42)\n",
    "model.fit(xtrain,ytrain)"
   ]
  },
  {
   "cell_type": "code",
   "execution_count": 8,
   "metadata": {},
   "outputs": [
    {
     "data": {
      "text/html": [
       "<style>#sk-container-id-1 {color: black;}#sk-container-id-1 pre{padding: 0;}#sk-container-id-1 div.sk-toggleable {background-color: white;}#sk-container-id-1 label.sk-toggleable__label {cursor: pointer;display: block;width: 100%;margin-bottom: 0;padding: 0.3em;box-sizing: border-box;text-align: center;}#sk-container-id-1 label.sk-toggleable__label-arrow:before {content: \"▸\";float: left;margin-right: 0.25em;color: #696969;}#sk-container-id-1 label.sk-toggleable__label-arrow:hover:before {color: black;}#sk-container-id-1 div.sk-estimator:hover label.sk-toggleable__label-arrow:before {color: black;}#sk-container-id-1 div.sk-toggleable__content {max-height: 0;max-width: 0;overflow: hidden;text-align: left;background-color: #f0f8ff;}#sk-container-id-1 div.sk-toggleable__content pre {margin: 0.2em;color: black;border-radius: 0.25em;background-color: #f0f8ff;}#sk-container-id-1 input.sk-toggleable__control:checked~div.sk-toggleable__content {max-height: 200px;max-width: 100%;overflow: auto;}#sk-container-id-1 input.sk-toggleable__control:checked~label.sk-toggleable__label-arrow:before {content: \"▾\";}#sk-container-id-1 div.sk-estimator input.sk-toggleable__control:checked~label.sk-toggleable__label {background-color: #d4ebff;}#sk-container-id-1 div.sk-label input.sk-toggleable__control:checked~label.sk-toggleable__label {background-color: #d4ebff;}#sk-container-id-1 input.sk-hidden--visually {border: 0;clip: rect(1px 1px 1px 1px);clip: rect(1px, 1px, 1px, 1px);height: 1px;margin: -1px;overflow: hidden;padding: 0;position: absolute;width: 1px;}#sk-container-id-1 div.sk-estimator {font-family: monospace;background-color: #f0f8ff;border: 1px dotted black;border-radius: 0.25em;box-sizing: border-box;margin-bottom: 0.5em;}#sk-container-id-1 div.sk-estimator:hover {background-color: #d4ebff;}#sk-container-id-1 div.sk-parallel-item::after {content: \"\";width: 100%;border-bottom: 1px solid gray;flex-grow: 1;}#sk-container-id-1 div.sk-label:hover label.sk-toggleable__label {background-color: #d4ebff;}#sk-container-id-1 div.sk-serial::before {content: \"\";position: absolute;border-left: 1px solid gray;box-sizing: border-box;top: 0;bottom: 0;left: 50%;z-index: 0;}#sk-container-id-1 div.sk-serial {display: flex;flex-direction: column;align-items: center;background-color: white;padding-right: 0.2em;padding-left: 0.2em;position: relative;}#sk-container-id-1 div.sk-item {position: relative;z-index: 1;}#sk-container-id-1 div.sk-parallel {display: flex;align-items: stretch;justify-content: center;background-color: white;position: relative;}#sk-container-id-1 div.sk-item::before, #sk-container-id-1 div.sk-parallel-item::before {content: \"\";position: absolute;border-left: 1px solid gray;box-sizing: border-box;top: 0;bottom: 0;left: 50%;z-index: -1;}#sk-container-id-1 div.sk-parallel-item {display: flex;flex-direction: column;z-index: 1;position: relative;background-color: white;}#sk-container-id-1 div.sk-parallel-item:first-child::after {align-self: flex-end;width: 50%;}#sk-container-id-1 div.sk-parallel-item:last-child::after {align-self: flex-start;width: 50%;}#sk-container-id-1 div.sk-parallel-item:only-child::after {width: 0;}#sk-container-id-1 div.sk-dashed-wrapped {border: 1px dashed gray;margin: 0 0.4em 0.5em 0.4em;box-sizing: border-box;padding-bottom: 0.4em;background-color: white;}#sk-container-id-1 div.sk-label label {font-family: monospace;font-weight: bold;display: inline-block;line-height: 1.2em;}#sk-container-id-1 div.sk-label-container {text-align: center;}#sk-container-id-1 div.sk-container {/* jupyter's `normalize.less` sets `[hidden] { display: none; }` but bootstrap.min.css set `[hidden] { display: none !important; }` so we also need the `!important` here to be able to override the default hidden behavior on the sphinx rendered scikit-learn.org. See: https://github.com/scikit-learn/scikit-learn/issues/21755 */display: inline-block !important;position: relative;}#sk-container-id-1 div.sk-text-repr-fallback {display: none;}</style><div id=\"sk-container-id-1\" class=\"sk-top-container\"><div class=\"sk-text-repr-fallback\"><pre>IsolationForest(contamination=0.009, max_features=0.9, max_samples=0.8,\n",
       "                n_estimators=600)</pre><b>In a Jupyter environment, please rerun this cell to show the HTML representation or trust the notebook. <br />On GitHub, the HTML representation is unable to render, please try loading this page with nbviewer.org.</b></div><div class=\"sk-container\" hidden><div class=\"sk-item\"><div class=\"sk-estimator sk-toggleable\"><input class=\"sk-toggleable__control sk-hidden--visually\" id=\"sk-estimator-id-1\" type=\"checkbox\" checked><label for=\"sk-estimator-id-1\" class=\"sk-toggleable__label sk-toggleable__label-arrow\">IsolationForest</label><div class=\"sk-toggleable__content\"><pre>IsolationForest(contamination=0.009, max_features=0.9, max_samples=0.8,\n",
       "                n_estimators=600)</pre></div></div></div></div></div>"
      ],
      "text/plain": [
       "IsolationForest(contamination=0.009, max_features=0.9, max_samples=0.8,\n",
       "                n_estimators=600)"
      ]
     },
     "execution_count": 8,
     "metadata": {},
     "output_type": "execute_result"
    }
   ],
   "source": [
    "params_iforest={'contamination': 0.009, 'max_features': 0.9, 'max_samples': 0.8, 'n_estimators': 600}\n",
    "iforest=IsolationForest(**params_iforest)\n",
    "iforest.fit(xtrain)"
   ]
  },
  {
   "cell_type": "code",
   "execution_count": 10,
   "metadata": {},
   "outputs": [],
   "source": [
    "ypred=iforest.predict(xtest)"
   ]
  },
  {
   "cell_type": "code",
   "execution_count": 11,
   "metadata": {},
   "outputs": [],
   "source": [
    "ypred=inverse_transform_target(ypred)"
   ]
  },
  {
   "cell_type": "code",
   "execution_count": 12,
   "metadata": {},
   "outputs": [
    {
     "data": {
      "image/png": "[encoded data removed]",
      "text/plain": [
       "<Figure size 640x480 with 2 Axes>"
      ]
     },
     "metadata": {},
     "output_type": "display_data"
    },
    {
     "data": {
      "image/png": "[encoded data removed]",
      "text/plain": [
       "<Figure size 640x480 with 1 Axes>"
      ]
     },
     "metadata": {},
     "output_type": "display_data"
    },
    {
     "name": "stdout",
     "output_type": "stream",
     "text": [
      "roc_auc 0.8193520565600743\n"
     ]
    },
    {
     "data": {
      "image/png": "[encoded data removed]",
      "text/plain": [
       "<Figure size 640x480 with 1 Axes>"
      ]
     },
     "metadata": {},
     "output_type": "display_data"
    },
    {
     "name": "stdout",
     "output_type": "stream",
     "text": [
      "   f1_score  accuracy_score  precision_score  recall_score\n",
      "0  0.188437        0.991095         0.110276      0.647059\n"
     ]
    }
   ],
   "source": [
    "evaluation(ytest,ypred)"
   ]
  },
  {
   "cell_type": "code",
   "execution_count": null,
   "metadata": {},
   "outputs": [],
   "source": []
  }
 ],
 "metadata": {
  "kernelspec": {
   "display_name": "Python 3 (ipykernel)",
   "language": "python",
   "name": "python3"
  },
  "language_info": {
   "codemirror_mode": {
    "name": "ipython",
    "version": 3
   },
   "file_extension": ".py",
   "mimetype": "text/x-python",
   "name": "python",
   "nbconvert_exporter": "python",
   "pygments_lexer": "ipython3",
   "version": "3.11.4"
  },
  "widgets": {
   "application/vnd.jupyter.widget-state+json": {
    "state": {},
    "version_major": 2,
    "version_minor": 0
   }
  }
 },
 "nbformat": 4,
 "nbformat_minor": 4
}
