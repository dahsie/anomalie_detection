{
 "cells": [
  {
   "cell_type": "code",
   "execution_count": 182,
   "id": "8062db9b-8edd-49fb-925f-669e30be74e8",
   "metadata": {},
   "outputs": [],
   "source": [
    "import numpy as np\n",
    "import pandas as pd\n",
    "import matplotlib.pyplot as plt\n",
    "import seaborn as sb\n",
    "\n",
    "from sklearn.metrics import make_scorer, roc_auc_score,confusion_matrix\n",
    "from sklearn.metrics import f1_score,accuracy_score,precision_score,recall_score\n",
    "from sklearn.metrics import precision_recall_curve\n",
    "from sklearn.metrics import PrecisionRecallDisplay\n",
    "from sklearn.metrics import RocCurveDisplay,roc_curve\n",
    "from sklearn import metrics\n",
    "\n",
    "from sklearn.model_selection import train_test_split\n",
    "from sklearn.model_selection import GridSearchCV\n",
    "from sklearn.model_selection import ParameterGrid\n",
    "from sklearn.model_selection import KFold,StratifiedKFold\n",
    "\n",
    "#The model\n",
    "from sklearn.svm import OneClassSVM\n",
    "from sklearn.ensemble import IsolationForest\n",
    "from sklearn.neighbors import LocalOutlierFactor\n",
    "from sklearn.ensemble import VotingClassifier\n",
    "from sklearn.ensemble import StackingClassifier\n",
    "from sklearn.linear_model import LogisticRegression\n",
    "# from mlens.ensemble import SuperLearner\n",
    "\n",
    "\n",
    "#For preprocessing\n",
    "from sklearn.preprocessing import MinMaxScaler,StandardScaler\n",
    "\n",
    "# from tqdm import tqdm\n",
    "from tqdm.notebook import tqdm\n",
    "import warnings \n",
    "warnings.simplefilter(\"ignore\")"
   ]
  },
  {
   "cell_type": "code",
   "execution_count": 183,
   "id": "8615dbb9-2132-47b5-835d-265c5ef89149",
   "metadata": {},
   "outputs": [
    {
     "name": "stdout",
     "output_type": "stream",
     "text": [
      "[[0 1 0 1 0 1]\n",
      " [1 0 1 0 1 1]\n",
      " [1 1 0 0 1 0]]\n"
     ]
    },
    {
     "data": {
      "text/plain": [
       "array([0., 0., 0., 0., 0., 0.])"
      ]
     },
     "execution_count": 183,
     "metadata": {},
     "output_type": "execute_result"
    }
   ],
   "source": [
    "l1=[0,1,0,1,0,1]\n",
    "la=[1,0,1,0,1,1]\n",
    "l2=[1,1,0,0,1,0]\n",
    "\n",
    "lo=[]\n",
    "lo.append(l1)\n",
    "lo.append(la)\n",
    "lo.append(l2)\n",
    "\n",
    "array=np.array(lo)\n",
    "print(array)\n",
    "arr=np.zeros(array.shape[1])\n",
    "arr"
   ]
  },
  {
   "cell_type": "code",
   "execution_count": 184,
   "id": "486ffe9a-ddae-4449-b31f-d826533735f7",
   "metadata": {},
   "outputs": [],
   "source": [
    "for i in range(array.shape[1]):\n",
    "    # a=1 if array[:,i:i+1].sum() > array.shape[0]/2 else 0\n",
    "    arr[i]=1 if array[:,i:i+1].sum() > array.shape[0]/2 else 0"
   ]
  },
  {
   "cell_type": "code",
   "execution_count": 185,
   "id": "87953587-7199-4136-8128-4b2209714ee3",
   "metadata": {},
   "outputs": [
    {
     "data": {
      "text/plain": [
       "array([1., 1., 0., 0., 1., 1.])"
      ]
     },
     "execution_count": 185,
     "metadata": {},
     "output_type": "execute_result"
    }
   ],
   "source": [
    "arr"
   ]
  },
  {
   "cell_type": "code",
   "execution_count": 186,
   "id": "618dc999-f663-40bb-9c76-a03e170bf916",
   "metadata": {},
   "outputs": [
    {
     "data": {
      "text/plain": [
       "(3, 6)"
      ]
     },
     "execution_count": 186,
     "metadata": {},
     "output_type": "execute_result"
    }
   ],
   "source": [
    "array.shape"
   ]
  },
  {
   "cell_type": "code",
   "execution_count": 187,
   "id": "ac359a5d-5d4f-4e9e-baaa-f52ca008a1d6",
   "metadata": {},
   "outputs": [
    {
     "data": {
      "text/plain": [
       "[[-100, 1, 0, 1, 0, 1], [1, 0, 1, 0, 1, 1], [1, 1, 0, 0, 1, 0]]"
      ]
     },
     "execution_count": 187,
     "metadata": {},
     "output_type": "execute_result"
    }
   ],
   "source": [
    "lo[0][0]=-100\n",
    "lo"
   ]
  },
  {
   "cell_type": "code",
   "execution_count": 188,
   "id": "5a30f3aa-0115-46f9-8775-c887bbfe5846",
   "metadata": {},
   "outputs": [
    {
     "data": {
      "text/plain": [
       "array([[-400,    1,    0,    1,    0,    1],\n",
       "       [   1,    0,    1,    0,    1,    1],\n",
       "       [   1,    1,    0,    0,    1,    0]])"
      ]
     },
     "execution_count": 188,
     "metadata": {},
     "output_type": "execute_result"
    }
   ],
   "source": [
    "array[0][0]=-400\n",
    "array"
   ]
  },
  {
   "cell_type": "code",
   "execution_count": 189,
   "id": "3f8ef9f9-4327-4772-9622-ce106bcbefac",
   "metadata": {},
   "outputs": [
    {
     "data": {
      "text/plain": [
       "array([1., 1., 0., 0., 1., 1.])"
      ]
     },
     "execution_count": 189,
     "metadata": {},
     "output_type": "execute_result"
    }
   ],
   "source": [
    "arr"
   ]
  },
  {
   "cell_type": "code",
   "execution_count": null,
   "id": "a9e05d67-66e1-4c16-998c-db39a8343489",
   "metadata": {},
   "outputs": [],
   "source": []
  },
  {
   "cell_type": "code",
   "execution_count": 190,
   "id": "d9c10b42-27da-4514-bd64-18f23b437cf2",
   "metadata": {},
   "outputs": [],
   "source": [
    "class AnomalyDetectionDataLoader:\n",
    "    \n",
    "    def __init__(self, file_path, test_size=0.15, random_state=42):\n",
    "        self.file_path = file_path\n",
    "        self.test_size = test_size\n",
    "        self.random_state = random_state\n",
    "        self.data = None\n",
    "        self.target = None\n",
    "        self.xtrain = None\n",
    "        self.xtest = None\n",
    "        self.ytrain = None\n",
    "        self.ytest = None\n",
    "        self.scaler = MinMaxScaler()\n",
    "\n",
    "    def load_data(self):\n",
    "        self.data = pd.read_csv(self.file_path)\n",
    "        \n",
    "        self.data.drop_duplicates(keep=\"last\", inplace=True)\n",
    "\n",
    "        self.target = self.data[\"Class\"]\n",
    "        self.data = self.data.drop([\"Class\", \"Time\"], axis=1)\n",
    "\n",
    "    def preprocess_data(self):\n",
    "\n",
    "        data_scaled_array = self.scaler.fit_transform(self.data)\n",
    "        self.data = pd.DataFrame(data_scaled_array, columns=self.data.columns)\n",
    "\n",
    "    def split_data(self):\n",
    "        \n",
    "        self.xtrain, self.xtest, self.ytrain, self.ytest = train_test_split(\n",
    "            self.data, self.target, test_size=self.test_size, random_state=self.random_state, shuffle=True)\n",
    "\n",
    "    def get_train_data(self):\n",
    "        return self.xtrain, self.ytrain\n",
    "\n",
    "    def get_test_data(self):\n",
    "        return self.xtest, self.ytest\n",
    "\n",
    "    def get_scaler(self):\n",
    "        return self.scaler\n",
    "\n"
   ]
  },
  {
   "cell_type": "code",
   "execution_count": 191,
   "id": "1447af60-aa31-4e1f-ae5a-d40c652ac182",
   "metadata": {},
   "outputs": [],
   "source": [
    "def transform_target(target):\n",
    "    \"\"\"Args:\n",
    "        target: np.ndarry or pd.DataFrame\n",
    "    \"\"\"\n",
    "    n=target.shape[0]\n",
    "    if isinstance(target,np.ndarray):\n",
    "        target[target==1]=-1\n",
    "        target[target==0]=1\n",
    "        \n",
    "    elif isinstance(target,pd.DataFrame) or isinstance(target,pd.Series):\n",
    "        target[target==1]=-1\n",
    "        target[target==0]=1\n",
    "    return target\n",
    "\n",
    "\n",
    "def inverse_transform_target(target):\n",
    "    n=target.shape[0]\n",
    "    if isinstance(target,pd.DataFrame) or isinstance(target,pd.Series):\n",
    "        target[target==1]=0\n",
    "        target[target==-1]=1\n",
    "        \n",
    "    elif isinstance(target,np.ndarray): \n",
    "        target[target==1]=0\n",
    "        target[target==-1]=1\n",
    "    return target"
   ]
  },
  {
   "cell_type": "code",
   "execution_count": 192,
   "id": "d239d681-7c03-48b7-8003-9c6e7533075d",
   "metadata": {},
   "outputs": [],
   "source": [
    "def confusin_matrix_display(ytest,ypred):\n",
    "    metrics.ConfusionMatrixDisplay(confusion_matrix(ytest,ypred)).plot()\n",
    "    plt.title(\"Confusion Matrix\")\n",
    "    plt.show()\n",
    "\n",
    "def precision_recall_display(ytest, ypred):\n",
    "    precision, recall, _ = precision_recall_curve(ytest, ypred)\n",
    "    PrecisionRecallDisplay(precision=precision, recall=recall).plot()\n",
    "    plt.title(\"Precision_Recall_Curve\")\n",
    "    plt.show()\n",
    "\n",
    "def roc_curve_disolay(ytest, ypred):\n",
    "    fpr, tpr, thresholds = metrics.roc_curve(ytest, ypred)\n",
    "    roc_auc = metrics.auc(fpr, tpr)\n",
    "    display = metrics.RocCurveDisplay(fpr=fpr, tpr=tpr, roc_auc=roc_auc)\n",
    "    print(f\"roc_auc {roc_auc}\")\n",
    "    display.plot()\n",
    "    plt.title(\"ROC_Curve\")\n",
    "    plt.show()\n",
    "\n",
    "def scores(ytest,ypred):\n",
    "    df=pd.DataFrame({\"f1_score\" : [f1_score(ytest,ypred)],\n",
    "                     \"accuracy_score\" : [accuracy_score(ytest,ypred)],\n",
    "                     \"precision_score\" : [precision_score(ytest,ypred)],\n",
    "                     \"recall_score\" : [recall_score(ytest,ypred)]\n",
    "    })\n",
    "    print(df)\n",
    "    return df\n",
    " \n",
    "def evaluation(ytrue,ypred):\n",
    "    confusin_matrix_display(ytrue,ypred)\n",
    "    precision_recall_display(ytrue, ypred)\n",
    "    roc_curve_disolay(ytrue, ypred)\n",
    "    scores(ytest,ypred)"
   ]
  },
  {
   "cell_type": "code",
   "execution_count": 193,
   "id": "2550f186-07af-4e2a-847b-f05743335809",
   "metadata": {},
   "outputs": [],
   "source": [
    "class CustomGridSearchCV:\n",
    "    \n",
    "    def __init__(self, estimator, param_grid, n_splits=5, random_state=42):\n",
    "        self.estimator = estimator\n",
    "        self.param_grid = param_grid\n",
    "        self.n_splits = n_splits\n",
    "        self.random_state = random_state\n",
    "        self.best_score = 0\n",
    "        self.best_params = None\n",
    "        self.best_estimator = None\n",
    "\n",
    "    def fit(self, X, y):\n",
    "        \n",
    "        f1_scorer = make_scorer(f1_score)\n",
    "        param_grid = ParameterGrid(self.param_grid)\n",
    "        skf=StratifiedKFold(n_splits=self.n_splits, random_state=None, shuffle=False)\n",
    "        \n",
    "        for params in tqdm(param_grid):\n",
    "            \n",
    "            \n",
    "            total_score = 0\n",
    "\n",
    "            # Itérer sur les plis de la validation croisée\n",
    "            for train_index, val_index in tqdm(skf.split(X,y)):\n",
    "                xtrain_fold, xval_fold = X.iloc[train_index], X.iloc[val_index]\n",
    "                ytrain_fold, yval_fold = y.iloc[train_index], y.iloc[val_index]\n",
    "\n",
    "                # Entraîner le modèle\n",
    "                model = self.estimator.set_params(**params)\n",
    "                model.fit(xtrain_fold)\n",
    "\n",
    "                # Faire des prédictions\n",
    "                ypred_val = model.predict(xval_fold)\n",
    "                ypred_val = inverse_transform_target(ypred_val)\n",
    "\n",
    "                current_score = f1_score(ypred_val, yval_fold)\n",
    "\n",
    "                total_score += current_score\n",
    "\n",
    "            avg_score = total_score / self.n_splits\n",
    "\n",
    "            # Afficher les paramètres et le score moyen\n",
    "            print(\"Paramètres:\", params)\n",
    "            print(\"Score moyen (f1_score):\", avg_score)\n",
    "            print(\" \")\n",
    "\n",
    "            if avg_score > self.best_score:\n",
    "                self.best_score = avg_score\n",
    "                self.best_params = params\n",
    "                self.best_estimator=model\n",
    "\n",
    "        # Afficher les meilleurs paramètres\n",
    "        print(\"Meilleurs paramètres :\", self.best_params)\n",
    "        print(\"Meilleur score moyen (f1_score) :\", self.best_score)\n",
    "    def predict(self,xtest):\n",
    "        return self.best_estimator.predict(xtest)"
   ]
  },
  {
   "cell_type": "code",
   "execution_count": 199,
   "id": "7d02afb5-a11d-4e26-8519-db6318525a77",
   "metadata": {},
   "outputs": [],
   "source": [
    "class CustomVoting:\n",
    "\n",
    "    def __init__(self, estimators):\n",
    "\n",
    "        self.estimators= estimators\n",
    "        # self.voting_labels=None\n",
    "        self.current_estimator=None\n",
    "\n",
    "\n",
    "    def predict_base_model(self,model,xtest):\n",
    "\n",
    "        ypred=None\n",
    "        \n",
    "        if isinstance(model,LocalOutlierFactor):\n",
    "            ypred=model.fit_predict(xtest)\n",
    "            \n",
    "        elif isinstance(model,OneClassSVM):\n",
    "            ypred=model.predict(xtest)\n",
    "\n",
    "        elif isinstance(model,IsolationForest):\n",
    "            ypred=model.predict(xtest)\n",
    "\n",
    "        return ypred\n",
    "\n",
    "\n",
    "    def voting(self, bases_predictions):\n",
    "\n",
    "        vote_labels=np.zeros(bases_predictions.shape[1])\n",
    "        for i in range(bases_predictions.shape[1]):\n",
    "            vote_labels[i]=1 if bases_predictions[:,i:i+1].sum() > array.shape[0]/2 else 0\n",
    "\n",
    "        return vote_labels\n",
    "        \n",
    "    def fit(self,xtrain):\n",
    "\n",
    "    \n",
    "        for name, model in tqdm(self.estimators):\n",
    "            print(\"==========================\")\n",
    "            print(name)\n",
    "            model.fit(xtrain)\n",
    "\n",
    "    def predict(self,xtest):\n",
    "        \n",
    "        labels=[]\n",
    "        for name, model in tqdm(self.estimators):\n",
    "            # self.current_estimator=model\n",
    "            ypred=self.predict_base_model(model,xtest)\n",
    "            # if ypred==None:\n",
    "            #     raise \"Wrong prediction\"\n",
    "            ypred=inverse_transform_target(ypred)\n",
    "            labels.append(ypred)\n",
    "\n",
    "        return self.voting(np.array(labels))\n",
    "            \n",
    "        "
   ]
  },
  {
   "cell_type": "code",
   "execution_count": 200,
   "id": "743457e4-c635-4a28-8892-1e2e42e3f5e1",
   "metadata": {},
   "outputs": [],
   "source": [
    "# Utilisation de la classe\n",
    "data_loader = AnomalyDetectionDataLoader(file_path=\"/home/dah/anomalie_detection/anomalie_detection/data/creditcard.csv\")\n",
    "data_loader.load_data()\n",
    "data_loader.preprocess_data()\n",
    "data_loader.split_data()\n",
    "\n",
    "xtrain, ytrain = data_loader.get_train_data()\n",
    "xtest, ytest = data_loader.get_test_data()\n",
    "scaler = data_loader.get_scaler()\n"
   ]
  },
  {
   "cell_type": "code",
   "execution_count": 201,
   "id": "5479cbe4-a956-4136-b400-c90da1bd43e1",
   "metadata": {},
   "outputs": [],
   "source": [
    "params_SVM={'kernel': 'poly', 'nu': 0.0026,'gamma':'auto','degree':9}\n",
    "one_svm=OneClassSVM(**params_SVM)\n",
    "\n",
    "params_lof={'contamination': 0.003, 'n_neighbors': 140}\n",
    "lof=LocalOutlierFactor(**params_lof)\n",
    "\n",
    "params_iforest={'contamination': 0.009, 'max_features': 0.9, 'max_samples': 0.8, 'n_estimators': 600}\n",
    "iforest=IsolationForest(**params_iforest)\n",
    "\n",
    "estimators=[('one_smv', one_svm),('lof',lof),('iforest',iforest)]\n",
    "\n",
    "model=CustomVoting(estimators)"
   ]
  },
  {
   "cell_type": "code",
   "execution_count": 202,
   "id": "ecd1cc06-0d70-42a8-9765-381c14666ef2",
   "metadata": {},
   "outputs": [
    {
     "data": {
      "application/vnd.jupyter.widget-view+json": {
       "model_id": "4d009c3582ff47a3b904acc4ce7246e7",
       "version_major": 2,
       "version_minor": 0
      },
      "text/plain": [
       "  0%|          | 0/3 [00:00<?, ?it/s]"
      ]
     },
     "metadata": {},
     "output_type": "display_data"
    },
    {
     "name": "stdout",
     "output_type": "stream",
     "text": [
      "==========================\n",
      "one_smv\n",
      "==========================\n",
      "lof\n",
      "==========================\n",
      "iforest\n"
     ]
    }
   ],
   "source": [
    "model.fit(xtrain)"
   ]
  },
  {
   "cell_type": "code",
   "execution_count": 203,
   "id": "72d28a8c-5897-4b74-82d4-866e19794975",
   "metadata": {},
   "outputs": [
    {
     "data": {
      "application/vnd.jupyter.widget-view+json": {
       "model_id": "c3b8d3e435d24c5984bf6a812a3a504f",
       "version_major": 2,
       "version_minor": 0
      },
      "text/plain": [
       "  0%|          | 0/3 [00:00<?, ?it/s]"
      ]
     },
     "metadata": {},
     "output_type": "display_data"
    },
    {
     "data": {
      "image/png": "[encoded data removed]",
      "text/plain": [
       "<Figure size 640x480 with 2 Axes>"
      ]
     },
     "metadata": {},
     "output_type": "display_data"
    },
    {
     "data": {
      "image/png": "[encoded data removed]",
      "text/plain": [
       "<Figure size 640x480 with 1 Axes>"
      ]
     },
     "metadata": {},
     "output_type": "display_data"
    },
    {
     "name": "stdout",
     "output_type": "stream",
     "text": [
      "roc_auc 0.8445997906823175\n"
     ]
    },
    {
     "data": {
      "image/png": "[encoded data removed]",
      "text/plain": [
       "<Figure size 640x480 with 1 Axes>"
      ]
     },
     "metadata": {},
     "output_type": "display_data"
    },
    {
     "name": "stdout",
     "output_type": "stream",
     "text": [
      "   f1_score  accuracy_score  precision_score  recall_score\n",
      "0  0.472362        0.997533         0.358779      0.691176\n"
     ]
    }
   ],
   "source": [
    "ypred=model.predict(xtest)\n",
    "evaluation(ytest,ypred)"
   ]
  },
  {
   "cell_type": "code",
   "execution_count": null,
   "id": "368828aa-5b3d-4c80-99a5-86ee60676c6f",
   "metadata": {},
   "outputs": [],
   "source": []
  },
  {
   "cell_type": "code",
   "execution_count": null,
   "id": "0a259c61-207b-44ab-bc29-82e6767c5c78",
   "metadata": {},
   "outputs": [],
   "source": []
  },
  {
   "cell_type": "code",
   "execution_count": null,
   "id": "4abf7e27-6f73-4486-97ca-2ebdfa8c64a6",
   "metadata": {},
   "outputs": [],
   "source": []
  },
  {
   "cell_type": "code",
   "execution_count": null,
   "id": "f9667df6-8fe9-4406-9ab6-6896c0df6065",
   "metadata": {},
   "outputs": [],
   "source": []
  },
  {
   "cell_type": "code",
   "execution_count": null,
   "id": "7b2a062a-61c1-4ce5-8522-bc7fe2ac2759",
   "metadata": {},
   "outputs": [],
   "source": []
  },
  {
   "cell_type": "code",
   "execution_count": null,
   "id": "4bee8b25-118d-4557-b194-daab1bff63ed",
   "metadata": {},
   "outputs": [],
   "source": []
  },
  {
   "cell_type": "code",
   "execution_count": null,
   "id": "bb7a89db-d6a8-43f5-8138-bcac02996bf3",
   "metadata": {},
   "outputs": [],
   "source": []
  },
  {
   "cell_type": "code",
   "execution_count": null,
   "id": "a106d8e8-2eab-431e-9c43-54fb610465c1",
   "metadata": {},
   "outputs": [],
   "source": []
  },
  {
   "cell_type": "code",
   "execution_count": null,
   "id": "fb62d934-5bd3-4ea4-88ec-26cfaa2b0ea1",
   "metadata": {},
   "outputs": [],
   "source": []
  },
  {
   "cell_type": "code",
   "execution_count": null,
   "id": "9506a25a-4fb8-4ab4-9f79-fd3599f88f2f",
   "metadata": {},
   "outputs": [],
   "source": []
  },
  {
   "cell_type": "code",
   "execution_count": null,
   "id": "d1ba0041-4701-41e1-acb6-af2ec7715c9f",
   "metadata": {},
   "outputs": [],
   "source": []
  },
  {
   "cell_type": "code",
   "execution_count": null,
   "id": "e8fba1a6-1110-4901-8392-332610a43752",
   "metadata": {},
   "outputs": [],
   "source": []
  },
  {
   "cell_type": "code",
   "execution_count": null,
   "id": "7e66de11-1f5f-4551-b765-faed36ae66d0",
   "metadata": {},
   "outputs": [],
   "source": []
  },
  {
   "cell_type": "code",
   "execution_count": null,
   "id": "d045ca14-1b79-464e-99a7-9348f5ee1d49",
   "metadata": {},
   "outputs": [],
   "source": []
  },
  {
   "cell_type": "code",
   "execution_count": null,
   "id": "082187ea-f468-485b-b02c-d9b370a57114",
   "metadata": {},
   "outputs": [],
   "source": []
  }
 ],
 "metadata": {
  "kernelspec": {
   "display_name": "Python 3 (ipykernel)",
   "language": "python",
   "name": "python3"
  },
  "language_info": {
   "codemirror_mode": {
    "name": "ipython",
    "version": 3
   },
   "file_extension": ".py",
   "mimetype": "text/x-python",
   "name": "python",
   "nbconvert_exporter": "python",
   "pygments_lexer": "ipython3",
   "version": "3.11.4"
  },
  "widgets": {
   "application/vnd.jupyter.widget-state+json": {
    "state": {
     "0291dcf0798e4bb598ce3c4b1042b35d": {
      "model_module": "@jupyter-widgets/base",
      "model_module_version": "2.0.0",
      "model_name": "LayoutModel",
      "state": {}
     },
     "0373d14fd523400e8f9e12955b6353a9": {
      "model_module": "@jupyter-widgets/controls",
      "model_module_version": "2.0.0",
      "model_name": "HTMLStyleModel",
      "state": {
       "description_width": "",
       "font_size": null,
       "text_color": null
      }
     },
     "0447b89c2f434a4fa7caa6deb0fa9f0a": {
      "model_module": "@jupyter-widgets/controls",
      "model_module_version": "2.0.0",
      "model_name": "FloatProgressModel",
      "state": {
       "bar_style": "success",
       "layout": "IPY_MODEL_580d3eaeea5943e09209a06cb23fb356",
       "max": 3,
       "style": "IPY_MODEL_507d382180f746ff99c393ef977c9468",
       "value": 3
      }
     },
     "048642f756d441be8c0fc10c157ad8da": {
      "model_module": "@jupyter-widgets/controls",
      "model_module_version": "2.0.0",
      "model_name": "HTMLStyleModel",
      "state": {
       "description_width": "",
       "font_size": null,
       "text_color": null
      }
     },
     "0555d1bf783344fe9fb963d70890d497": {
      "model_module": "@jupyter-widgets/controls",
      "model_module_version": "2.0.0",
      "model_name": "HTMLStyleModel",
      "state": {
       "description_width": "",
       "font_size": null,
       "text_color": null
      }
     },
     "0667dfeeba0743c095f39ab5274ee90c": {
      "model_module": "@jupyter-widgets/controls",
      "model_module_version": "2.0.0",
      "model_name": "HTMLModel",
      "state": {
       "layout": "IPY_MODEL_a15bce8ccb7142fab87c20e2067a2e22",
       "style": "IPY_MODEL_6a9ee3bb58df485da64dcbd584ccf223",
       "value": "100%"
      }
     },
     "067d3c07d67d4953a024a1cf5d92d5d2": {
      "model_module": "@jupyter-widgets/controls",
      "model_module_version": "2.0.0",
      "model_name": "HTMLModel",
      "state": {
       "layout": "IPY_MODEL_9d5615b1295c4a5a8bd5b1f3bb1c90e3",
       "style": "IPY_MODEL_ae6b3ffc0094483497bb7a4ae3987892",
       "value": "100%"
      }
     },
     "07fd99c9b01242fd8f27dc61d86dbbbb": {
      "model_module": "@jupyter-widgets/controls",
      "model_module_version": "2.0.0",
      "model_name": "FloatProgressModel",
      "state": {
       "bar_style": "danger",
       "layout": "IPY_MODEL_aeeabff2a2fa49c9ad85c47bc5de427e",
       "max": 3,
       "style": "IPY_MODEL_7f9119e3bfb94d5f8a492aba2ec80e24"
      }
     },
     "0827eca5d9aa44d4b983eb1ff02ca2bb": {
      "model_module": "@jupyter-widgets/controls",
      "model_module_version": "2.0.0",
      "model_name": "HTMLStyleModel",
      "state": {
       "description_width": "",
       "font_size": null,
       "text_color": null
      }
     },
     "08deb10cf9c04e428b07b537f7867320": {
      "model_module": "@jupyter-widgets/controls",
      "model_module_version": "2.0.0",
      "model_name": "HBoxModel",
      "state": {
       "children": [
        "IPY_MODEL_852f69a2c5334a93a43722255d3bd498",
        "IPY_MODEL_c19e41389b864ba5a56fdbcaa797154d",
        "IPY_MODEL_49ea58e39efd4c5b98c85479e473f234"
       ],
       "layout": "IPY_MODEL_aa207359bdf641fb9bdf9b2662501237"
      }
     },
     "0a9f2a04e21f454e8d453b54376e8c62": {
      "model_module": "@jupyter-widgets/controls",
      "model_module_version": "2.0.0",
      "model_name": "HTMLModel",
      "state": {
       "layout": "IPY_MODEL_0291dcf0798e4bb598ce3c4b1042b35d",
       "style": "IPY_MODEL_90f3b4616ca04299923fac4c3536c053",
       "value": "  0%"
      }
     },
     "0ce63a36ddde4aaaa0d5b686a77b148e": {
      "model_module": "@jupyter-widgets/controls",
      "model_module_version": "2.0.0",
      "model_name": "ProgressStyleModel",
      "state": {
       "description_width": ""
      }
     },
     "0d259626612a41419a034ac5ca32b762": {
      "model_module": "@jupyter-widgets/controls",
      "model_module_version": "2.0.0",
      "model_name": "FloatProgressModel",
      "state": {
       "bar_style": "danger",
       "layout": "IPY_MODEL_d709ec456a6d4bbe8e74b460e6f1832c",
       "max": 3,
       "style": "IPY_MODEL_cde289ea9bb64aed99e04e7fc499b781"
      }
     },
     "0d6b391137074d17a3c7e6f51348000a": {
      "model_module": "@jupyter-widgets/controls",
      "model_module_version": "2.0.0",
      "model_name": "ProgressStyleModel",
      "state": {
       "description_width": ""
      }
     },
     "0deca62a5f144f26a3cd4467029c2d2d": {
      "model_module": "@jupyter-widgets/controls",
      "model_module_version": "2.0.0",
      "model_name": "HTMLModel",
      "state": {
       "layout": "IPY_MODEL_2100c0b36b924d61b0cc949d070dbdc5",
       "style": "IPY_MODEL_831d608d35f6414db23855aa115c3021",
       "value": " 0/3 [00:00&lt;?, ?it/s]"
      }
     },
     "0ed0452d03ed472a8ac509ef9bb34774": {
      "model_module": "@jupyter-widgets/controls",
      "model_module_version": "2.0.0",
      "model_name": "HTMLModel",
      "state": {
       "layout": "IPY_MODEL_1b880b846e2648288d0a005c82f33283",
       "style": "IPY_MODEL_1c80edac2cc548e6a265bf419ccc360e",
       "value": " 0/3 [00:00&lt;?, ?it/s]"
      }
     },
     "10a7b830ca38416abe2548f572aabe42": {
      "model_module": "@jupyter-widgets/controls",
      "model_module_version": "2.0.0",
      "model_name": "ProgressStyleModel",
      "state": {
       "description_width": ""
      }
     },
     "1132f480c78f4ef292c99619b1de2f83": {
      "model_module": "@jupyter-widgets/base",
      "model_module_version": "2.0.0",
      "model_name": "LayoutModel",
      "state": {}
     },
     "11ba591c7d494b52913b511dab73aaf5": {
      "model_module": "@jupyter-widgets/controls",
      "model_module_version": "2.0.0",
      "model_name": "FloatProgressModel",
      "state": {
       "bar_style": "danger",
       "layout": "IPY_MODEL_1fd20175308f457c8680f8bb950e53d2",
       "max": 3,
       "style": "IPY_MODEL_54555b45c27b42d0a2eab605d64dda6e"
      }
     },
     "13f45134ee1342439c940ab8e8abdedd": {
      "model_module": "@jupyter-widgets/base",
      "model_module_version": "2.0.0",
      "model_name": "LayoutModel",
      "state": {}
     },
     "15995f6bb8e74e4a89bed6612f6d5036": {
      "model_module": "@jupyter-widgets/base",
      "model_module_version": "2.0.0",
      "model_name": "LayoutModel",
      "state": {}
     },
     "15a3b5c188b6430387a736c04b1fb91b": {
      "model_module": "@jupyter-widgets/base",
      "model_module_version": "2.0.0",
      "model_name": "LayoutModel",
      "state": {}
     },
     "17192f0fcb734d7c943d120d9c512df8": {
      "model_module": "@jupyter-widgets/controls",
      "model_module_version": "2.0.0",
      "model_name": "HTMLModel",
      "state": {
       "layout": "IPY_MODEL_61c487e699524597a3b9e02e05f071e5",
       "style": "IPY_MODEL_5267f5d92d814a88a00da3df2f2b3af8",
       "value": " 0/3 [00:00&lt;?, ?it/s]"
      }
     },
     "1b880b846e2648288d0a005c82f33283": {
      "model_module": "@jupyter-widgets/base",
      "model_module_version": "2.0.0",
      "model_name": "LayoutModel",
      "state": {}
     },
     "1c80edac2cc548e6a265bf419ccc360e": {
      "model_module": "@jupyter-widgets/controls",
      "model_module_version": "2.0.0",
      "model_name": "HTMLStyleModel",
      "state": {
       "description_width": "",
       "font_size": null,
       "text_color": null
      }
     },
     "1f611a5381a143e5b707d76203cb656e": {
      "model_module": "@jupyter-widgets/controls",
      "model_module_version": "2.0.0",
      "model_name": "HBoxModel",
      "state": {
       "children": [
        "IPY_MODEL_0a9f2a04e21f454e8d453b54376e8c62",
        "IPY_MODEL_c8ce3f01bea247a7a374cd75cb797406",
        "IPY_MODEL_0deca62a5f144f26a3cd4467029c2d2d"
       ],
       "layout": "IPY_MODEL_d70d7ce9e68e4c8c92fb977e05552281"
      }
     },
     "1fd20175308f457c8680f8bb950e53d2": {
      "model_module": "@jupyter-widgets/base",
      "model_module_version": "2.0.0",
      "model_name": "LayoutModel",
      "state": {}
     },
     "207599c83fd34285800f52313d0f88cb": {
      "model_module": "@jupyter-widgets/controls",
      "model_module_version": "2.0.0",
      "model_name": "HTMLStyleModel",
      "state": {
       "description_width": "",
       "font_size": null,
       "text_color": null
      }
     },
     "2100c0b36b924d61b0cc949d070dbdc5": {
      "model_module": "@jupyter-widgets/base",
      "model_module_version": "2.0.0",
      "model_name": "LayoutModel",
      "state": {}
     },
     "24f6c087e2ee4b8ba4132cbd1147f5b1": {
      "model_module": "@jupyter-widgets/controls",
      "model_module_version": "2.0.0",
      "model_name": "HTMLModel",
      "state": {
       "layout": "IPY_MODEL_e535ff6e4b5648339e37c1b1f86f8f05",
       "style": "IPY_MODEL_5aad10c4b45c4b46b01b42e8d5835d69",
       "value": " 3/3 [01:02&lt;00:00, 22.29s/it]"
      }
     },
     "25055fe6f1ec4903b4e4ab60c4266c88": {
      "model_module": "@jupyter-widgets/base",
      "model_module_version": "2.0.0",
      "model_name": "LayoutModel",
      "state": {}
     },
     "252c029be25a43d19873eb28433d3112": {
      "model_module": "@jupyter-widgets/controls",
      "model_module_version": "2.0.0",
      "model_name": "HBoxModel",
      "state": {
       "children": [
        "IPY_MODEL_3f7b936040d94f3ebf41cd2f8420ef30",
        "IPY_MODEL_920c63fbb94a4ade8b22568ea9a41767",
        "IPY_MODEL_50536e7603934658892dc768bfe86c62"
       ],
       "layout": "IPY_MODEL_ccf670a7b41e4f058bb018729714617a"
      }
     },
     "255cb7363fe3471ba59f3226d423624f": {
      "model_module": "@jupyter-widgets/base",
      "model_module_version": "2.0.0",
      "model_name": "LayoutModel",
      "state": {}
     },
     "2597c3b0e1244fd5a1f0ffc902c2c280": {
      "model_module": "@jupyter-widgets/base",
      "model_module_version": "2.0.0",
      "model_name": "LayoutModel",
      "state": {}
     },
     "25a0411f7209429db1389c943443eae5": {
      "model_module": "@jupyter-widgets/controls",
      "model_module_version": "2.0.0",
      "model_name": "HBoxModel",
      "state": {
       "children": [
        "IPY_MODEL_6d6991203c64476eb0b58005c96b4edc",
        "IPY_MODEL_e4139eb061834a4ab740ec10a35ae128",
        "IPY_MODEL_8d2d0ac7ac254a5193e7bc9fd94a57ba"
       ],
       "layout": "IPY_MODEL_7071a356fc44416ea2f441139cd32314"
      }
     },
     "269a834b8ee64b30abc00251b38baeed": {
      "model_module": "@jupyter-widgets/controls",
      "model_module_version": "2.0.0",
      "model_name": "FloatProgressModel",
      "state": {
       "bar_style": "danger",
       "layout": "IPY_MODEL_f26022141a4d4d069a9d595fa18fdc1c",
       "max": 3,
       "style": "IPY_MODEL_fc5d3625976244f4adbf6595d5e50318"
      }
     },
     "2a0cb554a35643298cf9128a05387482": {
      "model_module": "@jupyter-widgets/base",
      "model_module_version": "2.0.0",
      "model_name": "LayoutModel",
      "state": {}
     },
     "2a53dc1a58584dd4b9601c6379294fc4": {
      "model_module": "@jupyter-widgets/controls",
      "model_module_version": "2.0.0",
      "model_name": "HTMLStyleModel",
      "state": {
       "description_width": "",
       "font_size": null,
       "text_color": null
      }
     },
     "2c5f1c63df71402da54d02bff0d775ec": {
      "model_module": "@jupyter-widgets/base",
      "model_module_version": "2.0.0",
      "model_name": "LayoutModel",
      "state": {}
     },
     "2c69b2bf4f1b487782cc08876bbca3df": {
      "model_module": "@jupyter-widgets/controls",
      "model_module_version": "2.0.0",
      "model_name": "HTMLStyleModel",
      "state": {
       "description_width": "",
       "font_size": null,
       "text_color": null
      }
     },
     "2c9f86213e3a4be1b9ea17d89c56c011": {
      "model_module": "@jupyter-widgets/controls",
      "model_module_version": "2.0.0",
      "model_name": "HTMLModel",
      "state": {
       "layout": "IPY_MODEL_ce7cf232348647a498c11a5fd2739feb",
       "style": "IPY_MODEL_91689038ad2849ce93586e3354da40b0",
       "value": "100%"
      }
     },
     "2e9a4acf43eb4894a87de4246be9ec27": {
      "model_module": "@jupyter-widgets/base",
      "model_module_version": "2.0.0",
      "model_name": "LayoutModel",
      "state": {}
     },
     "2ea835c3da594f02adfe160a963c49a4": {
      "model_module": "@jupyter-widgets/controls",
      "model_module_version": "2.0.0",
      "model_name": "HTMLStyleModel",
      "state": {
       "description_width": "",
       "font_size": null,
       "text_color": null
      }
     },
     "2f3842ecbddf4afa884c8b422b29d768": {
      "model_module": "@jupyter-widgets/base",
      "model_module_version": "2.0.0",
      "model_name": "LayoutModel",
      "state": {}
     },
     "30c75747049c4b78b26837ff47b14098": {
      "model_module": "@jupyter-widgets/controls",
      "model_module_version": "2.0.0",
      "model_name": "HTMLModel",
      "state": {
       "layout": "IPY_MODEL_31727de2277847338d71e49de8f6cd1a",
       "style": "IPY_MODEL_2ea835c3da594f02adfe160a963c49a4",
       "value": "  0%"
      }
     },
     "31727de2277847338d71e49de8f6cd1a": {
      "model_module": "@jupyter-widgets/base",
      "model_module_version": "2.0.0",
      "model_name": "LayoutModel",
      "state": {}
     },
     "334a5b50302a46dcb0ea699a26935c3d": {
      "model_module": "@jupyter-widgets/controls",
      "model_module_version": "2.0.0",
      "model_name": "HBoxModel",
      "state": {
       "children": [
        "IPY_MODEL_7b4c320f62a1426780325614be372c55",
        "IPY_MODEL_269a834b8ee64b30abc00251b38baeed",
        "IPY_MODEL_b26ac26cfb5549d09e893e6af46b723d"
       ],
       "layout": "IPY_MODEL_3495e2e7d6b14a608daeab5bbb9c8ee2"
      }
     },
     "3495e2e7d6b14a608daeab5bbb9c8ee2": {
      "model_module": "@jupyter-widgets/base",
      "model_module_version": "2.0.0",
      "model_name": "LayoutModel",
      "state": {}
     },
     "35feadd2f1cc4fb58f75c53b257a44cb": {
      "model_module": "@jupyter-widgets/controls",
      "model_module_version": "2.0.0",
      "model_name": "HTMLModel",
      "state": {
       "layout": "IPY_MODEL_cc71a9afce1b4290a3ce10b9c6cdfb09",
       "style": "IPY_MODEL_cc3ed4e78619402797186d7ffa843cfc",
       "value": " 3/3 [01:03&lt;00:00, 22.40s/it]"
      }
     },
     "361bb8a862e546dc81044e9df7dd8e86": {
      "model_module": "@jupyter-widgets/controls",
      "model_module_version": "2.0.0",
      "model_name": "HTMLModel",
      "state": {
       "layout": "IPY_MODEL_e4a8e0eaa3134ed687c6e5f00b43238a",
       "style": "IPY_MODEL_5e7f9eaa71dc417fb3396e10e2cc6db4",
       "value": " 3/3 [00:02&lt;00:00,  1.07s/it]"
      }
     },
     "37e8aa30c33643e1a74836f13a3fa3e1": {
      "model_module": "@jupyter-widgets/controls",
      "model_module_version": "2.0.0",
      "model_name": "HBoxModel",
      "state": {
       "children": [
        "IPY_MODEL_605ec34073ae4d6199639fb034c4d9fe",
        "IPY_MODEL_9ac372aa91d247db9ca33b67d55e8264",
        "IPY_MODEL_c44670038db449ad8d7085252c676bde"
       ],
       "layout": "IPY_MODEL_15995f6bb8e74e4a89bed6612f6d5036"
      }
     },
     "3a331fcaaced45b59b80ba5c58abba8a": {
      "model_module": "@jupyter-widgets/controls",
      "model_module_version": "2.0.0",
      "model_name": "HBoxModel",
      "state": {
       "children": [
        "IPY_MODEL_a7f0b024fe6647669872b005d7185dbc",
        "IPY_MODEL_0d259626612a41419a034ac5ca32b762",
        "IPY_MODEL_8419017bf6834508876cc49baf9f668b"
       ],
       "layout": "IPY_MODEL_a80f6a233bc5476790dd08ed21fc774d"
      }
     },
     "3c647f1949fd4497a746f9866eb21373": {
      "model_module": "@jupyter-widgets/controls",
      "model_module_version": "2.0.0",
      "model_name": "FloatProgressModel",
      "state": {
       "bar_style": "danger",
       "layout": "IPY_MODEL_b7ca62a643bd49b288262fe8beb7f4a9",
       "max": 3,
       "style": "IPY_MODEL_83940a1bd48b4beeaab4bba46800f758"
      }
     },
     "3d88eab885cb4c3eaa4b7c3d0d685a55": {
      "model_module": "@jupyter-widgets/controls",
      "model_module_version": "2.0.0",
      "model_name": "HBoxModel",
      "state": {
       "children": [
        "IPY_MODEL_30c75747049c4b78b26837ff47b14098",
        "IPY_MODEL_07fd99c9b01242fd8f27dc61d86dbbbb",
        "IPY_MODEL_e70ceb907123438da0cbe4e3228d5846"
       ],
       "layout": "IPY_MODEL_1132f480c78f4ef292c99619b1de2f83"
      }
     },
     "3dba68c7e0114b1c9c53e46b8c7a3da5": {
      "model_module": "@jupyter-widgets/base",
      "model_module_version": "2.0.0",
      "model_name": "LayoutModel",
      "state": {}
     },
     "3f7b936040d94f3ebf41cd2f8420ef30": {
      "model_module": "@jupyter-widgets/controls",
      "model_module_version": "2.0.0",
      "model_name": "HTMLModel",
      "state": {
       "layout": "IPY_MODEL_fee454d2285540f0b2a59bbd93d9c53c",
       "style": "IPY_MODEL_048642f756d441be8c0fc10c157ad8da",
       "value": "100%"
      }
     },
     "44195a5a6c644b38a9e2265855bda2a0": {
      "model_module": "@jupyter-widgets/base",
      "model_module_version": "2.0.0",
      "model_name": "LayoutModel",
      "state": {}
     },
     "445734e7ed2846c18cf78776338030f7": {
      "model_module": "@jupyter-widgets/controls",
      "model_module_version": "2.0.0",
      "model_name": "HTMLStyleModel",
      "state": {
       "description_width": "",
       "font_size": null,
       "text_color": null
      }
     },
     "45ddaf66550c4c7ba631ee7fd3616490": {
      "model_module": "@jupyter-widgets/controls",
      "model_module_version": "2.0.0",
      "model_name": "ProgressStyleModel",
      "state": {
       "description_width": ""
      }
     },
     "4709c6f2148440f69a6a30f5d6936efe": {
      "model_module": "@jupyter-widgets/controls",
      "model_module_version": "2.0.0",
      "model_name": "HTMLModel",
      "state": {
       "layout": "IPY_MODEL_5877812415934246a75336acf600e069",
       "style": "IPY_MODEL_de64b1d7d4ea4e5a8a4f121315b57913",
       "value": " 0/3 [00:00&lt;?, ?it/s]"
      }
     },
     "4789e8c8c2164aad903da38ab93ab44b": {
      "model_module": "@jupyter-widgets/controls",
      "model_module_version": "2.0.0",
      "model_name": "ProgressStyleModel",
      "state": {
       "description_width": ""
      }
     },
     "49c138c4e44a4510b5c78dfafdcb23bb": {
      "model_module": "@jupyter-widgets/base",
      "model_module_version": "2.0.0",
      "model_name": "LayoutModel",
      "state": {}
     },
     "49db89cc9d3e46268b3097ac4f092101": {
      "model_module": "@jupyter-widgets/controls",
      "model_module_version": "2.0.0",
      "model_name": "HTMLStyleModel",
      "state": {
       "description_width": "",
       "font_size": null,
       "text_color": null
      }
     },
     "49ea58e39efd4c5b98c85479e473f234": {
      "model_module": "@jupyter-widgets/controls",
      "model_module_version": "2.0.0",
      "model_name": "HTMLModel",
      "state": {
       "layout": "IPY_MODEL_85f578f17287440589f376506501be31",
       "style": "IPY_MODEL_574233f557714345b19d4435e087c9ce",
       "value": " 3/3 [01:04&lt;00:00, 22.66s/it]"
      }
     },
     "4af6ea1ff843461e91febcb911a1c6b9": {
      "model_module": "@jupyter-widgets/base",
      "model_module_version": "2.0.0",
      "model_name": "LayoutModel",
      "state": {}
     },
     "4bafc0d8133241ccb74da9952b814ac4": {
      "model_module": "@jupyter-widgets/controls",
      "model_module_version": "2.0.0",
      "model_name": "HBoxModel",
      "state": {
       "children": [
        "IPY_MODEL_c70d836833c04f529e83b8aab569fa16",
        "IPY_MODEL_6629c17a966b4bbfb285445ce082541e",
        "IPY_MODEL_e528aa3c45e54d0fa18757a41792167b"
       ],
       "layout": "IPY_MODEL_f4b112a2f97c4fa6a311f21356f6de89"
      }
     },
     "4d009c3582ff47a3b904acc4ce7246e7": {
      "model_module": "@jupyter-widgets/controls",
      "model_module_version": "2.0.0",
      "model_name": "HBoxModel",
      "state": {
       "children": [
        "IPY_MODEL_6b41510336714b08b0649e0e4c95b9f1",
        "IPY_MODEL_afe873269c8a48d3859e41c45d7f9706",
        "IPY_MODEL_35feadd2f1cc4fb58f75c53b257a44cb"
       ],
       "layout": "IPY_MODEL_49c138c4e44a4510b5c78dfafdcb23bb"
      }
     },
     "4d96d116b1f74fa89d3b7589dd9cc0c6": {
      "model_module": "@jupyter-widgets/base",
      "model_module_version": "2.0.0",
      "model_name": "LayoutModel",
      "state": {}
     },
     "4f1d2e4e4acd4a448f8f03214dd47946": {
      "model_module": "@jupyter-widgets/controls",
      "model_module_version": "2.0.0",
      "model_name": "ProgressStyleModel",
      "state": {
       "description_width": ""
      }
     },
     "50536e7603934658892dc768bfe86c62": {
      "model_module": "@jupyter-widgets/controls",
      "model_module_version": "2.0.0",
      "model_name": "HTMLModel",
      "state": {
       "layout": "IPY_MODEL_2f3842ecbddf4afa884c8b422b29d768",
       "style": "IPY_MODEL_2c69b2bf4f1b487782cc08876bbca3df",
       "value": " 3/3 [01:06&lt;00:00, 23.43s/it]"
      }
     },
     "507d382180f746ff99c393ef977c9468": {
      "model_module": "@jupyter-widgets/controls",
      "model_module_version": "2.0.0",
      "model_name": "ProgressStyleModel",
      "state": {
       "description_width": ""
      }
     },
     "5267f5d92d814a88a00da3df2f2b3af8": {
      "model_module": "@jupyter-widgets/controls",
      "model_module_version": "2.0.0",
      "model_name": "HTMLStyleModel",
      "state": {
       "description_width": "",
       "font_size": null,
       "text_color": null
      }
     },
     "5342fe5eacfe43e7a4ce7729b9ca012f": {
      "model_module": "@jupyter-widgets/controls",
      "model_module_version": "2.0.0",
      "model_name": "ProgressStyleModel",
      "state": {
       "description_width": ""
      }
     },
     "54555b45c27b42d0a2eab605d64dda6e": {
      "model_module": "@jupyter-widgets/controls",
      "model_module_version": "2.0.0",
      "model_name": "ProgressStyleModel",
      "state": {
       "description_width": ""
      }
     },
     "55d750f173594f2a937bd2f4d6eabd98": {
      "model_module": "@jupyter-widgets/base",
      "model_module_version": "2.0.0",
      "model_name": "LayoutModel",
      "state": {}
     },
     "574233f557714345b19d4435e087c9ce": {
      "model_module": "@jupyter-widgets/controls",
      "model_module_version": "2.0.0",
      "model_name": "HTMLStyleModel",
      "state": {
       "description_width": "",
       "font_size": null,
       "text_color": null
      }
     },
     "580d3eaeea5943e09209a06cb23fb356": {
      "model_module": "@jupyter-widgets/base",
      "model_module_version": "2.0.0",
      "model_name": "LayoutModel",
      "state": {}
     },
     "5877812415934246a75336acf600e069": {
      "model_module": "@jupyter-widgets/base",
      "model_module_version": "2.0.0",
      "model_name": "LayoutModel",
      "state": {}
     },
     "58cc0022c8d9491bbdb9fc8df3c0f11e": {
      "model_module": "@jupyter-widgets/base",
      "model_module_version": "2.0.0",
      "model_name": "LayoutModel",
      "state": {}
     },
     "5aad10c4b45c4b46b01b42e8d5835d69": {
      "model_module": "@jupyter-widgets/controls",
      "model_module_version": "2.0.0",
      "model_name": "HTMLStyleModel",
      "state": {
       "description_width": "",
       "font_size": null,
       "text_color": null
      }
     },
     "5e7f9eaa71dc417fb3396e10e2cc6db4": {
      "model_module": "@jupyter-widgets/controls",
      "model_module_version": "2.0.0",
      "model_name": "HTMLStyleModel",
      "state": {
       "description_width": "",
       "font_size": null,
       "text_color": null
      }
     },
     "5eaa349bf22c4d75a11e4a1731cc38d2": {
      "model_module": "@jupyter-widgets/controls",
      "model_module_version": "2.0.0",
      "model_name": "HTMLModel",
      "state": {
       "layout": "IPY_MODEL_ce3fd01303cf433ea7a9f1b363ce42e9",
       "style": "IPY_MODEL_6a9df2dd1f3043f6b633f493c63f1667",
       "value": "  0%"
      }
     },
     "600911f665f34b108ec8708c0854830a": {
      "model_module": "@jupyter-widgets/controls",
      "model_module_version": "2.0.0",
      "model_name": "FloatProgressModel",
      "state": {
       "bar_style": "danger",
       "layout": "IPY_MODEL_cb3caa21d76c4d46bc7beea90a2830e0",
       "max": 3,
       "style": "IPY_MODEL_99b39b8d5e75494fa28bf8efce13257a",
       "value": 2
      }
     },
     "605ec34073ae4d6199639fb034c4d9fe": {
      "model_module": "@jupyter-widgets/controls",
      "model_module_version": "2.0.0",
      "model_name": "HTMLModel",
      "state": {
       "layout": "IPY_MODEL_255cb7363fe3471ba59f3226d423624f",
       "style": "IPY_MODEL_207599c83fd34285800f52313d0f88cb",
       "value": "100%"
      }
     },
     "61c487e699524597a3b9e02e05f071e5": {
      "model_module": "@jupyter-widgets/base",
      "model_module_version": "2.0.0",
      "model_name": "LayoutModel",
      "state": {}
     },
     "62033f0c6161439385248a0d017cbb80": {
      "model_module": "@jupyter-widgets/controls",
      "model_module_version": "2.0.0",
      "model_name": "ProgressStyleModel",
      "state": {
       "description_width": ""
      }
     },
     "633c482df71046cbadb27f22240c4c39": {
      "model_module": "@jupyter-widgets/controls",
      "model_module_version": "2.0.0",
      "model_name": "HTMLStyleModel",
      "state": {
       "description_width": "",
       "font_size": null,
       "text_color": null
      }
     },
     "6386c7e6a8ea45d582343fc428fd1cfa": {
      "model_module": "@jupyter-widgets/controls",
      "model_module_version": "2.0.0",
      "model_name": "HTMLStyleModel",
      "state": {
       "description_width": "",
       "font_size": null,
       "text_color": null
      }
     },
     "66125ee6fb4a499ead4a9ff28dc9823b": {
      "model_module": "@jupyter-widgets/base",
      "model_module_version": "2.0.0",
      "model_name": "LayoutModel",
      "state": {}
     },
     "6629c17a966b4bbfb285445ce082541e": {
      "model_module": "@jupyter-widgets/controls",
      "model_module_version": "2.0.0",
      "model_name": "FloatProgressModel",
      "state": {
       "bar_style": "success",
       "layout": "IPY_MODEL_f3330094142241cbbc2446b4bf76ff86",
       "max": 3,
       "style": "IPY_MODEL_4789e8c8c2164aad903da38ab93ab44b",
       "value": 3
      }
     },
     "6a9df2dd1f3043f6b633f493c63f1667": {
      "model_module": "@jupyter-widgets/controls",
      "model_module_version": "2.0.0",
      "model_name": "HTMLStyleModel",
      "state": {
       "description_width": "",
       "font_size": null,
       "text_color": null
      }
     },
     "6a9ee3bb58df485da64dcbd584ccf223": {
      "model_module": "@jupyter-widgets/controls",
      "model_module_version": "2.0.0",
      "model_name": "HTMLStyleModel",
      "state": {
       "description_width": "",
       "font_size": null,
       "text_color": null
      }
     },
     "6b41510336714b08b0649e0e4c95b9f1": {
      "model_module": "@jupyter-widgets/controls",
      "model_module_version": "2.0.0",
      "model_name": "HTMLModel",
      "state": {
       "layout": "IPY_MODEL_8aab9f8ea0b0497889362c93ff0446c3",
       "style": "IPY_MODEL_dde2e47753b243a69ae30d402d824e3e",
       "value": "100%"
      }
     },
     "6b4a3c2934d14e85b5fec7074178046c": {
      "model_module": "@jupyter-widgets/base",
      "model_module_version": "2.0.0",
      "model_name": "LayoutModel",
      "state": {}
     },
     "6d6991203c64476eb0b58005c96b4edc": {
      "model_module": "@jupyter-widgets/controls",
      "model_module_version": "2.0.0",
      "model_name": "HTMLModel",
      "state": {
       "layout": "IPY_MODEL_a05caf25fa1645038b2b2c0c7025352b",
       "style": "IPY_MODEL_f6d75186ac004969a04ad37cb37e778d",
       "value": "  0%"
      }
     },
     "6ddf128e7070420882c930bcfe7b98ab": {
      "model_module": "@jupyter-widgets/controls",
      "model_module_version": "2.0.0",
      "model_name": "HBoxModel",
      "state": {
       "children": [
        "IPY_MODEL_0667dfeeba0743c095f39ab5274ee90c",
        "IPY_MODEL_0447b89c2f434a4fa7caa6deb0fa9f0a",
        "IPY_MODEL_b478e5d18aa944eaaad198920239606d"
       ],
       "layout": "IPY_MODEL_13f45134ee1342439c940ab8e8abdedd"
      }
     },
     "6e46a2f2da8844c4bd06ac8fd76686e3": {
      "model_module": "@jupyter-widgets/controls",
      "model_module_version": "2.0.0",
      "model_name": "HBoxModel",
      "state": {
       "children": [
        "IPY_MODEL_c98122fb94714e1090dca004cbd50ac1",
        "IPY_MODEL_3c647f1949fd4497a746f9866eb21373",
        "IPY_MODEL_0ed0452d03ed472a8ac509ef9bb34774"
       ],
       "layout": "IPY_MODEL_cddaa9f2e94241a9a88d9c27bf30b1de"
      }
     },
     "6f00271771654b00862bdebe8ab753a3": {
      "model_module": "@jupyter-widgets/controls",
      "model_module_version": "2.0.0",
      "model_name": "HTMLStyleModel",
      "state": {
       "description_width": "",
       "font_size": null,
       "text_color": null
      }
     },
     "7071a356fc44416ea2f441139cd32314": {
      "model_module": "@jupyter-widgets/base",
      "model_module_version": "2.0.0",
      "model_name": "LayoutModel",
      "state": {}
     },
     "70fe45979cc24a61986bc6f36d43d7d6": {
      "model_module": "@jupyter-widgets/controls",
      "model_module_version": "2.0.0",
      "model_name": "HTMLModel",
      "state": {
       "layout": "IPY_MODEL_25055fe6f1ec4903b4e4ab60c4266c88",
       "style": "IPY_MODEL_ac2fbc56d3f44a7bb800034be637371b",
       "value": " 67%"
      }
     },
     "7457f2b8eef44a3b93f18b61dd6f2d96": {
      "model_module": "@jupyter-widgets/base",
      "model_module_version": "2.0.0",
      "model_name": "LayoutModel",
      "state": {}
     },
     "74e945a402284dc8a2281002cc66cb59": {
      "model_module": "@jupyter-widgets/base",
      "model_module_version": "2.0.0",
      "model_name": "LayoutModel",
      "state": {}
     },
     "7b4c320f62a1426780325614be372c55": {
      "model_module": "@jupyter-widgets/controls",
      "model_module_version": "2.0.0",
      "model_name": "HTMLModel",
      "state": {
       "layout": "IPY_MODEL_55d750f173594f2a937bd2f4d6eabd98",
       "style": "IPY_MODEL_0555d1bf783344fe9fb963d70890d497",
       "value": "  0%"
      }
     },
     "7e2ffe16c6f54c9ca49e6b58dce2e5c9": {
      "model_module": "@jupyter-widgets/base",
      "model_module_version": "2.0.0",
      "model_name": "LayoutModel",
      "state": {}
     },
     "7f9119e3bfb94d5f8a492aba2ec80e24": {
      "model_module": "@jupyter-widgets/controls",
      "model_module_version": "2.0.0",
      "model_name": "ProgressStyleModel",
      "state": {
       "description_width": ""
      }
     },
     "831d608d35f6414db23855aa115c3021": {
      "model_module": "@jupyter-widgets/controls",
      "model_module_version": "2.0.0",
      "model_name": "HTMLStyleModel",
      "state": {
       "description_width": "",
       "font_size": null,
       "text_color": null
      }
     },
     "83940a1bd48b4beeaab4bba46800f758": {
      "model_module": "@jupyter-widgets/controls",
      "model_module_version": "2.0.0",
      "model_name": "ProgressStyleModel",
      "state": {
       "description_width": ""
      }
     },
     "8419017bf6834508876cc49baf9f668b": {
      "model_module": "@jupyter-widgets/controls",
      "model_module_version": "2.0.0",
      "model_name": "HTMLModel",
      "state": {
       "layout": "IPY_MODEL_d32bd6a94aab46cb909ccef434741396",
       "style": "IPY_MODEL_9b6b7d1b410644dca8f06963fbec110c",
       "value": " 0/3 [00:00&lt;?, ?it/s]"
      }
     },
     "84dbb77ac6064406bf487d28b109fb40": {
      "model_module": "@jupyter-widgets/base",
      "model_module_version": "2.0.0",
      "model_name": "LayoutModel",
      "state": {}
     },
     "852f69a2c5334a93a43722255d3bd498": {
      "model_module": "@jupyter-widgets/controls",
      "model_module_version": "2.0.0",
      "model_name": "HTMLModel",
      "state": {
       "layout": "IPY_MODEL_c7ce04c321cf48679f2b6ac67677fc1b",
       "style": "IPY_MODEL_6386c7e6a8ea45d582343fc428fd1cfa",
       "value": "100%"
      }
     },
     "85f578f17287440589f376506501be31": {
      "model_module": "@jupyter-widgets/base",
      "model_module_version": "2.0.0",
      "model_name": "LayoutModel",
      "state": {}
     },
     "8aab9f8ea0b0497889362c93ff0446c3": {
      "model_module": "@jupyter-widgets/base",
      "model_module_version": "2.0.0",
      "model_name": "LayoutModel",
      "state": {}
     },
     "8b563638c51d4023a30f4384c8fb483b": {
      "model_module": "@jupyter-widgets/controls",
      "model_module_version": "2.0.0",
      "model_name": "ProgressStyleModel",
      "state": {
       "description_width": ""
      }
     },
     "8d2d0ac7ac254a5193e7bc9fd94a57ba": {
      "model_module": "@jupyter-widgets/controls",
      "model_module_version": "2.0.0",
      "model_name": "HTMLModel",
      "state": {
       "layout": "IPY_MODEL_7457f2b8eef44a3b93f18b61dd6f2d96",
       "style": "IPY_MODEL_fa3caab52bf14d1187bcf13bfa0774f6",
       "value": " 0/3 [00:00&lt;?, ?it/s]"
      }
     },
     "8e6cf56409e64d1781a2eaa16e8f1654": {
      "model_module": "@jupyter-widgets/base",
      "model_module_version": "2.0.0",
      "model_name": "LayoutModel",
      "state": {}
     },
     "90f3b4616ca04299923fac4c3536c053": {
      "model_module": "@jupyter-widgets/controls",
      "model_module_version": "2.0.0",
      "model_name": "HTMLStyleModel",
      "state": {
       "description_width": "",
       "font_size": null,
       "text_color": null
      }
     },
     "91689038ad2849ce93586e3354da40b0": {
      "model_module": "@jupyter-widgets/controls",
      "model_module_version": "2.0.0",
      "model_name": "HTMLStyleModel",
      "state": {
       "description_width": "",
       "font_size": null,
       "text_color": null
      }
     },
     "920c63fbb94a4ade8b22568ea9a41767": {
      "model_module": "@jupyter-widgets/controls",
      "model_module_version": "2.0.0",
      "model_name": "FloatProgressModel",
      "state": {
       "bar_style": "success",
       "layout": "IPY_MODEL_4d96d116b1f74fa89d3b7589dd9cc0c6",
       "max": 3,
       "style": "IPY_MODEL_b86dcdbb701c4a1283cceceaec75eeae",
       "value": 3
      }
     },
     "92c8979bc535450892d50466ba10040d": {
      "model_module": "@jupyter-widgets/controls",
      "model_module_version": "2.0.0",
      "model_name": "HTMLModel",
      "state": {
       "layout": "IPY_MODEL_f4e3d8337d1e41ab87a93ba5e76b48f3",
       "style": "IPY_MODEL_633c482df71046cbadb27f22240c4c39",
       "value": " 3/3 [01:03&lt;00:00, 22.61s/it]"
      }
     },
     "92fd67fdb700418d8383edb36fa40220": {
      "model_module": "@jupyter-widgets/base",
      "model_module_version": "2.0.0",
      "model_name": "LayoutModel",
      "state": {}
     },
     "9425f1a5d05a45dfb2be97843bdfdaca": {
      "model_module": "@jupyter-widgets/base",
      "model_module_version": "2.0.0",
      "model_name": "LayoutModel",
      "state": {}
     },
     "976e5488ff24472a9cc0e8745342ddda": {
      "model_module": "@jupyter-widgets/controls",
      "model_module_version": "2.0.0",
      "model_name": "FloatProgressModel",
      "state": {
       "bar_style": "success",
       "layout": "IPY_MODEL_15a3b5c188b6430387a736c04b1fb91b",
       "max": 3,
       "style": "IPY_MODEL_45ddaf66550c4c7ba631ee7fd3616490",
       "value": 3
      }
     },
     "97b5576499104ebea313317e887e2c5d": {
      "model_module": "@jupyter-widgets/base",
      "model_module_version": "2.0.0",
      "model_name": "LayoutModel",
      "state": {}
     },
     "99b39b8d5e75494fa28bf8efce13257a": {
      "model_module": "@jupyter-widgets/controls",
      "model_module_version": "2.0.0",
      "model_name": "ProgressStyleModel",
      "state": {
       "description_width": ""
      }
     },
     "9ac372aa91d247db9ca33b67d55e8264": {
      "model_module": "@jupyter-widgets/controls",
      "model_module_version": "2.0.0",
      "model_name": "FloatProgressModel",
      "state": {
       "bar_style": "success",
       "layout": "IPY_MODEL_2c5f1c63df71402da54d02bff0d775ec",
       "max": 3,
       "style": "IPY_MODEL_0d6b391137074d17a3c7e6f51348000a",
       "value": 3
      }
     },
     "9b6b7d1b410644dca8f06963fbec110c": {
      "model_module": "@jupyter-widgets/controls",
      "model_module_version": "2.0.0",
      "model_name": "HTMLStyleModel",
      "state": {
       "description_width": "",
       "font_size": null,
       "text_color": null
      }
     },
     "9d15594de19f43f396ad6576b9f12e8d": {
      "model_module": "@jupyter-widgets/controls",
      "model_module_version": "2.0.0",
      "model_name": "HTMLStyleModel",
      "state": {
       "description_width": "",
       "font_size": null,
       "text_color": null
      }
     },
     "9d5615b1295c4a5a8bd5b1f3bb1c90e3": {
      "model_module": "@jupyter-widgets/base",
      "model_module_version": "2.0.0",
      "model_name": "LayoutModel",
      "state": {}
     },
     "a05caf25fa1645038b2b2c0c7025352b": {
      "model_module": "@jupyter-widgets/base",
      "model_module_version": "2.0.0",
      "model_name": "LayoutModel",
      "state": {}
     },
     "a15bce8ccb7142fab87c20e2067a2e22": {
      "model_module": "@jupyter-widgets/base",
      "model_module_version": "2.0.0",
      "model_name": "LayoutModel",
      "state": {}
     },
     "a7f0b024fe6647669872b005d7185dbc": {
      "model_module": "@jupyter-widgets/controls",
      "model_module_version": "2.0.0",
      "model_name": "HTMLModel",
      "state": {
       "layout": "IPY_MODEL_fb9a63d83ca74cf2ac9229540a888bb7",
       "style": "IPY_MODEL_6f00271771654b00862bdebe8ab753a3",
       "value": "  0%"
      }
     },
     "a80f6a233bc5476790dd08ed21fc774d": {
      "model_module": "@jupyter-widgets/base",
      "model_module_version": "2.0.0",
      "model_name": "LayoutModel",
      "state": {}
     },
     "a8374e603bed46159c4a807ab8b7c230": {
      "model_module": "@jupyter-widgets/controls",
      "model_module_version": "2.0.0",
      "model_name": "HTMLStyleModel",
      "state": {
       "description_width": "",
       "font_size": null,
       "text_color": null
      }
     },
     "aa207359bdf641fb9bdf9b2662501237": {
      "model_module": "@jupyter-widgets/base",
      "model_module_version": "2.0.0",
      "model_name": "LayoutModel",
      "state": {}
     },
     "ac2fbc56d3f44a7bb800034be637371b": {
      "model_module": "@jupyter-widgets/controls",
      "model_module_version": "2.0.0",
      "model_name": "HTMLStyleModel",
      "state": {
       "description_width": "",
       "font_size": null,
       "text_color": null
      }
     },
     "ae6b3ffc0094483497bb7a4ae3987892": {
      "model_module": "@jupyter-widgets/controls",
      "model_module_version": "2.0.0",
      "model_name": "HTMLStyleModel",
      "state": {
       "description_width": "",
       "font_size": null,
       "text_color": null
      }
     },
     "aeeabff2a2fa49c9ad85c47bc5de427e": {
      "model_module": "@jupyter-widgets/base",
      "model_module_version": "2.0.0",
      "model_name": "LayoutModel",
      "state": {}
     },
     "afe873269c8a48d3859e41c45d7f9706": {
      "model_module": "@jupyter-widgets/controls",
      "model_module_version": "2.0.0",
      "model_name": "FloatProgressModel",
      "state": {
       "bar_style": "success",
       "layout": "IPY_MODEL_92fd67fdb700418d8383edb36fa40220",
       "max": 3,
       "style": "IPY_MODEL_0ce63a36ddde4aaaa0d5b686a77b148e",
       "value": 3
      }
     },
     "b01c8a83dbda45649531ca11b5313ca6": {
      "model_module": "@jupyter-widgets/controls",
      "model_module_version": "2.0.0",
      "model_name": "HBoxModel",
      "state": {
       "children": [
        "IPY_MODEL_70fe45979cc24a61986bc6f36d43d7d6",
        "IPY_MODEL_600911f665f34b108ec8708c0854830a",
        "IPY_MODEL_c9a9402bae4040cfa11b34a1d9932185"
       ],
       "layout": "IPY_MODEL_58cc0022c8d9491bbdb9fc8df3c0f11e"
      }
     },
     "b26ac26cfb5549d09e893e6af46b723d": {
      "model_module": "@jupyter-widgets/controls",
      "model_module_version": "2.0.0",
      "model_name": "HTMLModel",
      "state": {
       "layout": "IPY_MODEL_c676f5507f814582b2dd5e22d89f6596",
       "style": "IPY_MODEL_d0ea85faf56f40a890f3b30b24d7942b",
       "value": " 0/3 [00:00&lt;?, ?it/s]"
      }
     },
     "b478e5d18aa944eaaad198920239606d": {
      "model_module": "@jupyter-widgets/controls",
      "model_module_version": "2.0.0",
      "model_name": "HTMLModel",
      "state": {
       "layout": "IPY_MODEL_dc3e552204764135a656774b9e5f4d44",
       "style": "IPY_MODEL_2a53dc1a58584dd4b9601c6379294fc4",
       "value": " 3/3 [01:03&lt;00:00, 22.62s/it]"
      }
     },
     "b548f8a30c4f4e3bb900632f24039ef6": {
      "model_module": "@jupyter-widgets/controls",
      "model_module_version": "2.0.0",
      "model_name": "HBoxModel",
      "state": {
       "children": [
        "IPY_MODEL_f455f84dd0e04014ac6e3bf5607ada4a",
        "IPY_MODEL_11ba591c7d494b52913b511dab73aaf5",
        "IPY_MODEL_17192f0fcb734d7c943d120d9c512df8"
       ],
       "layout": "IPY_MODEL_74e945a402284dc8a2281002cc66cb59"
      }
     },
     "b776586501514ec892bc1b9a19d925b3": {
      "model_module": "@jupyter-widgets/controls",
      "model_module_version": "2.0.0",
      "model_name": "HBoxModel",
      "state": {
       "children": [
        "IPY_MODEL_2c9f86213e3a4be1b9ea17d89c56c011",
        "IPY_MODEL_f4585a8aa16b4d168d33b71d85f04a63",
        "IPY_MODEL_24f6c087e2ee4b8ba4132cbd1147f5b1"
       ],
       "layout": "IPY_MODEL_97b5576499104ebea313317e887e2c5d"
      }
     },
     "b7ca62a643bd49b288262fe8beb7f4a9": {
      "model_module": "@jupyter-widgets/base",
      "model_module_version": "2.0.0",
      "model_name": "LayoutModel",
      "state": {}
     },
     "b86dcdbb701c4a1283cceceaec75eeae": {
      "model_module": "@jupyter-widgets/controls",
      "model_module_version": "2.0.0",
      "model_name": "ProgressStyleModel",
      "state": {
       "description_width": ""
      }
     },
     "bfa4f48ef2c944b4a1a97d069e8c1d2d": {
      "model_module": "@jupyter-widgets/controls",
      "model_module_version": "2.0.0",
      "model_name": "HBoxModel",
      "state": {
       "children": [
        "IPY_MODEL_067d3c07d67d4953a024a1cf5d92d5d2",
        "IPY_MODEL_976e5488ff24472a9cc0e8745342ddda",
        "IPY_MODEL_92c8979bc535450892d50466ba10040d"
       ],
       "layout": "IPY_MODEL_9425f1a5d05a45dfb2be97843bdfdaca"
      }
     },
     "c19e41389b864ba5a56fdbcaa797154d": {
      "model_module": "@jupyter-widgets/controls",
      "model_module_version": "2.0.0",
      "model_name": "FloatProgressModel",
      "state": {
       "bar_style": "success",
       "layout": "IPY_MODEL_84dbb77ac6064406bf487d28b109fb40",
       "max": 3,
       "style": "IPY_MODEL_fcaf9b7121884a4ea7a6f7112f906a67",
       "value": 3
      }
     },
     "c3b8d3e435d24c5984bf6a812a3a504f": {
      "model_module": "@jupyter-widgets/controls",
      "model_module_version": "2.0.0",
      "model_name": "HBoxModel",
      "state": {
       "children": [
        "IPY_MODEL_d87147ef2864470ca96e473ea1538925",
        "IPY_MODEL_fa78ef22d13b45729197816867bafff0",
        "IPY_MODEL_361bb8a862e546dc81044e9df7dd8e86"
       ],
       "layout": "IPY_MODEL_c71614f8687248e3b1db448df2e040a2"
      }
     },
     "c44670038db449ad8d7085252c676bde": {
      "model_module": "@jupyter-widgets/controls",
      "model_module_version": "2.0.0",
      "model_name": "HTMLModel",
      "state": {
       "layout": "IPY_MODEL_f19194da01054a1fb4e57951c08d8dea",
       "style": "IPY_MODEL_0373d14fd523400e8f9e12955b6353a9",
       "value": " 3/3 [01:03&lt;00:00, 22.35s/it]"
      }
     },
     "c4ae16b0581f4919929b120c0d32b26c": {
      "model_module": "@jupyter-widgets/controls",
      "model_module_version": "2.0.0",
      "model_name": "HTMLStyleModel",
      "state": {
       "description_width": "",
       "font_size": null,
       "text_color": null
      }
     },
     "c604113d07a740289af792122093a0cd": {
      "model_module": "@jupyter-widgets/base",
      "model_module_version": "2.0.0",
      "model_name": "LayoutModel",
      "state": {}
     },
     "c676f5507f814582b2dd5e22d89f6596": {
      "model_module": "@jupyter-widgets/base",
      "model_module_version": "2.0.0",
      "model_name": "LayoutModel",
      "state": {}
     },
     "c6ebc697022e4109984bb3d25e562886": {
      "model_module": "@jupyter-widgets/base",
      "model_module_version": "2.0.0",
      "model_name": "LayoutModel",
      "state": {}
     },
     "c70d836833c04f529e83b8aab569fa16": {
      "model_module": "@jupyter-widgets/controls",
      "model_module_version": "2.0.0",
      "model_name": "HTMLModel",
      "state": {
       "layout": "IPY_MODEL_66125ee6fb4a499ead4a9ff28dc9823b",
       "style": "IPY_MODEL_a8374e603bed46159c4a807ab8b7c230",
       "value": "100%"
      }
     },
     "c71614f8687248e3b1db448df2e040a2": {
      "model_module": "@jupyter-widgets/base",
      "model_module_version": "2.0.0",
      "model_name": "LayoutModel",
      "state": {}
     },
     "c7ce04c321cf48679f2b6ac67677fc1b": {
      "model_module": "@jupyter-widgets/base",
      "model_module_version": "2.0.0",
      "model_name": "LayoutModel",
      "state": {}
     },
     "c8ce3f01bea247a7a374cd75cb797406": {
      "model_module": "@jupyter-widgets/controls",
      "model_module_version": "2.0.0",
      "model_name": "FloatProgressModel",
      "state": {
       "bar_style": "danger",
       "layout": "IPY_MODEL_2a0cb554a35643298cf9128a05387482",
       "max": 3,
       "style": "IPY_MODEL_5342fe5eacfe43e7a4ce7729b9ca012f"
      }
     },
     "c98122fb94714e1090dca004cbd50ac1": {
      "model_module": "@jupyter-widgets/controls",
      "model_module_version": "2.0.0",
      "model_name": "HTMLModel",
      "state": {
       "layout": "IPY_MODEL_ef5e5928f6d543ef8cdaaa0daeb0d9fc",
       "style": "IPY_MODEL_e1eabe4b90e64709a136064d8e1cd5ec",
       "value": "  0%"
      }
     },
     "c9a9402bae4040cfa11b34a1d9932185": {
      "model_module": "@jupyter-widgets/controls",
      "model_module_version": "2.0.0",
      "model_name": "HTMLModel",
      "state": {
       "layout": "IPY_MODEL_c604113d07a740289af792122093a0cd",
       "style": "IPY_MODEL_49db89cc9d3e46268b3097ac4f092101",
       "value": " 2/3 [00:48&lt;00:23, 23.06s/it]"
      }
     },
     "cb3caa21d76c4d46bc7beea90a2830e0": {
      "model_module": "@jupyter-widgets/base",
      "model_module_version": "2.0.0",
      "model_name": "LayoutModel",
      "state": {}
     },
     "cc3ed4e78619402797186d7ffa843cfc": {
      "model_module": "@jupyter-widgets/controls",
      "model_module_version": "2.0.0",
      "model_name": "HTMLStyleModel",
      "state": {
       "description_width": "",
       "font_size": null,
       "text_color": null
      }
     },
     "cc71a9afce1b4290a3ce10b9c6cdfb09": {
      "model_module": "@jupyter-widgets/base",
      "model_module_version": "2.0.0",
      "model_name": "LayoutModel",
      "state": {}
     },
     "ccf670a7b41e4f058bb018729714617a": {
      "model_module": "@jupyter-widgets/base",
      "model_module_version": "2.0.0",
      "model_name": "LayoutModel",
      "state": {}
     },
     "cddaa9f2e94241a9a88d9c27bf30b1de": {
      "model_module": "@jupyter-widgets/base",
      "model_module_version": "2.0.0",
      "model_name": "LayoutModel",
      "state": {}
     },
     "cde289ea9bb64aed99e04e7fc499b781": {
      "model_module": "@jupyter-widgets/controls",
      "model_module_version": "2.0.0",
      "model_name": "ProgressStyleModel",
      "state": {
       "description_width": ""
      }
     },
     "ce3fd01303cf433ea7a9f1b363ce42e9": {
      "model_module": "@jupyter-widgets/base",
      "model_module_version": "2.0.0",
      "model_name": "LayoutModel",
      "state": {}
     },
     "ce7cf232348647a498c11a5fd2739feb": {
      "model_module": "@jupyter-widgets/base",
      "model_module_version": "2.0.0",
      "model_name": "LayoutModel",
      "state": {}
     },
     "d0ea85faf56f40a890f3b30b24d7942b": {
      "model_module": "@jupyter-widgets/controls",
      "model_module_version": "2.0.0",
      "model_name": "HTMLStyleModel",
      "state": {
       "description_width": "",
       "font_size": null,
       "text_color": null
      }
     },
     "d32bd6a94aab46cb909ccef434741396": {
      "model_module": "@jupyter-widgets/base",
      "model_module_version": "2.0.0",
      "model_name": "LayoutModel",
      "state": {}
     },
     "d709ec456a6d4bbe8e74b460e6f1832c": {
      "model_module": "@jupyter-widgets/base",
      "model_module_version": "2.0.0",
      "model_name": "LayoutModel",
      "state": {}
     },
     "d70d7ce9e68e4c8c92fb977e05552281": {
      "model_module": "@jupyter-widgets/base",
      "model_module_version": "2.0.0",
      "model_name": "LayoutModel",
      "state": {}
     },
     "d87147ef2864470ca96e473ea1538925": {
      "model_module": "@jupyter-widgets/controls",
      "model_module_version": "2.0.0",
      "model_name": "HTMLModel",
      "state": {
       "layout": "IPY_MODEL_44195a5a6c644b38a9e2265855bda2a0",
       "style": "IPY_MODEL_445734e7ed2846c18cf78776338030f7",
       "value": "100%"
      }
     },
     "dc3e552204764135a656774b9e5f4d44": {
      "model_module": "@jupyter-widgets/base",
      "model_module_version": "2.0.0",
      "model_name": "LayoutModel",
      "state": {}
     },
     "dde2e47753b243a69ae30d402d824e3e": {
      "model_module": "@jupyter-widgets/controls",
      "model_module_version": "2.0.0",
      "model_name": "HTMLStyleModel",
      "state": {
       "description_width": "",
       "font_size": null,
       "text_color": null
      }
     },
     "de64b1d7d4ea4e5a8a4f121315b57913": {
      "model_module": "@jupyter-widgets/controls",
      "model_module_version": "2.0.0",
      "model_name": "HTMLStyleModel",
      "state": {
       "description_width": "",
       "font_size": null,
       "text_color": null
      }
     },
     "e0bc45b4466343888236c8a938fdae9e": {
      "model_module": "@jupyter-widgets/controls",
      "model_module_version": "2.0.0",
      "model_name": "HBoxModel",
      "state": {
       "children": [
        "IPY_MODEL_5eaa349bf22c4d75a11e4a1731cc38d2",
        "IPY_MODEL_faeda79c4ffb44c4accb3ff83dcb8b6c",
        "IPY_MODEL_4709c6f2148440f69a6a30f5d6936efe"
       ],
       "layout": "IPY_MODEL_2e9a4acf43eb4894a87de4246be9ec27"
      }
     },
     "e1eabe4b90e64709a136064d8e1cd5ec": {
      "model_module": "@jupyter-widgets/controls",
      "model_module_version": "2.0.0",
      "model_name": "HTMLStyleModel",
      "state": {
       "description_width": "",
       "font_size": null,
       "text_color": null
      }
     },
     "e4139eb061834a4ab740ec10a35ae128": {
      "model_module": "@jupyter-widgets/controls",
      "model_module_version": "2.0.0",
      "model_name": "FloatProgressModel",
      "state": {
       "bar_style": "danger",
       "layout": "IPY_MODEL_c6ebc697022e4109984bb3d25e562886",
       "max": 3,
       "style": "IPY_MODEL_8b563638c51d4023a30f4384c8fb483b"
      }
     },
     "e4a8e0eaa3134ed687c6e5f00b43238a": {
      "model_module": "@jupyter-widgets/base",
      "model_module_version": "2.0.0",
      "model_name": "LayoutModel",
      "state": {}
     },
     "e528aa3c45e54d0fa18757a41792167b": {
      "model_module": "@jupyter-widgets/controls",
      "model_module_version": "2.0.0",
      "model_name": "HTMLModel",
      "state": {
       "layout": "IPY_MODEL_2597c3b0e1244fd5a1f0ffc902c2c280",
       "style": "IPY_MODEL_c4ae16b0581f4919929b120c0d32b26c",
       "value": " 3/3 [01:05&lt;00:00, 23.00s/it]"
      }
     },
     "e535ff6e4b5648339e37c1b1f86f8f05": {
      "model_module": "@jupyter-widgets/base",
      "model_module_version": "2.0.0",
      "model_name": "LayoutModel",
      "state": {}
     },
     "e70ceb907123438da0cbe4e3228d5846": {
      "model_module": "@jupyter-widgets/controls",
      "model_module_version": "2.0.0",
      "model_name": "HTMLModel",
      "state": {
       "layout": "IPY_MODEL_6b4a3c2934d14e85b5fec7074178046c",
       "style": "IPY_MODEL_0827eca5d9aa44d4b983eb1ff02ca2bb",
       "value": " 0/3 [00:00&lt;?, ?it/s]"
      }
     },
     "ef5e5928f6d543ef8cdaaa0daeb0d9fc": {
      "model_module": "@jupyter-widgets/base",
      "model_module_version": "2.0.0",
      "model_name": "LayoutModel",
      "state": {}
     },
     "f19194da01054a1fb4e57951c08d8dea": {
      "model_module": "@jupyter-widgets/base",
      "model_module_version": "2.0.0",
      "model_name": "LayoutModel",
      "state": {}
     },
     "f26022141a4d4d069a9d595fa18fdc1c": {
      "model_module": "@jupyter-widgets/base",
      "model_module_version": "2.0.0",
      "model_name": "LayoutModel",
      "state": {}
     },
     "f3330094142241cbbc2446b4bf76ff86": {
      "model_module": "@jupyter-widgets/base",
      "model_module_version": "2.0.0",
      "model_name": "LayoutModel",
      "state": {}
     },
     "f455f84dd0e04014ac6e3bf5607ada4a": {
      "model_module": "@jupyter-widgets/controls",
      "model_module_version": "2.0.0",
      "model_name": "HTMLModel",
      "state": {
       "layout": "IPY_MODEL_8e6cf56409e64d1781a2eaa16e8f1654",
       "style": "IPY_MODEL_9d15594de19f43f396ad6576b9f12e8d",
       "value": "  0%"
      }
     },
     "f4585a8aa16b4d168d33b71d85f04a63": {
      "model_module": "@jupyter-widgets/controls",
      "model_module_version": "2.0.0",
      "model_name": "FloatProgressModel",
      "state": {
       "bar_style": "success",
       "layout": "IPY_MODEL_7e2ffe16c6f54c9ca49e6b58dce2e5c9",
       "max": 3,
       "style": "IPY_MODEL_62033f0c6161439385248a0d017cbb80",
       "value": 3
      }
     },
     "f4b112a2f97c4fa6a311f21356f6de89": {
      "model_module": "@jupyter-widgets/base",
      "model_module_version": "2.0.0",
      "model_name": "LayoutModel",
      "state": {}
     },
     "f4e3d8337d1e41ab87a93ba5e76b48f3": {
      "model_module": "@jupyter-widgets/base",
      "model_module_version": "2.0.0",
      "model_name": "LayoutModel",
      "state": {}
     },
     "f6d75186ac004969a04ad37cb37e778d": {
      "model_module": "@jupyter-widgets/controls",
      "model_module_version": "2.0.0",
      "model_name": "HTMLStyleModel",
      "state": {
       "description_width": "",
       "font_size": null,
       "text_color": null
      }
     },
     "fa3caab52bf14d1187bcf13bfa0774f6": {
      "model_module": "@jupyter-widgets/controls",
      "model_module_version": "2.0.0",
      "model_name": "HTMLStyleModel",
      "state": {
       "description_width": "",
       "font_size": null,
       "text_color": null
      }
     },
     "fa78ef22d13b45729197816867bafff0": {
      "model_module": "@jupyter-widgets/controls",
      "model_module_version": "2.0.0",
      "model_name": "FloatProgressModel",
      "state": {
       "bar_style": "success",
       "layout": "IPY_MODEL_3dba68c7e0114b1c9c53e46b8c7a3da5",
       "max": 3,
       "style": "IPY_MODEL_4f1d2e4e4acd4a448f8f03214dd47946",
       "value": 3
      }
     },
     "faeda79c4ffb44c4accb3ff83dcb8b6c": {
      "model_module": "@jupyter-widgets/controls",
      "model_module_version": "2.0.0",
      "model_name": "FloatProgressModel",
      "state": {
       "bar_style": "danger",
       "layout": "IPY_MODEL_4af6ea1ff843461e91febcb911a1c6b9",
       "max": 3,
       "style": "IPY_MODEL_10a7b830ca38416abe2548f572aabe42"
      }
     },
     "fb9a63d83ca74cf2ac9229540a888bb7": {
      "model_module": "@jupyter-widgets/base",
      "model_module_version": "2.0.0",
      "model_name": "LayoutModel",
      "state": {}
     },
     "fc5d3625976244f4adbf6595d5e50318": {
      "model_module": "@jupyter-widgets/controls",
      "model_module_version": "2.0.0",
      "model_name": "ProgressStyleModel",
      "state": {
       "description_width": ""
      }
     },
     "fcaf9b7121884a4ea7a6f7112f906a67": {
      "model_module": "@jupyter-widgets/controls",
      "model_module_version": "2.0.0",
      "model_name": "ProgressStyleModel",
      "state": {
       "description_width": ""
      }
     },
     "fee454d2285540f0b2a59bbd93d9c53c": {
      "model_module": "@jupyter-widgets/base",
      "model_module_version": "2.0.0",
      "model_name": "LayoutModel",
      "state": {}
     }
    },
    "version_major": 2,
    "version_minor": 0
   }
  }
 },
 "nbformat": 4,
 "nbformat_minor": 5
}
