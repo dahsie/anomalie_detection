{
 "cells": [
  {
   "cell_type": "code",
   "execution_count": 8,
   "id": "fb14e441-a3cb-4955-8256-ef1264dd58fe",
   "metadata": {},
   "outputs": [],
   "source": [
    "import numpy as np\n",
    "import pandas as pd\n",
    "import matplotlib.pyplot as plt\n",
    "import seaborn as sb\n",
    "\n",
    "from sklearn.metrics import make_scorer, roc_auc_score,confusion_matrix\n",
    "from sklearn.metrics import f1_score,accuracy_score,precision_score,recall_score\n",
    "from sklearn.metrics import precision_recall_curve\n",
    "from sklearn.metrics import PrecisionRecallDisplay\n",
    "from sklearn.metrics import RocCurveDisplay,roc_curve\n",
    "from sklearn import metrics\n",
    "\n",
    "from sklearn.model_selection import train_test_split\n",
    "from sklearn.model_selection import GridSearchCV\n",
    "from sklearn.model_selection import ParameterGrid\n",
    "from sklearn.model_selection import KFold,StratifiedKFold\n",
    "\n",
    "#The model\n",
    "from sklearn.neighbors import LocalOutlierFactor\n",
    "from sklearn.ensemble import IsolationForest\n",
    "\n",
    "\n",
    "#For preprocessing\n",
    "from sklearn.preprocessing import MinMaxScaler,StandardScaler\n",
    "\n",
    "# from tqdm import tqdm\n",
    "from tqdm.notebook import tqdm\n",
    "import warnings \n",
    "warnings.simplefilter(\"ignore\")"
   ]
  },
  {
   "cell_type": "code",
   "execution_count": 9,
   "id": "9e13d178-290d-4329-bc9d-4b5da9e6a86d",
   "metadata": {},
   "outputs": [],
   "source": [
    "class AnomalyDetectionDataLoader:\n",
    "    \n",
    "    def __init__(self, file_path, test_size=0.15, random_state=42):\n",
    "        self.file_path = file_path\n",
    "        self.test_size = test_size\n",
    "        self.random_state = random_state\n",
    "        self.data = None\n",
    "        self.target = None\n",
    "        self.xtrain = None\n",
    "        self.xtest = None\n",
    "        self.ytrain = None\n",
    "        self.ytest = None\n",
    "        self.scaler = MinMaxScaler()\n",
    "\n",
    "    def load_data(self):\n",
    "        # Charger les données depuis le fichier CSV\n",
    "        self.data = pd.read_csv(self.file_path)\n",
    "\n",
    "        # Supprimer les duplicatas en conservant la dernière occurrence\n",
    "        self.data.drop_duplicates(keep=\"last\", inplace=True)\n",
    "\n",
    "        # Extraire la variable cible et les caractéristiques\n",
    "        self.target = self.data[\"Class\"]\n",
    "        self.data = self.data.drop([\"Class\", \"Time\"], axis=1)\n",
    "\n",
    "    def preprocess_data(self):\n",
    "        # Normaliser les caractéristiques avec Min-Max Scaling\n",
    "        data_scaled_array = self.scaler.fit_transform(self.data)\n",
    "        self.data = pd.DataFrame(data_scaled_array, columns=self.data.columns)\n",
    "\n",
    "    def split_data(self):\n",
    "        # Diviser les données en ensembles d'entraînement et de test\n",
    "        self.xtrain, self.xtest, self.ytrain, self.ytest = train_test_split(\n",
    "            self.data, self.target, test_size=self.test_size, random_state=self.random_state, shuffle=True)\n",
    "\n",
    "    def get_train_data(self):\n",
    "        return self.xtrain, self.ytrain\n",
    "\n",
    "    def get_test_data(self):\n",
    "        return self.xtest, self.ytest\n",
    "\n",
    "    def get_scaler(self):\n",
    "        return self.scaler\n",
    "\n"
   ]
  },
  {
   "cell_type": "code",
   "execution_count": 10,
   "id": "f6c0432c-0bc8-4894-9bcd-8efea43de166",
   "metadata": {},
   "outputs": [],
   "source": [
    "def transform_target(target):\n",
    "    \"\"\"Args:\n",
    "        target: np.ndarry or pd.DataFrame\n",
    "    \"\"\"\n",
    "    n=target.shape[0]\n",
    "    if isinstance(target,np.ndarray):\n",
    "        target[target==1]=-1\n",
    "        target[target==0]=1\n",
    "        \n",
    "    elif isinstance(target,pd.DataFrame) or isinstance(target,pd.Series):\n",
    "        target[target==1]=-1\n",
    "        target[target==0]=1\n",
    "    return target\n",
    "\n",
    "\n",
    "def inverse_transform_target(target):\n",
    "    n=target.shape[0]\n",
    "    if isinstance(target,pd.DataFrame) or isinstance(target,pd.Series):\n",
    "        target[target==1]=0\n",
    "        target[target==-1]=1\n",
    "        \n",
    "    elif isinstance(target,np.ndarray): \n",
    "        target[target==1]=0\n",
    "        target[target==-1]=1\n",
    "    return target"
   ]
  },
  {
   "cell_type": "code",
   "execution_count": 11,
   "id": "0e279d77-247e-4c28-a6ce-976673e0cd68",
   "metadata": {},
   "outputs": [],
   "source": [
    "def confusin_matrix_display(ytest,ypred):\n",
    "    metrics.ConfusionMatrixDisplay(confusion_matrix(ytest,ypred)).plot()\n",
    "    plt.title(\"Confusion Matrix\")\n",
    "    plt.show()\n",
    "\n",
    "def precision_recall_display(ytest, ypred):\n",
    "    precision, recall, _ = precision_recall_curve(ytest, ypred)\n",
    "    PrecisionRecallDisplay(precision=precision, recall=recall).plot()\n",
    "    plt.title(\"Precision_Recall_Curve\")\n",
    "    plt.show()\n",
    "\n",
    "def roc_curve_disolay(ytest, ypred):\n",
    "    fpr, tpr, thresholds = metrics.roc_curve(ytest, ypred)\n",
    "    roc_auc = metrics.auc(fpr, tpr)\n",
    "    display = metrics.RocCurveDisplay(fpr=fpr, tpr=tpr, roc_auc=roc_auc)\n",
    "    print(f\"roc_auc {roc_auc}\")\n",
    "    display.plot()\n",
    "    plt.title(\"ROC_Curve\")\n",
    "    plt.show()\n",
    "\n",
    "def scores(ytest,ypred):\n",
    "    df=pd.DataFrame({\"f1_score\" : [f1_score(ytest,ypred)],\n",
    "                     \"accuracy_score\" : [accuracy_score(ytest,ypred)],\n",
    "                     \"precision_score\" : [precision_score(ytest,ypred)],\n",
    "                     \"recall_score\" : [recall_score(ytest,ypred)]\n",
    "    })\n",
    "    print(df)\n",
    "    return df\n",
    " \n",
    "def evaluation(ytrue,ypred):\n",
    "    confusin_matrix_display(ytrue,ypred)\n",
    "    precision_recall_display(ytrue, ypred)\n",
    "    roc_curve_disolay(ytrue, ypred)\n",
    "    scores(ytest,ypred)"
   ]
  },
  {
   "cell_type": "code",
   "execution_count": 17,
   "id": "27e3540c-d06f-4eb8-8396-6268be653586",
   "metadata": {},
   "outputs": [],
   "source": [
    "class CustomGridSearchCV:\n",
    "    \n",
    "    def __init__(self, estimator, param_grid, n_splits=5, random_state=42):\n",
    "        self.estimator = estimator\n",
    "        self.param_grid = param_grid\n",
    "        self.n_splits = n_splits\n",
    "        self.random_state = random_state\n",
    "        self.best_score = 0\n",
    "        self.best_params = None\n",
    "        self.best_estimator = None\n",
    "\n",
    "    def fit(self, X, y):\n",
    "        \n",
    "        \n",
    "        param_grid = ParameterGrid(self.param_grid)\n",
    "        skf=StratifiedKFold(n_splits=self.n_splits, random_state=None, shuffle=False)\n",
    "        \n",
    "        for params in tqdm(param_grid):\n",
    "            \n",
    "            \n",
    "            total_score = 0\n",
    "\n",
    "            # Itérer sur les plis de la validation croisée\n",
    "            for train_index, val_index in tqdm(skf.split(X,y)):\n",
    "                xtrain_fold, xval_fold = X.iloc[train_index], X.iloc[val_index]\n",
    "                ytrain_fold, yval_fold = y.iloc[train_index], y.iloc[val_index]\n",
    "\n",
    "                # Entraîner le modèle\n",
    "                model = self.estimator.set_params(**params)\n",
    "                model.fit(xtrain_fold)\n",
    "\n",
    "                # Faire des prédictions\n",
    "                ypred_val = model.fit_predict(xval_fold)\n",
    "                ypred_val = inverse_transform_target(ypred_val)\n",
    "\n",
    "                current_score = f1_score(ypred_val, yval_fold)\n",
    "\n",
    "                total_score += current_score\n",
    "\n",
    "            avg_score = total_score / self.n_splits\n",
    "\n",
    "            # Afficher les paramètres et le score moyen\n",
    "            print(\"Paramètres:\", params)\n",
    "            print(\"Score moyen (f1_score):\", avg_score)\n",
    "            print(\" \")\n",
    "\n",
    "            if avg_score > self.best_score:\n",
    "                self.best_score = avg_score\n",
    "                self.best_params = params\n",
    "                self.best_estimator=model\n",
    "\n",
    "        # Afficher les meilleurs paramètres\n",
    "        print(\"Meilleurs paramètres :\", self.best_params)\n",
    "        print(\"Meilleur score moyen (f1_score) :\", self.best_score)\n",
    "    def predict(self,xtest):\n",
    "        return self.best_estimator.fit_predict(xtest)"
   ]
  },
  {
   "cell_type": "code",
   "execution_count": 18,
   "id": "76ac4c1a-953b-4412-a5d9-fb61b9d6fd42",
   "metadata": {},
   "outputs": [],
   "source": [
    "# Utilisation de la classe\n",
    "data_loader = AnomalyDetectionDataLoader(file_path=\"/home/dah/anomalie_detection/anomalie_detection/data/creditcard.csv\")\n",
    "data_loader.load_data()\n",
    "data_loader.preprocess_data()\n",
    "data_loader.split_data()\n",
    "\n",
    "xtrain, ytrain = data_loader.get_train_data()\n",
    "xtest, ytest = data_loader.get_test_data()\n",
    "scaler = data_loader.get_scaler()\n"
   ]
  },
  {
   "cell_type": "code",
   "execution_count": 21,
   "id": "21f049a0-e5b5-4b87-bfc5-4bd729d24734",
   "metadata": {},
   "outputs": [
    {
     "data": {
      "application/vnd.jupyter.widget-view+json": {
       "model_id": "152786d156bf43ad994760d33fdc6e72",
       "version_major": 2,
       "version_minor": 0
      },
      "text/plain": [
       "  0%|          | 0/15 [00:00<?, ?it/s]"
      ]
     },
     "metadata": {},
     "output_type": "display_data"
    },
    {
     "data": {
      "application/vnd.jupyter.widget-view+json": {
       "model_id": "dc8fef283495489c992f70bed2cbfc6c",
       "version_major": 2,
       "version_minor": 0
      },
      "text/plain": [
       "0it [00:00, ?it/s]"
      ]
     },
     "metadata": {},
     "output_type": "display_data"
    },
    {
     "name": "stdout",
     "output_type": "stream",
     "text": [
      "Paramètres: {'contamination': 0.008, 'n_neighbors': 100}\n",
      "Score moyen (f1_score): 0.2723768736616702\n",
      " \n"
     ]
    },
    {
     "data": {
      "application/vnd.jupyter.widget-view+json": {
       "model_id": "80eb348299c845c6b98a0a0ab5c43cfa",
       "version_major": 2,
       "version_minor": 0
      },
      "text/plain": [
       "0it [00:00, ?it/s]"
      ]
     },
     "metadata": {},
     "output_type": "display_data"
    },
    {
     "name": "stdout",
     "output_type": "stream",
     "text": [
      "Paramètres: {'contamination': 0.008, 'n_neighbors': 120}\n",
      "Score moyen (f1_score): 0.280085653104925\n",
      " \n"
     ]
    },
    {
     "data": {
      "application/vnd.jupyter.widget-view+json": {
       "model_id": "bba40ea69b624d91a6513c03e2e8c75f",
       "version_major": 2,
       "version_minor": 0
      },
      "text/plain": [
       "0it [00:00, ?it/s]"
      ]
     },
     "metadata": {},
     "output_type": "display_data"
    },
    {
     "name": "stdout",
     "output_type": "stream",
     "text": [
      "Paramètres: {'contamination': 0.008, 'n_neighbors': 150}\n",
      "Score moyen (f1_score): 0.280085653104925\n",
      " \n"
     ]
    },
    {
     "data": {
      "application/vnd.jupyter.widget-view+json": {
       "model_id": "6fdc0126625d4934a530bd8991a8606a",
       "version_major": 2,
       "version_minor": 0
      },
      "text/plain": [
       "0it [00:00, ?it/s]"
      ]
     },
     "metadata": {},
     "output_type": "display_data"
    },
    {
     "name": "stdout",
     "output_type": "stream",
     "text": [
      "Paramètres: {'contamination': 0.009, 'n_neighbors': 100}\n",
      "Score moyen (f1_score): 0.25193798449612403\n",
      " \n"
     ]
    },
    {
     "data": {
      "application/vnd.jupyter.widget-view+json": {
       "model_id": "55a042f6dcef4f3c8a050888b5778e33",
       "version_major": 2,
       "version_minor": 0
      },
      "text/plain": [
       "0it [00:00, ?it/s]"
      ]
     },
     "metadata": {},
     "output_type": "display_data"
    },
    {
     "name": "stdout",
     "output_type": "stream",
     "text": [
      "Paramètres: {'contamination': 0.009, 'n_neighbors': 120}\n",
      "Score moyen (f1_score): 0.25426356589147286\n",
      " \n"
     ]
    },
    {
     "data": {
      "application/vnd.jupyter.widget-view+json": {
       "model_id": "46a73056847b4bae9f87b2569c1e327e",
       "version_major": 2,
       "version_minor": 0
      },
      "text/plain": [
       "0it [00:00, ?it/s]"
      ]
     },
     "metadata": {},
     "output_type": "display_data"
    },
    {
     "name": "stdout",
     "output_type": "stream",
     "text": [
      "Paramètres: {'contamination': 0.009, 'n_neighbors': 150}\n",
      "Score moyen (f1_score): 0.25426356589147286\n",
      " \n"
     ]
    },
    {
     "data": {
      "application/vnd.jupyter.widget-view+json": {
       "model_id": "5e2f6dbaecb9461ba802eefc67cf67fb",
       "version_major": 2,
       "version_minor": 0
      },
      "text/plain": [
       "0it [00:00, ?it/s]"
      ]
     },
     "metadata": {},
     "output_type": "display_data"
    },
    {
     "name": "stdout",
     "output_type": "stream",
     "text": [
      "Paramètres: {'contamination': 0.01, 'n_neighbors': 100}\n",
      "Score moyen (f1_score): 0.23191489361702128\n",
      " \n"
     ]
    },
    {
     "data": {
      "application/vnd.jupyter.widget-view+json": {
       "model_id": "3853a5f0fb504fa2a98d8e5b71ef4dbc",
       "version_major": 2,
       "version_minor": 0
      },
      "text/plain": [
       "0it [00:00, ?it/s]"
      ]
     },
     "metadata": {},
     "output_type": "display_data"
    },
    {
     "name": "stdout",
     "output_type": "stream",
     "text": [
      "Paramètres: {'contamination': 0.01, 'n_neighbors': 120}\n",
      "Score moyen (f1_score): 0.23404255319148937\n",
      " \n"
     ]
    },
    {
     "data": {
      "application/vnd.jupyter.widget-view+json": {
       "model_id": "ba954c1e4877474095ad727a343aa694",
       "version_major": 2,
       "version_minor": 0
      },
      "text/plain": [
       "0it [00:00, ?it/s]"
      ]
     },
     "metadata": {},
     "output_type": "display_data"
    },
    {
     "name": "stdout",
     "output_type": "stream",
     "text": [
      "Paramètres: {'contamination': 0.01, 'n_neighbors': 150}\n",
      "Score moyen (f1_score): 0.2333333333333333\n",
      " \n"
     ]
    },
    {
     "data": {
      "application/vnd.jupyter.widget-view+json": {
       "model_id": "fd0143088881402e8f45796f8a1901fa",
       "version_major": 2,
       "version_minor": 0
      },
      "text/plain": [
       "0it [00:00, ?it/s]"
      ]
     },
     "metadata": {},
     "output_type": "display_data"
    },
    {
     "name": "stdout",
     "output_type": "stream",
     "text": [
      "Paramètres: {'contamination': 0.012, 'n_neighbors': 100}\n",
      "Score moyen (f1_score): 0.20181818181818176\n",
      " \n"
     ]
    },
    {
     "data": {
      "application/vnd.jupyter.widget-view+json": {
       "model_id": "ed898e1573fd46f281ed0c6443bfd8c0",
       "version_major": 2,
       "version_minor": 0
      },
      "text/plain": [
       "0it [00:00, ?it/s]"
      ]
     },
     "metadata": {},
     "output_type": "display_data"
    },
    {
     "name": "stdout",
     "output_type": "stream",
     "text": [
      "Paramètres: {'contamination': 0.012, 'n_neighbors': 120}\n",
      "Score moyen (f1_score): 0.20181818181818176\n",
      " \n"
     ]
    },
    {
     "data": {
      "application/vnd.jupyter.widget-view+json": {
       "model_id": "d799138c30eb49d98ac80acceb87508b",
       "version_major": 2,
       "version_minor": 0
      },
      "text/plain": [
       "0it [00:00, ?it/s]"
      ]
     },
     "metadata": {},
     "output_type": "display_data"
    },
    {
     "name": "stdout",
     "output_type": "stream",
     "text": [
      "Paramètres: {'contamination': 0.012, 'n_neighbors': 150}\n",
      "Score moyen (f1_score): 0.2024242424242424\n",
      " \n"
     ]
    },
    {
     "data": {
      "application/vnd.jupyter.widget-view+json": {
       "model_id": "70e639ac968c48979a0b23e8ee780619",
       "version_major": 2,
       "version_minor": 0
      },
      "text/plain": [
       "0it [00:00, ?it/s]"
      ]
     },
     "metadata": {},
     "output_type": "display_data"
    },
    {
     "name": "stdout",
     "output_type": "stream",
     "text": [
      "Paramètres: {'contamination': 0.014, 'n_neighbors': 100}\n",
      "Score moyen (f1_score): 0.17648612945838837\n",
      " \n"
     ]
    },
    {
     "data": {
      "application/vnd.jupyter.widget-view+json": {
       "model_id": "9037cbcf34714042b2702fd1a8ec79af",
       "version_major": 2,
       "version_minor": 0
      },
      "text/plain": [
       "0it [00:00, ?it/s]"
      ]
     },
     "metadata": {},
     "output_type": "display_data"
    },
    {
     "name": "stdout",
     "output_type": "stream",
     "text": [
      "Paramètres: {'contamination': 0.014, 'n_neighbors': 120}\n",
      "Score moyen (f1_score): 0.17701453104359316\n",
      " \n"
     ]
    },
    {
     "data": {
      "application/vnd.jupyter.widget-view+json": {
       "model_id": "6b7c6da1bfa446c4bf17dfad41e3640b",
       "version_major": 2,
       "version_minor": 0
      },
      "text/plain": [
       "0it [00:00, ?it/s]"
      ]
     },
     "metadata": {},
     "output_type": "display_data"
    },
    {
     "name": "stdout",
     "output_type": "stream",
     "text": [
      "Paramètres: {'contamination': 0.014, 'n_neighbors': 150}\n",
      "Score moyen (f1_score): 0.17701453104359316\n",
      " \n",
      "Meilleurs paramètres : {'contamination': 0.008, 'n_neighbors': 120}\n",
      "Meilleur score moyen (f1_score) : 0.280085653104925\n"
     ]
    }
   ],
   "source": [
    "best_par={\n",
    "          'contamination': [0.008,0.009,0.01,0.012,0.014],\n",
    "          'n_neighbors': [100,120,150]\n",
    "}\n",
    "model=CustomGridSearchCV(estimator=LocalOutlierFactor(), param_grid=best_par, n_splits=5, random_state=42)\n",
    "model.fit(xtrain,ytrain)"
   ]
  },
  {
   "cell_type": "code",
   "execution_count": 30,
   "id": "4c788537-6a13-4a3a-8142-8e67cffb6a67",
   "metadata": {},
   "outputs": [],
   "source": [
    "model.best_params\n",
    "params={'contamination': 0.008, 'n_neighbors': 120}"
   ]
  },
  {
   "cell_type": "code",
   "execution_count": 23,
   "id": "7437c07a-bbbe-4a90-9831-f03bbbbcc9be",
   "metadata": {},
   "outputs": [],
   "source": [
    "ypred=model.predict(xtest)"
   ]
  },
  {
   "cell_type": "code",
   "execution_count": 27,
   "id": "3b496677-4dd3-4512-8f97-af86d7f432ff",
   "metadata": {},
   "outputs": [
    {
     "data": {
      "text/html": [
       "<style>#sk-container-id-1 {color: black;}#sk-container-id-1 pre{padding: 0;}#sk-container-id-1 div.sk-toggleable {background-color: white;}#sk-container-id-1 label.sk-toggleable__label {cursor: pointer;display: block;width: 100%;margin-bottom: 0;padding: 0.3em;box-sizing: border-box;text-align: center;}#sk-container-id-1 label.sk-toggleable__label-arrow:before {content: \"▸\";float: left;margin-right: 0.25em;color: #696969;}#sk-container-id-1 label.sk-toggleable__label-arrow:hover:before {color: black;}#sk-container-id-1 div.sk-estimator:hover label.sk-toggleable__label-arrow:before {color: black;}#sk-container-id-1 div.sk-toggleable__content {max-height: 0;max-width: 0;overflow: hidden;text-align: left;background-color: #f0f8ff;}#sk-container-id-1 div.sk-toggleable__content pre {margin: 0.2em;color: black;border-radius: 0.25em;background-color: #f0f8ff;}#sk-container-id-1 input.sk-toggleable__control:checked~div.sk-toggleable__content {max-height: 200px;max-width: 100%;overflow: auto;}#sk-container-id-1 input.sk-toggleable__control:checked~label.sk-toggleable__label-arrow:before {content: \"▾\";}#sk-container-id-1 div.sk-estimator input.sk-toggleable__control:checked~label.sk-toggleable__label {background-color: #d4ebff;}#sk-container-id-1 div.sk-label input.sk-toggleable__control:checked~label.sk-toggleable__label {background-color: #d4ebff;}#sk-container-id-1 input.sk-hidden--visually {border: 0;clip: rect(1px 1px 1px 1px);clip: rect(1px, 1px, 1px, 1px);height: 1px;margin: -1px;overflow: hidden;padding: 0;position: absolute;width: 1px;}#sk-container-id-1 div.sk-estimator {font-family: monospace;background-color: #f0f8ff;border: 1px dotted black;border-radius: 0.25em;box-sizing: border-box;margin-bottom: 0.5em;}#sk-container-id-1 div.sk-estimator:hover {background-color: #d4ebff;}#sk-container-id-1 div.sk-parallel-item::after {content: \"\";width: 100%;border-bottom: 1px solid gray;flex-grow: 1;}#sk-container-id-1 div.sk-label:hover label.sk-toggleable__label {background-color: #d4ebff;}#sk-container-id-1 div.sk-serial::before {content: \"\";position: absolute;border-left: 1px solid gray;box-sizing: border-box;top: 0;bottom: 0;left: 50%;z-index: 0;}#sk-container-id-1 div.sk-serial {display: flex;flex-direction: column;align-items: center;background-color: white;padding-right: 0.2em;padding-left: 0.2em;position: relative;}#sk-container-id-1 div.sk-item {position: relative;z-index: 1;}#sk-container-id-1 div.sk-parallel {display: flex;align-items: stretch;justify-content: center;background-color: white;position: relative;}#sk-container-id-1 div.sk-item::before, #sk-container-id-1 div.sk-parallel-item::before {content: \"\";position: absolute;border-left: 1px solid gray;box-sizing: border-box;top: 0;bottom: 0;left: 50%;z-index: -1;}#sk-container-id-1 div.sk-parallel-item {display: flex;flex-direction: column;z-index: 1;position: relative;background-color: white;}#sk-container-id-1 div.sk-parallel-item:first-child::after {align-self: flex-end;width: 50%;}#sk-container-id-1 div.sk-parallel-item:last-child::after {align-self: flex-start;width: 50%;}#sk-container-id-1 div.sk-parallel-item:only-child::after {width: 0;}#sk-container-id-1 div.sk-dashed-wrapped {border: 1px dashed gray;margin: 0 0.4em 0.5em 0.4em;box-sizing: border-box;padding-bottom: 0.4em;background-color: white;}#sk-container-id-1 div.sk-label label {font-family: monospace;font-weight: bold;display: inline-block;line-height: 1.2em;}#sk-container-id-1 div.sk-label-container {text-align: center;}#sk-container-id-1 div.sk-container {/* jupyter's `normalize.less` sets `[hidden] { display: none; }` but bootstrap.min.css set `[hidden] { display: none !important; }` so we also need the `!important` here to be able to override the default hidden behavior on the sphinx rendered scikit-learn.org. See: https://github.com/scikit-learn/scikit-learn/issues/21755 */display: inline-block !important;position: relative;}#sk-container-id-1 div.sk-text-repr-fallback {display: none;}</style><div id=\"sk-container-id-1\" class=\"sk-top-container\"><div class=\"sk-text-repr-fallback\"><pre>LocalOutlierFactor(contamination=0.014, n_neighbors=150)</pre><b>In a Jupyter environment, please rerun this cell to show the HTML representation or trust the notebook. <br />On GitHub, the HTML representation is unable to render, please try loading this page with nbviewer.org.</b></div><div class=\"sk-container\" hidden><div class=\"sk-item\"><div class=\"sk-estimator sk-toggleable\"><input class=\"sk-toggleable__control sk-hidden--visually\" id=\"sk-estimator-id-1\" type=\"checkbox\" checked><label for=\"sk-estimator-id-1\" class=\"sk-toggleable__label sk-toggleable__label-arrow\">LocalOutlierFactor</label><div class=\"sk-toggleable__content\"><pre>LocalOutlierFactor(contamination=0.014, n_neighbors=150)</pre></div></div></div></div></div>"
      ],
      "text/plain": [
       "LocalOutlierFactor(contamination=0.014, n_neighbors=150)"
      ]
     },
     "execution_count": 27,
     "metadata": {},
     "output_type": "execute_result"
    }
   ],
   "source": [
    "model.best_estimator"
   ]
  },
  {
   "cell_type": "code",
   "execution_count": 31,
   "id": "355a4b6a-c77c-4926-90c4-f5f7a4311223",
   "metadata": {},
   "outputs": [
    {
     "data": {
      "text/html": [
       "<style>#sk-container-id-2 {color: black;}#sk-container-id-2 pre{padding: 0;}#sk-container-id-2 div.sk-toggleable {background-color: white;}#sk-container-id-2 label.sk-toggleable__label {cursor: pointer;display: block;width: 100%;margin-bottom: 0;padding: 0.3em;box-sizing: border-box;text-align: center;}#sk-container-id-2 label.sk-toggleable__label-arrow:before {content: \"▸\";float: left;margin-right: 0.25em;color: #696969;}#sk-container-id-2 label.sk-toggleable__label-arrow:hover:before {color: black;}#sk-container-id-2 div.sk-estimator:hover label.sk-toggleable__label-arrow:before {color: black;}#sk-container-id-2 div.sk-toggleable__content {max-height: 0;max-width: 0;overflow: hidden;text-align: left;background-color: #f0f8ff;}#sk-container-id-2 div.sk-toggleable__content pre {margin: 0.2em;color: black;border-radius: 0.25em;background-color: #f0f8ff;}#sk-container-id-2 input.sk-toggleable__control:checked~div.sk-toggleable__content {max-height: 200px;max-width: 100%;overflow: auto;}#sk-container-id-2 input.sk-toggleable__control:checked~label.sk-toggleable__label-arrow:before {content: \"▾\";}#sk-container-id-2 div.sk-estimator input.sk-toggleable__control:checked~label.sk-toggleable__label {background-color: #d4ebff;}#sk-container-id-2 div.sk-label input.sk-toggleable__control:checked~label.sk-toggleable__label {background-color: #d4ebff;}#sk-container-id-2 input.sk-hidden--visually {border: 0;clip: rect(1px 1px 1px 1px);clip: rect(1px, 1px, 1px, 1px);height: 1px;margin: -1px;overflow: hidden;padding: 0;position: absolute;width: 1px;}#sk-container-id-2 div.sk-estimator {font-family: monospace;background-color: #f0f8ff;border: 1px dotted black;border-radius: 0.25em;box-sizing: border-box;margin-bottom: 0.5em;}#sk-container-id-2 div.sk-estimator:hover {background-color: #d4ebff;}#sk-container-id-2 div.sk-parallel-item::after {content: \"\";width: 100%;border-bottom: 1px solid gray;flex-grow: 1;}#sk-container-id-2 div.sk-label:hover label.sk-toggleable__label {background-color: #d4ebff;}#sk-container-id-2 div.sk-serial::before {content: \"\";position: absolute;border-left: 1px solid gray;box-sizing: border-box;top: 0;bottom: 0;left: 50%;z-index: 0;}#sk-container-id-2 div.sk-serial {display: flex;flex-direction: column;align-items: center;background-color: white;padding-right: 0.2em;padding-left: 0.2em;position: relative;}#sk-container-id-2 div.sk-item {position: relative;z-index: 1;}#sk-container-id-2 div.sk-parallel {display: flex;align-items: stretch;justify-content: center;background-color: white;position: relative;}#sk-container-id-2 div.sk-item::before, #sk-container-id-2 div.sk-parallel-item::before {content: \"\";position: absolute;border-left: 1px solid gray;box-sizing: border-box;top: 0;bottom: 0;left: 50%;z-index: -1;}#sk-container-id-2 div.sk-parallel-item {display: flex;flex-direction: column;z-index: 1;position: relative;background-color: white;}#sk-container-id-2 div.sk-parallel-item:first-child::after {align-self: flex-end;width: 50%;}#sk-container-id-2 div.sk-parallel-item:last-child::after {align-self: flex-start;width: 50%;}#sk-container-id-2 div.sk-parallel-item:only-child::after {width: 0;}#sk-container-id-2 div.sk-dashed-wrapped {border: 1px dashed gray;margin: 0 0.4em 0.5em 0.4em;box-sizing: border-box;padding-bottom: 0.4em;background-color: white;}#sk-container-id-2 div.sk-label label {font-family: monospace;font-weight: bold;display: inline-block;line-height: 1.2em;}#sk-container-id-2 div.sk-label-container {text-align: center;}#sk-container-id-2 div.sk-container {/* jupyter's `normalize.less` sets `[hidden] { display: none; }` but bootstrap.min.css set `[hidden] { display: none !important; }` so we also need the `!important` here to be able to override the default hidden behavior on the sphinx rendered scikit-learn.org. See: https://github.com/scikit-learn/scikit-learn/issues/21755 */display: inline-block !important;position: relative;}#sk-container-id-2 div.sk-text-repr-fallback {display: none;}</style><div id=\"sk-container-id-2\" class=\"sk-top-container\"><div class=\"sk-text-repr-fallback\"><pre>LocalOutlierFactor(contamination=0.008, n_neighbors=120)</pre><b>In a Jupyter environment, please rerun this cell to show the HTML representation or trust the notebook. <br />On GitHub, the HTML representation is unable to render, please try loading this page with nbviewer.org.</b></div><div class=\"sk-container\" hidden><div class=\"sk-item\"><div class=\"sk-estimator sk-toggleable\"><input class=\"sk-toggleable__control sk-hidden--visually\" id=\"sk-estimator-id-2\" type=\"checkbox\" checked><label for=\"sk-estimator-id-2\" class=\"sk-toggleable__label sk-toggleable__label-arrow\">LocalOutlierFactor</label><div class=\"sk-toggleable__content\"><pre>LocalOutlierFactor(contamination=0.008, n_neighbors=120)</pre></div></div></div></div></div>"
      ],
      "text/plain": [
       "LocalOutlierFactor(contamination=0.008, n_neighbors=120)"
      ]
     },
     "execution_count": 31,
     "metadata": {},
     "output_type": "execute_result"
    }
   ],
   "source": [
    "cl=LocalOutlierFactor(**params)\n",
    "cl.fit(xtrain)"
   ]
  },
  {
   "cell_type": "code",
   "execution_count": 33,
   "id": "ce3bf466-4a9e-40c8-86ec-b91cc40b0c9f",
   "metadata": {},
   "outputs": [],
   "source": [
    "ypred=cl.fit_predict(xtest)"
   ]
  },
  {
   "cell_type": "code",
   "execution_count": 34,
   "id": "0bd3ee38-18ed-42c1-aca4-0a3f3186809f",
   "metadata": {},
   "outputs": [],
   "source": [
    "ypred=inverse_transform_target(ypred)"
   ]
  },
  {
   "cell_type": "code",
   "execution_count": 35,
   "id": "6c136ee7-d0f5-42c2-865f-634a45c7a74c",
   "metadata": {},
   "outputs": [
    {
     "data": {
      "image/png": "[encoded data removed]",
      "text/plain": [
       "<Figure size 640x480 with 2 Axes>"
      ]
     },
     "metadata": {},
     "output_type": "display_data"
    },
    {
     "data": {
      "image/png": "[encoded data removed]",
      "text/plain": [
       "<Figure size 640x480 with 1 Axes>"
      ]
     },
     "metadata": {},
     "output_type": "display_data"
    },
    {
     "name": "stdout",
     "output_type": "stream",
     "text": [
      "roc_auc 0.8863169293981977\n"
     ]
    },
    {
     "data": {
      "image/png": "[encoded data removed]",
      "text/plain": [
       "<Figure size 640x480 with 1 Axes>"
      ]
     },
     "metadata": {},
     "output_type": "display_data"
    },
    {
     "name": "stdout",
     "output_type": "stream",
     "text": [
      "   f1_score  accuracy_score  precision_score  recall_score\n",
      "0  0.259169         0.99288         0.155425      0.779412\n"
     ]
    }
   ],
   "source": [
    "evaluation(ytest,ypred)"
   ]
  },
  {
   "cell_type": "code",
   "execution_count": null,
   "id": "adc2f3dc-625e-4bc6-99ec-46adb74afffa",
   "metadata": {},
   "outputs": [],
   "source": []
  }
 ],
 "metadata": {
  "kernelspec": {
   "display_name": "Python 3 (ipykernel)",
   "language": "python",
   "name": "python3"
  },
  "language_info": {
   "codemirror_mode": {
    "name": "ipython",
    "version": 3
   },
   "file_extension": ".py",
   "mimetype": "text/x-python",
   "name": "python",
   "nbconvert_exporter": "python",
   "pygments_lexer": "ipython3",
   "version": "3.11.4"
  },
  "widgets": {
   "application/vnd.jupyter.widget-state+json": {
    "state": {
     "0117957b86504ff4a5e83021bae20d82": {
      "model_module": "@jupyter-widgets/base",
      "model_module_version": "2.0.0",
      "model_name": "LayoutModel",
      "state": {
       "width": "20px"
      }
     },
     "042bc2ae3bf34a829ab72e6ff774029b": {
      "model_module": "@jupyter-widgets/controls",
      "model_module_version": "2.0.0",
      "model_name": "HTMLStyleModel",
      "state": {
       "description_width": "",
       "font_size": null,
       "text_color": null
      }
     },
     "046cd84bc092447f8e532b13ce90e492": {
      "model_module": "@jupyter-widgets/base",
      "model_module_version": "2.0.0",
      "model_name": "LayoutModel",
      "state": {}
     },
     "04e201b09d20411d8eabdf0e6e6b6d2e": {
      "model_module": "@jupyter-widgets/controls",
      "model_module_version": "2.0.0",
      "model_name": "FloatProgressModel",
      "state": {
       "bar_style": "success",
       "layout": "IPY_MODEL_8963d2b5021740b5b78d3d1dc90a1dda",
       "max": 1,
       "style": "IPY_MODEL_ce5ddc4b001748f6a973599482dc8a0c",
       "value": 1
      }
     },
     "058cb318221441dd929d2bac8341ff05": {
      "model_module": "@jupyter-widgets/controls",
      "model_module_version": "2.0.0",
      "model_name": "HTMLModel",
      "state": {
       "layout": "IPY_MODEL_0f6fcc0095d84aeaa2996737bd9fa1f8",
       "style": "IPY_MODEL_fdf8e16d2a814360bbcb6c3a7d6e18a5",
       "value": " 5/? [01:56&lt;00:00, 23.51s/it]"
      }
     },
     "078db6474ece4189bf52c26f149cd037": {
      "model_module": "@jupyter-widgets/controls",
      "model_module_version": "2.0.0",
      "model_name": "HTMLModel",
      "state": {
       "layout": "IPY_MODEL_bb5ca84876754e01aa75c721705d9276",
       "style": "IPY_MODEL_3bb6afb3cdbf4d82b4afdf2a5f3978cd",
       "value": " 5/? [02:03&lt;00:00, 24.46s/it]"
      }
     },
     "081870dd96a946ed88f6ca324787b352": {
      "model_module": "@jupyter-widgets/controls",
      "model_module_version": "2.0.0",
      "model_name": "HTMLModel",
      "state": {
       "layout": "IPY_MODEL_572cff9838584a49be91b2c7b00588e1",
       "style": "IPY_MODEL_270b61e24c474d55886c034ca578ab84",
       "value": " 5/? [01:26&lt;00:00, 17.26s/it]"
      }
     },
     "0ab825476e26459c8580aeb2764d149a": {
      "model_module": "@jupyter-widgets/controls",
      "model_module_version": "2.0.0",
      "model_name": "HTMLModel",
      "state": {
       "layout": "IPY_MODEL_a7a452cb1b1a458c998466e780ecf335",
       "style": "IPY_MODEL_1ba43f5ca16c41579c5a4c9358cd53e7",
       "value": "100%"
      }
     },
     "0b1fc39b14ee4e918752a3460295f9ab": {
      "model_module": "@jupyter-widgets/controls",
      "model_module_version": "2.0.0",
      "model_name": "HTMLModel",
      "state": {
       "layout": "IPY_MODEL_12b07434a10b468fb63da8a0e13724b3",
       "style": "IPY_MODEL_8449fa91f7c8472a8b4ab95d7dccbf15",
       "value": " 5/? [02:00&lt;00:00, 24.09s/it]"
      }
     },
     "0c03f2ea593a4f1bad8a3f3ee2256cc8": {
      "model_module": "@jupyter-widgets/controls",
      "model_module_version": "2.0.0",
      "model_name": "FloatProgressModel",
      "state": {
       "bar_style": "danger",
       "layout": "IPY_MODEL_0117957b86504ff4a5e83021bae20d82",
       "max": 1,
       "style": "IPY_MODEL_b57a77fae149458e8d0a7dfcdd3f8987",
       "value": 1
      }
     },
     "0efbc45ef0ba4ca29156f958d78efc0c": {
      "model_module": "@jupyter-widgets/controls",
      "model_module_version": "2.0.0",
      "model_name": "FloatProgressModel",
      "state": {
       "bar_style": "success",
       "layout": "IPY_MODEL_ca46117523f2408c9650aa387436fc6a",
       "max": 1,
       "style": "IPY_MODEL_6ff5e82b99b648e391043844069b9a6a",
       "value": 1
      }
     },
     "0f464176b28049f189716c229e27e362": {
      "model_module": "@jupyter-widgets/controls",
      "model_module_version": "2.0.0",
      "model_name": "FloatProgressModel",
      "state": {
       "bar_style": "success",
       "layout": "IPY_MODEL_33768ca471d742268b0d6f67d2ec8062",
       "max": 1,
       "style": "IPY_MODEL_3fc64ff679754227a675796b774e02f2",
       "value": 1
      }
     },
     "0f6fcc0095d84aeaa2996737bd9fa1f8": {
      "model_module": "@jupyter-widgets/base",
      "model_module_version": "2.0.0",
      "model_name": "LayoutModel",
      "state": {}
     },
     "1074ba302d97443588d7f800140d17d1": {
      "model_module": "@jupyter-widgets/controls",
      "model_module_version": "2.0.0",
      "model_name": "HTMLModel",
      "state": {
       "layout": "IPY_MODEL_c412c377b4e54d9f82bf4a0feaf59d42",
       "style": "IPY_MODEL_36eafa191d874a14b3352c23760a2d44"
      }
     },
     "111cbe00acc5492bbff751536ab4fc7d": {
      "model_module": "@jupyter-widgets/controls",
      "model_module_version": "2.0.0",
      "model_name": "FloatProgressModel",
      "state": {
       "bar_style": "danger",
       "layout": "IPY_MODEL_889b8e0eee064f87809a6cfdace84f84",
       "max": 1,
       "style": "IPY_MODEL_6e8be58b2e0f4446a1198d28f81eecaa"
      }
     },
     "1140e2c3e784491a99947931c75bde39": {
      "model_module": "@jupyter-widgets/controls",
      "model_module_version": "2.0.0",
      "model_name": "HTMLModel",
      "state": {
       "layout": "IPY_MODEL_ae54b1e399c1459e9821276e9afe4391",
       "style": "IPY_MODEL_a31b4fbafb604b489e43f5e0e2eb9cb4"
      }
     },
     "115f1ddc39254d79b1f79184d9c98d55": {
      "model_module": "@jupyter-widgets/base",
      "model_module_version": "2.0.0",
      "model_name": "LayoutModel",
      "state": {}
     },
     "12b07434a10b468fb63da8a0e13724b3": {
      "model_module": "@jupyter-widgets/base",
      "model_module_version": "2.0.0",
      "model_name": "LayoutModel",
      "state": {}
     },
     "12e779fde0ba475c9e0244c1feef26f5": {
      "model_module": "@jupyter-widgets/controls",
      "model_module_version": "2.0.0",
      "model_name": "HTMLStyleModel",
      "state": {
       "description_width": "",
       "font_size": null,
       "text_color": null
      }
     },
     "130413b881c147e18e9c8ad73969f4a0": {
      "model_module": "@jupyter-widgets/controls",
      "model_module_version": "2.0.0",
      "model_name": "FloatProgressModel",
      "state": {
       "bar_style": "success",
       "layout": "IPY_MODEL_1dd7be8a4e5442939e8605da11a9441b",
       "max": 1,
       "style": "IPY_MODEL_4e3a63a7c9fc4e16af7fedac468ef5a2",
       "value": 1
      }
     },
     "141b373d3b774e43b8ba9d41fa5969ba": {
      "model_module": "@jupyter-widgets/controls",
      "model_module_version": "2.0.0",
      "model_name": "HTMLStyleModel",
      "state": {
       "description_width": "",
       "font_size": null,
       "text_color": null
      }
     },
     "152786d156bf43ad994760d33fdc6e72": {
      "model_module": "@jupyter-widgets/controls",
      "model_module_version": "2.0.0",
      "model_name": "HBoxModel",
      "state": {
       "children": [
        "IPY_MODEL_0ab825476e26459c8580aeb2764d149a",
        "IPY_MODEL_5dd18594de7f4c00bbb0b1612dec3a15",
        "IPY_MODEL_56fe02cfd3e74ab188acc60641b586bc"
       ],
       "layout": "IPY_MODEL_ee44033c729c4e0f9f6931d178943593"
      }
     },
     "157915f03ac74a3289e7183484008a67": {
      "model_module": "@jupyter-widgets/controls",
      "model_module_version": "2.0.0",
      "model_name": "HTMLModel",
      "state": {
       "layout": "IPY_MODEL_fdcc0a5305a34dd49a899e6f98c2f2b4",
       "style": "IPY_MODEL_bcb42b4785cb49589782874d6e1073f8",
       "value": " 0/20 [01:03&lt;?, ?it/s]"
      }
     },
     "16e1b14d76d64676a79dcd337bc14426": {
      "model_module": "@jupyter-widgets/base",
      "model_module_version": "2.0.0",
      "model_name": "LayoutModel",
      "state": {}
     },
     "178d447a79ae42c282bfe362fdf81f3e": {
      "model_module": "@jupyter-widgets/base",
      "model_module_version": "2.0.0",
      "model_name": "LayoutModel",
      "state": {}
     },
     "180441b0cd2346e8b239241d3d7addd0": {
      "model_module": "@jupyter-widgets/base",
      "model_module_version": "2.0.0",
      "model_name": "LayoutModel",
      "state": {}
     },
     "18aeb39b49814437b9f41b1a921d5c39": {
      "model_module": "@jupyter-widgets/controls",
      "model_module_version": "2.0.0",
      "model_name": "HTMLStyleModel",
      "state": {
       "description_width": "",
       "font_size": null,
       "text_color": null
      }
     },
     "19fe6a95f40449e49f0a4021468ab8d5": {
      "model_module": "@jupyter-widgets/controls",
      "model_module_version": "2.0.0",
      "model_name": "HBoxModel",
      "state": {
       "children": [
        "IPY_MODEL_afca2ffcfdc04cbca3e3b40b20568625",
        "IPY_MODEL_04e201b09d20411d8eabdf0e6e6b6d2e",
        "IPY_MODEL_a08cf5da23154fcc949d9c034aa5ea19"
       ],
       "layout": "IPY_MODEL_3ea3327e192f4d5abc126452472734c6"
      }
     },
     "1a59f76b0a354e3da0824cda063481fb": {
      "model_module": "@jupyter-widgets/base",
      "model_module_version": "2.0.0",
      "model_name": "LayoutModel",
      "state": {
       "width": "20px"
      }
     },
     "1ba43f5ca16c41579c5a4c9358cd53e7": {
      "model_module": "@jupyter-widgets/controls",
      "model_module_version": "2.0.0",
      "model_name": "HTMLStyleModel",
      "state": {
       "description_width": "",
       "font_size": null,
       "text_color": null
      }
     },
     "1cb135b9c1d74f969a59cfe320484104": {
      "model_module": "@jupyter-widgets/controls",
      "model_module_version": "2.0.0",
      "model_name": "HTMLStyleModel",
      "state": {
       "description_width": "",
       "font_size": null,
       "text_color": null
      }
     },
     "1cb30615def54ab086fd558bfc0809b3": {
      "model_module": "@jupyter-widgets/controls",
      "model_module_version": "2.0.0",
      "model_name": "HTMLStyleModel",
      "state": {
       "description_width": "",
       "font_size": null,
       "text_color": null
      }
     },
     "1cf8a220664b4a77bca11bcad1fa7d6a": {
      "model_module": "@jupyter-widgets/base",
      "model_module_version": "2.0.0",
      "model_name": "LayoutModel",
      "state": {
       "width": "20px"
      }
     },
     "1d7760ea5eff4aa1bd6bf2ade82648a0": {
      "model_module": "@jupyter-widgets/base",
      "model_module_version": "2.0.0",
      "model_name": "LayoutModel",
      "state": {}
     },
     "1dd7be8a4e5442939e8605da11a9441b": {
      "model_module": "@jupyter-widgets/base",
      "model_module_version": "2.0.0",
      "model_name": "LayoutModel",
      "state": {
       "width": "20px"
      }
     },
     "1e362c37316f4feb8864cb538670ab06": {
      "model_module": "@jupyter-widgets/controls",
      "model_module_version": "2.0.0",
      "model_name": "HTMLModel",
      "state": {
       "layout": "IPY_MODEL_b131d7b87c8443dca88750ac03f9a7d0",
       "style": "IPY_MODEL_41945e138ee04153a93920752ef9137b",
       "value": " 5/? [01:58&lt;00:00, 23.91s/it]"
      }
     },
     "1eb8f3ff472c44299c8047e536c5b4ed": {
      "model_module": "@jupyter-widgets/base",
      "model_module_version": "2.0.0",
      "model_name": "LayoutModel",
      "state": {
       "width": "20px"
      }
     },
     "1ecaa6a4dc9647259115d4fcfc5afc03": {
      "model_module": "@jupyter-widgets/controls",
      "model_module_version": "2.0.0",
      "model_name": "FloatProgressModel",
      "state": {
       "bar_style": "success",
       "layout": "IPY_MODEL_4db9ff451f8a4733b04fbe549eac85e9",
       "max": 1,
       "style": "IPY_MODEL_508362b513864faaa4d3331d7104855b",
       "value": 1
      }
     },
     "1ee4ba6b9cc540ba889a7be31589903a": {
      "model_module": "@jupyter-widgets/base",
      "model_module_version": "2.0.0",
      "model_name": "LayoutModel",
      "state": {}
     },
     "1fbff052f76b448aa3cb9e3697b29361": {
      "model_module": "@jupyter-widgets/controls",
      "model_module_version": "2.0.0",
      "model_name": "FloatProgressModel",
      "state": {
       "bar_style": "success",
       "layout": "IPY_MODEL_1cf8a220664b4a77bca11bcad1fa7d6a",
       "max": 1,
       "style": "IPY_MODEL_33a976a6ccd6458391291ec79e8d5742",
       "value": 1
      }
     },
     "20f8da793c49485a8d58b0c0b39587f4": {
      "model_module": "@jupyter-widgets/controls",
      "model_module_version": "2.0.0",
      "model_name": "HTMLModel",
      "state": {
       "layout": "IPY_MODEL_e0a6f13afe0546b39d17cc6d7933db7b",
       "style": "IPY_MODEL_fc829a3438bb4ca0bedf6a50c4d14381",
       "value": " 5/? [02:29&lt;00:00, 29.60s/it]"
      }
     },
     "211edfbc1c3940359862ed8e5d4c2b87": {
      "model_module": "@jupyter-widgets/base",
      "model_module_version": "2.0.0",
      "model_name": "LayoutModel",
      "state": {
       "width": "20px"
      }
     },
     "218f0f34b3a44153bfe1179df894320d": {
      "model_module": "@jupyter-widgets/controls",
      "model_module_version": "2.0.0",
      "model_name": "HBoxModel",
      "state": {
       "children": [
        "IPY_MODEL_90101aa516ef42b59b9b9dce0ff5f357",
        "IPY_MODEL_98b54d17d341411688c1c2d1ee5b0acf",
        "IPY_MODEL_584e50a3b6af4e76837f2bb4ef789938"
       ],
       "layout": "IPY_MODEL_cabfea81134b4d7ca334f315dd509d75"
      }
     },
     "21fc644cf73744ebadc8ca0014296a6f": {
      "model_module": "@jupyter-widgets/base",
      "model_module_version": "2.0.0",
      "model_name": "LayoutModel",
      "state": {}
     },
     "224db92b1bc84c8aa91178ed38e89a27": {
      "model_module": "@jupyter-widgets/controls",
      "model_module_version": "2.0.0",
      "model_name": "HTMLStyleModel",
      "state": {
       "description_width": "",
       "font_size": null,
       "text_color": null
      }
     },
     "237d72c8d598469fb8d5b3ac6e253852": {
      "model_module": "@jupyter-widgets/controls",
      "model_module_version": "2.0.0",
      "model_name": "HTMLStyleModel",
      "state": {
       "description_width": "",
       "font_size": null,
       "text_color": null
      }
     },
     "2387e8b0654646b3bf2ea7bb616d7a7f": {
      "model_module": "@jupyter-widgets/controls",
      "model_module_version": "2.0.0",
      "model_name": "HTMLStyleModel",
      "state": {
       "description_width": "",
       "font_size": null,
       "text_color": null
      }
     },
     "24bc5e1c4acc4289b1f68abdb54e9f42": {
      "model_module": "@jupyter-widgets/controls",
      "model_module_version": "2.0.0",
      "model_name": "ProgressStyleModel",
      "state": {
       "description_width": ""
      }
     },
     "253c50fabb3d423aa5028a6635292560": {
      "model_module": "@jupyter-widgets/controls",
      "model_module_version": "2.0.0",
      "model_name": "HTMLStyleModel",
      "state": {
       "description_width": "",
       "font_size": null,
       "text_color": null
      }
     },
     "2573593460434b7db971395f4697adb9": {
      "model_module": "@jupyter-widgets/base",
      "model_module_version": "2.0.0",
      "model_name": "LayoutModel",
      "state": {}
     },
     "258881559ecd42a8aa6a4c4048252577": {
      "model_module": "@jupyter-widgets/base",
      "model_module_version": "2.0.0",
      "model_name": "LayoutModel",
      "state": {}
     },
     "2692e64964ed4c5db295e2cbe7acdd00": {
      "model_module": "@jupyter-widgets/base",
      "model_module_version": "2.0.0",
      "model_name": "LayoutModel",
      "state": {}
     },
     "26dd4d604bb84228b1513aea29dc9ed9": {
      "model_module": "@jupyter-widgets/controls",
      "model_module_version": "2.0.0",
      "model_name": "HTMLModel",
      "state": {
       "layout": "IPY_MODEL_cbafc39f6a804956aaaa93ca6e8ffd47",
       "style": "IPY_MODEL_a15c84cda98f456097c837aff6de40e1"
      }
     },
     "270b61e24c474d55886c034ca578ab84": {
      "model_module": "@jupyter-widgets/controls",
      "model_module_version": "2.0.0",
      "model_name": "HTMLStyleModel",
      "state": {
       "description_width": "",
       "font_size": null,
       "text_color": null
      }
     },
     "2856cf7673574891a903b0c57cb3934e": {
      "model_module": "@jupyter-widgets/controls",
      "model_module_version": "2.0.0",
      "model_name": "HTMLStyleModel",
      "state": {
       "description_width": "",
       "font_size": null,
       "text_color": null
      }
     },
     "2b7d01497e144926afdc535b5ea9593a": {
      "model_module": "@jupyter-widgets/base",
      "model_module_version": "2.0.0",
      "model_name": "LayoutModel",
      "state": {
       "width": "20px"
      }
     },
     "2dc1d355a3de40eeafa0071eb2f02b23": {
      "model_module": "@jupyter-widgets/base",
      "model_module_version": "2.0.0",
      "model_name": "LayoutModel",
      "state": {}
     },
     "30245aad9e2b44e790f1d235ddfbf827": {
      "model_module": "@jupyter-widgets/controls",
      "model_module_version": "2.0.0",
      "model_name": "HTMLStyleModel",
      "state": {
       "description_width": "",
       "font_size": null,
       "text_color": null
      }
     },
     "303c374aa48f48f9b989c4a7864dcf50": {
      "model_module": "@jupyter-widgets/base",
      "model_module_version": "2.0.0",
      "model_name": "LayoutModel",
      "state": {}
     },
     "30f494d16f3c4adf890f1db7fa216d97": {
      "model_module": "@jupyter-widgets/controls",
      "model_module_version": "2.0.0",
      "model_name": "HTMLStyleModel",
      "state": {
       "description_width": "",
       "font_size": null,
       "text_color": null
      }
     },
     "31ee49727bdc44aeb6b695d18e9c020c": {
      "model_module": "@jupyter-widgets/controls",
      "model_module_version": "2.0.0",
      "model_name": "HBoxModel",
      "state": {
       "children": [
        "IPY_MODEL_e172196d2af548fd809d9f0c7347d839",
        "IPY_MODEL_f5047da5c76a451b95cf67ee11df8bd2",
        "IPY_MODEL_157915f03ac74a3289e7183484008a67"
       ],
       "layout": "IPY_MODEL_79e3d9d302f646949b116f29b6c00dd7"
      }
     },
     "320b920550184ebc9d324d6cc6154916": {
      "model_module": "@jupyter-widgets/base",
      "model_module_version": "2.0.0",
      "model_name": "LayoutModel",
      "state": {
       "width": "20px"
      }
     },
     "33768ca471d742268b0d6f67d2ec8062": {
      "model_module": "@jupyter-widgets/base",
      "model_module_version": "2.0.0",
      "model_name": "LayoutModel",
      "state": {
       "width": "20px"
      }
     },
     "33a976a6ccd6458391291ec79e8d5742": {
      "model_module": "@jupyter-widgets/controls",
      "model_module_version": "2.0.0",
      "model_name": "ProgressStyleModel",
      "state": {
       "description_width": ""
      }
     },
     "34e3c21dccf346299bcd25973da21099": {
      "model_module": "@jupyter-widgets/base",
      "model_module_version": "2.0.0",
      "model_name": "LayoutModel",
      "state": {}
     },
     "35304e8de1064cbf8c5ca00c21f207f8": {
      "model_module": "@jupyter-widgets/base",
      "model_module_version": "2.0.0",
      "model_name": "LayoutModel",
      "state": {}
     },
     "36780c64b21047df8489551870462eb4": {
      "model_module": "@jupyter-widgets/controls",
      "model_module_version": "2.0.0",
      "model_name": "HTMLStyleModel",
      "state": {
       "description_width": "",
       "font_size": null,
       "text_color": null
      }
     },
     "36eafa191d874a14b3352c23760a2d44": {
      "model_module": "@jupyter-widgets/controls",
      "model_module_version": "2.0.0",
      "model_name": "HTMLStyleModel",
      "state": {
       "description_width": "",
       "font_size": null,
       "text_color": null
      }
     },
     "383902d95c7b4dc4bc958a7eef5b16db": {
      "model_module": "@jupyter-widgets/controls",
      "model_module_version": "2.0.0",
      "model_name": "ProgressStyleModel",
      "state": {
       "description_width": ""
      }
     },
     "3853a5f0fb504fa2a98d8e5b71ef4dbc": {
      "model_module": "@jupyter-widgets/controls",
      "model_module_version": "2.0.0",
      "model_name": "HBoxModel",
      "state": {
       "children": [
        "IPY_MODEL_78ec8f1f1c7141af90fdc54fce0ab7c7",
        "IPY_MODEL_f6d2605b901c4377bcc166791976e64f",
        "IPY_MODEL_6cc1d01055a4410485b755ecf35bd74e"
       ],
       "layout": "IPY_MODEL_dab79acace5f46f2ba097b892e3b2f5a"
      }
     },
     "38b5e212d81e44bcb1e7ab092c86a050": {
      "model_module": "@jupyter-widgets/controls",
      "model_module_version": "2.0.0",
      "model_name": "HTMLModel",
      "state": {
       "layout": "IPY_MODEL_47bcfd59dee14081b5638ec65aae64ae",
       "style": "IPY_MODEL_88f131c8a8be4076b0791c155b6eb2df"
      }
     },
     "3a6c1165d7624bd092dc8a646d7688c2": {
      "model_module": "@jupyter-widgets/controls",
      "model_module_version": "2.0.0",
      "model_name": "FloatProgressModel",
      "state": {
       "bar_style": "success",
       "layout": "IPY_MODEL_a2d1e49c5d98432b872b8864c2b9b974",
       "max": 1,
       "style": "IPY_MODEL_ac6e07e4cbad44149091109ec2e6d412",
       "value": 1
      }
     },
     "3abfce8da9db48c59d7d5970131b944c": {
      "model_module": "@jupyter-widgets/controls",
      "model_module_version": "2.0.0",
      "model_name": "ProgressStyleModel",
      "state": {
       "description_width": ""
      }
     },
     "3b5078d27f9e42d9a9e5c0262b0a8fa7": {
      "model_module": "@jupyter-widgets/controls",
      "model_module_version": "2.0.0",
      "model_name": "FloatProgressModel",
      "state": {
       "bar_style": "success",
       "layout": "IPY_MODEL_5c3270145d694ad8bb9b78d37aab9de7",
       "max": 1,
       "style": "IPY_MODEL_6251b82eb81d49b4a8677cc73ed32a13",
       "value": 1
      }
     },
     "3bb6afb3cdbf4d82b4afdf2a5f3978cd": {
      "model_module": "@jupyter-widgets/controls",
      "model_module_version": "2.0.0",
      "model_name": "HTMLStyleModel",
      "state": {
       "description_width": "",
       "font_size": null,
       "text_color": null
      }
     },
     "3c6e7149a5a148f6a04420e76a5bf636": {
      "model_module": "@jupyter-widgets/controls",
      "model_module_version": "2.0.0",
      "model_name": "HTMLModel",
      "state": {
       "layout": "IPY_MODEL_87a742d3c84c4fef9af06edbb8b638fc",
       "style": "IPY_MODEL_042bc2ae3bf34a829ab72e6ff774029b"
      }
     },
     "3cf8a89416b949698affa9bf44d46b17": {
      "model_module": "@jupyter-widgets/controls",
      "model_module_version": "2.0.0",
      "model_name": "ProgressStyleModel",
      "state": {
       "description_width": ""
      }
     },
     "3ea3327e192f4d5abc126452472734c6": {
      "model_module": "@jupyter-widgets/base",
      "model_module_version": "2.0.0",
      "model_name": "LayoutModel",
      "state": {}
     },
     "3f54d78fafca4caca61a47a76b78efbf": {
      "model_module": "@jupyter-widgets/controls",
      "model_module_version": "2.0.0",
      "model_name": "HTMLStyleModel",
      "state": {
       "description_width": "",
       "font_size": null,
       "text_color": null
      }
     },
     "3fc64ff679754227a675796b774e02f2": {
      "model_module": "@jupyter-widgets/controls",
      "model_module_version": "2.0.0",
      "model_name": "ProgressStyleModel",
      "state": {
       "description_width": ""
      }
     },
     "40705b0763e34a45934d1931a02472dd": {
      "model_module": "@jupyter-widgets/base",
      "model_module_version": "2.0.0",
      "model_name": "LayoutModel",
      "state": {}
     },
     "40b02c4757f547ef8242d567bcc154fa": {
      "model_module": "@jupyter-widgets/controls",
      "model_module_version": "2.0.0",
      "model_name": "HTMLStyleModel",
      "state": {
       "description_width": "",
       "font_size": null,
       "text_color": null
      }
     },
     "40cad637dc5641019c1188afab7ad449": {
      "model_module": "@jupyter-widgets/controls",
      "model_module_version": "2.0.0",
      "model_name": "HBoxModel",
      "state": {
       "children": [
        "IPY_MODEL_3c6e7149a5a148f6a04420e76a5bf636",
        "IPY_MODEL_ca99913a5a99429aa55528268028b4b2",
        "IPY_MODEL_850a0bb9a5a14aa59e2c9f0e796951ae"
       ],
       "layout": "IPY_MODEL_5f645132bc3e4755b306b7cdfca9e282"
      }
     },
     "41945e138ee04153a93920752ef9137b": {
      "model_module": "@jupyter-widgets/controls",
      "model_module_version": "2.0.0",
      "model_name": "HTMLStyleModel",
      "state": {
       "description_width": "",
       "font_size": null,
       "text_color": null
      }
     },
     "41cdf499f2694fcd8ab4af0a75e8154c": {
      "model_module": "@jupyter-widgets/controls",
      "model_module_version": "2.0.0",
      "model_name": "HTMLModel",
      "state": {
       "layout": "IPY_MODEL_eb9361d2cc414225a2a40153cc74d968",
       "style": "IPY_MODEL_c9ea7d81e80b4ff79bcf422019b9f2b2",
       "value": " 5/? [01:56&lt;00:00, 23.14s/it]"
      }
     },
     "422cedfe2fcd4246bf4943085808af9f": {
      "model_module": "@jupyter-widgets/base",
      "model_module_version": "2.0.0",
      "model_name": "LayoutModel",
      "state": {}
     },
     "43f3285d8f804fd2847bba5080f39346": {
      "model_module": "@jupyter-widgets/controls",
      "model_module_version": "2.0.0",
      "model_name": "ProgressStyleModel",
      "state": {
       "description_width": ""
      }
     },
     "447932ae1e5249ad8d10758a5f6e7d34": {
      "model_module": "@jupyter-widgets/controls",
      "model_module_version": "2.0.0",
      "model_name": "HTMLStyleModel",
      "state": {
       "description_width": "",
       "font_size": null,
       "text_color": null
      }
     },
     "460f1e93b9fa44dc92d2bf55e8f9b427": {
      "model_module": "@jupyter-widgets/controls",
      "model_module_version": "2.0.0",
      "model_name": "FloatProgressModel",
      "state": {
       "bar_style": "success",
       "layout": "IPY_MODEL_8844cad5fb934d04b0268ac652216a2c",
       "max": 1,
       "style": "IPY_MODEL_d534cb62d05249688d68e88dceecc232",
       "value": 1
      }
     },
     "46a73056847b4bae9f87b2569c1e327e": {
      "model_module": "@jupyter-widgets/controls",
      "model_module_version": "2.0.0",
      "model_name": "HBoxModel",
      "state": {
       "children": [
        "IPY_MODEL_7ff4da7f77674115b292cc0bc12abe5b",
        "IPY_MODEL_b9a68eabf5c9402b830cd64f59cdc923",
        "IPY_MODEL_981f3f3cad674a22ad1c2e42de48c4ef"
       ],
       "layout": "IPY_MODEL_611f67b6198549709da4e7ed9ee9257d"
      }
     },
     "47bcfd59dee14081b5638ec65aae64ae": {
      "model_module": "@jupyter-widgets/base",
      "model_module_version": "2.0.0",
      "model_name": "LayoutModel",
      "state": {}
     },
     "486f40773a0345aba29c5f41ccdd0aa1": {
      "model_module": "@jupyter-widgets/controls",
      "model_module_version": "2.0.0",
      "model_name": "HTMLModel",
      "state": {
       "layout": "IPY_MODEL_cc4cae4d0bcc43cd98264c4ee1753d95",
       "style": "IPY_MODEL_d3f8139dc2d84d98aca4e0aea25de296",
       "value": " 5/? [02:39&lt;00:00, 31.83s/it]"
      }
     },
     "496b43bc22274aeebc928b48bdc99641": {
      "model_module": "@jupyter-widgets/controls",
      "model_module_version": "2.0.0",
      "model_name": "HTMLStyleModel",
      "state": {
       "description_width": "",
       "font_size": null,
       "text_color": null
      }
     },
     "497b15bb1e8d483482b4207e7db81a72": {
      "model_module": "@jupyter-widgets/controls",
      "model_module_version": "2.0.0",
      "model_name": "ProgressStyleModel",
      "state": {
       "description_width": ""
      }
     },
     "49c9839e4e4247888bf4bb1e6f4764c0": {
      "model_module": "@jupyter-widgets/base",
      "model_module_version": "2.0.0",
      "model_name": "LayoutModel",
      "state": {}
     },
     "4a490e3e66c34a4d97bd760fb9892a34": {
      "model_module": "@jupyter-widgets/base",
      "model_module_version": "2.0.0",
      "model_name": "LayoutModel",
      "state": {}
     },
     "4b5f60cef62543039121540f82722154": {
      "model_module": "@jupyter-widgets/controls",
      "model_module_version": "2.0.0",
      "model_name": "HTMLStyleModel",
      "state": {
       "description_width": "",
       "font_size": null,
       "text_color": null
      }
     },
     "4cc8421073b244b68782ce35cabe91f3": {
      "model_module": "@jupyter-widgets/base",
      "model_module_version": "2.0.0",
      "model_name": "LayoutModel",
      "state": {
       "width": "20px"
      }
     },
     "4db9ff451f8a4733b04fbe549eac85e9": {
      "model_module": "@jupyter-widgets/base",
      "model_module_version": "2.0.0",
      "model_name": "LayoutModel",
      "state": {
       "width": "20px"
      }
     },
     "4e3a63a7c9fc4e16af7fedac468ef5a2": {
      "model_module": "@jupyter-widgets/controls",
      "model_module_version": "2.0.0",
      "model_name": "ProgressStyleModel",
      "state": {
       "description_width": ""
      }
     },
     "4f3795ac24cd4b31b6836eeaa61d8ef2": {
      "model_module": "@jupyter-widgets/controls",
      "model_module_version": "2.0.0",
      "model_name": "HBoxModel",
      "state": {
       "children": [
        "IPY_MODEL_c752c1bcfd6d4d999d90f35371f07ecd",
        "IPY_MODEL_be3fc7cc46e74bab8e1fe81967dfe8b0",
        "IPY_MODEL_8b6fa8f516ae4f2d9217b38d59c86c59"
       ],
       "layout": "IPY_MODEL_79067d298320494a9b187d89c3abc1e3"
      }
     },
     "4fd3e535c74e45aab6f25627e29ed882": {
      "model_module": "@jupyter-widgets/controls",
      "model_module_version": "2.0.0",
      "model_name": "HTMLModel",
      "state": {
       "layout": "IPY_MODEL_f43f549641dd4cc88d18f6cbf1db8489",
       "style": "IPY_MODEL_624ca77f291642d19a88f52710fdd7be",
       "value": " 0/? [00:18&lt;?, ?it/s]"
      }
     },
     "4fd935fdc5594675bd928c30ac2e7da9": {
      "model_module": "@jupyter-widgets/base",
      "model_module_version": "2.0.0",
      "model_name": "LayoutModel",
      "state": {}
     },
     "508362b513864faaa4d3331d7104855b": {
      "model_module": "@jupyter-widgets/controls",
      "model_module_version": "2.0.0",
      "model_name": "ProgressStyleModel",
      "state": {
       "description_width": ""
      }
     },
     "516b70eff4c5426c812bb13ce2b72b99": {
      "model_module": "@jupyter-widgets/base",
      "model_module_version": "2.0.0",
      "model_name": "LayoutModel",
      "state": {}
     },
     "51f7671a562d4242a4adb7204be93ada": {
      "model_module": "@jupyter-widgets/controls",
      "model_module_version": "2.0.0",
      "model_name": "HTMLModel",
      "state": {
       "layout": "IPY_MODEL_dc2d9dbe7b55455aa1c7ad467064760b",
       "style": "IPY_MODEL_63b8c48bba9546af8c2037524d89b31c"
      }
     },
     "5318546ea26c4ed19ce1e52a23dfae76": {
      "model_module": "@jupyter-widgets/controls",
      "model_module_version": "2.0.0",
      "model_name": "ProgressStyleModel",
      "state": {
       "description_width": ""
      }
     },
     "538fbe5095ce489d8b674d2264fbd96c": {
      "model_module": "@jupyter-widgets/controls",
      "model_module_version": "2.0.0",
      "model_name": "ProgressStyleModel",
      "state": {
       "description_width": ""
      }
     },
     "540c0d2adea74b6d889bb28406a40add": {
      "model_module": "@jupyter-widgets/controls",
      "model_module_version": "2.0.0",
      "model_name": "HTMLModel",
      "state": {
       "layout": "IPY_MODEL_1d7760ea5eff4aa1bd6bf2ade82648a0",
       "style": "IPY_MODEL_496b43bc22274aeebc928b48bdc99641"
      }
     },
     "5423b645abff4740912670a0a7f90ee2": {
      "model_module": "@jupyter-widgets/base",
      "model_module_version": "2.0.0",
      "model_name": "LayoutModel",
      "state": {
       "width": "20px"
      }
     },
     "544454d1e9c44aee9a67f3908037c92b": {
      "model_module": "@jupyter-widgets/controls",
      "model_module_version": "2.0.0",
      "model_name": "FloatProgressModel",
      "state": {
       "bar_style": "success",
       "layout": "IPY_MODEL_2b7d01497e144926afdc535b5ea9593a",
       "max": 1,
       "style": "IPY_MODEL_eaeb971b6bdf46d698ad85ec80ae31aa",
       "value": 1
      }
     },
     "548d1004f7e340f1b8ee413f4e874011": {
      "model_module": "@jupyter-widgets/controls",
      "model_module_version": "2.0.0",
      "model_name": "HBoxModel",
      "state": {
       "children": [
        "IPY_MODEL_84c24b2ac0ac4095a0401f471646501f",
        "IPY_MODEL_efaf8b8792114c82af3ba8ec17d56525",
        "IPY_MODEL_081870dd96a946ed88f6ca324787b352"
       ],
       "layout": "IPY_MODEL_2692e64964ed4c5db295e2cbe7acdd00"
      }
     },
     "55a042f6dcef4f3c8a050888b5778e33": {
      "model_module": "@jupyter-widgets/controls",
      "model_module_version": "2.0.0",
      "model_name": "HBoxModel",
      "state": {
       "children": [
        "IPY_MODEL_b6c39521e3b241dabe4948af048962dd",
        "IPY_MODEL_0efbc45ef0ba4ca29156f958d78efc0c",
        "IPY_MODEL_f80988aea3d346acaec0e17c13fdc2f6"
       ],
       "layout": "IPY_MODEL_e98d1812bb4c4d71bc99d95b7e5f73c6"
      }
     },
     "56e6a217f90a4ed89f257d3bd07c6433": {
      "model_module": "@jupyter-widgets/base",
      "model_module_version": "2.0.0",
      "model_name": "LayoutModel",
      "state": {}
     },
     "56fe02cfd3e74ab188acc60641b586bc": {
      "model_module": "@jupyter-widgets/controls",
      "model_module_version": "2.0.0",
      "model_name": "HTMLModel",
      "state": {
       "layout": "IPY_MODEL_5d1aa6a3603b493db12641217d8694be",
       "style": "IPY_MODEL_40b02c4757f547ef8242d567bcc154fa",
       "value": " 15/15 [34:40&lt;00:00, 124.22s/it]"
      }
     },
     "572cff9838584a49be91b2c7b00588e1": {
      "model_module": "@jupyter-widgets/base",
      "model_module_version": "2.0.0",
      "model_name": "LayoutModel",
      "state": {}
     },
     "5774bbb3a1af471f999b7a60c47bf2df": {
      "model_module": "@jupyter-widgets/controls",
      "model_module_version": "2.0.0",
      "model_name": "FloatProgressModel",
      "state": {
       "bar_style": "success",
       "layout": "IPY_MODEL_1a59f76b0a354e3da0824cda063481fb",
       "max": 1,
       "style": "IPY_MODEL_ba813e647e10421ebac7d9d136b9641a",
       "value": 1
      }
     },
     "5797956e109a40b2ac604e3e9a793422": {
      "model_module": "@jupyter-widgets/controls",
      "model_module_version": "2.0.0",
      "model_name": "ProgressStyleModel",
      "state": {
       "description_width": ""
      }
     },
     "584e50a3b6af4e76837f2bb4ef789938": {
      "model_module": "@jupyter-widgets/controls",
      "model_module_version": "2.0.0",
      "model_name": "HTMLModel",
      "state": {
       "layout": "IPY_MODEL_73fb93be085d4365944f6c102a7a9223",
       "style": "IPY_MODEL_7762c4d7e2ba481c95e5e1f121757348",
       "value": " 5/? [00:50&lt;00:00,  9.97s/it]"
      }
     },
     "58db393bbdd045b792fddd7ed4cfffb2": {
      "model_module": "@jupyter-widgets/controls",
      "model_module_version": "2.0.0",
      "model_name": "HTMLModel",
      "state": {
       "layout": "IPY_MODEL_98bac08e5d6442d9b21273323f618296",
       "style": "IPY_MODEL_61fd8f2e62d5432ab1ba02244260b28f",
       "value": " 5/? [01:54&lt;00:00, 22.67s/it]"
      }
     },
     "59f0c285f81d4c019c46e82e92599a9e": {
      "model_module": "@jupyter-widgets/controls",
      "model_module_version": "2.0.0",
      "model_name": "HTMLStyleModel",
      "state": {
       "description_width": "",
       "font_size": null,
       "text_color": null
      }
     },
     "5a97ce55f74741c3b1385570c5250a0a": {
      "model_module": "@jupyter-widgets/base",
      "model_module_version": "2.0.0",
      "model_name": "LayoutModel",
      "state": {}
     },
     "5bad12eb93e9415e808ee6c304f26a1c": {
      "model_module": "@jupyter-widgets/controls",
      "model_module_version": "2.0.0",
      "model_name": "FloatProgressModel",
      "state": {
       "bar_style": "success",
       "layout": "IPY_MODEL_b51c0a43afb140aba46f4718308a6b9d",
       "max": 1,
       "style": "IPY_MODEL_8ef9ce2b517c4350a24c1b0f61452ef1",
       "value": 1
      }
     },
     "5c3270145d694ad8bb9b78d37aab9de7": {
      "model_module": "@jupyter-widgets/base",
      "model_module_version": "2.0.0",
      "model_name": "LayoutModel",
      "state": {
       "width": "20px"
      }
     },
     "5d1aa6a3603b493db12641217d8694be": {
      "model_module": "@jupyter-widgets/base",
      "model_module_version": "2.0.0",
      "model_name": "LayoutModel",
      "state": {}
     },
     "5d61a84dc57644cf876fded8ecb8b02d": {
      "model_module": "@jupyter-widgets/controls",
      "model_module_version": "2.0.0",
      "model_name": "HTMLModel",
      "state": {
       "layout": "IPY_MODEL_f4c514b83f484c3d897cd9b745226cbc",
       "style": "IPY_MODEL_4b5f60cef62543039121540f82722154",
       "value": " 5/? [01:54&lt;00:00, 23.00s/it]"
      }
     },
     "5dd18594de7f4c00bbb0b1612dec3a15": {
      "model_module": "@jupyter-widgets/controls",
      "model_module_version": "2.0.0",
      "model_name": "FloatProgressModel",
      "state": {
       "bar_style": "success",
       "layout": "IPY_MODEL_d4030cfff5844768bdfc898328f9f039",
       "max": 15,
       "style": "IPY_MODEL_497b15bb1e8d483482b4207e7db81a72",
       "value": 15
      }
     },
     "5e2f6dbaecb9461ba802eefc67cf67fb": {
      "model_module": "@jupyter-widgets/controls",
      "model_module_version": "2.0.0",
      "model_name": "HBoxModel",
      "state": {
       "children": [
        "IPY_MODEL_b3a9783575444658b9921f90f72c5259",
        "IPY_MODEL_5bad12eb93e9415e808ee6c304f26a1c",
        "IPY_MODEL_20f8da793c49485a8d58b0c0b39587f4"
       ],
       "layout": "IPY_MODEL_35304e8de1064cbf8c5ca00c21f207f8"
      }
     },
     "5f645132bc3e4755b306b7cdfca9e282": {
      "model_module": "@jupyter-widgets/base",
      "model_module_version": "2.0.0",
      "model_name": "LayoutModel",
      "state": {}
     },
     "5fb3887ae8b044beaa34f70ac233c11c": {
      "model_module": "@jupyter-widgets/controls",
      "model_module_version": "2.0.0",
      "model_name": "ProgressStyleModel",
      "state": {
       "description_width": ""
      }
     },
     "60f91002a1da4d16a32a29484f4ce848": {
      "model_module": "@jupyter-widgets/base",
      "model_module_version": "2.0.0",
      "model_name": "LayoutModel",
      "state": {}
     },
     "611f67b6198549709da4e7ed9ee9257d": {
      "model_module": "@jupyter-widgets/base",
      "model_module_version": "2.0.0",
      "model_name": "LayoutModel",
      "state": {}
     },
     "61850bc9bfc246c89d09bcf17b34d66c": {
      "model_module": "@jupyter-widgets/controls",
      "model_module_version": "2.0.0",
      "model_name": "HTMLModel",
      "state": {
       "layout": "IPY_MODEL_2dc1d355a3de40eeafa0071eb2f02b23",
       "style": "IPY_MODEL_e990bde1f0d04d89986a31975da44673"
      }
     },
     "61fd8f2e62d5432ab1ba02244260b28f": {
      "model_module": "@jupyter-widgets/controls",
      "model_module_version": "2.0.0",
      "model_name": "HTMLStyleModel",
      "state": {
       "description_width": "",
       "font_size": null,
       "text_color": null
      }
     },
     "624ca77f291642d19a88f52710fdd7be": {
      "model_module": "@jupyter-widgets/controls",
      "model_module_version": "2.0.0",
      "model_name": "HTMLStyleModel",
      "state": {
       "description_width": "",
       "font_size": null,
       "text_color": null
      }
     },
     "6251b82eb81d49b4a8677cc73ed32a13": {
      "model_module": "@jupyter-widgets/controls",
      "model_module_version": "2.0.0",
      "model_name": "ProgressStyleModel",
      "state": {
       "description_width": ""
      }
     },
     "62d6193d65644010be84d89a26164720": {
      "model_module": "@jupyter-widgets/controls",
      "model_module_version": "2.0.0",
      "model_name": "HTMLModel",
      "state": {
       "layout": "IPY_MODEL_98f14dc776ce4b43b97be334ca09e9a8",
       "style": "IPY_MODEL_b40bfadbe0c846b0842ebd4ba92d6c4d"
      }
     },
     "63b8c48bba9546af8c2037524d89b31c": {
      "model_module": "@jupyter-widgets/controls",
      "model_module_version": "2.0.0",
      "model_name": "HTMLStyleModel",
      "state": {
       "description_width": "",
       "font_size": null,
       "text_color": null
      }
     },
     "63cc7b173c58483489db58b5ff1c9c41": {
      "model_module": "@jupyter-widgets/base",
      "model_module_version": "2.0.0",
      "model_name": "LayoutModel",
      "state": {}
     },
     "6419f5bf036d4f75a1d874760f2b2c4d": {
      "model_module": "@jupyter-widgets/base",
      "model_module_version": "2.0.0",
      "model_name": "LayoutModel",
      "state": {
       "width": "20px"
      }
     },
     "6496fda93a37471f864fc898bdd704ba": {
      "model_module": "@jupyter-widgets/controls",
      "model_module_version": "2.0.0",
      "model_name": "HTMLModel",
      "state": {
       "layout": "IPY_MODEL_fcf674a771bb4ecd9b7c344fc607164c",
       "style": "IPY_MODEL_d312a998819843aca4f63778cfc916ec"
      }
     },
     "64f1d3a0b2bf4de2a1d2eceab79d794f": {
      "model_module": "@jupyter-widgets/controls",
      "model_module_version": "2.0.0",
      "model_name": "HTMLStyleModel",
      "state": {
       "description_width": "",
       "font_size": null,
       "text_color": null
      }
     },
     "6527ed784d69480f93cbf28e04fe553f": {
      "model_module": "@jupyter-widgets/controls",
      "model_module_version": "2.0.0",
      "model_name": "HTMLModel",
      "state": {
       "layout": "IPY_MODEL_815ff68c7c6149389643120e5af633f6",
       "style": "IPY_MODEL_30f494d16f3c4adf890f1db7fa216d97",
       "value": " 5/? [02:31&lt;00:00, 30.30s/it]"
      }
     },
     "65f3ef306fe14a8982d5849d78f859a3": {
      "model_module": "@jupyter-widgets/base",
      "model_module_version": "2.0.0",
      "model_name": "LayoutModel",
      "state": {
       "width": "20px"
      }
     },
     "688afb09134e420e8434048c38e85f78": {
      "model_module": "@jupyter-widgets/controls",
      "model_module_version": "2.0.0",
      "model_name": "HTMLModel",
      "state": {
       "layout": "IPY_MODEL_e7014c0d59fe48cf9d4c4ee377b9bd1e",
       "style": "IPY_MODEL_d11f4f5c6f6a445f96b085e2728bc7a4",
       "value": " 2/? [01:03&lt;00:00, 20.86s/it]"
      }
     },
     "688ea1c9ade9423896e45bdd9c74b91b": {
      "model_module": "@jupyter-widgets/controls",
      "model_module_version": "2.0.0",
      "model_name": "HTMLModel",
      "state": {
       "layout": "IPY_MODEL_69250c65915247c69362027de99782f1",
       "style": "IPY_MODEL_12e779fde0ba475c9e0244c1feef26f5"
      }
     },
     "69250c65915247c69362027de99782f1": {
      "model_module": "@jupyter-widgets/base",
      "model_module_version": "2.0.0",
      "model_name": "LayoutModel",
      "state": {}
     },
     "696af1adeead425982c7cffcd672fec5": {
      "model_module": "@jupyter-widgets/base",
      "model_module_version": "2.0.0",
      "model_name": "LayoutModel",
      "state": {}
     },
     "6997f8dfd36e43c59dbcc9d643e083a4": {
      "model_module": "@jupyter-widgets/base",
      "model_module_version": "2.0.0",
      "model_name": "LayoutModel",
      "state": {}
     },
     "6a057f0169ab4710a628bb13150bdb18": {
      "model_module": "@jupyter-widgets/base",
      "model_module_version": "2.0.0",
      "model_name": "LayoutModel",
      "state": {}
     },
     "6b7c6da1bfa446c4bf17dfad41e3640b": {
      "model_module": "@jupyter-widgets/controls",
      "model_module_version": "2.0.0",
      "model_name": "HBoxModel",
      "state": {
       "children": [
        "IPY_MODEL_26dd4d604bb84228b1513aea29dc9ed9",
        "IPY_MODEL_d257ca076e1c49c980d1e1d095562d5d",
        "IPY_MODEL_0b1fc39b14ee4e918752a3460295f9ab"
       ],
       "layout": "IPY_MODEL_5a97ce55f74741c3b1385570c5250a0a"
      }
     },
     "6c6965910e7f41c9ab3f99168946f1c7": {
      "model_module": "@jupyter-widgets/base",
      "model_module_version": "2.0.0",
      "model_name": "LayoutModel",
      "state": {}
     },
     "6cc1d01055a4410485b755ecf35bd74e": {
      "model_module": "@jupyter-widgets/controls",
      "model_module_version": "2.0.0",
      "model_name": "HTMLModel",
      "state": {
       "layout": "IPY_MODEL_49c9839e4e4247888bf4bb1e6f4764c0",
       "style": "IPY_MODEL_7f26a1abc85d481faee43566de673b43",
       "value": " 5/? [02:32&lt;00:00, 30.73s/it]"
      }
     },
     "6d170ac34d5a46aabe6fdbaaaf7bc695": {
      "model_module": "@jupyter-widgets/base",
      "model_module_version": "2.0.0",
      "model_name": "LayoutModel",
      "state": {}
     },
     "6dbe893e64a44225a1b3ac6a8378465f": {
      "model_module": "@jupyter-widgets/controls",
      "model_module_version": "2.0.0",
      "model_name": "FloatProgressModel",
      "state": {
       "bar_style": "danger",
       "layout": "IPY_MODEL_f3f15e3d74c24e1c90b1d3f8c1c4ccd7",
       "max": 8,
       "style": "IPY_MODEL_24bc5e1c4acc4289b1f68abdb54e9f42",
       "value": 4
      }
     },
     "6def10e5dd664b5c854b25abcb71b906": {
      "model_module": "@jupyter-widgets/controls",
      "model_module_version": "2.0.0",
      "model_name": "HTMLStyleModel",
      "state": {
       "description_width": "",
       "font_size": null,
       "text_color": null
      }
     },
     "6e8be58b2e0f4446a1198d28f81eecaa": {
      "model_module": "@jupyter-widgets/controls",
      "model_module_version": "2.0.0",
      "model_name": "ProgressStyleModel",
      "state": {
       "description_width": ""
      }
     },
     "6fa6335ba42046168d2e29e981d15245": {
      "model_module": "@jupyter-widgets/controls",
      "model_module_version": "2.0.0",
      "model_name": "HBoxModel",
      "state": {
       "children": [
        "IPY_MODEL_51f7671a562d4242a4adb7204be93ada",
        "IPY_MODEL_9fe6c94a135a400b9a24ed09bef63b8f",
        "IPY_MODEL_41cdf499f2694fcd8ab4af0a75e8154c"
       ],
       "layout": "IPY_MODEL_7fdbbee483c049959b2f43e092fb8ebd"
      }
     },
     "6fdc0126625d4934a530bd8991a8606a": {
      "model_module": "@jupyter-widgets/controls",
      "model_module_version": "2.0.0",
      "model_name": "HBoxModel",
      "state": {
       "children": [
        "IPY_MODEL_61850bc9bfc246c89d09bcf17b34d66c",
        "IPY_MODEL_3a6c1165d7624bd092dc8a646d7688c2",
        "IPY_MODEL_6527ed784d69480f93cbf28e04fe553f"
       ],
       "layout": "IPY_MODEL_b259c587f43c48cfaaa26baf0ddc1647"
      }
     },
     "6ff5e82b99b648e391043844069b9a6a": {
      "model_module": "@jupyter-widgets/controls",
      "model_module_version": "2.0.0",
      "model_name": "ProgressStyleModel",
      "state": {
       "description_width": ""
      }
     },
     "7065bf268e9c4a968b37b302ec8a84c0": {
      "model_module": "@jupyter-widgets/controls",
      "model_module_version": "2.0.0",
      "model_name": "ProgressStyleModel",
      "state": {
       "description_width": ""
      }
     },
     "70e639ac968c48979a0b23e8ee780619": {
      "model_module": "@jupyter-widgets/controls",
      "model_module_version": "2.0.0",
      "model_name": "HBoxModel",
      "state": {
       "children": [
        "IPY_MODEL_b9e32145d3134c959e2d8b794e3ca8fd",
        "IPY_MODEL_0f464176b28049f189716c229e27e362",
        "IPY_MODEL_5d61a84dc57644cf876fded8ecb8b02d"
       ],
       "layout": "IPY_MODEL_8949d39b8bf0489095bd516fc17f78e9"
      }
     },
     "71386c1eac8a444dbc82c107d2e200d4": {
      "model_module": "@jupyter-widgets/controls",
      "model_module_version": "2.0.0",
      "model_name": "HTMLStyleModel",
      "state": {
       "description_width": "",
       "font_size": null,
       "text_color": null
      }
     },
     "7167500978f34820bb1c503ba0882414": {
      "model_module": "@jupyter-widgets/base",
      "model_module_version": "2.0.0",
      "model_name": "LayoutModel",
      "state": {}
     },
     "7184012d7a7146b19157b469b6e52748": {
      "model_module": "@jupyter-widgets/base",
      "model_module_version": "2.0.0",
      "model_name": "LayoutModel",
      "state": {}
     },
     "71bb0235932b47319f4f762587b88775": {
      "model_module": "@jupyter-widgets/base",
      "model_module_version": "2.0.0",
      "model_name": "LayoutModel",
      "state": {}
     },
     "73582422d50f4d84a91f3ccbee69be0e": {
      "model_module": "@jupyter-widgets/controls",
      "model_module_version": "2.0.0",
      "model_name": "ProgressStyleModel",
      "state": {
       "description_width": ""
      }
     },
     "73fb93be085d4365944f6c102a7a9223": {
      "model_module": "@jupyter-widgets/base",
      "model_module_version": "2.0.0",
      "model_name": "LayoutModel",
      "state": {}
     },
     "744e775a3554496fa1c335d4db529836": {
      "model_module": "@jupyter-widgets/base",
      "model_module_version": "2.0.0",
      "model_name": "LayoutModel",
      "state": {}
     },
     "7762c4d7e2ba481c95e5e1f121757348": {
      "model_module": "@jupyter-widgets/controls",
      "model_module_version": "2.0.0",
      "model_name": "HTMLStyleModel",
      "state": {
       "description_width": "",
       "font_size": null,
       "text_color": null
      }
     },
     "778c5abec80d420a8ae03cead3637f04": {
      "model_module": "@jupyter-widgets/controls",
      "model_module_version": "2.0.0",
      "model_name": "HTMLModel",
      "state": {
       "layout": "IPY_MODEL_4fd935fdc5594675bd928c30ac2e7da9",
       "style": "IPY_MODEL_7cfb8723d024459d8e57ebc8337db101",
       "value": " 5/? [01:46&lt;00:00, 21.22s/it]"
      }
     },
     "787bfc115f7a4f2b9b5021f5cf68b8f3": {
      "model_module": "@jupyter-widgets/controls",
      "model_module_version": "2.0.0",
      "model_name": "ProgressStyleModel",
      "state": {
       "description_width": ""
      }
     },
     "78e909ba16c74f13bebd4e2b93d7ae5c": {
      "model_module": "@jupyter-widgets/controls",
      "model_module_version": "2.0.0",
      "model_name": "FloatProgressModel",
      "state": {
       "bar_style": "success",
       "layout": "IPY_MODEL_1eb8f3ff472c44299c8047e536c5b4ed",
       "max": 1,
       "style": "IPY_MODEL_5797956e109a40b2ac604e3e9a793422",
       "value": 1
      }
     },
     "78ec8f1f1c7141af90fdc54fce0ab7c7": {
      "model_module": "@jupyter-widgets/controls",
      "model_module_version": "2.0.0",
      "model_name": "HTMLModel",
      "state": {
       "layout": "IPY_MODEL_8cc2f6c22bc445d6a285dc6b92dc8921",
       "style": "IPY_MODEL_2387e8b0654646b3bf2ea7bb616d7a7f"
      }
     },
     "78f17417903b49388e7e81862a2a4789": {
      "model_module": "@jupyter-widgets/base",
      "model_module_version": "2.0.0",
      "model_name": "LayoutModel",
      "state": {}
     },
     "79067d298320494a9b187d89c3abc1e3": {
      "model_module": "@jupyter-widgets/base",
      "model_module_version": "2.0.0",
      "model_name": "LayoutModel",
      "state": {}
     },
     "790ccf3c37d8485885601a67ad4d421a": {
      "model_module": "@jupyter-widgets/controls",
      "model_module_version": "2.0.0",
      "model_name": "HBoxModel",
      "state": {
       "children": [
        "IPY_MODEL_98ce6bb80d3344b6b38e353e19e8a36d",
        "IPY_MODEL_d238f10c951e47cc861f3dde495aedcc",
        "IPY_MODEL_ab3210fc5fbe4061a7220f90aa4d9de3"
       ],
       "layout": "IPY_MODEL_a835448146d6404eb2449d7eee49b04d"
      }
     },
     "79afd0e9181b49549da31690ccd346d6": {
      "model_module": "@jupyter-widgets/controls",
      "model_module_version": "2.0.0",
      "model_name": "HTMLModel",
      "state": {
       "layout": "IPY_MODEL_f6cfe335b16f461b94bb606174fbffb9",
       "style": "IPY_MODEL_224db92b1bc84c8aa91178ed38e89a27"
      }
     },
     "79e3d9d302f646949b116f29b6c00dd7": {
      "model_module": "@jupyter-widgets/base",
      "model_module_version": "2.0.0",
      "model_name": "LayoutModel",
      "state": {}
     },
     "7bc47238ef3546bd8c00bb0e53aa00cd": {
      "model_module": "@jupyter-widgets/controls",
      "model_module_version": "2.0.0",
      "model_name": "HTMLModel",
      "state": {
       "layout": "IPY_MODEL_180441b0cd2346e8b239241d3d7addd0",
       "style": "IPY_MODEL_237d72c8d598469fb8d5b3ac6e253852"
      }
     },
     "7cfb8723d024459d8e57ebc8337db101": {
      "model_module": "@jupyter-widgets/controls",
      "model_module_version": "2.0.0",
      "model_name": "HTMLStyleModel",
      "state": {
       "description_width": "",
       "font_size": null,
       "text_color": null
      }
     },
     "7dfdca4ff9d24bf5aca55d867ae75246": {
      "model_module": "@jupyter-widgets/controls",
      "model_module_version": "2.0.0",
      "model_name": "ProgressStyleModel",
      "state": {
       "description_width": ""
      }
     },
     "7f17a7e584cb4ebfa255315340816e2f": {
      "model_module": "@jupyter-widgets/base",
      "model_module_version": "2.0.0",
      "model_name": "LayoutModel",
      "state": {}
     },
     "7f26a1abc85d481faee43566de673b43": {
      "model_module": "@jupyter-widgets/controls",
      "model_module_version": "2.0.0",
      "model_name": "HTMLStyleModel",
      "state": {
       "description_width": "",
       "font_size": null,
       "text_color": null
      }
     },
     "7f67727d471c414b9ec7a84d79cc0eae": {
      "model_module": "@jupyter-widgets/controls",
      "model_module_version": "2.0.0",
      "model_name": "HBoxModel",
      "state": {
       "children": [
        "IPY_MODEL_7bc47238ef3546bd8c00bb0e53aa00cd",
        "IPY_MODEL_aa150167c7784038a8daa59d4f3f359b",
        "IPY_MODEL_688afb09134e420e8434048c38e85f78"
       ],
       "layout": "IPY_MODEL_40705b0763e34a45934d1931a02472dd"
      }
     },
     "7fdbbee483c049959b2f43e092fb8ebd": {
      "model_module": "@jupyter-widgets/base",
      "model_module_version": "2.0.0",
      "model_name": "LayoutModel",
      "state": {}
     },
     "7ff4da7f77674115b292cc0bc12abe5b": {
      "model_module": "@jupyter-widgets/controls",
      "model_module_version": "2.0.0",
      "model_name": "HTMLModel",
      "state": {
       "layout": "IPY_MODEL_696af1adeead425982c7cffcd672fec5",
       "style": "IPY_MODEL_feec11fb682f4ab39901fa3e26d33b0c"
      }
     },
     "809d90fe456d458085cd075a9e0a7316": {
      "model_module": "@jupyter-widgets/base",
      "model_module_version": "2.0.0",
      "model_name": "LayoutModel",
      "state": {}
     },
     "80eb348299c845c6b98a0a0ab5c43cfa": {
      "model_module": "@jupyter-widgets/controls",
      "model_module_version": "2.0.0",
      "model_name": "HBoxModel",
      "state": {
       "children": [
        "IPY_MODEL_b05bba216e654257a5207e22ea8b71a2",
        "IPY_MODEL_460f1e93b9fa44dc92d2bf55e8f9b427",
        "IPY_MODEL_c4bd878928ce48b0932e42fe45008cc9"
       ],
       "layout": "IPY_MODEL_81f73032a3674ab7b038894e8c9ffc7d"
      }
     },
     "815ff68c7c6149389643120e5af633f6": {
      "model_module": "@jupyter-widgets/base",
      "model_module_version": "2.0.0",
      "model_name": "LayoutModel",
      "state": {}
     },
     "8171cf7cd46d4fb3a35520b14f4f2cf3": {
      "model_module": "@jupyter-widgets/controls",
      "model_module_version": "2.0.0",
      "model_name": "HTMLStyleModel",
      "state": {
       "description_width": "",
       "font_size": null,
       "text_color": null
      }
     },
     "81f73032a3674ab7b038894e8c9ffc7d": {
      "model_module": "@jupyter-widgets/base",
      "model_module_version": "2.0.0",
      "model_name": "LayoutModel",
      "state": {}
     },
     "835a2e06974646ce98c176c6093bf016": {
      "model_module": "@jupyter-widgets/controls",
      "model_module_version": "2.0.0",
      "model_name": "HTMLStyleModel",
      "state": {
       "description_width": "",
       "font_size": null,
       "text_color": null
      }
     },
     "8396d90f12f341b880b24a24378a8e2d": {
      "model_module": "@jupyter-widgets/base",
      "model_module_version": "2.0.0",
      "model_name": "LayoutModel",
      "state": {}
     },
     "840192b6a9654a8a8baa26e5f74080c8": {
      "model_module": "@jupyter-widgets/controls",
      "model_module_version": "2.0.0",
      "model_name": "HTMLModel",
      "state": {
       "layout": "IPY_MODEL_ffe109730da340acb86540f352a903f8",
       "style": "IPY_MODEL_8d8975831a77446ba90d00b5db0bc5f3",
       "value": " 5/? [01:53&lt;00:00, 22.65s/it]"
      }
     },
     "8449fa91f7c8472a8b4ab95d7dccbf15": {
      "model_module": "@jupyter-widgets/controls",
      "model_module_version": "2.0.0",
      "model_name": "HTMLStyleModel",
      "state": {
       "description_width": "",
       "font_size": null,
       "text_color": null
      }
     },
     "84c24b2ac0ac4095a0401f471646501f": {
      "model_module": "@jupyter-widgets/controls",
      "model_module_version": "2.0.0",
      "model_name": "HTMLModel",
      "state": {
       "layout": "IPY_MODEL_8c3fea7ccad44cf79a4219f186e54b1b",
       "style": "IPY_MODEL_c205e930e75646b0af6b56e8465af577"
      }
     },
     "850a0bb9a5a14aa59e2c9f0e796951ae": {
      "model_module": "@jupyter-widgets/controls",
      "model_module_version": "2.0.0",
      "model_name": "HTMLModel",
      "state": {
       "layout": "IPY_MODEL_a6e8db2adc5c481eb82e3eeedbb32ab6",
       "style": "IPY_MODEL_ef7a6071beb548bca72e3406c1076d1d",
       "value": " 5/? [01:54&lt;00:00, 22.97s/it]"
      }
     },
     "8521ac50f2ff430095c4c10b809e2b8b": {
      "model_module": "@jupyter-widgets/controls",
      "model_module_version": "2.0.0",
      "model_name": "HTMLModel",
      "state": {
       "layout": "IPY_MODEL_9339ceadaa384a508d95c65db40fe31a",
       "style": "IPY_MODEL_71386c1eac8a444dbc82c107d2e200d4",
       "value": " 5/? [01:57&lt;00:00, 23.43s/it]"
      }
     },
     "852f4d8cd6ee4c0580a9888a3f86d0c1": {
      "model_module": "@jupyter-widgets/controls",
      "model_module_version": "2.0.0",
      "model_name": "HTMLStyleModel",
      "state": {
       "description_width": "",
       "font_size": null,
       "text_color": null
      }
     },
     "8666be71e7764433bbe8fd44c090a51f": {
      "model_module": "@jupyter-widgets/base",
      "model_module_version": "2.0.0",
      "model_name": "LayoutModel",
      "state": {}
     },
     "8718afcdf0d34acc9cb389326edc6ed7": {
      "model_module": "@jupyter-widgets/controls",
      "model_module_version": "2.0.0",
      "model_name": "FloatProgressModel",
      "state": {
       "bar_style": "success",
       "layout": "IPY_MODEL_4cc8421073b244b68782ce35cabe91f3",
       "max": 1,
       "style": "IPY_MODEL_fe61f501a1374765a4cc0f55ed737dd4",
       "value": 1
      }
     },
     "877ed8e4a5174cd5913dfbf625560ed0": {
      "model_module": "@jupyter-widgets/controls",
      "model_module_version": "2.0.0",
      "model_name": "HTMLModel",
      "state": {
       "layout": "IPY_MODEL_9eb7632c76d644c88f84f9a07054be06",
       "style": "IPY_MODEL_a92b5c7c1a8141f8a6942ecb7485883c",
       "value": " 5/? [02:42&lt;00:00, 32.71s/it]"
      }
     },
     "87a742d3c84c4fef9af06edbb8b638fc": {
      "model_module": "@jupyter-widgets/base",
      "model_module_version": "2.0.0",
      "model_name": "LayoutModel",
      "state": {}
     },
     "8844cad5fb934d04b0268ac652216a2c": {
      "model_module": "@jupyter-widgets/base",
      "model_module_version": "2.0.0",
      "model_name": "LayoutModel",
      "state": {
       "width": "20px"
      }
     },
     "889b8e0eee064f87809a6cfdace84f84": {
      "model_module": "@jupyter-widgets/base",
      "model_module_version": "2.0.0",
      "model_name": "LayoutModel",
      "state": {
       "width": "20px"
      }
     },
     "88f131c8a8be4076b0791c155b6eb2df": {
      "model_module": "@jupyter-widgets/controls",
      "model_module_version": "2.0.0",
      "model_name": "HTMLStyleModel",
      "state": {
       "description_width": "",
       "font_size": null,
       "text_color": null
      }
     },
     "8949d39b8bf0489095bd516fc17f78e9": {
      "model_module": "@jupyter-widgets/base",
      "model_module_version": "2.0.0",
      "model_name": "LayoutModel",
      "state": {}
     },
     "8963d2b5021740b5b78d3d1dc90a1dda": {
      "model_module": "@jupyter-widgets/base",
      "model_module_version": "2.0.0",
      "model_name": "LayoutModel",
      "state": {
       "width": "20px"
      }
     },
     "8b6fa8f516ae4f2d9217b38d59c86c59": {
      "model_module": "@jupyter-widgets/controls",
      "model_module_version": "2.0.0",
      "model_name": "HTMLModel",
      "state": {
       "layout": "IPY_MODEL_7167500978f34820bb1c503ba0882414",
       "style": "IPY_MODEL_d966facc5dee4ac281ccf611d0bc8699",
       "value": " 0/40 [00:18&lt;?, ?it/s]"
      }
     },
     "8b74bc81975b4af2865e58ffabb70d5c": {
      "model_module": "@jupyter-widgets/controls",
      "model_module_version": "2.0.0",
      "model_name": "HTMLModel",
      "state": {
       "layout": "IPY_MODEL_21fc644cf73744ebadc8ca0014296a6f",
       "style": "IPY_MODEL_64f1d3a0b2bf4de2a1d2eceab79d794f",
       "value": " 5/? [02:00&lt;00:00, 23.93s/it]"
      }
     },
     "8bcfc2601ad54e528b8075bb705d8f3c": {
      "model_module": "@jupyter-widgets/controls",
      "model_module_version": "2.0.0",
      "model_name": "FloatProgressModel",
      "state": {
       "bar_style": "success",
       "layout": "IPY_MODEL_c4585830026f458a9052569941e4b6fa",
       "max": 1,
       "style": "IPY_MODEL_e33e6038d83d4c2bb3c372fa455cc1fa",
       "value": 1
      }
     },
     "8c3fea7ccad44cf79a4219f186e54b1b": {
      "model_module": "@jupyter-widgets/base",
      "model_module_version": "2.0.0",
      "model_name": "LayoutModel",
      "state": {}
     },
     "8ca1bac7809942688c4b22a3519cded8": {
      "model_module": "@jupyter-widgets/controls",
      "model_module_version": "2.0.0",
      "model_name": "HTMLModel",
      "state": {
       "layout": "IPY_MODEL_d178f1ebfeee4a9ebe2d2e00b1b1aa01",
       "style": "IPY_MODEL_1cb30615def54ab086fd558bfc0809b3",
       "value": " 5/? [01:49&lt;00:00, 21.91s/it]"
      }
     },
     "8cc2f6c22bc445d6a285dc6b92dc8921": {
      "model_module": "@jupyter-widgets/base",
      "model_module_version": "2.0.0",
      "model_name": "LayoutModel",
      "state": {}
     },
     "8d1d3bfbe071462a94139de2b031edc1": {
      "model_module": "@jupyter-widgets/base",
      "model_module_version": "2.0.0",
      "model_name": "LayoutModel",
      "state": {}
     },
     "8d552e2f2ea04998b2e0e8fbdfac9e18": {
      "model_module": "@jupyter-widgets/controls",
      "model_module_version": "2.0.0",
      "model_name": "HTMLModel",
      "state": {
       "layout": "IPY_MODEL_56e6a217f90a4ed89f257d3bd07c6433",
       "style": "IPY_MODEL_e864122b253e4108b5145dcffe0d372c"
      }
     },
     "8d8975831a77446ba90d00b5db0bc5f3": {
      "model_module": "@jupyter-widgets/controls",
      "model_module_version": "2.0.0",
      "model_name": "HTMLStyleModel",
      "state": {
       "description_width": "",
       "font_size": null,
       "text_color": null
      }
     },
     "8ef9ce2b517c4350a24c1b0f61452ef1": {
      "model_module": "@jupyter-widgets/controls",
      "model_module_version": "2.0.0",
      "model_name": "ProgressStyleModel",
      "state": {
       "description_width": ""
      }
     },
     "8f3157170faf42a09f095f8cd78acc09": {
      "model_module": "@jupyter-widgets/controls",
      "model_module_version": "2.0.0",
      "model_name": "HBoxModel",
      "state": {
       "children": [
        "IPY_MODEL_540c0d2adea74b6d889bb28406a40add",
        "IPY_MODEL_0c03f2ea593a4f1bad8a3f3ee2256cc8",
        "IPY_MODEL_dbe98e7dba494b979c74663d67ce7b98"
       ],
       "layout": "IPY_MODEL_a8da366b18fe41beac15bcc72a344a0e"
      }
     },
     "8f5ed08cc3cc488c892eb89676e4440e": {
      "model_module": "@jupyter-widgets/controls",
      "model_module_version": "2.0.0",
      "model_name": "HBoxModel",
      "state": {
       "children": [
        "IPY_MODEL_8d552e2f2ea04998b2e0e8fbdfac9e18",
        "IPY_MODEL_f28dcf81db134907b86a0fe2906c2fd2",
        "IPY_MODEL_778c5abec80d420a8ae03cead3637f04"
       ],
       "layout": "IPY_MODEL_b27e72252b46403090335212b20def5e"
      }
     },
     "90101aa516ef42b59b9b9dce0ff5f357": {
      "model_module": "@jupyter-widgets/controls",
      "model_module_version": "2.0.0",
      "model_name": "HTMLModel",
      "state": {
       "layout": "IPY_MODEL_178d447a79ae42c282bfe362fdf81f3e",
       "style": "IPY_MODEL_447932ae1e5249ad8d10758a5f6e7d34"
      }
     },
     "9037cbcf34714042b2702fd1a8ec79af": {
      "model_module": "@jupyter-widgets/controls",
      "model_module_version": "2.0.0",
      "model_name": "HBoxModel",
      "state": {
       "children": [
        "IPY_MODEL_38b5e212d81e44bcb1e7ab092c86a050",
        "IPY_MODEL_8bcfc2601ad54e528b8075bb705d8f3c",
        "IPY_MODEL_8521ac50f2ff430095c4c10b809e2b8b"
       ],
       "layout": "IPY_MODEL_6997f8dfd36e43c59dbcc9d643e083a4"
      }
     },
     "90f2c4fc93b3478b8a2269bb99c78ea4": {
      "model_module": "@jupyter-widgets/controls",
      "model_module_version": "2.0.0",
      "model_name": "HTMLStyleModel",
      "state": {
       "description_width": "",
       "font_size": null,
       "text_color": null
      }
     },
     "918a42a85ff44b5cb65f9ad33adc2662": {
      "model_module": "@jupyter-widgets/controls",
      "model_module_version": "2.0.0",
      "model_name": "HTMLStyleModel",
      "state": {
       "description_width": "",
       "font_size": null,
       "text_color": null
      }
     },
     "9339ceadaa384a508d95c65db40fe31a": {
      "model_module": "@jupyter-widgets/base",
      "model_module_version": "2.0.0",
      "model_name": "LayoutModel",
      "state": {}
     },
     "94e18c9304ba4dd9a2e44b90654cb42c": {
      "model_module": "@jupyter-widgets/base",
      "model_module_version": "2.0.0",
      "model_name": "LayoutModel",
      "state": {}
     },
     "95a68a42e40a49899a91c817e3c4c640": {
      "model_module": "@jupyter-widgets/base",
      "model_module_version": "2.0.0",
      "model_name": "LayoutModel",
      "state": {}
     },
     "963574497b7143f2b9da39c53f58abf1": {
      "model_module": "@jupyter-widgets/base",
      "model_module_version": "2.0.0",
      "model_name": "LayoutModel",
      "state": {
       "width": "20px"
      }
     },
     "9671ddb0a583478a89df6ddb4b95a406": {
      "model_module": "@jupyter-widgets/controls",
      "model_module_version": "2.0.0",
      "model_name": "HBoxModel",
      "state": {
       "children": [
        "IPY_MODEL_d748b6b5cff3428f8d7b3329905f39af",
        "IPY_MODEL_3b5078d27f9e42d9a9e5c0262b0a8fa7",
        "IPY_MODEL_d5c1ff9a3bdc4bb688c67a7d3e98660f"
       ],
       "layout": "IPY_MODEL_34e3c21dccf346299bcd25973da21099"
      }
     },
     "96c466cd005a45928f61ea23e464e044": {
      "model_module": "@jupyter-widgets/base",
      "model_module_version": "2.0.0",
      "model_name": "LayoutModel",
      "state": {
       "width": "20px"
      }
     },
     "981f3f3cad674a22ad1c2e42de48c4ef": {
      "model_module": "@jupyter-widgets/controls",
      "model_module_version": "2.0.0",
      "model_name": "HTMLModel",
      "state": {
       "layout": "IPY_MODEL_8d1d3bfbe071462a94139de2b031edc1",
       "style": "IPY_MODEL_141b373d3b774e43b8ba9d41fa5969ba",
       "value": " 5/? [02:34&lt;00:00, 31.02s/it]"
      }
     },
     "98b54d17d341411688c1c2d1ee5b0acf": {
      "model_module": "@jupyter-widgets/controls",
      "model_module_version": "2.0.0",
      "model_name": "FloatProgressModel",
      "state": {
       "bar_style": "success",
       "layout": "IPY_MODEL_6419f5bf036d4f75a1d874760f2b2c4d",
       "max": 1,
       "style": "IPY_MODEL_538fbe5095ce489d8b674d2264fbd96c",
       "value": 1
      }
     },
     "98bac08e5d6442d9b21273323f618296": {
      "model_module": "@jupyter-widgets/base",
      "model_module_version": "2.0.0",
      "model_name": "LayoutModel",
      "state": {}
     },
     "98c117128c2b44aaae27aa9928d62b56": {
      "model_module": "@jupyter-widgets/controls",
      "model_module_version": "2.0.0",
      "model_name": "HTMLStyleModel",
      "state": {
       "description_width": "",
       "font_size": null,
       "text_color": null
      }
     },
     "98ce6bb80d3344b6b38e353e19e8a36d": {
      "model_module": "@jupyter-widgets/controls",
      "model_module_version": "2.0.0",
      "model_name": "HTMLModel",
      "state": {
       "layout": "IPY_MODEL_744e775a3554496fa1c335d4db529836",
       "style": "IPY_MODEL_98c117128c2b44aaae27aa9928d62b56"
      }
     },
     "98f14dc776ce4b43b97be334ca09e9a8": {
      "model_module": "@jupyter-widgets/base",
      "model_module_version": "2.0.0",
      "model_name": "LayoutModel",
      "state": {}
     },
     "992515e9e31e4abb88a47b5bd8ee7b23": {
      "model_module": "@jupyter-widgets/base",
      "model_module_version": "2.0.0",
      "model_name": "LayoutModel",
      "state": {
       "width": "20px"
      }
     },
     "9a0b8d391861452a89deeace1c338746": {
      "model_module": "@jupyter-widgets/base",
      "model_module_version": "2.0.0",
      "model_name": "LayoutModel",
      "state": {
       "width": "20px"
      }
     },
     "9ac42a34c29a43c2a972342c63ee98f7": {
      "model_module": "@jupyter-widgets/base",
      "model_module_version": "2.0.0",
      "model_name": "LayoutModel",
      "state": {}
     },
     "9eb7632c76d644c88f84f9a07054be06": {
      "model_module": "@jupyter-widgets/base",
      "model_module_version": "2.0.0",
      "model_name": "LayoutModel",
      "state": {}
     },
     "9ef3c844794844edb797f7cac9a32d43": {
      "model_module": "@jupyter-widgets/base",
      "model_module_version": "2.0.0",
      "model_name": "LayoutModel",
      "state": {}
     },
     "9f8cee00e8024de8a933e15a4b015f12": {
      "model_module": "@jupyter-widgets/base",
      "model_module_version": "2.0.0",
      "model_name": "LayoutModel",
      "state": {}
     },
     "9fe6c94a135a400b9a24ed09bef63b8f": {
      "model_module": "@jupyter-widgets/controls",
      "model_module_version": "2.0.0",
      "model_name": "FloatProgressModel",
      "state": {
       "bar_style": "success",
       "layout": "IPY_MODEL_f62fdb6aa7a740cbae204ee7f2928224",
       "max": 1,
       "style": "IPY_MODEL_787bfc115f7a4f2b9b5021f5cf68b8f3",
       "value": 1
      }
     },
     "a08cf5da23154fcc949d9c034aa5ea19": {
      "model_module": "@jupyter-widgets/controls",
      "model_module_version": "2.0.0",
      "model_name": "HTMLModel",
      "state": {
       "layout": "IPY_MODEL_63cc7b173c58483489db58b5ff1c9c41",
       "style": "IPY_MODEL_e57e2fd5c8574ee595dcb8d66a78dad1",
       "value": " 5/? [01:44&lt;00:00, 21.33s/it]"
      }
     },
     "a15c84cda98f456097c837aff6de40e1": {
      "model_module": "@jupyter-widgets/controls",
      "model_module_version": "2.0.0",
      "model_name": "HTMLStyleModel",
      "state": {
       "description_width": "",
       "font_size": null,
       "text_color": null
      }
     },
     "a18e7b1ea584411895cb3139e45f8f91": {
      "model_module": "@jupyter-widgets/controls",
      "model_module_version": "2.0.0",
      "model_name": "ProgressStyleModel",
      "state": {
       "description_width": ""
      }
     },
     "a2d1e49c5d98432b872b8864c2b9b974": {
      "model_module": "@jupyter-widgets/base",
      "model_module_version": "2.0.0",
      "model_name": "LayoutModel",
      "state": {
       "width": "20px"
      }
     },
     "a31b4fbafb604b489e43f5e0e2eb9cb4": {
      "model_module": "@jupyter-widgets/controls",
      "model_module_version": "2.0.0",
      "model_name": "HTMLStyleModel",
      "state": {
       "description_width": "",
       "font_size": null,
       "text_color": null
      }
     },
     "a5b4017c9da94f3b8312a8c4cffd57e7": {
      "model_module": "@jupyter-widgets/controls",
      "model_module_version": "2.0.0",
      "model_name": "HTMLModel",
      "state": {
       "layout": "IPY_MODEL_95a68a42e40a49899a91c817e3c4c640",
       "style": "IPY_MODEL_ce5b74ade8854c38b384cc665daca9a9",
       "value": " 5/? [01:56&lt;00:00, 23.18s/it]"
      }
     },
     "a6e8db2adc5c481eb82e3eeedbb32ab6": {
      "model_module": "@jupyter-widgets/base",
      "model_module_version": "2.0.0",
      "model_name": "LayoutModel",
      "state": {}
     },
     "a6f71a2a2f8644d1b4837eac055571ea": {
      "model_module": "@jupyter-widgets/controls",
      "model_module_version": "2.0.0",
      "model_name": "ProgressStyleModel",
      "state": {
       "description_width": ""
      }
     },
     "a720c2bedc32467abcef24b6d8c46962": {
      "model_module": "@jupyter-widgets/controls",
      "model_module_version": "2.0.0",
      "model_name": "HBoxModel",
      "state": {
       "children": [
        "IPY_MODEL_6496fda93a37471f864fc898bdd704ba",
        "IPY_MODEL_1ecaa6a4dc9647259115d4fcfc5afc03",
        "IPY_MODEL_58db393bbdd045b792fddd7ed4cfffb2"
       ],
       "layout": "IPY_MODEL_9ef3c844794844edb797f7cac9a32d43"
      }
     },
     "a7a452cb1b1a458c998466e780ecf335": {
      "model_module": "@jupyter-widgets/base",
      "model_module_version": "2.0.0",
      "model_name": "LayoutModel",
      "state": {}
     },
     "a835448146d6404eb2449d7eee49b04d": {
      "model_module": "@jupyter-widgets/base",
      "model_module_version": "2.0.0",
      "model_name": "LayoutModel",
      "state": {}
     },
     "a8da366b18fe41beac15bcc72a344a0e": {
      "model_module": "@jupyter-widgets/base",
      "model_module_version": "2.0.0",
      "model_name": "LayoutModel",
      "state": {}
     },
     "a8e0f1eafc72481792f548c09fac9e9a": {
      "model_module": "@jupyter-widgets/base",
      "model_module_version": "2.0.0",
      "model_name": "LayoutModel",
      "state": {}
     },
     "a92b5c7c1a8141f8a6942ecb7485883c": {
      "model_module": "@jupyter-widgets/controls",
      "model_module_version": "2.0.0",
      "model_name": "HTMLStyleModel",
      "state": {
       "description_width": "",
       "font_size": null,
       "text_color": null
      }
     },
     "a9c8e2c0031044e9a38f766f2fe41a1e": {
      "model_module": "@jupyter-widgets/controls",
      "model_module_version": "2.0.0",
      "model_name": "HTMLStyleModel",
      "state": {
       "description_width": "",
       "font_size": null,
       "text_color": null
      }
     },
     "aa150167c7784038a8daa59d4f3f359b": {
      "model_module": "@jupyter-widgets/controls",
      "model_module_version": "2.0.0",
      "model_name": "FloatProgressModel",
      "state": {
       "bar_style": "danger",
       "layout": "IPY_MODEL_65f3ef306fe14a8982d5849d78f859a3",
       "max": 1,
       "style": "IPY_MODEL_eff83247228e4da5a2b4d49c07228f3a",
       "value": 1
      }
     },
     "aaa1033ce24b46639810290076db462e": {
      "model_module": "@jupyter-widgets/controls",
      "model_module_version": "2.0.0",
      "model_name": "HTMLModel",
      "state": {
       "layout": "IPY_MODEL_78f17417903b49388e7e81862a2a4789",
       "style": "IPY_MODEL_c4509b6276e04fa48f9ec3a790cd15a2"
      }
     },
     "ab3210fc5fbe4061a7220f90aa4d9de3": {
      "model_module": "@jupyter-widgets/controls",
      "model_module_version": "2.0.0",
      "model_name": "HTMLModel",
      "state": {
       "layout": "IPY_MODEL_fc2f4af914b345e8ba0a37008fb46053",
       "style": "IPY_MODEL_30245aad9e2b44e790f1d235ddfbf827",
       "value": " 5/? [01:41&lt;00:00, 20.21s/it]"
      }
     },
     "ac0738524b4443189c24110a1899a8e8": {
      "model_module": "@jupyter-widgets/controls",
      "model_module_version": "2.0.0",
      "model_name": "HBoxModel",
      "state": {
       "children": [
        "IPY_MODEL_f605b55376a94fda862c7665d382936f",
        "IPY_MODEL_d60fb42859e8495eb36f4a6a801ac7cc",
        "IPY_MODEL_a5b4017c9da94f3b8312a8c4cffd57e7"
       ],
       "layout": "IPY_MODEL_b0c7ae82d43e498aacb9376d13bc24f9"
      }
     },
     "ac6e07e4cbad44149091109ec2e6d412": {
      "model_module": "@jupyter-widgets/controls",
      "model_module_version": "2.0.0",
      "model_name": "ProgressStyleModel",
      "state": {
       "description_width": ""
      }
     },
     "ae54b1e399c1459e9821276e9afe4391": {
      "model_module": "@jupyter-widgets/base",
      "model_module_version": "2.0.0",
      "model_name": "LayoutModel",
      "state": {}
     },
     "aeda86779f404a62bce88fedff70f1a1": {
      "model_module": "@jupyter-widgets/controls",
      "model_module_version": "2.0.0",
      "model_name": "HTMLStyleModel",
      "state": {
       "description_width": "",
       "font_size": null,
       "text_color": null
      }
     },
     "afca2ffcfdc04cbca3e3b40b20568625": {
      "model_module": "@jupyter-widgets/controls",
      "model_module_version": "2.0.0",
      "model_name": "HTMLModel",
      "state": {
       "layout": "IPY_MODEL_6d170ac34d5a46aabe6fdbaaaf7bc695",
       "style": "IPY_MODEL_36780c64b21047df8489551870462eb4"
      }
     },
     "b05bba216e654257a5207e22ea8b71a2": {
      "model_module": "@jupyter-widgets/controls",
      "model_module_version": "2.0.0",
      "model_name": "HTMLModel",
      "state": {
       "layout": "IPY_MODEL_ddf588ce0634416b8c2cc8fbe53e6386",
       "style": "IPY_MODEL_90f2c4fc93b3478b8a2269bb99c78ea4"
      }
     },
     "b0c7ae82d43e498aacb9376d13bc24f9": {
      "model_module": "@jupyter-widgets/base",
      "model_module_version": "2.0.0",
      "model_name": "LayoutModel",
      "state": {}
     },
     "b0e45f49453547b98506d94a5c202c10": {
      "model_module": "@jupyter-widgets/controls",
      "model_module_version": "2.0.0",
      "model_name": "HTMLStyleModel",
      "state": {
       "description_width": "",
       "font_size": null,
       "text_color": null
      }
     },
     "b131d7b87c8443dca88750ac03f9a7d0": {
      "model_module": "@jupyter-widgets/base",
      "model_module_version": "2.0.0",
      "model_name": "LayoutModel",
      "state": {}
     },
     "b259c587f43c48cfaaa26baf0ddc1647": {
      "model_module": "@jupyter-widgets/base",
      "model_module_version": "2.0.0",
      "model_name": "LayoutModel",
      "state": {}
     },
     "b27e72252b46403090335212b20def5e": {
      "model_module": "@jupyter-widgets/base",
      "model_module_version": "2.0.0",
      "model_name": "LayoutModel",
      "state": {}
     },
     "b2a9f817a1df4dcaa14411a73e894dea": {
      "model_module": "@jupyter-widgets/base",
      "model_module_version": "2.0.0",
      "model_name": "LayoutModel",
      "state": {}
     },
     "b31238f440b54ce396998de11759f6f9": {
      "model_module": "@jupyter-widgets/controls",
      "model_module_version": "2.0.0",
      "model_name": "FloatProgressModel",
      "state": {
       "bar_style": "success",
       "layout": "IPY_MODEL_9a0b8d391861452a89deeace1c338746",
       "max": 1,
       "style": "IPY_MODEL_a18e7b1ea584411895cb3139e45f8f91",
       "value": 1
      }
     },
     "b341cc41507a4a2dbed6af984c00a608": {
      "model_module": "@jupyter-widgets/controls",
      "model_module_version": "2.0.0",
      "model_name": "FloatProgressModel",
      "state": {
       "bar_style": "success",
       "layout": "IPY_MODEL_320b920550184ebc9d324d6cc6154916",
       "max": 1,
       "style": "IPY_MODEL_3cf8a89416b949698affa9bf44d46b17",
       "value": 1
      }
     },
     "b374e6d5370243fe8034fd75c82d34cc": {
      "model_module": "@jupyter-widgets/controls",
      "model_module_version": "2.0.0",
      "model_name": "HTMLModel",
      "state": {
       "layout": "IPY_MODEL_422cedfe2fcd4246bf4943085808af9f",
       "style": "IPY_MODEL_59f0c285f81d4c019c46e82e92599a9e",
       "value": " 25%"
      }
     },
     "b3a9783575444658b9921f90f72c5259": {
      "model_module": "@jupyter-widgets/controls",
      "model_module_version": "2.0.0",
      "model_name": "HTMLModel",
      "state": {
       "layout": "IPY_MODEL_516b70eff4c5426c812bb13ce2b72b99",
       "style": "IPY_MODEL_6def10e5dd664b5c854b25abcb71b906"
      }
     },
     "b40bfadbe0c846b0842ebd4ba92d6c4d": {
      "model_module": "@jupyter-widgets/controls",
      "model_module_version": "2.0.0",
      "model_name": "HTMLStyleModel",
      "state": {
       "description_width": "",
       "font_size": null,
       "text_color": null
      }
     },
     "b51c0a43afb140aba46f4718308a6b9d": {
      "model_module": "@jupyter-widgets/base",
      "model_module_version": "2.0.0",
      "model_name": "LayoutModel",
      "state": {
       "width": "20px"
      }
     },
     "b57a525f4c7f44a78651264b202d9cd4": {
      "model_module": "@jupyter-widgets/base",
      "model_module_version": "2.0.0",
      "model_name": "LayoutModel",
      "state": {}
     },
     "b57a77fae149458e8d0a7dfcdd3f8987": {
      "model_module": "@jupyter-widgets/controls",
      "model_module_version": "2.0.0",
      "model_name": "ProgressStyleModel",
      "state": {
       "description_width": ""
      }
     },
     "b5ac3ba202824376a15a890392030b6c": {
      "model_module": "@jupyter-widgets/controls",
      "model_module_version": "2.0.0",
      "model_name": "HBoxModel",
      "state": {
       "children": [
        "IPY_MODEL_e0f7b7593ef84379bb6b257b780db6bb",
        "IPY_MODEL_1fbff052f76b448aa3cb9e3697b29361",
        "IPY_MODEL_f16731ef968e45148af5399bafbea3f1"
       ],
       "layout": "IPY_MODEL_4a490e3e66c34a4d97bd760fb9892a34"
      }
     },
     "b5e158de9be44ae285113273429a4198": {
      "model_module": "@jupyter-widgets/controls",
      "model_module_version": "2.0.0",
      "model_name": "HTMLModel",
      "state": {
       "layout": "IPY_MODEL_b77e047820654f1dbe223a6eee923ab3",
       "style": "IPY_MODEL_1cb135b9c1d74f969a59cfe320484104"
      }
     },
     "b6643addf9064de7a6baf32bb90758a1": {
      "model_module": "@jupyter-widgets/controls",
      "model_module_version": "2.0.0",
      "model_name": "HTMLStyleModel",
      "state": {
       "description_width": "",
       "font_size": null,
       "text_color": null
      }
     },
     "b6c39521e3b241dabe4948af048962dd": {
      "model_module": "@jupyter-widgets/controls",
      "model_module_version": "2.0.0",
      "model_name": "HTMLModel",
      "state": {
       "layout": "IPY_MODEL_ca83e06a8b0b4477a1ae574e0fa2777f",
       "style": "IPY_MODEL_918a42a85ff44b5cb65f9ad33adc2662"
      }
     },
     "b77e047820654f1dbe223a6eee923ab3": {
      "model_module": "@jupyter-widgets/base",
      "model_module_version": "2.0.0",
      "model_name": "LayoutModel",
      "state": {}
     },
     "b9699d4e95da484cb7bd6722f4808be9": {
      "model_module": "@jupyter-widgets/base",
      "model_module_version": "2.0.0",
      "model_name": "LayoutModel",
      "state": {}
     },
     "b9a68eabf5c9402b830cd64f59cdc923": {
      "model_module": "@jupyter-widgets/controls",
      "model_module_version": "2.0.0",
      "model_name": "FloatProgressModel",
      "state": {
       "bar_style": "success",
       "layout": "IPY_MODEL_e6a81d35c8a54d5ba47f37bf811e97d4",
       "max": 1,
       "style": "IPY_MODEL_7065bf268e9c4a968b37b302ec8a84c0",
       "value": 1
      }
     },
     "b9e32145d3134c959e2d8b794e3ca8fd": {
      "model_module": "@jupyter-widgets/controls",
      "model_module_version": "2.0.0",
      "model_name": "HTMLModel",
      "state": {
       "layout": "IPY_MODEL_b9699d4e95da484cb7bd6722f4808be9",
       "style": "IPY_MODEL_18aeb39b49814437b9f41b1a921d5c39"
      }
     },
     "ba44ca6a6433438da8a29e2aeb0fcd3e": {
      "model_module": "@jupyter-widgets/controls",
      "model_module_version": "2.0.0",
      "model_name": "HTMLStyleModel",
      "state": {
       "description_width": "",
       "font_size": null,
       "text_color": null
      }
     },
     "ba813e647e10421ebac7d9d136b9641a": {
      "model_module": "@jupyter-widgets/controls",
      "model_module_version": "2.0.0",
      "model_name": "ProgressStyleModel",
      "state": {
       "description_width": ""
      }
     },
     "ba954c1e4877474095ad727a343aa694": {
      "model_module": "@jupyter-widgets/controls",
      "model_module_version": "2.0.0",
      "model_name": "HBoxModel",
      "state": {
       "children": [
        "IPY_MODEL_b5e158de9be44ae285113273429a4198",
        "IPY_MODEL_130413b881c147e18e9c8ad73969f4a0",
        "IPY_MODEL_486f40773a0345aba29c5f41ccdd0aa1"
       ],
       "layout": "IPY_MODEL_f27c9fc5982d457d8561bfb9b4e5b998"
      }
     },
     "bae718dc2f194cfea7e77d3eebd9ff43": {
      "model_module": "@jupyter-widgets/controls",
      "model_module_version": "2.0.0",
      "model_name": "HTMLModel",
      "state": {
       "layout": "IPY_MODEL_8666be71e7764433bbe8fd44c090a51f",
       "style": "IPY_MODEL_c56d159f98ca42fc920de4d99fd97057"
      }
     },
     "bb32bd979fd74e4bac9cb47436decda7": {
      "model_module": "@jupyter-widgets/controls",
      "model_module_version": "2.0.0",
      "model_name": "HTMLStyleModel",
      "state": {
       "description_width": "",
       "font_size": null,
       "text_color": null
      }
     },
     "bb5ca84876754e01aa75c721705d9276": {
      "model_module": "@jupyter-widgets/base",
      "model_module_version": "2.0.0",
      "model_name": "LayoutModel",
      "state": {}
     },
     "bba40ea69b624d91a6513c03e2e8c75f": {
      "model_module": "@jupyter-widgets/controls",
      "model_module_version": "2.0.0",
      "model_name": "HBoxModel",
      "state": {
       "children": [
        "IPY_MODEL_79afd0e9181b49549da31690ccd346d6",
        "IPY_MODEL_c1ff4fe81b9e47fb9a2f7efa1a2008dd",
        "IPY_MODEL_877ed8e4a5174cd5913dfbf625560ed0"
       ],
       "layout": "IPY_MODEL_f9ec770a5dd34eaab9edad0addadc56f"
      }
     },
     "bc70888aeb3345f79af0a1eaa3f93cc4": {
      "model_module": "@jupyter-widgets/controls",
      "model_module_version": "2.0.0",
      "model_name": "HTMLModel",
      "state": {
       "layout": "IPY_MODEL_94e18c9304ba4dd9a2e44b90654cb42c",
       "style": "IPY_MODEL_aeda86779f404a62bce88fedff70f1a1",
       "value": " 10/40 [19:48&lt;55:37, 111.24s/it]"
      }
     },
     "bcb42b4785cb49589782874d6e1073f8": {
      "model_module": "@jupyter-widgets/controls",
      "model_module_version": "2.0.0",
      "model_name": "HTMLStyleModel",
      "state": {
       "description_width": "",
       "font_size": null,
       "text_color": null
      }
     },
     "bde781d79f9f42dc9d27fab201ff5d8b": {
      "model_module": "@jupyter-widgets/base",
      "model_module_version": "2.0.0",
      "model_name": "LayoutModel",
      "state": {}
     },
     "be3fc7cc46e74bab8e1fe81967dfe8b0": {
      "model_module": "@jupyter-widgets/controls",
      "model_module_version": "2.0.0",
      "model_name": "FloatProgressModel",
      "state": {
       "bar_style": "danger",
       "layout": "IPY_MODEL_71bb0235932b47319f4f762587b88775",
       "max": 40,
       "style": "IPY_MODEL_a6f71a2a2f8644d1b4837eac055571ea"
      }
     },
     "bf70a2e219944456963d34bc9f13cc44": {
      "model_module": "@jupyter-widgets/controls",
      "model_module_version": "2.0.0",
      "model_name": "HTMLModel",
      "state": {
       "layout": "IPY_MODEL_7184012d7a7146b19157b469b6e52748",
       "style": "IPY_MODEL_835a2e06974646ce98c176c6093bf016",
       "value": " 5/? [02:27&lt;00:00, 29.17s/it]"
      }
     },
     "c062f1d5a4d6426c88561c5c86891d9a": {
      "model_module": "@jupyter-widgets/controls",
      "model_module_version": "2.0.0",
      "model_name": "HTMLStyleModel",
      "state": {
       "description_width": "",
       "font_size": null,
       "text_color": null
      }
     },
     "c10fc3a162db428da33f09d70433cb2d": {
      "model_module": "@jupyter-widgets/base",
      "model_module_version": "2.0.0",
      "model_name": "LayoutModel",
      "state": {}
     },
     "c1ff4fe81b9e47fb9a2f7efa1a2008dd": {
      "model_module": "@jupyter-widgets/controls",
      "model_module_version": "2.0.0",
      "model_name": "FloatProgressModel",
      "state": {
       "bar_style": "success",
       "layout": "IPY_MODEL_963574497b7143f2b9da39c53f58abf1",
       "max": 1,
       "style": "IPY_MODEL_5318546ea26c4ed19ce1e52a23dfae76",
       "value": 1
      }
     },
     "c205e930e75646b0af6b56e8465af577": {
      "model_module": "@jupyter-widgets/controls",
      "model_module_version": "2.0.0",
      "model_name": "HTMLStyleModel",
      "state": {
       "description_width": "",
       "font_size": null,
       "text_color": null
      }
     },
     "c412c377b4e54d9f82bf4a0feaf59d42": {
      "model_module": "@jupyter-widgets/base",
      "model_module_version": "2.0.0",
      "model_name": "LayoutModel",
      "state": {}
     },
     "c4509b6276e04fa48f9ec3a790cd15a2": {
      "model_module": "@jupyter-widgets/controls",
      "model_module_version": "2.0.0",
      "model_name": "HTMLStyleModel",
      "state": {
       "description_width": "",
       "font_size": null,
       "text_color": null
      }
     },
     "c4585830026f458a9052569941e4b6fa": {
      "model_module": "@jupyter-widgets/base",
      "model_module_version": "2.0.0",
      "model_name": "LayoutModel",
      "state": {
       "width": "20px"
      }
     },
     "c4bd878928ce48b0932e42fe45008cc9": {
      "model_module": "@jupyter-widgets/controls",
      "model_module_version": "2.0.0",
      "model_name": "HTMLModel",
      "state": {
       "layout": "IPY_MODEL_cc33d266cc6d420bb7ea79e8269d89fc",
       "style": "IPY_MODEL_bb32bd979fd74e4bac9cb47436decda7",
       "value": " 5/? [02:17&lt;00:00, 29.00s/it]"
      }
     },
     "c540f4704358464e85b24c48d4394ce8": {
      "model_module": "@jupyter-widgets/controls",
      "model_module_version": "2.0.0",
      "model_name": "HTMLModel",
      "state": {
       "layout": "IPY_MODEL_f030ebf8522e440eb31ff2dfe37b45ab",
       "style": "IPY_MODEL_2856cf7673574891a903b0c57cb3934e",
       "value": " 50%"
      }
     },
     "c56d159f98ca42fc920de4d99fd97057": {
      "model_module": "@jupyter-widgets/controls",
      "model_module_version": "2.0.0",
      "model_name": "HTMLStyleModel",
      "state": {
       "description_width": "",
       "font_size": null,
       "text_color": null
      }
     },
     "c5787588717f4b80b8401c0ef1dc0273": {
      "model_module": "@jupyter-widgets/controls",
      "model_module_version": "2.0.0",
      "model_name": "HBoxModel",
      "state": {
       "children": [
        "IPY_MODEL_1074ba302d97443588d7f800140d17d1",
        "IPY_MODEL_111cbe00acc5492bbff751536ab4fc7d",
        "IPY_MODEL_4fd3e535c74e45aab6f25627e29ed882"
       ],
       "layout": "IPY_MODEL_d76a6650690940f4b9a8fe55bf1adc88"
      }
     },
     "c624d394701740188ccaf6ab55ab2f2c": {
      "model_module": "@jupyter-widgets/controls",
      "model_module_version": "2.0.0",
      "model_name": "HBoxModel",
      "state": {
       "children": [
        "IPY_MODEL_62d6193d65644010be84d89a26164720",
        "IPY_MODEL_544454d1e9c44aee9a67f3908037c92b",
        "IPY_MODEL_8ca1bac7809942688c4b22a3519cded8"
       ],
       "layout": "IPY_MODEL_b57a525f4c7f44a78651264b202d9cd4"
      }
     },
     "c752c1bcfd6d4d999d90f35371f07ecd": {
      "model_module": "@jupyter-widgets/controls",
      "model_module_version": "2.0.0",
      "model_name": "HTMLModel",
      "state": {
       "layout": "IPY_MODEL_303c374aa48f48f9b989c4a7864dcf50",
       "style": "IPY_MODEL_f6ca50e5d7944d01822a85cee5346f25",
       "value": "  0%"
      }
     },
     "c85388cc7fde439184ff5c590a9798a1": {
      "model_module": "@jupyter-widgets/controls",
      "model_module_version": "2.0.0",
      "model_name": "HBoxModel",
      "state": {
       "children": [
        "IPY_MODEL_d4078d8b751145fbaf3e2dbe6cef8614",
        "IPY_MODEL_5774bbb3a1af471f999b7a60c47bf2df",
        "IPY_MODEL_8b74bc81975b4af2865e58ffabb70d5c"
       ],
       "layout": "IPY_MODEL_6a057f0169ab4710a628bb13150bdb18"
      }
     },
     "c8fd0496657641108b513901f116599c": {
      "model_module": "@jupyter-widgets/base",
      "model_module_version": "2.0.0",
      "model_name": "LayoutModel",
      "state": {
       "width": "20px"
      }
     },
     "c9ea7d81e80b4ff79bcf422019b9f2b2": {
      "model_module": "@jupyter-widgets/controls",
      "model_module_version": "2.0.0",
      "model_name": "HTMLStyleModel",
      "state": {
       "description_width": "",
       "font_size": null,
       "text_color": null
      }
     },
     "ca46117523f2408c9650aa387436fc6a": {
      "model_module": "@jupyter-widgets/base",
      "model_module_version": "2.0.0",
      "model_name": "LayoutModel",
      "state": {
       "width": "20px"
      }
     },
     "ca83e06a8b0b4477a1ae574e0fa2777f": {
      "model_module": "@jupyter-widgets/base",
      "model_module_version": "2.0.0",
      "model_name": "LayoutModel",
      "state": {}
     },
     "ca99913a5a99429aa55528268028b4b2": {
      "model_module": "@jupyter-widgets/controls",
      "model_module_version": "2.0.0",
      "model_name": "FloatProgressModel",
      "state": {
       "bar_style": "success",
       "layout": "IPY_MODEL_d053d5439d304cd585d948475ea00fcb",
       "max": 1,
       "style": "IPY_MODEL_e913d0657ba74ba1afc4380c886cd954",
       "value": 1
      }
     },
     "cabfea81134b4d7ca334f315dd509d75": {
      "model_module": "@jupyter-widgets/base",
      "model_module_version": "2.0.0",
      "model_name": "LayoutModel",
      "state": {}
     },
     "cbafc39f6a804956aaaa93ca6e8ffd47": {
      "model_module": "@jupyter-widgets/base",
      "model_module_version": "2.0.0",
      "model_name": "LayoutModel",
      "state": {}
     },
     "cc33d266cc6d420bb7ea79e8269d89fc": {
      "model_module": "@jupyter-widgets/base",
      "model_module_version": "2.0.0",
      "model_name": "LayoutModel",
      "state": {}
     },
     "cc4cae4d0bcc43cd98264c4ee1753d95": {
      "model_module": "@jupyter-widgets/base",
      "model_module_version": "2.0.0",
      "model_name": "LayoutModel",
      "state": {}
     },
     "cc538f8d85124dbfbf17c4183af5cc96": {
      "model_module": "@jupyter-widgets/base",
      "model_module_version": "2.0.0",
      "model_name": "LayoutModel",
      "state": {
       "width": "20px"
      }
     },
     "cc580cb4e0e945fc9ce58c4b1043f133": {
      "model_module": "@jupyter-widgets/controls",
      "model_module_version": "2.0.0",
      "model_name": "ProgressStyleModel",
      "state": {
       "description_width": ""
      }
     },
     "ce5b74ade8854c38b384cc665daca9a9": {
      "model_module": "@jupyter-widgets/controls",
      "model_module_version": "2.0.0",
      "model_name": "HTMLStyleModel",
      "state": {
       "description_width": "",
       "font_size": null,
       "text_color": null
      }
     },
     "ce5ddc4b001748f6a973599482dc8a0c": {
      "model_module": "@jupyter-widgets/controls",
      "model_module_version": "2.0.0",
      "model_name": "ProgressStyleModel",
      "state": {
       "description_width": ""
      }
     },
     "ceeeed8e88ff4b8cb3340e90bc556c8f": {
      "model_module": "@jupyter-widgets/controls",
      "model_module_version": "2.0.0",
      "model_name": "ProgressStyleModel",
      "state": {
       "description_width": ""
      }
     },
     "d053d5439d304cd585d948475ea00fcb": {
      "model_module": "@jupyter-widgets/base",
      "model_module_version": "2.0.0",
      "model_name": "LayoutModel",
      "state": {
       "width": "20px"
      }
     },
     "d06e2992b67944dcb7190b10c17b4ff1": {
      "model_module": "@jupyter-widgets/controls",
      "model_module_version": "2.0.0",
      "model_name": "HTMLStyleModel",
      "state": {
       "description_width": "",
       "font_size": null,
       "text_color": null
      }
     },
     "d11f4f5c6f6a445f96b085e2728bc7a4": {
      "model_module": "@jupyter-widgets/controls",
      "model_module_version": "2.0.0",
      "model_name": "HTMLStyleModel",
      "state": {
       "description_width": "",
       "font_size": null,
       "text_color": null
      }
     },
     "d178f1ebfeee4a9ebe2d2e00b1b1aa01": {
      "model_module": "@jupyter-widgets/base",
      "model_module_version": "2.0.0",
      "model_name": "LayoutModel",
      "state": {}
     },
     "d238f10c951e47cc861f3dde495aedcc": {
      "model_module": "@jupyter-widgets/controls",
      "model_module_version": "2.0.0",
      "model_name": "FloatProgressModel",
      "state": {
       "bar_style": "success",
       "layout": "IPY_MODEL_f72bf40e235347999cffc7dce4df9df7",
       "max": 1,
       "style": "IPY_MODEL_ceeeed8e88ff4b8cb3340e90bc556c8f",
       "value": 1
      }
     },
     "d257ca076e1c49c980d1e1d095562d5d": {
      "model_module": "@jupyter-widgets/controls",
      "model_module_version": "2.0.0",
      "model_name": "FloatProgressModel",
      "state": {
       "bar_style": "success",
       "layout": "IPY_MODEL_96c466cd005a45928f61ea23e464e044",
       "max": 1,
       "style": "IPY_MODEL_7dfdca4ff9d24bf5aca55d867ae75246",
       "value": 1
      }
     },
     "d312a998819843aca4f63778cfc916ec": {
      "model_module": "@jupyter-widgets/controls",
      "model_module_version": "2.0.0",
      "model_name": "HTMLStyleModel",
      "state": {
       "description_width": "",
       "font_size": null,
       "text_color": null
      }
     },
     "d3f8139dc2d84d98aca4e0aea25de296": {
      "model_module": "@jupyter-widgets/controls",
      "model_module_version": "2.0.0",
      "model_name": "HTMLStyleModel",
      "state": {
       "description_width": "",
       "font_size": null,
       "text_color": null
      }
     },
     "d4030cfff5844768bdfc898328f9f039": {
      "model_module": "@jupyter-widgets/base",
      "model_module_version": "2.0.0",
      "model_name": "LayoutModel",
      "state": {}
     },
     "d4078d8b751145fbaf3e2dbe6cef8614": {
      "model_module": "@jupyter-widgets/controls",
      "model_module_version": "2.0.0",
      "model_name": "HTMLModel",
      "state": {
       "layout": "IPY_MODEL_60f91002a1da4d16a32a29484f4ce848",
       "style": "IPY_MODEL_c062f1d5a4d6426c88561c5c86891d9a"
      }
     },
     "d534cb62d05249688d68e88dceecc232": {
      "model_module": "@jupyter-widgets/controls",
      "model_module_version": "2.0.0",
      "model_name": "ProgressStyleModel",
      "state": {
       "description_width": ""
      }
     },
     "d5c1ff9a3bdc4bb688c67a7d3e98660f": {
      "model_module": "@jupyter-widgets/controls",
      "model_module_version": "2.0.0",
      "model_name": "HTMLModel",
      "state": {
       "layout": "IPY_MODEL_9f8cee00e8024de8a933e15a4b015f12",
       "style": "IPY_MODEL_8171cf7cd46d4fb3a35520b14f4f2cf3",
       "value": " 5/? [01:08&lt;00:00, 13.79s/it]"
      }
     },
     "d60212fd0c32494c8e991da3851f1516": {
      "model_module": "@jupyter-widgets/base",
      "model_module_version": "2.0.0",
      "model_name": "LayoutModel",
      "state": {}
     },
     "d60fb42859e8495eb36f4a6a801ac7cc": {
      "model_module": "@jupyter-widgets/controls",
      "model_module_version": "2.0.0",
      "model_name": "FloatProgressModel",
      "state": {
       "bar_style": "success",
       "layout": "IPY_MODEL_c8fd0496657641108b513901f116599c",
       "max": 1,
       "style": "IPY_MODEL_ddbf8b94aee746eb862405d0ee298dfa",
       "value": 1
      }
     },
     "d748b6b5cff3428f8d7b3329905f39af": {
      "model_module": "@jupyter-widgets/controls",
      "model_module_version": "2.0.0",
      "model_name": "HTMLModel",
      "state": {
       "layout": "IPY_MODEL_16e1b14d76d64676a79dcd337bc14426",
       "style": "IPY_MODEL_d06e2992b67944dcb7190b10c17b4ff1"
      }
     },
     "d76a6650690940f4b9a8fe55bf1adc88": {
      "model_module": "@jupyter-widgets/base",
      "model_module_version": "2.0.0",
      "model_name": "LayoutModel",
      "state": {}
     },
     "d799138c30eb49d98ac80acceb87508b": {
      "model_module": "@jupyter-widgets/controls",
      "model_module_version": "2.0.0",
      "model_name": "HBoxModel",
      "state": {
       "children": [
        "IPY_MODEL_1140e2c3e784491a99947931c75bde39",
        "IPY_MODEL_b341cc41507a4a2dbed6af984c00a608",
        "IPY_MODEL_078db6474ece4189bf52c26f149cd037"
       ],
       "layout": "IPY_MODEL_9ac42a34c29a43c2a972342c63ee98f7"
      }
     },
     "d8fe2567b8c04fff976cfc38e637f8c9": {
      "model_module": "@jupyter-widgets/base",
      "model_module_version": "2.0.0",
      "model_name": "LayoutModel",
      "state": {}
     },
     "d966facc5dee4ac281ccf611d0bc8699": {
      "model_module": "@jupyter-widgets/controls",
      "model_module_version": "2.0.0",
      "model_name": "HTMLStyleModel",
      "state": {
       "description_width": "",
       "font_size": null,
       "text_color": null
      }
     },
     "dab79acace5f46f2ba097b892e3b2f5a": {
      "model_module": "@jupyter-widgets/base",
      "model_module_version": "2.0.0",
      "model_name": "LayoutModel",
      "state": {}
     },
     "dbe98e7dba494b979c74663d67ce7b98": {
      "model_module": "@jupyter-widgets/controls",
      "model_module_version": "2.0.0",
      "model_name": "HTMLModel",
      "state": {
       "layout": "IPY_MODEL_e634c2f1844a40ba90df2468db228521",
       "style": "IPY_MODEL_ef67743a938543bca70d3ca7f09fe5d8",
       "value": " 4/? [01:54&lt;00:00, 23.70s/it]"
      }
     },
     "dc2d9dbe7b55455aa1c7ad467064760b": {
      "model_module": "@jupyter-widgets/base",
      "model_module_version": "2.0.0",
      "model_name": "LayoutModel",
      "state": {}
     },
     "dc8fef283495489c992f70bed2cbfc6c": {
      "model_module": "@jupyter-widgets/controls",
      "model_module_version": "2.0.0",
      "model_name": "HBoxModel",
      "state": {
       "children": [
        "IPY_MODEL_f13feabbb1104a4087b19a8bb8960506",
        "IPY_MODEL_78e909ba16c74f13bebd4e2b93d7ae5c",
        "IPY_MODEL_058cb318221441dd929d2bac8341ff05"
       ],
       "layout": "IPY_MODEL_7f17a7e584cb4ebfa255315340816e2f"
      }
     },
     "ddbf8b94aee746eb862405d0ee298dfa": {
      "model_module": "@jupyter-widgets/controls",
      "model_module_version": "2.0.0",
      "model_name": "ProgressStyleModel",
      "state": {
       "description_width": ""
      }
     },
     "ddf588ce0634416b8c2cc8fbe53e6386": {
      "model_module": "@jupyter-widgets/base",
      "model_module_version": "2.0.0",
      "model_name": "LayoutModel",
      "state": {}
     },
     "e0a6f13afe0546b39d17cc6d7933db7b": {
      "model_module": "@jupyter-widgets/base",
      "model_module_version": "2.0.0",
      "model_name": "LayoutModel",
      "state": {}
     },
     "e0f7b7593ef84379bb6b257b780db6bb": {
      "model_module": "@jupyter-widgets/controls",
      "model_module_version": "2.0.0",
      "model_name": "HTMLModel",
      "state": {
       "layout": "IPY_MODEL_1ee4ba6b9cc540ba889a7be31589903a",
       "style": "IPY_MODEL_b0e45f49453547b98506d94a5c202c10"
      }
     },
     "e172196d2af548fd809d9f0c7347d839": {
      "model_module": "@jupyter-widgets/controls",
      "model_module_version": "2.0.0",
      "model_name": "HTMLModel",
      "state": {
       "layout": "IPY_MODEL_d60212fd0c32494c8e991da3851f1516",
       "style": "IPY_MODEL_3f54d78fafca4caca61a47a76b78efbf",
       "value": "  0%"
      }
     },
     "e2501ffa59914373b4cfabf300050eb5": {
      "model_module": "@jupyter-widgets/base",
      "model_module_version": "2.0.0",
      "model_name": "LayoutModel",
      "state": {}
     },
     "e2d1a3b169b9404d96a553858cd8b253": {
      "model_module": "@jupyter-widgets/controls",
      "model_module_version": "2.0.0",
      "model_name": "HBoxModel",
      "state": {
       "children": [
        "IPY_MODEL_b374e6d5370243fe8034fd75c82d34cc",
        "IPY_MODEL_f70961703bf946029134dba94b36a823",
        "IPY_MODEL_bc70888aeb3345f79af0a1eaa3f93cc4"
       ],
       "layout": "IPY_MODEL_d8fe2567b8c04fff976cfc38e637f8c9"
      }
     },
     "e33e6038d83d4c2bb3c372fa455cc1fa": {
      "model_module": "@jupyter-widgets/controls",
      "model_module_version": "2.0.0",
      "model_name": "ProgressStyleModel",
      "state": {
       "description_width": ""
      }
     },
     "e57e2fd5c8574ee595dcb8d66a78dad1": {
      "model_module": "@jupyter-widgets/controls",
      "model_module_version": "2.0.0",
      "model_name": "HTMLStyleModel",
      "state": {
       "description_width": "",
       "font_size": null,
       "text_color": null
      }
     },
     "e5c93430cbdb487aa31ee2245967a3d3": {
      "model_module": "@jupyter-widgets/base",
      "model_module_version": "2.0.0",
      "model_name": "LayoutModel",
      "state": {}
     },
     "e634c2f1844a40ba90df2468db228521": {
      "model_module": "@jupyter-widgets/base",
      "model_module_version": "2.0.0",
      "model_name": "LayoutModel",
      "state": {}
     },
     "e69a2ef5c9d94a37b7266ce1d6a0b8f4": {
      "model_module": "@jupyter-widgets/controls",
      "model_module_version": "2.0.0",
      "model_name": "ProgressStyleModel",
      "state": {
       "description_width": ""
      }
     },
     "e6a81d35c8a54d5ba47f37bf811e97d4": {
      "model_module": "@jupyter-widgets/base",
      "model_module_version": "2.0.0",
      "model_name": "LayoutModel",
      "state": {
       "width": "20px"
      }
     },
     "e7014c0d59fe48cf9d4c4ee377b9bd1e": {
      "model_module": "@jupyter-widgets/base",
      "model_module_version": "2.0.0",
      "model_name": "LayoutModel",
      "state": {}
     },
     "e70d3ad203ef412a990f77753c0e93b1": {
      "model_module": "@jupyter-widgets/controls",
      "model_module_version": "2.0.0",
      "model_name": "HBoxModel",
      "state": {
       "children": [
        "IPY_MODEL_aaa1033ce24b46639810290076db462e",
        "IPY_MODEL_f487e281abbc4f149a213a6283bc8737",
        "IPY_MODEL_ed69eed26e22498da63cb4a9bd3bcc8d"
       ],
       "layout": "IPY_MODEL_8396d90f12f341b880b24a24378a8e2d"
      }
     },
     "e864122b253e4108b5145dcffe0d372c": {
      "model_module": "@jupyter-widgets/controls",
      "model_module_version": "2.0.0",
      "model_name": "HTMLStyleModel",
      "state": {
       "description_width": "",
       "font_size": null,
       "text_color": null
      }
     },
     "e88a11609dbb47f880ecb0fd201dc1ac": {
      "model_module": "@jupyter-widgets/controls",
      "model_module_version": "2.0.0",
      "model_name": "FloatProgressModel",
      "state": {
       "bar_style": "success",
       "layout": "IPY_MODEL_cc538f8d85124dbfbf17c4183af5cc96",
       "max": 1,
       "style": "IPY_MODEL_cc580cb4e0e945fc9ce58c4b1043f133",
       "value": 1
      }
     },
     "e8d27ef1aef34c84bfbe6a41f430795e": {
      "model_module": "@jupyter-widgets/base",
      "model_module_version": "2.0.0",
      "model_name": "LayoutModel",
      "state": {}
     },
     "e913d0657ba74ba1afc4380c886cd954": {
      "model_module": "@jupyter-widgets/controls",
      "model_module_version": "2.0.0",
      "model_name": "ProgressStyleModel",
      "state": {
       "description_width": ""
      }
     },
     "e98d1812bb4c4d71bc99d95b7e5f73c6": {
      "model_module": "@jupyter-widgets/base",
      "model_module_version": "2.0.0",
      "model_name": "LayoutModel",
      "state": {}
     },
     "e990bde1f0d04d89986a31975da44673": {
      "model_module": "@jupyter-widgets/controls",
      "model_module_version": "2.0.0",
      "model_name": "HTMLStyleModel",
      "state": {
       "description_width": "",
       "font_size": null,
       "text_color": null
      }
     },
     "eaeb971b6bdf46d698ad85ec80ae31aa": {
      "model_module": "@jupyter-widgets/controls",
      "model_module_version": "2.0.0",
      "model_name": "ProgressStyleModel",
      "state": {
       "description_width": ""
      }
     },
     "eb9361d2cc414225a2a40153cc74d968": {
      "model_module": "@jupyter-widgets/base",
      "model_module_version": "2.0.0",
      "model_name": "LayoutModel",
      "state": {}
     },
     "ed64ccdf1be74c1d86e11e297b65e01a": {
      "model_module": "@jupyter-widgets/base",
      "model_module_version": "2.0.0",
      "model_name": "LayoutModel",
      "state": {
       "width": "20px"
      }
     },
     "ed69eed26e22498da63cb4a9bd3bcc8d": {
      "model_module": "@jupyter-widgets/controls",
      "model_module_version": "2.0.0",
      "model_name": "HTMLModel",
      "state": {
       "layout": "IPY_MODEL_e2501ffa59914373b4cfabf300050eb5",
       "style": "IPY_MODEL_b6643addf9064de7a6baf32bb90758a1",
       "value": " 2/? [01:05&lt;00:00, 22.12s/it]"
      }
     },
     "ed898e1573fd46f281ed0c6443bfd8c0": {
      "model_module": "@jupyter-widgets/controls",
      "model_module_version": "2.0.0",
      "model_name": "HBoxModel",
      "state": {
       "children": [
        "IPY_MODEL_ee3924d750c04a629c1b9f91ead6afb9",
        "IPY_MODEL_8718afcdf0d34acc9cb389326edc6ed7",
        "IPY_MODEL_1e362c37316f4feb8864cb538670ab06"
       ],
       "layout": "IPY_MODEL_115f1ddc39254d79b1f79184d9c98d55"
      }
     },
     "ee3924d750c04a629c1b9f91ead6afb9": {
      "model_module": "@jupyter-widgets/controls",
      "model_module_version": "2.0.0",
      "model_name": "HTMLModel",
      "state": {
       "layout": "IPY_MODEL_2573593460434b7db971395f4697adb9",
       "style": "IPY_MODEL_253c50fabb3d423aa5028a6635292560"
      }
     },
     "ee44033c729c4e0f9f6931d178943593": {
      "model_module": "@jupyter-widgets/base",
      "model_module_version": "2.0.0",
      "model_name": "LayoutModel",
      "state": {}
     },
     "ef67743a938543bca70d3ca7f09fe5d8": {
      "model_module": "@jupyter-widgets/controls",
      "model_module_version": "2.0.0",
      "model_name": "HTMLStyleModel",
      "state": {
       "description_width": "",
       "font_size": null,
       "text_color": null
      }
     },
     "ef7a6071beb548bca72e3406c1076d1d": {
      "model_module": "@jupyter-widgets/controls",
      "model_module_version": "2.0.0",
      "model_name": "HTMLStyleModel",
      "state": {
       "description_width": "",
       "font_size": null,
       "text_color": null
      }
     },
     "efaf8b8792114c82af3ba8ec17d56525": {
      "model_module": "@jupyter-widgets/controls",
      "model_module_version": "2.0.0",
      "model_name": "FloatProgressModel",
      "state": {
       "bar_style": "success",
       "layout": "IPY_MODEL_992515e9e31e4abb88a47b5bd8ee7b23",
       "max": 1,
       "style": "IPY_MODEL_43f3285d8f804fd2847bba5080f39346",
       "value": 1
      }
     },
     "eff83247228e4da5a2b4d49c07228f3a": {
      "model_module": "@jupyter-widgets/controls",
      "model_module_version": "2.0.0",
      "model_name": "ProgressStyleModel",
      "state": {
       "description_width": ""
      }
     },
     "f030ebf8522e440eb31ff2dfe37b45ab": {
      "model_module": "@jupyter-widgets/base",
      "model_module_version": "2.0.0",
      "model_name": "LayoutModel",
      "state": {}
     },
     "f13feabbb1104a4087b19a8bb8960506": {
      "model_module": "@jupyter-widgets/controls",
      "model_module_version": "2.0.0",
      "model_name": "HTMLModel",
      "state": {
       "layout": "IPY_MODEL_6c6965910e7f41c9ab3f99168946f1c7",
       "style": "IPY_MODEL_852f4d8cd6ee4c0580a9888a3f86d0c1"
      }
     },
     "f16731ef968e45148af5399bafbea3f1": {
      "model_module": "@jupyter-widgets/controls",
      "model_module_version": "2.0.0",
      "model_name": "HTMLModel",
      "state": {
       "layout": "IPY_MODEL_046cd84bc092447f8e532b13ce90e492",
       "style": "IPY_MODEL_a9c8e2c0031044e9a38f766f2fe41a1e",
       "value": " 5/? [01:47&lt;00:00, 21.44s/it]"
      }
     },
     "f177cc74547a49b2a615cdf19de85e90": {
      "model_module": "@jupyter-widgets/controls",
      "model_module_version": "2.0.0",
      "model_name": "HTMLStyleModel",
      "state": {
       "description_width": "",
       "font_size": null,
       "text_color": null
      }
     },
     "f27c9fc5982d457d8561bfb9b4e5b998": {
      "model_module": "@jupyter-widgets/base",
      "model_module_version": "2.0.0",
      "model_name": "LayoutModel",
      "state": {}
     },
     "f2897c23c39e4c69bb78bba3e4cb9414": {
      "model_module": "@jupyter-widgets/controls",
      "model_module_version": "2.0.0",
      "model_name": "HBoxModel",
      "state": {
       "children": [
        "IPY_MODEL_c540f4704358464e85b24c48d4394ce8",
        "IPY_MODEL_6dbe893e64a44225a1b3ac6a8378465f",
        "IPY_MODEL_f72a976b9b114535bf120a9886f3553f"
       ],
       "layout": "IPY_MODEL_258881559ecd42a8aa6a4c4048252577"
      }
     },
     "f28dcf81db134907b86a0fe2906c2fd2": {
      "model_module": "@jupyter-widgets/controls",
      "model_module_version": "2.0.0",
      "model_name": "FloatProgressModel",
      "state": {
       "bar_style": "success",
       "layout": "IPY_MODEL_ed64ccdf1be74c1d86e11e297b65e01a",
       "max": 1,
       "style": "IPY_MODEL_73582422d50f4d84a91f3ccbee69be0e",
       "value": 1
      }
     },
     "f3f15e3d74c24e1c90b1d3f8c1c4ccd7": {
      "model_module": "@jupyter-widgets/base",
      "model_module_version": "2.0.0",
      "model_name": "LayoutModel",
      "state": {}
     },
     "f43f549641dd4cc88d18f6cbf1db8489": {
      "model_module": "@jupyter-widgets/base",
      "model_module_version": "2.0.0",
      "model_name": "LayoutModel",
      "state": {}
     },
     "f487e281abbc4f149a213a6283bc8737": {
      "model_module": "@jupyter-widgets/controls",
      "model_module_version": "2.0.0",
      "model_name": "FloatProgressModel",
      "state": {
       "bar_style": "danger",
       "layout": "IPY_MODEL_211edfbc1c3940359862ed8e5d4c2b87",
       "max": 1,
       "style": "IPY_MODEL_e69a2ef5c9d94a37b7266ce1d6a0b8f4",
       "value": 1
      }
     },
     "f4c514b83f484c3d897cd9b745226cbc": {
      "model_module": "@jupyter-widgets/base",
      "model_module_version": "2.0.0",
      "model_name": "LayoutModel",
      "state": {}
     },
     "f5047da5c76a451b95cf67ee11df8bd2": {
      "model_module": "@jupyter-widgets/controls",
      "model_module_version": "2.0.0",
      "model_name": "FloatProgressModel",
      "state": {
       "bar_style": "danger",
       "layout": "IPY_MODEL_c10fc3a162db428da33f09d70433cb2d",
       "max": 20,
       "style": "IPY_MODEL_3abfce8da9db48c59d7d5970131b944c"
      }
     },
     "f605b55376a94fda862c7665d382936f": {
      "model_module": "@jupyter-widgets/controls",
      "model_module_version": "2.0.0",
      "model_name": "HTMLModel",
      "state": {
       "layout": "IPY_MODEL_e5c93430cbdb487aa31ee2245967a3d3",
       "style": "IPY_MODEL_f177cc74547a49b2a615cdf19de85e90"
      }
     },
     "f62fdb6aa7a740cbae204ee7f2928224": {
      "model_module": "@jupyter-widgets/base",
      "model_module_version": "2.0.0",
      "model_name": "LayoutModel",
      "state": {
       "width": "20px"
      }
     },
     "f6ca50e5d7944d01822a85cee5346f25": {
      "model_module": "@jupyter-widgets/controls",
      "model_module_version": "2.0.0",
      "model_name": "HTMLStyleModel",
      "state": {
       "description_width": "",
       "font_size": null,
       "text_color": null
      }
     },
     "f6cfe335b16f461b94bb606174fbffb9": {
      "model_module": "@jupyter-widgets/base",
      "model_module_version": "2.0.0",
      "model_name": "LayoutModel",
      "state": {}
     },
     "f6d2605b901c4377bcc166791976e64f": {
      "model_module": "@jupyter-widgets/controls",
      "model_module_version": "2.0.0",
      "model_name": "FloatProgressModel",
      "state": {
       "bar_style": "success",
       "layout": "IPY_MODEL_5423b645abff4740912670a0a7f90ee2",
       "max": 1,
       "style": "IPY_MODEL_383902d95c7b4dc4bc958a7eef5b16db",
       "value": 1
      }
     },
     "f70961703bf946029134dba94b36a823": {
      "model_module": "@jupyter-widgets/controls",
      "model_module_version": "2.0.0",
      "model_name": "FloatProgressModel",
      "state": {
       "bar_style": "danger",
       "layout": "IPY_MODEL_809d90fe456d458085cd075a9e0a7316",
       "max": 40,
       "style": "IPY_MODEL_5fb3887ae8b044beaa34f70ac233c11c",
       "value": 10
      }
     },
     "f72a976b9b114535bf120a9886f3553f": {
      "model_module": "@jupyter-widgets/controls",
      "model_module_version": "2.0.0",
      "model_name": "HTMLModel",
      "state": {
       "layout": "IPY_MODEL_bde781d79f9f42dc9d27fab201ff5d8b",
       "style": "IPY_MODEL_ba44ca6a6433438da8a29e2aeb0fcd3e",
       "value": " 4/8 [07:00&lt;05:35, 83.82s/it]"
      }
     },
     "f72bf40e235347999cffc7dce4df9df7": {
      "model_module": "@jupyter-widgets/base",
      "model_module_version": "2.0.0",
      "model_name": "LayoutModel",
      "state": {
       "width": "20px"
      }
     },
     "f80988aea3d346acaec0e17c13fdc2f6": {
      "model_module": "@jupyter-widgets/controls",
      "model_module_version": "2.0.0",
      "model_name": "HTMLModel",
      "state": {
       "layout": "IPY_MODEL_b2a9f817a1df4dcaa14411a73e894dea",
       "style": "IPY_MODEL_fcf262c441dc4703860820f2fbb945a5",
       "value": " 5/? [02:34&lt;00:00, 30.94s/it]"
      }
     },
     "f9ec770a5dd34eaab9edad0addadc56f": {
      "model_module": "@jupyter-widgets/base",
      "model_module_version": "2.0.0",
      "model_name": "LayoutModel",
      "state": {}
     },
     "fb963792e0c14b7ca298dc4d8e197aa0": {
      "model_module": "@jupyter-widgets/controls",
      "model_module_version": "2.0.0",
      "model_name": "HBoxModel",
      "state": {
       "children": [
        "IPY_MODEL_688ea1c9ade9423896e45bdd9c74b91b",
        "IPY_MODEL_b31238f440b54ce396998de11759f6f9",
        "IPY_MODEL_840192b6a9654a8a8baa26e5f74080c8"
       ],
       "layout": "IPY_MODEL_e8d27ef1aef34c84bfbe6a41f430795e"
      }
     },
     "fc2f4af914b345e8ba0a37008fb46053": {
      "model_module": "@jupyter-widgets/base",
      "model_module_version": "2.0.0",
      "model_name": "LayoutModel",
      "state": {}
     },
     "fc829a3438bb4ca0bedf6a50c4d14381": {
      "model_module": "@jupyter-widgets/controls",
      "model_module_version": "2.0.0",
      "model_name": "HTMLStyleModel",
      "state": {
       "description_width": "",
       "font_size": null,
       "text_color": null
      }
     },
     "fcf262c441dc4703860820f2fbb945a5": {
      "model_module": "@jupyter-widgets/controls",
      "model_module_version": "2.0.0",
      "model_name": "HTMLStyleModel",
      "state": {
       "description_width": "",
       "font_size": null,
       "text_color": null
      }
     },
     "fcf674a771bb4ecd9b7c344fc607164c": {
      "model_module": "@jupyter-widgets/base",
      "model_module_version": "2.0.0",
      "model_name": "LayoutModel",
      "state": {}
     },
     "fd0143088881402e8f45796f8a1901fa": {
      "model_module": "@jupyter-widgets/controls",
      "model_module_version": "2.0.0",
      "model_name": "HBoxModel",
      "state": {
       "children": [
        "IPY_MODEL_bae718dc2f194cfea7e77d3eebd9ff43",
        "IPY_MODEL_e88a11609dbb47f880ecb0fd201dc1ac",
        "IPY_MODEL_bf70a2e219944456963d34bc9f13cc44"
       ],
       "layout": "IPY_MODEL_a8e0f1eafc72481792f548c09fac9e9a"
      }
     },
     "fdcc0a5305a34dd49a899e6f98c2f2b4": {
      "model_module": "@jupyter-widgets/base",
      "model_module_version": "2.0.0",
      "model_name": "LayoutModel",
      "state": {}
     },
     "fdf8e16d2a814360bbcb6c3a7d6e18a5": {
      "model_module": "@jupyter-widgets/controls",
      "model_module_version": "2.0.0",
      "model_name": "HTMLStyleModel",
      "state": {
       "description_width": "",
       "font_size": null,
       "text_color": null
      }
     },
     "fe61f501a1374765a4cc0f55ed737dd4": {
      "model_module": "@jupyter-widgets/controls",
      "model_module_version": "2.0.0",
      "model_name": "ProgressStyleModel",
      "state": {
       "description_width": ""
      }
     },
     "feec11fb682f4ab39901fa3e26d33b0c": {
      "model_module": "@jupyter-widgets/controls",
      "model_module_version": "2.0.0",
      "model_name": "HTMLStyleModel",
      "state": {
       "description_width": "",
       "font_size": null,
       "text_color": null
      }
     },
     "ffe109730da340acb86540f352a903f8": {
      "model_module": "@jupyter-widgets/base",
      "model_module_version": "2.0.0",
      "model_name": "LayoutModel",
      "state": {}
     }
    },
    "version_major": 2,
    "version_minor": 0
   }
  }
 },
 "nbformat": 4,
 "nbformat_minor": 5
}
