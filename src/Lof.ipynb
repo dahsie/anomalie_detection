{
 "cells": [
  {
   "cell_type": "code",
   "execution_count": 1,
   "id": "fb14e441-a3cb-4955-8256-ef1264dd58fe",
   "metadata": {},
   "outputs": [],
   "source": [
    "import numpy as np\n",
    "import pandas as pd\n",
    "import matplotlib.pyplot as plt\n",
    "import seaborn as sb\n",
    "\n",
    "from sklearn.metrics import make_scorer, roc_auc_score,confusion_matrix\n",
    "from sklearn.metrics import f1_score,accuracy_score,precision_score,recall_score\n",
    "from sklearn.metrics import precision_recall_curve\n",
    "from sklearn.metrics import PrecisionRecallDisplay\n",
    "from sklearn.metrics import RocCurveDisplay,roc_curve\n",
    "from sklearn import metrics\n",
    "\n",
    "\n",
    "from sklearn.model_selection import train_test_split\n",
    "from sklearn.model_selection import GridSearchCV\n",
    "from sklearn.model_selection import ParameterGrid\n",
    "from sklearn.model_selection import KFold,StratifiedKFold\n",
    "\n",
    "#The model\n",
    "from sklearn.neighbors import LocalOutlierFactor\n",
    "from sklearn.ensemble import IsolationForest\n",
    "\n",
    "\n",
    "#For preprocessing\n",
    "from sklearn.preprocessing import MinMaxScaler,StandardScaler\n",
    "\n",
    "# from tqdm import tqdm\n",
    "from tqdm.notebook import tqdm\n",
    "import warnings \n",
    "warnings.simplefilter(\"ignore\")"
   ]
  },
  {
   "cell_type": "code",
   "execution_count": 2,
   "id": "9e13d178-290d-4329-bc9d-4b5da9e6a86d",
   "metadata": {},
   "outputs": [],
   "source": [
    "class AnomalyDetectionDataLoader:\n",
    "    \n",
    "    def __init__(self, file_path, test_size=0.15, random_state=42):\n",
    "        self.file_path = file_path\n",
    "        self.test_size = test_size\n",
    "        self.random_state = random_state\n",
    "        self.data = None\n",
    "        self.target = None\n",
    "        self.xtrain = None\n",
    "        self.xtest = None\n",
    "        self.ytrain = None\n",
    "        self.ytest = None\n",
    "        self.scaler = MinMaxScaler()\n",
    "\n",
    "    def load_data(self):\n",
    "        # Charger les données depuis le fichier CSV\n",
    "        self.data = pd.read_csv(self.file_path)\n",
    "\n",
    "        # Supprimer les duplicatas en conservant la dernière occurrence\n",
    "        self.data.drop_duplicates(keep=\"last\", inplace=True)\n",
    "\n",
    "        # Extraire la variable cible et les caractéristiques\n",
    "        self.target = self.data[\"Class\"]\n",
    "        self.data = self.data.drop([\"Class\", \"Time\"], axis=1)\n",
    "\n",
    "    def preprocess_data(self):\n",
    "        # Normaliser les caractéristiques avec Min-Max Scaling\n",
    "        data_scaled_array = self.scaler.fit_transform(self.data)\n",
    "        self.data = pd.DataFrame(data_scaled_array, columns=self.data.columns)\n",
    "\n",
    "    def split_data(self):\n",
    "        # Diviser les données en ensembles d'entraînement et de test\n",
    "        self.xtrain, self.xtest, self.ytrain, self.ytest = train_test_split(\n",
    "            self.data, self.target, test_size=self.test_size, random_state=self.random_state, shuffle=True)\n",
    "\n",
    "    def get_train_data(self):\n",
    "        return self.xtrain, self.ytrain\n",
    "\n",
    "    def get_test_data(self):\n",
    "        return self.xtest, self.ytest\n",
    "\n",
    "    def get_scaler(self):\n",
    "        return self.scaler\n",
    "\n"
   ]
  },
  {
   "cell_type": "code",
   "execution_count": 3,
   "id": "f6c0432c-0bc8-4894-9bcd-8efea43de166",
   "metadata": {},
   "outputs": [],
   "source": [
    "def transform_target(target):\n",
    "    \"\"\"Args:\n",
    "        target: np.ndarry or pd.DataFrame\n",
    "    \"\"\"\n",
    "    n=target.shape[0]\n",
    "    if isinstance(target,np.ndarray):\n",
    "        target[target==1]=-1\n",
    "        target[target==0]=1\n",
    "        \n",
    "    elif isinstance(target,pd.DataFrame) or isinstance(target,pd.Series):\n",
    "        target[target==1]=-1\n",
    "        target[target==0]=1\n",
    "    return target\n",
    "\n",
    "\n",
    "def inverse_transform_target(target):\n",
    "    n=target.shape[0]\n",
    "    if isinstance(target,pd.DataFrame) or isinstance(target,pd.Series):\n",
    "        target[target==1]=0\n",
    "        target[target==-1]=1\n",
    "        \n",
    "    elif isinstance(target,np.ndarray): \n",
    "        target[target==1]=0\n",
    "        target[target==-1]=1\n",
    "    return target"
   ]
  },
  {
   "cell_type": "code",
   "execution_count": 4,
   "id": "0e279d77-247e-4c28-a6ce-976673e0cd68",
   "metadata": {},
   "outputs": [],
   "source": [
    "def confusin_matrix_display(ytest,ypred):\n",
    "    metrics.ConfusionMatrixDisplay(confusion_matrix(ytest,ypred)).plot()\n",
    "    plt.title(\"Confusion Matrix\")\n",
    "    plt.show()\n",
    "\n",
    "def precision_recall_display(ytest, ypred):\n",
    "    precision, recall, _ = precision_recall_curve(ytest, ypred)\n",
    "    PrecisionRecallDisplay(precision=precision, recall=recall).plot()\n",
    "    plt.title(\"Precision_Recall_Curve\")\n",
    "    plt.show()\n",
    "\n",
    "def roc_curve_disolay(ytest, ypred):\n",
    "    fpr, tpr, thresholds = metrics.roc_curve(ytest, ypred)\n",
    "    roc_auc = metrics.auc(fpr, tpr)\n",
    "    display = metrics.RocCurveDisplay(fpr=fpr, tpr=tpr, roc_auc=roc_auc)\n",
    "    print(f\"roc_auc {roc_auc}\")\n",
    "    display.plot()\n",
    "    plt.title(\"ROC_Curve\")\n",
    "    plt.show()\n",
    "\n",
    "def scores(ytest,ypred):\n",
    "    df=pd.DataFrame({\"f1_score\" : [f1_score(ytest,ypred)],\n",
    "                     \"accuracy_score\" : [accuracy_score(ytest,ypred)],\n",
    "                     \"precision_score\" : [precision_score(ytest,ypred)],\n",
    "                     \"recall_score\" : [recall_score(ytest,ypred)]\n",
    "    })\n",
    "    print(df)\n",
    "    return df\n",
    " \n",
    "def evaluation(ytrue,ypred):\n",
    "    confusin_matrix_display(ytrue,ypred)\n",
    "    precision_recall_display(ytrue, ypred)\n",
    "    roc_curve_disolay(ytrue, ypred)\n",
    "    scores(ytest,ypred)"
   ]
  },
  {
   "cell_type": "code",
   "execution_count": 5,
   "id": "27e3540c-d06f-4eb8-8396-6268be653586",
   "metadata": {},
   "outputs": [],
   "source": [
    "class CustomGridSearchCV:\n",
    "    \n",
    "    def __init__(self, estimator, param_grid, n_splits=5, random_state=42):\n",
    "        self.estimator = estimator\n",
    "        self.param_grid = param_grid\n",
    "        self.n_splits = n_splits\n",
    "        self.random_state = random_state\n",
    "        self.best_score = 0\n",
    "        self.best_params = None\n",
    "        self.best_estimator = None\n",
    "\n",
    "    def fit(self, X, y):\n",
    "        \n",
    "        \n",
    "        param_grid = ParameterGrid(self.param_grid)\n",
    "        skf=StratifiedKFold(n_splits=self.n_splits, random_state=None, shuffle=False)\n",
    "        \n",
    "        for params in tqdm(param_grid):\n",
    "            \n",
    "            \n",
    "            total_score = 0\n",
    "\n",
    "            # Itérer sur les plis de la validation croisée\n",
    "            for train_index, val_index in tqdm(skf.split(X,y)):\n",
    "                xtrain_fold, xval_fold = X.iloc[train_index], X.iloc[val_index]\n",
    "                ytrain_fold, yval_fold = y.iloc[train_index], y.iloc[val_index]\n",
    "\n",
    "                # Entraîner le modèle\n",
    "                model = self.estimator.set_params(**params)\n",
    "                model.fit(xtrain_fold)\n",
    "\n",
    "                # Faire des prédictions\n",
    "                ypred_val = model.fit_predict(xval_fold)\n",
    "                ypred_val = inverse_transform_target(ypred_val)\n",
    "\n",
    "                current_score = f1_score(ypred_val, yval_fold)\n",
    "\n",
    "                total_score += current_score\n",
    "\n",
    "            avg_score = total_score / self.n_splits\n",
    "\n",
    "            # Afficher les paramètres et le score moyen\n",
    "            print(\"Paramètres:\", params)\n",
    "            print(\"Score moyen (f1_score):\", avg_score)\n",
    "            print(\" \")\n",
    "\n",
    "            if avg_score > self.best_score:\n",
    "                self.best_score = avg_score\n",
    "                self.best_params = params\n",
    "                self.best_estimator=model\n",
    "\n",
    "        # Afficher les meilleurs paramètres\n",
    "        print(\"Meilleurs paramètres :\", self.best_params)\n",
    "        print(\"Meilleur score moyen (f1_score) :\", self.best_score)\n",
    "    def predict(self,xtest):\n",
    "        return self.best_estimator.fit_predict(xtest)"
   ]
  },
  {
   "cell_type": "code",
   "execution_count": 6,
   "id": "76ac4c1a-953b-4412-a5d9-fb61b9d6fd42",
   "metadata": {},
   "outputs": [],
   "source": [
    "# Utilisation de la classe\n",
    "data_loader = AnomalyDetectionDataLoader(file_path=\"/home/dah/anomalie_detection/anomalie_detection/data/creditcard.csv\")\n",
    "data_loader.load_data()\n",
    "data_loader.preprocess_data()\n",
    "data_loader.split_data()\n",
    "\n",
    "xtrain, ytrain = data_loader.get_train_data()\n",
    "xtest, ytest = data_loader.get_test_data()\n",
    "scaler = data_loader.get_scaler()\n"
   ]
  },
  {
   "cell_type": "code",
   "execution_count": 8,
   "id": "21f049a0-e5b5-4b87-bfc5-4bd729d24734",
   "metadata": {},
   "outputs": [],
   "source": [
    "# best_par={\n",
    "#           'contamination': [0.001, 0.002,0.003,0.004],\n",
    "#           'n_neighbors': [120,130,140,150,160]\n",
    "# }\n",
    "# model=CustomGridSearchCV(estimator=LocalOutlierFactor(), param_grid=best_par, n_splits=5, random_state=42)\n",
    "# model.fit(xtrain,ytrain)"
   ]
  },
  {
   "cell_type": "code",
   "execution_count": 19,
   "id": "4c788537-6a13-4a3a-8142-8e67cffb6a67",
   "metadata": {},
   "outputs": [],
   "source": [
    "# model.best_params\n",
    "params={'contamination': 0.003, 'n_neighbors': 140}"
   ]
  },
  {
   "cell_type": "code",
   "execution_count": 20,
   "id": "7437c07a-bbbe-4a90-9831-f03bbbbcc9be",
   "metadata": {},
   "outputs": [],
   "source": [
    "# ypred=model.predict(xtest)"
   ]
  },
  {
   "cell_type": "code",
   "execution_count": 21,
   "id": "3b496677-4dd3-4512-8f97-af86d7f432ff",
   "metadata": {},
   "outputs": [],
   "source": [
    "# model.best_estimator"
   ]
  },
  {
   "cell_type": "code",
   "execution_count": 22,
   "id": "355a4b6a-c77c-4926-90c4-f5f7a4311223",
   "metadata": {},
   "outputs": [
    {
     "data": {
      "text/html": [
       "<style>#sk-container-id-3 {color: black;}#sk-container-id-3 pre{padding: 0;}#sk-container-id-3 div.sk-toggleable {background-color: white;}#sk-container-id-3 label.sk-toggleable__label {cursor: pointer;display: block;width: 100%;margin-bottom: 0;padding: 0.3em;box-sizing: border-box;text-align: center;}#sk-container-id-3 label.sk-toggleable__label-arrow:before {content: \"▸\";float: left;margin-right: 0.25em;color: #696969;}#sk-container-id-3 label.sk-toggleable__label-arrow:hover:before {color: black;}#sk-container-id-3 div.sk-estimator:hover label.sk-toggleable__label-arrow:before {color: black;}#sk-container-id-3 div.sk-toggleable__content {max-height: 0;max-width: 0;overflow: hidden;text-align: left;background-color: #f0f8ff;}#sk-container-id-3 div.sk-toggleable__content pre {margin: 0.2em;color: black;border-radius: 0.25em;background-color: #f0f8ff;}#sk-container-id-3 input.sk-toggleable__control:checked~div.sk-toggleable__content {max-height: 200px;max-width: 100%;overflow: auto;}#sk-container-id-3 input.sk-toggleable__control:checked~label.sk-toggleable__label-arrow:before {content: \"▾\";}#sk-container-id-3 div.sk-estimator input.sk-toggleable__control:checked~label.sk-toggleable__label {background-color: #d4ebff;}#sk-container-id-3 div.sk-label input.sk-toggleable__control:checked~label.sk-toggleable__label {background-color: #d4ebff;}#sk-container-id-3 input.sk-hidden--visually {border: 0;clip: rect(1px 1px 1px 1px);clip: rect(1px, 1px, 1px, 1px);height: 1px;margin: -1px;overflow: hidden;padding: 0;position: absolute;width: 1px;}#sk-container-id-3 div.sk-estimator {font-family: monospace;background-color: #f0f8ff;border: 1px dotted black;border-radius: 0.25em;box-sizing: border-box;margin-bottom: 0.5em;}#sk-container-id-3 div.sk-estimator:hover {background-color: #d4ebff;}#sk-container-id-3 div.sk-parallel-item::after {content: \"\";width: 100%;border-bottom: 1px solid gray;flex-grow: 1;}#sk-container-id-3 div.sk-label:hover label.sk-toggleable__label {background-color: #d4ebff;}#sk-container-id-3 div.sk-serial::before {content: \"\";position: absolute;border-left: 1px solid gray;box-sizing: border-box;top: 0;bottom: 0;left: 50%;z-index: 0;}#sk-container-id-3 div.sk-serial {display: flex;flex-direction: column;align-items: center;background-color: white;padding-right: 0.2em;padding-left: 0.2em;position: relative;}#sk-container-id-3 div.sk-item {position: relative;z-index: 1;}#sk-container-id-3 div.sk-parallel {display: flex;align-items: stretch;justify-content: center;background-color: white;position: relative;}#sk-container-id-3 div.sk-item::before, #sk-container-id-3 div.sk-parallel-item::before {content: \"\";position: absolute;border-left: 1px solid gray;box-sizing: border-box;top: 0;bottom: 0;left: 50%;z-index: -1;}#sk-container-id-3 div.sk-parallel-item {display: flex;flex-direction: column;z-index: 1;position: relative;background-color: white;}#sk-container-id-3 div.sk-parallel-item:first-child::after {align-self: flex-end;width: 50%;}#sk-container-id-3 div.sk-parallel-item:last-child::after {align-self: flex-start;width: 50%;}#sk-container-id-3 div.sk-parallel-item:only-child::after {width: 0;}#sk-container-id-3 div.sk-dashed-wrapped {border: 1px dashed gray;margin: 0 0.4em 0.5em 0.4em;box-sizing: border-box;padding-bottom: 0.4em;background-color: white;}#sk-container-id-3 div.sk-label label {font-family: monospace;font-weight: bold;display: inline-block;line-height: 1.2em;}#sk-container-id-3 div.sk-label-container {text-align: center;}#sk-container-id-3 div.sk-container {/* jupyter's `normalize.less` sets `[hidden] { display: none; }` but bootstrap.min.css set `[hidden] { display: none !important; }` so we also need the `!important` here to be able to override the default hidden behavior on the sphinx rendered scikit-learn.org. See: https://github.com/scikit-learn/scikit-learn/issues/21755 */display: inline-block !important;position: relative;}#sk-container-id-3 div.sk-text-repr-fallback {display: none;}</style><div id=\"sk-container-id-3\" class=\"sk-top-container\"><div class=\"sk-text-repr-fallback\"><pre>LocalOutlierFactor(contamination=0.003, n_neighbors=140)</pre><b>In a Jupyter environment, please rerun this cell to show the HTML representation or trust the notebook. <br />On GitHub, the HTML representation is unable to render, please try loading this page with nbviewer.org.</b></div><div class=\"sk-container\" hidden><div class=\"sk-item\"><div class=\"sk-estimator sk-toggleable\"><input class=\"sk-toggleable__control sk-hidden--visually\" id=\"sk-estimator-id-3\" type=\"checkbox\" checked><label for=\"sk-estimator-id-3\" class=\"sk-toggleable__label sk-toggleable__label-arrow\">LocalOutlierFactor</label><div class=\"sk-toggleable__content\"><pre>LocalOutlierFactor(contamination=0.003, n_neighbors=140)</pre></div></div></div></div></div>"
      ],
      "text/plain": [
       "LocalOutlierFactor(contamination=0.003, n_neighbors=140)"
      ]
     },
     "execution_count": 22,
     "metadata": {},
     "output_type": "execute_result"
    }
   ],
   "source": [
    "cl=LocalOutlierFactor(**params)\n",
    "cl.fit(xtrain)"
   ]
  },
  {
   "cell_type": "code",
   "execution_count": 23,
   "id": "ce3bf466-4a9e-40c8-86ec-b91cc40b0c9f",
   "metadata": {},
   "outputs": [],
   "source": [
    "ypred=cl.fit_predict(xtest)"
   ]
  },
  {
   "cell_type": "code",
   "execution_count": 24,
   "id": "0bd3ee38-18ed-42c1-aca4-0a3f3186809f",
   "metadata": {},
   "outputs": [],
   "source": [
    "ypred=inverse_transform_target(ypred)"
   ]
  },
  {
   "cell_type": "code",
   "execution_count": 25,
   "id": "6c136ee7-d0f5-42c2-865f-634a45c7a74c",
   "metadata": {},
   "outputs": [
    {
     "data": {
      "image/png": "[encoded data removed]",
      "text/plain": [
       "<Figure size 640x480 with 2 Axes>"
      ]
     },
     "metadata": {},
     "output_type": "display_data"
    },
    {
     "data": {
      "image/png": "[encoded data removed]",
      "text/plain": [
       "<Figure size 640x480 with 1 Axes>"
      ]
     },
     "metadata": {},
     "output_type": "display_data"
    },
    {
     "name": "stdout",
     "output_type": "stream",
     "text": [
      "roc_auc 0.8593645090240564\n"
     ]
    },
    {
     "data": {
      "image/png": "[encoded data removed]",
      "text/plain": [
       "<Figure size 640x480 with 1 Axes>"
      ]
     },
     "metadata": {},
     "output_type": "display_data"
    },
    {
     "name": "stdout",
     "output_type": "stream",
     "text": [
      "   f1_score  accuracy_score  precision_score  recall_score\n",
      "0       0.5        0.997697         0.382812      0.720588\n"
     ]
    }
   ],
   "source": [
    "evaluation(ytest,ypred)"
   ]
  },
  {
   "cell_type": "code",
   "execution_count": null,
   "id": "adc2f3dc-625e-4bc6-99ec-46adb74afffa",
   "metadata": {},
   "outputs": [],
   "source": []
  },
  {
   "cell_type": "code",
   "execution_count": null,
   "id": "293c722a-f68b-4dba-a256-9956d2b90826",
   "metadata": {},
   "outputs": [],
   "source": []
  }
 ],
 "metadata": {
  "kernelspec": {
   "display_name": "Python 3 (ipykernel)",
   "language": "python",
   "name": "python3"
  },
  "language_info": {
   "codemirror_mode": {
    "name": "ipython",
    "version": 3
   },
   "file_extension": ".py",
   "mimetype": "text/x-python",
   "name": "python",
   "nbconvert_exporter": "python",
   "pygments_lexer": "ipython3",
   "version": "3.11.4"
  },
  "widgets": {
   "application/vnd.jupyter.widget-state+json": {
    "state": {
     "11c0d0ceee614a2ba6554919dc69429b": {
      "model_module": "@jupyter-widgets/base",
      "model_module_version": "2.0.0",
      "model_name": "LayoutModel",
      "state": {}
     },
     "226cbc4dbd264ab8bc69bc18b5aa575c": {
      "model_module": "@jupyter-widgets/base",
      "model_module_version": "2.0.0",
      "model_name": "LayoutModel",
      "state": {}
     },
     "29ea320ea26d49e0a91fc784fd75614b": {
      "model_module": "@jupyter-widgets/controls",
      "model_module_version": "2.0.0",
      "model_name": "HBoxModel",
      "state": {
       "children": [
        "IPY_MODEL_df8b28ca84b143cc84456b8b9213312d",
        "IPY_MODEL_54b63ed527724c1da97374bf77dd5fe3",
        "IPY_MODEL_45aabf533a044b2f9116c9a9124b1d1f"
       ],
       "layout": "IPY_MODEL_7e170dcca48e421a8d5d20b2ebdd5fb3"
      }
     },
     "2b8f2bcff77548baa403f163d1f1550a": {
      "model_module": "@jupyter-widgets/base",
      "model_module_version": "2.0.0",
      "model_name": "LayoutModel",
      "state": {
       "width": "20px"
      }
     },
     "45aabf533a044b2f9116c9a9124b1d1f": {
      "model_module": "@jupyter-widgets/controls",
      "model_module_version": "2.0.0",
      "model_name": "HTMLModel",
      "state": {
       "layout": "IPY_MODEL_11c0d0ceee614a2ba6554919dc69429b",
       "style": "IPY_MODEL_561a6cf476a44d4187b1ce527973da36",
       "value": " 0/20 [00:20&lt;?, ?it/s]"
      }
     },
     "54b63ed527724c1da97374bf77dd5fe3": {
      "model_module": "@jupyter-widgets/controls",
      "model_module_version": "2.0.0",
      "model_name": "FloatProgressModel",
      "state": {
       "bar_style": "danger",
       "layout": "IPY_MODEL_b59881c7c0ce4fb4b04c01dc2a3564a6",
       "max": 20,
       "style": "IPY_MODEL_7dfba2e1006446b3b66df582f4ce10ef"
      }
     },
     "561a6cf476a44d4187b1ce527973da36": {
      "model_module": "@jupyter-widgets/controls",
      "model_module_version": "2.0.0",
      "model_name": "HTMLStyleModel",
      "state": {
       "description_width": "",
       "font_size": null,
       "text_color": null
      }
     },
     "5684e17aa3a948e6adf405e3571ab099": {
      "model_module": "@jupyter-widgets/controls",
      "model_module_version": "2.0.0",
      "model_name": "HTMLStyleModel",
      "state": {
       "description_width": "",
       "font_size": null,
       "text_color": null
      }
     },
     "776b879a647e45c2b2216943140896ae": {
      "model_module": "@jupyter-widgets/controls",
      "model_module_version": "2.0.0",
      "model_name": "HTMLModel",
      "state": {
       "layout": "IPY_MODEL_e70345bdc8694415abf520be1046532f",
       "style": "IPY_MODEL_ed0552423abb4b30834d67d9c8fa2a4c"
      }
     },
     "7a56fbb4e782454692f3e2affa132657": {
      "model_module": "@jupyter-widgets/controls",
      "model_module_version": "2.0.0",
      "model_name": "HBoxModel",
      "state": {
       "children": [
        "IPY_MODEL_776b879a647e45c2b2216943140896ae",
        "IPY_MODEL_9c79ca3c65a54ae69632e2ed33e924d4",
        "IPY_MODEL_80b7629731fd433bb096696314131dc0"
       ],
       "layout": "IPY_MODEL_f741bc99321940e2b1eb1f4622b84600"
      }
     },
     "7dfba2e1006446b3b66df582f4ce10ef": {
      "model_module": "@jupyter-widgets/controls",
      "model_module_version": "2.0.0",
      "model_name": "ProgressStyleModel",
      "state": {
       "description_width": ""
      }
     },
     "7e170dcca48e421a8d5d20b2ebdd5fb3": {
      "model_module": "@jupyter-widgets/base",
      "model_module_version": "2.0.0",
      "model_name": "LayoutModel",
      "state": {}
     },
     "80b7629731fd433bb096696314131dc0": {
      "model_module": "@jupyter-widgets/controls",
      "model_module_version": "2.0.0",
      "model_name": "HTMLModel",
      "state": {
       "layout": "IPY_MODEL_88b24395cc354ed28552b5cb35c66967",
       "style": "IPY_MODEL_5684e17aa3a948e6adf405e3571ab099",
       "value": " 0/? [00:20&lt;?, ?it/s]"
      }
     },
     "8833af4160eb41819230b595491fd3c4": {
      "model_module": "@jupyter-widgets/controls",
      "model_module_version": "2.0.0",
      "model_name": "ProgressStyleModel",
      "state": {
       "description_width": ""
      }
     },
     "88b24395cc354ed28552b5cb35c66967": {
      "model_module": "@jupyter-widgets/base",
      "model_module_version": "2.0.0",
      "model_name": "LayoutModel",
      "state": {}
     },
     "9c79ca3c65a54ae69632e2ed33e924d4": {
      "model_module": "@jupyter-widgets/controls",
      "model_module_version": "2.0.0",
      "model_name": "FloatProgressModel",
      "state": {
       "bar_style": "danger",
       "layout": "IPY_MODEL_2b8f2bcff77548baa403f163d1f1550a",
       "max": 1,
       "style": "IPY_MODEL_8833af4160eb41819230b595491fd3c4"
      }
     },
     "b185d701629d4af884b2a413d8d67117": {
      "model_module": "@jupyter-widgets/controls",
      "model_module_version": "2.0.0",
      "model_name": "HTMLStyleModel",
      "state": {
       "description_width": "",
       "font_size": null,
       "text_color": null
      }
     },
     "b59881c7c0ce4fb4b04c01dc2a3564a6": {
      "model_module": "@jupyter-widgets/base",
      "model_module_version": "2.0.0",
      "model_name": "LayoutModel",
      "state": {}
     },
     "df8b28ca84b143cc84456b8b9213312d": {
      "model_module": "@jupyter-widgets/controls",
      "model_module_version": "2.0.0",
      "model_name": "HTMLModel",
      "state": {
       "layout": "IPY_MODEL_226cbc4dbd264ab8bc69bc18b5aa575c",
       "style": "IPY_MODEL_b185d701629d4af884b2a413d8d67117",
       "value": "  0%"
      }
     },
     "e70345bdc8694415abf520be1046532f": {
      "model_module": "@jupyter-widgets/base",
      "model_module_version": "2.0.0",
      "model_name": "LayoutModel",
      "state": {}
     },
     "ed0552423abb4b30834d67d9c8fa2a4c": {
      "model_module": "@jupyter-widgets/controls",
      "model_module_version": "2.0.0",
      "model_name": "HTMLStyleModel",
      "state": {
       "description_width": "",
       "font_size": null,
       "text_color": null
      }
     },
     "f741bc99321940e2b1eb1f4622b84600": {
      "model_module": "@jupyter-widgets/base",
      "model_module_version": "2.0.0",
      "model_name": "LayoutModel",
      "state": {}
     }
    },
    "version_major": 2,
    "version_minor": 0
   }
  }
 },
 "nbformat": 4,
 "nbformat_minor": 5
}
