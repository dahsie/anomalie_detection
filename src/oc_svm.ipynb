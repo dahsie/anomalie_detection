{
 "cells": [
  {
   "cell_type": "code",
   "execution_count": 1,
   "id": "dfef8932-31c4-4646-ba0d-7b04bf73e8de",
   "metadata": {},
   "outputs": [],
   "source": [
    "import numpy as np\n",
    "import pandas as pd\n",
    "import matplotlib.pyplot as plt\n",
    "import seaborn as sb\n",
    "\n",
    "from sklearn.metrics import make_scorer, roc_auc_score,confusion_matrix\n",
    "from sklearn.metrics import f1_score,accuracy_score,precision_score,recall_score\n",
    "from sklearn.metrics import precision_recall_curve\n",
    "from sklearn.metrics import PrecisionRecallDisplay\n",
    "from sklearn.metrics import RocCurveDisplay,roc_curve\n",
    "from sklearn import metrics\n",
    "\n",
    "from sklearn.model_selection import train_test_split\n",
    "from sklearn.model_selection import GridSearchCV\n",
    "from sklearn.model_selection import ParameterGrid\n",
    "from sklearn.model_selection import KFold,StratifiedKFold\n",
    "\n",
    "#The model\n",
    "from sklearn.svm import OneClassSVM\n",
    "\n",
    "\n",
    "#For preprocessing\n",
    "from sklearn.preprocessing import MinMaxScaler,StandardScaler\n",
    "\n",
    "# from tqdm import tqdm\n",
    "from tqdm.notebook import tqdm\n",
    "import warnings \n",
    "warnings.simplefilter(\"ignore\")"
   ]
  },
  {
   "cell_type": "code",
   "execution_count": 2,
   "id": "0dc33237-acc5-4c62-af35-0e6d5d8f5de3",
   "metadata": {},
   "outputs": [],
   "source": [
    "class AnomalyDetectionDataLoader:\n",
    "    \n",
    "    def __init__(self, file_path, test_size=0.15, random_state=42):\n",
    "        self.file_path = file_path\n",
    "        self.test_size = test_size\n",
    "        self.random_state = random_state\n",
    "        self.data = None\n",
    "        self.target = None\n",
    "        self.xtrain = None\n",
    "        self.xtest = None\n",
    "        self.ytrain = None\n",
    "        self.ytest = None\n",
    "        self.scaler = MinMaxScaler()\n",
    "\n",
    "    def load_data(self):\n",
    "        # Charger les données depuis le fichier CSV\n",
    "        self.data = pd.read_csv(self.file_path)\n",
    "\n",
    "        # Supprimer les duplicatas en conservant la dernière occurrence\n",
    "        self.data.drop_duplicates(keep=\"last\", inplace=True)\n",
    "\n",
    "        # Extraire la variable cible et les caractéristiques\n",
    "        self.target = self.data[\"Class\"]\n",
    "        self.data = self.data.drop([\"Class\", \"Time\"], axis=1)\n",
    "\n",
    "    def preprocess_data(self):\n",
    "        # Normaliser les caractéristiques avec Min-Max Scaling\n",
    "        data_scaled_array = self.scaler.fit_transform(self.data)\n",
    "        self.data = pd.DataFrame(data_scaled_array, columns=self.data.columns)\n",
    "\n",
    "    def split_data(self):\n",
    "        # Diviser les données en ensembles d'entraînement et de test\n",
    "        self.xtrain, self.xtest, self.ytrain, self.ytest = train_test_split(\n",
    "            self.data, self.target, test_size=self.test_size, random_state=self.random_state, shuffle=True)\n",
    "\n",
    "    def get_train_data(self):\n",
    "        return self.xtrain, self.ytrain\n",
    "\n",
    "    def get_test_data(self):\n",
    "        return self.xtest, self.ytest\n",
    "\n",
    "    def get_scaler(self):\n",
    "        return self.scaler\n",
    "\n"
   ]
  },
  {
   "cell_type": "code",
   "execution_count": 3,
   "id": "3655146f-4a22-4ec3-8df4-41876f8b5f78",
   "metadata": {},
   "outputs": [],
   "source": [
    "def transform_target(target):\n",
    "    \"\"\"Args:\n",
    "        target: np.ndarry or pd.DataFrame\n",
    "    \"\"\"\n",
    "    n=target.shape[0]\n",
    "    if isinstance(target,np.ndarray):\n",
    "        target[target==1]=-1\n",
    "        target[target==0]=1\n",
    "        \n",
    "    elif isinstance(target,pd.DataFrame) or isinstance(target,pd.Series):\n",
    "        target[target==1]=-1\n",
    "        target[target==0]=1\n",
    "    return target\n",
    "\n",
    "\n",
    "def inverse_transform_target(target):\n",
    "    n=target.shape[0]\n",
    "    if isinstance(target,pd.DataFrame) or isinstance(target,pd.Series):\n",
    "        target[target==1]=0\n",
    "        target[target==-1]=1\n",
    "        \n",
    "    elif isinstance(target,np.ndarray): \n",
    "        target[target==1]=0\n",
    "        target[target==-1]=1\n",
    "    return target"
   ]
  },
  {
   "cell_type": "code",
   "execution_count": 4,
   "id": "97caca92-ee53-4cb7-85ca-e518431fc4e5",
   "metadata": {},
   "outputs": [],
   "source": [
    "def confusin_matrix_display(ytest,ypred):\n",
    "    metrics.ConfusionMatrixDisplay(confusion_matrix(ytest,ypred)).plot()\n",
    "    plt.title(\"Confusion Matrix\")\n",
    "    plt.show()\n",
    "\n",
    "def precision_recall_display(ytest, ypred):\n",
    "    precision, recall, _ = precision_recall_curve(ytest, ypred)\n",
    "    PrecisionRecallDisplay(precision=precision, recall=recall).plot()\n",
    "    plt.title(\"Precision_Recall_Curve\")\n",
    "    plt.show()\n",
    "\n",
    "def roc_curve_disolay(ytest, ypred):\n",
    "    fpr, tpr, thresholds = metrics.roc_curve(ytest, ypred)\n",
    "    roc_auc = metrics.auc(fpr, tpr)\n",
    "    display = metrics.RocCurveDisplay(fpr=fpr, tpr=tpr, roc_auc=roc_auc)\n",
    "    print(f\"roc_auc {roc_auc}\")\n",
    "    display.plot()\n",
    "    plt.title(\"ROC_Curve\")\n",
    "    plt.show()\n",
    "\n",
    "def scores(ytest,ypred):\n",
    "    df=pd.DataFrame({\"f1_score\" : [f1_score(ytest,ypred)],\n",
    "                     \"accuracy_score\" : [accuracy_score(ytest,ypred)],\n",
    "                     \"precision_score\" : [precision_score(ytest,ypred)],\n",
    "                     \"recall_score\" : [recall_score(ytest,ypred)]\n",
    "    })\n",
    "    print(df)\n",
    "    return df\n",
    " \n",
    "def evaluation(ytrue,ypred):\n",
    "    confusin_matrix_display(ytrue,ypred)\n",
    "    precision_recall_display(ytrue, ypred)\n",
    "    roc_curve_disolay(ytrue, ypred)\n",
    "    scores(ytest,ypred)"
   ]
  },
  {
   "cell_type": "code",
   "execution_count": 5,
   "id": "8335e8d9-ad2f-4776-8777-c99353df3389",
   "metadata": {},
   "outputs": [],
   "source": [
    "class CustomGridSearchCV:\n",
    "    \n",
    "    def __init__(self, estimator, param_grid, n_splits=5, random_state=42):\n",
    "        self.estimator = estimator\n",
    "        self.param_grid = param_grid\n",
    "        self.n_splits = n_splits\n",
    "        self.random_state = random_state\n",
    "        self.best_score = 0\n",
    "        self.best_params = None\n",
    "        self.best_estimator = None\n",
    "\n",
    "    def fit(self, X, y):\n",
    "        \n",
    "        \n",
    "        param_grid = ParameterGrid(self.param_grid)\n",
    "        skf=StratifiedKFold(n_splits=self.n_splits, random_state=None, shuffle=False)\n",
    "        \n",
    "        for params in tqdm(param_grid):\n",
    "            \n",
    "            \n",
    "            total_score = 0\n",
    "\n",
    "            # Itérer sur les plis de la validation croisée\n",
    "            for train_index, val_index in tqdm(skf.split(X,y)):\n",
    "                xtrain_fold, xval_fold = X.iloc[train_index], X.iloc[val_index]\n",
    "                ytrain_fold, yval_fold = y.iloc[train_index], y.iloc[val_index]\n",
    "\n",
    "                # Entraîner le modèle\n",
    "                model = self.estimator.set_params(**params)\n",
    "                model.fit(xtrain_fold)\n",
    "\n",
    "                # Faire des prédictions\n",
    "                ypred_val = model.predict(xval_fold)\n",
    "                ypred_val = inverse_transform_target(ypred_val)\n",
    "\n",
    "                current_score = f1_score(ypred_val, yval_fold)\n",
    "\n",
    "                total_score += current_score\n",
    "\n",
    "            avg_score = total_score / self.n_splits\n",
    "\n",
    "            # Afficher les paramètres et le score moyen\n",
    "            print(\"Paramètres:\", params)\n",
    "            print(\"Score moyen (f1_score):\", avg_score)\n",
    "            print(\" \")\n",
    "\n",
    "            if avg_score > self.best_score:\n",
    "                self.best_score = avg_score\n",
    "                self.best_params = params\n",
    "                self.best_estimator=model\n",
    "\n",
    "        # Afficher les meilleurs paramètres\n",
    "        print(\"Meilleurs paramètres :\", self.best_params)\n",
    "        print(\"Meilleur score moyen (f1_score) :\", self.best_score)\n",
    "    def predict(self,xtest):\n",
    "        return self.best_estimator.fit_predict(xtest)"
   ]
  },
  {
   "cell_type": "code",
   "execution_count": 6,
   "id": "e5349ffb-7351-4ba8-b7ed-81408e47ee3a",
   "metadata": {},
   "outputs": [],
   "source": [
    "# Utilisation de la classe\n",
    "data_loader = AnomalyDetectionDataLoader(file_path=\"/home/dah/anomalie_detection/anomalie_detection/data/creditcard.csv\")\n",
    "data_loader.load_data()\n",
    "data_loader.preprocess_data()\n",
    "data_loader.split_data()\n",
    "\n",
    "xtrain, ytrain = data_loader.get_train_data()\n",
    "xtest, ytest = data_loader.get_test_data()\n",
    "scaler = data_loader.get_scaler()\n"
   ]
  },
  {
   "cell_type": "code",
   "execution_count": 7,
   "id": "caf5aad8-e68c-4f99-b90f-95a599070240",
   "metadata": {},
   "outputs": [],
   "source": [
    "# best_par={\n",
    "#           'kernel': [\"rbf\"],\n",
    "#           'nu': [0.0026,0.00265,0.0027], #0.2,0.3,0.4,0.5,0.6,0.7,0.8,0.9],\n",
    "#           # 'degree':[1,2,3,4,5,6,7,8,9,10]\n",
    "# }\n",
    "# model=CustomGridSearchCV(estimator=OneClassSVM(gamma='auto'), param_grid=best_par, n_splits=5, random_state=42)\n",
    "# model.fit(xtrain,ytrain)"
   ]
  },
  {
   "cell_type": "code",
   "execution_count": 8,
   "id": "cc2b087f-5926-456f-96ea-c6129f32f7f2",
   "metadata": {},
   "outputs": [],
   "source": [
    "# params={'kernel': 'rbf', 'nu': 0.0026,'gamma':'auto'}"
   ]
  },
  {
   "cell_type": "code",
   "execution_count": 9,
   "id": "62d4acae-3bf3-4395-b90c-f405cf074e01",
   "metadata": {},
   "outputs": [],
   "source": [
    "# clf=OneClassSVM(**params)\n",
    "# clf.fit(xtrain)"
   ]
  },
  {
   "cell_type": "code",
   "execution_count": 10,
   "id": "6a6e3678-552e-4514-b048-930ec87c5533",
   "metadata": {},
   "outputs": [],
   "source": [
    "# ypred=clf.predict(xtest)"
   ]
  },
  {
   "cell_type": "code",
   "execution_count": 11,
   "id": "a69c769d-e1ca-4845-aa7c-6b8a8cca89f0",
   "metadata": {},
   "outputs": [],
   "source": [
    "# ypred=inverse_transform_target(ypred)"
   ]
  },
  {
   "cell_type": "code",
   "execution_count": 12,
   "id": "3371c5ba-708a-4a82-af07-cc40db6d059a",
   "metadata": {},
   "outputs": [],
   "source": [
    "# evaluation(ytest,ypred)"
   ]
  },
  {
   "cell_type": "code",
   "execution_count": 13,
   "id": "6c22fc05-c34c-4d8c-86b9-d14b4d3c5163",
   "metadata": {},
   "outputs": [],
   "source": [
    "# best_par={\n",
    "#           'kernel': [\"poly\"],\n",
    "#           'nu': [0.0026,0.003], #0.2,0.3,0.4,0.5,0.6,0.7,0.8,0.9],\n",
    "#           'degree':[1,2,3,4,5,6,7,8,9,10]\n",
    "# }\n",
    "# model=CustomGridSearchCV(estimator=OneClassSVM(gamma='auto'), param_grid=best_par, n_splits=5, random_state=42)\n",
    "# model.fit(xtrain,ytrain)"
   ]
  },
  {
   "cell_type": "code",
   "execution_count": 14,
   "id": "1940007f-8987-454c-9366-d4064ada98ae",
   "metadata": {},
   "outputs": [],
   "source": [
    "params={'kernel': 'poly', 'nu': 0.0026,'gamma':'auto','degree':9}"
   ]
  },
  {
   "cell_type": "code",
   "execution_count": 15,
   "id": "a2e2317e-ecd5-46f0-acaf-972d79dab1f5",
   "metadata": {},
   "outputs": [
    {
     "data": {
      "image/png": "[encoded data removed]",
      "text/plain": [
       "<Figure size 640x480 with 2 Axes>"
      ]
     },
     "metadata": {},
     "output_type": "display_data"
    },
    {
     "data": {
      "image/png": "[encoded data removed]",
      "text/plain": [
       "<Figure size 640x480 with 1 Axes>"
      ]
     },
     "metadata": {},
     "output_type": "display_data"
    },
    {
     "name": "stdout",
     "output_type": "stream",
     "text": [
      "roc_auc 0.8153056979540304\n"
     ]
    },
    {
     "data": {
      "image/png": "[encoded data removed]",
      "text/plain": [
       "<Figure size 640x480 with 1 Axes>"
      ]
     },
     "metadata": {},
     "output_type": "display_data"
    },
    {
     "name": "stdout",
     "output_type": "stream",
     "text": [
      "   f1_score  accuracy_score  precision_score  recall_score\n",
      "0  0.464865        0.997674         0.367521      0.632353\n"
     ]
    }
   ],
   "source": [
    "params={'kernel': 'poly', 'nu': 0.0026,'gamma':'auto','degree':9}\n",
    "clf=OneClassSVM(**params)\n",
    "clf.fit(xtrain)\n",
    "\n",
    "ypred=clf.predict(xtest)\n",
    "ypred=inverse_transform_target(ypred)\n",
    "evaluation(ytest,ypred)"
   ]
  },
  {
   "cell_type": "code",
   "execution_count": 16,
   "id": "36f3d975-676d-4222-b000-65be5bec4f42",
   "metadata": {},
   "outputs": [],
   "source": [
    "ypred=clf.predict(xtest)"
   ]
  },
  {
   "cell_type": "code",
   "execution_count": 17,
   "id": "ad9c4f69-8892-47a4-ac80-0331cf0ea76b",
   "metadata": {},
   "outputs": [],
   "source": [
    "ypred=inverse_transform_target(ypred)"
   ]
  },
  {
   "cell_type": "code",
   "execution_count": 18,
   "id": "b40019b2-877e-4ecc-8621-f61ff2616ccf",
   "metadata": {},
   "outputs": [
    {
     "data": {
      "image/png": "[encoded data removed]",
      "text/plain": [
       "<Figure size 640x480 with 2 Axes>"
      ]
     },
     "metadata": {},
     "output_type": "display_data"
    },
    {
     "data": {
      "image/png": "[encoded data removed]",
      "text/plain": [
       "<Figure size 640x480 with 1 Axes>"
      ]
     },
     "metadata": {},
     "output_type": "display_data"
    },
    {
     "name": "stdout",
     "output_type": "stream",
     "text": [
      "roc_auc 0.8153056979540304\n"
     ]
    },
    {
     "data": {
      "image/png": "[encoded data removed]",
      "text/plain": [
       "<Figure size 640x480 with 1 Axes>"
      ]
     },
     "metadata": {},
     "output_type": "display_data"
    },
    {
     "name": "stdout",
     "output_type": "stream",
     "text": [
      "   f1_score  accuracy_score  precision_score  recall_score\n",
      "0  0.464865        0.997674         0.367521      0.632353\n"
     ]
    }
   ],
   "source": [
    "evaluation(ytest,ypred)"
   ]
  },
  {
   "cell_type": "code",
   "execution_count": 52,
   "id": "6c5c7b58-d8c4-413a-9929-0c32107de482",
   "metadata": {},
   "outputs": [
    {
     "data": {
      "application/vnd.jupyter.widget-view+json": {
       "model_id": "b51362f724fc4a13911975a47a32ff3d",
       "version_major": 2,
       "version_minor": 0
      },
      "text/plain": [
       "  0%|          | 0/40 [00:00<?, ?it/s]"
      ]
     },
     "metadata": {},
     "output_type": "display_data"
    },
    {
     "data": {
      "application/vnd.jupyter.widget-view+json": {
       "model_id": "ca4d8f68cda14c31b35b77f0f1449c73",
       "version_major": 2,
       "version_minor": 0
      },
      "text/plain": [
       "0it [00:00, ?it/s]"
      ]
     },
     "metadata": {},
     "output_type": "display_data"
    },
    {
     "name": "stdout",
     "output_type": "stream",
     "text": [
      "Paramètres: {'degree': 1, 'kernel': 'sigmoid', 'nu': 0.001}\n",
      "Score moyen (f1_score): 0.3803616242847473\n",
      " \n"
     ]
    },
    {
     "data": {
      "application/vnd.jupyter.widget-view+json": {
       "model_id": "5a100622799c426086870a60d968751c",
       "version_major": 2,
       "version_minor": 0
      },
      "text/plain": [
       "0it [00:00, ?it/s]"
      ]
     },
     "metadata": {},
     "output_type": "display_data"
    },
    {
     "name": "stdout",
     "output_type": "stream",
     "text": [
      "Paramètres: {'degree': 1, 'kernel': 'sigmoid', 'nu': 0.002}\n",
      "Score moyen (f1_score): 0.42897657390971167\n",
      " \n"
     ]
    },
    {
     "data": {
      "application/vnd.jupyter.widget-view+json": {
       "model_id": "5c7255ba42874de7a4045ffa8a523120",
       "version_major": 2,
       "version_minor": 0
      },
      "text/plain": [
       "0it [00:00, ?it/s]"
      ]
     },
     "metadata": {},
     "output_type": "display_data"
    },
    {
     "name": "stdout",
     "output_type": "stream",
     "text": [
      "Paramètres: {'degree': 1, 'kernel': 'sigmoid', 'nu': 0.0026}\n",
      "Score moyen (f1_score): 0.4142263033900077\n",
      " \n"
     ]
    },
    {
     "data": {
      "application/vnd.jupyter.widget-view+json": {
       "model_id": "89e5041a54c34a1c9a505e7301f52b9b",
       "version_major": 2,
       "version_minor": 0
      },
      "text/plain": [
       "0it [00:00, ?it/s]"
      ]
     },
     "metadata": {},
     "output_type": "display_data"
    },
    {
     "name": "stdout",
     "output_type": "stream",
     "text": [
      "Paramètres: {'degree': 1, 'kernel': 'sigmoid', 'nu': 0.003}\n",
      "Score moyen (f1_score): 0.4013564454643742\n",
      " \n"
     ]
    },
    {
     "data": {
      "application/vnd.jupyter.widget-view+json": {
       "model_id": "2b3c55507d56445baaeb9d437190ed4e",
       "version_major": 2,
       "version_minor": 0
      },
      "text/plain": [
       "0it [00:00, ?it/s]"
      ]
     },
     "metadata": {},
     "output_type": "display_data"
    },
    {
     "name": "stdout",
     "output_type": "stream",
     "text": [
      "Paramètres: {'degree': 2, 'kernel': 'sigmoid', 'nu': 0.001}\n",
      "Score moyen (f1_score): 0.3803616242847473\n",
      " \n"
     ]
    },
    {
     "data": {
      "application/vnd.jupyter.widget-view+json": {
       "model_id": "a279d7f02e2b4a16a89647ae65d92e95",
       "version_major": 2,
       "version_minor": 0
      },
      "text/plain": [
       "0it [00:00, ?it/s]"
      ]
     },
     "metadata": {},
     "output_type": "display_data"
    },
    {
     "name": "stdout",
     "output_type": "stream",
     "text": [
      "Paramètres: {'degree': 2, 'kernel': 'sigmoid', 'nu': 0.002}\n",
      "Score moyen (f1_score): 0.42897657390971167\n",
      " \n"
     ]
    },
    {
     "data": {
      "application/vnd.jupyter.widget-view+json": {
       "model_id": "38ebab52f0944b87b6061a009d50c108",
       "version_major": 2,
       "version_minor": 0
      },
      "text/plain": [
       "0it [00:00, ?it/s]"
      ]
     },
     "metadata": {},
     "output_type": "display_data"
    },
    {
     "name": "stdout",
     "output_type": "stream",
     "text": [
      "Paramètres: {'degree': 2, 'kernel': 'sigmoid', 'nu': 0.0026}\n",
      "Score moyen (f1_score): 0.4142263033900077\n",
      " \n"
     ]
    },
    {
     "data": {
      "application/vnd.jupyter.widget-view+json": {
       "model_id": "5bb42a425d3248f5a14b3d912110d794",
       "version_major": 2,
       "version_minor": 0
      },
      "text/plain": [
       "0it [00:00, ?it/s]"
      ]
     },
     "metadata": {},
     "output_type": "display_data"
    },
    {
     "name": "stdout",
     "output_type": "stream",
     "text": [
      "Paramètres: {'degree': 2, 'kernel': 'sigmoid', 'nu': 0.003}\n",
      "Score moyen (f1_score): 0.4013564454643742\n",
      " \n"
     ]
    },
    {
     "data": {
      "application/vnd.jupyter.widget-view+json": {
       "model_id": "9e62c12b9331408c91ebf07b804fd068",
       "version_major": 2,
       "version_minor": 0
      },
      "text/plain": [
       "0it [00:00, ?it/s]"
      ]
     },
     "metadata": {},
     "output_type": "display_data"
    },
    {
     "name": "stdout",
     "output_type": "stream",
     "text": [
      "Paramètres: {'degree': 3, 'kernel': 'sigmoid', 'nu': 0.001}\n",
      "Score moyen (f1_score): 0.3803616242847473\n",
      " \n"
     ]
    },
    {
     "data": {
      "application/vnd.jupyter.widget-view+json": {
       "model_id": "28c393504c7b4c2d8e3280992d5b1727",
       "version_major": 2,
       "version_minor": 0
      },
      "text/plain": [
       "0it [00:00, ?it/s]"
      ]
     },
     "metadata": {},
     "output_type": "display_data"
    },
    {
     "name": "stdout",
     "output_type": "stream",
     "text": [
      "Paramètres: {'degree': 3, 'kernel': 'sigmoid', 'nu': 0.002}\n",
      "Score moyen (f1_score): 0.42897657390971167\n",
      " \n"
     ]
    },
    {
     "data": {
      "application/vnd.jupyter.widget-view+json": {
       "model_id": "5b1816494ed942d9be79033cd99e2db0",
       "version_major": 2,
       "version_minor": 0
      },
      "text/plain": [
       "0it [00:00, ?it/s]"
      ]
     },
     "metadata": {},
     "output_type": "display_data"
    },
    {
     "name": "stdout",
     "output_type": "stream",
     "text": [
      "Paramètres: {'degree': 3, 'kernel': 'sigmoid', 'nu': 0.0026}\n",
      "Score moyen (f1_score): 0.4142263033900077\n",
      " \n"
     ]
    },
    {
     "data": {
      "application/vnd.jupyter.widget-view+json": {
       "model_id": "48eeda90c82f41d0b68a944747491dd3",
       "version_major": 2,
       "version_minor": 0
      },
      "text/plain": [
       "0it [00:00, ?it/s]"
      ]
     },
     "metadata": {},
     "output_type": "display_data"
    },
    {
     "name": "stdout",
     "output_type": "stream",
     "text": [
      "Paramètres: {'degree': 3, 'kernel': 'sigmoid', 'nu': 0.003}\n",
      "Score moyen (f1_score): 0.4013564454643742\n",
      " \n"
     ]
    },
    {
     "data": {
      "application/vnd.jupyter.widget-view+json": {
       "model_id": "63bcbeff4107467abe7e46b65c506d14",
       "version_major": 2,
       "version_minor": 0
      },
      "text/plain": [
       "0it [00:00, ?it/s]"
      ]
     },
     "metadata": {},
     "output_type": "display_data"
    },
    {
     "name": "stdout",
     "output_type": "stream",
     "text": [
      "Paramètres: {'degree': 4, 'kernel': 'sigmoid', 'nu': 0.001}\n",
      "Score moyen (f1_score): 0.3803616242847473\n",
      " \n"
     ]
    },
    {
     "data": {
      "application/vnd.jupyter.widget-view+json": {
       "model_id": "1bac262a962c4afa9135d2693d543033",
       "version_major": 2,
       "version_minor": 0
      },
      "text/plain": [
       "0it [00:00, ?it/s]"
      ]
     },
     "metadata": {},
     "output_type": "display_data"
    },
    {
     "name": "stdout",
     "output_type": "stream",
     "text": [
      "Paramètres: {'degree': 4, 'kernel': 'sigmoid', 'nu': 0.002}\n",
      "Score moyen (f1_score): 0.42897657390971167\n",
      " \n"
     ]
    },
    {
     "data": {
      "application/vnd.jupyter.widget-view+json": {
       "model_id": "2d1617bdbdf144d7be155dc38f4bc610",
       "version_major": 2,
       "version_minor": 0
      },
      "text/plain": [
       "0it [00:00, ?it/s]"
      ]
     },
     "metadata": {},
     "output_type": "display_data"
    },
    {
     "name": "stdout",
     "output_type": "stream",
     "text": [
      "Paramètres: {'degree': 4, 'kernel': 'sigmoid', 'nu': 0.0026}\n",
      "Score moyen (f1_score): 0.4142263033900077\n",
      " \n"
     ]
    },
    {
     "data": {
      "application/vnd.jupyter.widget-view+json": {
       "model_id": "f4c460e6fa1a42cbb5bd4339a2f2321f",
       "version_major": 2,
       "version_minor": 0
      },
      "text/plain": [
       "0it [00:00, ?it/s]"
      ]
     },
     "metadata": {},
     "output_type": "display_data"
    },
    {
     "name": "stdout",
     "output_type": "stream",
     "text": [
      "Paramètres: {'degree': 4, 'kernel': 'sigmoid', 'nu': 0.003}\n",
      "Score moyen (f1_score): 0.4013564454643742\n",
      " \n"
     ]
    },
    {
     "data": {
      "application/vnd.jupyter.widget-view+json": {
       "model_id": "96532fd1228243adbf382e13e4ac30b6",
       "version_major": 2,
       "version_minor": 0
      },
      "text/plain": [
       "0it [00:00, ?it/s]"
      ]
     },
     "metadata": {},
     "output_type": "display_data"
    },
    {
     "name": "stdout",
     "output_type": "stream",
     "text": [
      "Paramètres: {'degree': 5, 'kernel': 'sigmoid', 'nu': 0.001}\n",
      "Score moyen (f1_score): 0.3803616242847473\n",
      " \n"
     ]
    },
    {
     "data": {
      "application/vnd.jupyter.widget-view+json": {
       "model_id": "a6f216ebe0bd490eabea116596cc8627",
       "version_major": 2,
       "version_minor": 0
      },
      "text/plain": [
       "0it [00:00, ?it/s]"
      ]
     },
     "metadata": {},
     "output_type": "display_data"
    },
    {
     "name": "stdout",
     "output_type": "stream",
     "text": [
      "Paramètres: {'degree': 5, 'kernel': 'sigmoid', 'nu': 0.002}\n",
      "Score moyen (f1_score): 0.42897657390971167\n",
      " \n"
     ]
    },
    {
     "data": {
      "application/vnd.jupyter.widget-view+json": {
       "model_id": "5a87559a521e474f8fdcb0bf3aa4d044",
       "version_major": 2,
       "version_minor": 0
      },
      "text/plain": [
       "0it [00:00, ?it/s]"
      ]
     },
     "metadata": {},
     "output_type": "display_data"
    },
    {
     "name": "stdout",
     "output_type": "stream",
     "text": [
      "Paramètres: {'degree': 5, 'kernel': 'sigmoid', 'nu': 0.0026}\n",
      "Score moyen (f1_score): 0.4142263033900077\n",
      " \n"
     ]
    },
    {
     "data": {
      "application/vnd.jupyter.widget-view+json": {
       "model_id": "d88084215a554c729ce4af4e0c1f4600",
       "version_major": 2,
       "version_minor": 0
      },
      "text/plain": [
       "0it [00:00, ?it/s]"
      ]
     },
     "metadata": {},
     "output_type": "display_data"
    },
    {
     "name": "stdout",
     "output_type": "stream",
     "text": [
      "Paramètres: {'degree': 5, 'kernel': 'sigmoid', 'nu': 0.003}\n",
      "Score moyen (f1_score): 0.4013564454643742\n",
      " \n"
     ]
    },
    {
     "data": {
      "application/vnd.jupyter.widget-view+json": {
       "model_id": "071a1467f33c4279a89514d0635015e8",
       "version_major": 2,
       "version_minor": 0
      },
      "text/plain": [
       "0it [00:00, ?it/s]"
      ]
     },
     "metadata": {},
     "output_type": "display_data"
    },
    {
     "name": "stdout",
     "output_type": "stream",
     "text": [
      "Paramètres: {'degree': 6, 'kernel': 'sigmoid', 'nu': 0.001}\n",
      "Score moyen (f1_score): 0.3803616242847473\n",
      " \n"
     ]
    },
    {
     "data": {
      "application/vnd.jupyter.widget-view+json": {
       "model_id": "67843b113c99401ab9811968dbd6bdab",
       "version_major": 2,
       "version_minor": 0
      },
      "text/plain": [
       "0it [00:00, ?it/s]"
      ]
     },
     "metadata": {},
     "output_type": "display_data"
    },
    {
     "name": "stdout",
     "output_type": "stream",
     "text": [
      "Paramètres: {'degree': 6, 'kernel': 'sigmoid', 'nu': 0.002}\n",
      "Score moyen (f1_score): 0.42897657390971167\n",
      " \n"
     ]
    },
    {
     "data": {
      "application/vnd.jupyter.widget-view+json": {
       "model_id": "499713b9c42a44b3b5103a29b3fe8354",
       "version_major": 2,
       "version_minor": 0
      },
      "text/plain": [
       "0it [00:00, ?it/s]"
      ]
     },
     "metadata": {},
     "output_type": "display_data"
    },
    {
     "name": "stdout",
     "output_type": "stream",
     "text": [
      "Paramètres: {'degree': 6, 'kernel': 'sigmoid', 'nu': 0.0026}\n",
      "Score moyen (f1_score): 0.4142263033900077\n",
      " \n"
     ]
    },
    {
     "data": {
      "application/vnd.jupyter.widget-view+json": {
       "model_id": "cc3a86281fde4d52a2c86dae97357dd9",
       "version_major": 2,
       "version_minor": 0
      },
      "text/plain": [
       "0it [00:00, ?it/s]"
      ]
     },
     "metadata": {},
     "output_type": "display_data"
    },
    {
     "name": "stdout",
     "output_type": "stream",
     "text": [
      "Paramètres: {'degree': 6, 'kernel': 'sigmoid', 'nu': 0.003}\n",
      "Score moyen (f1_score): 0.4013564454643742\n",
      " \n"
     ]
    },
    {
     "data": {
      "application/vnd.jupyter.widget-view+json": {
       "model_id": "afb488d1d09b477e89a772d0cef410ee",
       "version_major": 2,
       "version_minor": 0
      },
      "text/plain": [
       "0it [00:00, ?it/s]"
      ]
     },
     "metadata": {},
     "output_type": "display_data"
    },
    {
     "name": "stdout",
     "output_type": "stream",
     "text": [
      "Paramètres: {'degree': 7, 'kernel': 'sigmoid', 'nu': 0.001}\n",
      "Score moyen (f1_score): 0.3803616242847473\n",
      " \n"
     ]
    },
    {
     "data": {
      "application/vnd.jupyter.widget-view+json": {
       "model_id": "721ee1765b9d4031b63d029ae01be698",
       "version_major": 2,
       "version_minor": 0
      },
      "text/plain": [
       "0it [00:00, ?it/s]"
      ]
     },
     "metadata": {},
     "output_type": "display_data"
    },
    {
     "name": "stdout",
     "output_type": "stream",
     "text": [
      "Paramètres: {'degree': 7, 'kernel': 'sigmoid', 'nu': 0.002}\n",
      "Score moyen (f1_score): 0.42897657390971167\n",
      " \n"
     ]
    },
    {
     "data": {
      "application/vnd.jupyter.widget-view+json": {
       "model_id": "fa9a3e8f166c4af1a2b880479773f98f",
       "version_major": 2,
       "version_minor": 0
      },
      "text/plain": [
       "0it [00:00, ?it/s]"
      ]
     },
     "metadata": {},
     "output_type": "display_data"
    },
    {
     "name": "stdout",
     "output_type": "stream",
     "text": [
      "Paramètres: {'degree': 7, 'kernel': 'sigmoid', 'nu': 0.0026}\n",
      "Score moyen (f1_score): 0.4142263033900077\n",
      " \n"
     ]
    },
    {
     "data": {
      "application/vnd.jupyter.widget-view+json": {
       "model_id": "c21fa84f4dff4e8fb5280afbc503eb5d",
       "version_major": 2,
       "version_minor": 0
      },
      "text/plain": [
       "0it [00:00, ?it/s]"
      ]
     },
     "metadata": {},
     "output_type": "display_data"
    },
    {
     "name": "stdout",
     "output_type": "stream",
     "text": [
      "Paramètres: {'degree': 7, 'kernel': 'sigmoid', 'nu': 0.003}\n",
      "Score moyen (f1_score): 0.4013564454643742\n",
      " \n"
     ]
    },
    {
     "data": {
      "application/vnd.jupyter.widget-view+json": {
       "model_id": "71d932537abc4246b2e8569d9ea73339",
       "version_major": 2,
       "version_minor": 0
      },
      "text/plain": [
       "0it [00:00, ?it/s]"
      ]
     },
     "metadata": {},
     "output_type": "display_data"
    },
    {
     "name": "stdout",
     "output_type": "stream",
     "text": [
      "Paramètres: {'degree': 8, 'kernel': 'sigmoid', 'nu': 0.001}\n",
      "Score moyen (f1_score): 0.3803616242847473\n",
      " \n"
     ]
    },
    {
     "data": {
      "application/vnd.jupyter.widget-view+json": {
       "model_id": "d0b631474aec410082309e6a05c9fa8b",
       "version_major": 2,
       "version_minor": 0
      },
      "text/plain": [
       "0it [00:00, ?it/s]"
      ]
     },
     "metadata": {},
     "output_type": "display_data"
    },
    {
     "name": "stdout",
     "output_type": "stream",
     "text": [
      "Paramètres: {'degree': 8, 'kernel': 'sigmoid', 'nu': 0.002}\n",
      "Score moyen (f1_score): 0.42897657390971167\n",
      " \n"
     ]
    },
    {
     "data": {
      "application/vnd.jupyter.widget-view+json": {
       "model_id": "909e3990ad22460d81e57a932aca13f0",
       "version_major": 2,
       "version_minor": 0
      },
      "text/plain": [
       "0it [00:00, ?it/s]"
      ]
     },
     "metadata": {},
     "output_type": "display_data"
    },
    {
     "name": "stdout",
     "output_type": "stream",
     "text": [
      "Paramètres: {'degree': 8, 'kernel': 'sigmoid', 'nu': 0.0026}\n",
      "Score moyen (f1_score): 0.4142263033900077\n",
      " \n"
     ]
    },
    {
     "data": {
      "application/vnd.jupyter.widget-view+json": {
       "model_id": "dfee578592b8443dba9540ec7d2f2809",
       "version_major": 2,
       "version_minor": 0
      },
      "text/plain": [
       "0it [00:00, ?it/s]"
      ]
     },
     "metadata": {},
     "output_type": "display_data"
    },
    {
     "name": "stdout",
     "output_type": "stream",
     "text": [
      "Paramètres: {'degree': 8, 'kernel': 'sigmoid', 'nu': 0.003}\n",
      "Score moyen (f1_score): 0.4013564454643742\n",
      " \n"
     ]
    },
    {
     "data": {
      "application/vnd.jupyter.widget-view+json": {
       "model_id": "3edfb1b4706a4baebccd11d13cefc227",
       "version_major": 2,
       "version_minor": 0
      },
      "text/plain": [
       "0it [00:00, ?it/s]"
      ]
     },
     "metadata": {},
     "output_type": "display_data"
    },
    {
     "name": "stdout",
     "output_type": "stream",
     "text": [
      "Paramètres: {'degree': 9, 'kernel': 'sigmoid', 'nu': 0.001}\n",
      "Score moyen (f1_score): 0.3803616242847473\n",
      " \n"
     ]
    },
    {
     "data": {
      "application/vnd.jupyter.widget-view+json": {
       "model_id": "ca6e7b3045ba429a92b2722dbb4e1a8e",
       "version_major": 2,
       "version_minor": 0
      },
      "text/plain": [
       "0it [00:00, ?it/s]"
      ]
     },
     "metadata": {},
     "output_type": "display_data"
    },
    {
     "name": "stdout",
     "output_type": "stream",
     "text": [
      "Paramètres: {'degree': 9, 'kernel': 'sigmoid', 'nu': 0.002}\n",
      "Score moyen (f1_score): 0.42897657390971167\n",
      " \n"
     ]
    },
    {
     "data": {
      "application/vnd.jupyter.widget-view+json": {
       "model_id": "e640dbf19a40498c88ad02224b352c9f",
       "version_major": 2,
       "version_minor": 0
      },
      "text/plain": [
       "0it [00:00, ?it/s]"
      ]
     },
     "metadata": {},
     "output_type": "display_data"
    },
    {
     "name": "stdout",
     "output_type": "stream",
     "text": [
      "Paramètres: {'degree': 9, 'kernel': 'sigmoid', 'nu': 0.0026}\n",
      "Score moyen (f1_score): 0.4142263033900077\n",
      " \n"
     ]
    },
    {
     "data": {
      "application/vnd.jupyter.widget-view+json": {
       "model_id": "feb071f6299449a099bee9f38835eebd",
       "version_major": 2,
       "version_minor": 0
      },
      "text/plain": [
       "0it [00:00, ?it/s]"
      ]
     },
     "metadata": {},
     "output_type": "display_data"
    },
    {
     "name": "stdout",
     "output_type": "stream",
     "text": [
      "Paramètres: {'degree': 9, 'kernel': 'sigmoid', 'nu': 0.003}\n",
      "Score moyen (f1_score): 0.4013564454643742\n",
      " \n"
     ]
    },
    {
     "data": {
      "application/vnd.jupyter.widget-view+json": {
       "model_id": "dd578e543735426fada77aeaec02cdac",
       "version_major": 2,
       "version_minor": 0
      },
      "text/plain": [
       "0it [00:00, ?it/s]"
      ]
     },
     "metadata": {},
     "output_type": "display_data"
    },
    {
     "name": "stdout",
     "output_type": "stream",
     "text": [
      "Paramètres: {'degree': 10, 'kernel': 'sigmoid', 'nu': 0.001}\n",
      "Score moyen (f1_score): 0.3803616242847473\n",
      " \n"
     ]
    },
    {
     "data": {
      "application/vnd.jupyter.widget-view+json": {
       "model_id": "cc3bd2c1695448f3a40429914d598485",
       "version_major": 2,
       "version_minor": 0
      },
      "text/plain": [
       "0it [00:00, ?it/s]"
      ]
     },
     "metadata": {},
     "output_type": "display_data"
    },
    {
     "name": "stdout",
     "output_type": "stream",
     "text": [
      "Paramètres: {'degree': 10, 'kernel': 'sigmoid', 'nu': 0.002}\n",
      "Score moyen (f1_score): 0.42897657390971167\n",
      " \n"
     ]
    },
    {
     "data": {
      "application/vnd.jupyter.widget-view+json": {
       "model_id": "1f4d3bd7f46f4a74901b49aa59371488",
       "version_major": 2,
       "version_minor": 0
      },
      "text/plain": [
       "0it [00:00, ?it/s]"
      ]
     },
     "metadata": {},
     "output_type": "display_data"
    },
    {
     "name": "stdout",
     "output_type": "stream",
     "text": [
      "Paramètres: {'degree': 10, 'kernel': 'sigmoid', 'nu': 0.0026}\n",
      "Score moyen (f1_score): 0.4142263033900077\n",
      " \n"
     ]
    },
    {
     "data": {
      "application/vnd.jupyter.widget-view+json": {
       "model_id": "f18fa1b2e9a14e2bb3baab14e49d3558",
       "version_major": 2,
       "version_minor": 0
      },
      "text/plain": [
       "0it [00:00, ?it/s]"
      ]
     },
     "metadata": {},
     "output_type": "display_data"
    },
    {
     "name": "stdout",
     "output_type": "stream",
     "text": [
      "Paramètres: {'degree': 10, 'kernel': 'sigmoid', 'nu': 0.003}\n",
      "Score moyen (f1_score): 0.4013564454643742\n",
      " \n",
      "Meilleurs paramètres : {'degree': 1, 'kernel': 'sigmoid', 'nu': 0.002}\n",
      "Meilleur score moyen (f1_score) : 0.42897657390971167\n"
     ]
    }
   ],
   "source": [
    "best_par={\n",
    "          'kernel': [\"sigmoid\"],\n",
    "          'nu': [0.001,0.002,0.0026,0.003], #0.2,0.3,0.4,0.5,0.6,0.7,0.8,0.9],\n",
    "          'degree':[1,2,3,4,5,6,7,8,9,10]\n",
    "}\n",
    "model=CustomGridSearchCV(estimator=OneClassSVM(gamma='auto'), param_grid=best_par, n_splits=5, random_state=42)\n",
    "model.fit(xtrain,ytrain)"
   ]
  },
  {
   "cell_type": "code",
   "execution_count": 54,
   "id": "84dc491f-9a52-4fb1-8b4e-8e69fb216221",
   "metadata": {},
   "outputs": [
    {
     "data": {
      "image/png": "[encoded data removed]",
      "text/plain": [
       "<Figure size 640x480 with 2 Axes>"
      ]
     },
     "metadata": {},
     "output_type": "display_data"
    },
    {
     "data": {
      "image/png": "[encoded data removed]",
      "text/plain": [
       "<Figure size 640x480 with 1 Axes>"
      ]
     },
     "metadata": {},
     "output_type": "display_data"
    },
    {
     "name": "stdout",
     "output_type": "stream",
     "text": [
      "roc_auc 0.7566939781019372\n"
     ]
    },
    {
     "data": {
      "image/png": "[encoded data removed]",
      "text/plain": [
       "<Figure size 640x480 with 1 Axes>"
      ]
     },
     "metadata": {},
     "output_type": "display_data"
    },
    {
     "name": "stdout",
     "output_type": "stream",
     "text": [
      "   f1_score  accuracy_score  precision_score  recall_score\n",
      "0  0.440252        0.997909         0.384615      0.514706\n"
     ]
    }
   ],
   "source": [
    "params={'kernel': 'sigmoid', 'nu': 0.002,'gamma':'auto','degree':1}\n",
    "clf=OneClassSVM(**params)\n",
    "clf.fit(xtrain)\n",
    "\n",
    "ypred=clf.predict(xtest)\n",
    "ypred=inverse_transform_target(ypred)\n",
    "evaluation(ytest,ypred)"
   ]
  },
  {
   "cell_type": "code",
   "execution_count": null,
   "id": "043e3ca8-c0d2-43ba-a4cd-e37a5d0e93b2",
   "metadata": {},
   "outputs": [],
   "source": []
  }
 ],
 "metadata": {
  "kernelspec": {
   "display_name": "Python 3 (ipykernel)",
   "language": "python",
   "name": "python3"
  },
  "language_info": {
   "codemirror_mode": {
    "name": "ipython",
    "version": 3
   },
   "file_extension": ".py",
   "mimetype": "text/x-python",
   "name": "python",
   "nbconvert_exporter": "python",
   "pygments_lexer": "ipython3",
   "version": "3.11.4"
  },
  "widgets": {
   "application/vnd.jupyter.widget-state+json": {
    "state": {},
    "version_major": 2,
    "version_minor": 0
   }
  }
 },
 "nbformat": 4,
 "nbformat_minor": 5
}
