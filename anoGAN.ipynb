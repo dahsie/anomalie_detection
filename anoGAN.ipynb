{
 "cells": [
  {
   "cell_type": "code",
   "execution_count": 1,
   "id": "c662b53e-e0e1-4f69-adb8-a159f7d83b11",
   "metadata": {},
   "outputs": [],
   "source": [
    "import torch\n",
    "import torch.nn as nn\n",
    "import torch.optim as optim\n",
    "from torch.optim.lr_scheduler import LinearLR,ReduceLROnPlateau  \n",
    "from torch.utils.data import Dataset, DataLoader\n",
    "from torch import Tensor\n",
    "\n",
    "\n",
    "import sklearn\n",
    "from sklearn import metrics\n",
    "from sklearn.preprocessing import MinMaxScaler,StandardScaler\n",
    "from sklearn.model_selection import train_test_split\n",
    "from sklearn.svm import OneClassSVM\n",
    "from sklearn.metrics import mean_squared_error\n",
    "from sklearn.metrics import make_scorer, roc_auc_score,confusion_matrix\n",
    "from sklearn.metrics import f1_score,accuracy_score,precision_score,recall_score\n",
    "from sklearn.metrics import precision_recall_curve\n",
    "from sklearn.metrics import PrecisionRecallDisplay\n",
    "from sklearn.metrics import RocCurveDisplay,roc_curve\n",
    "import math as m\n",
    "import csv\n",
    "\n",
    "\n",
    "import pandas as pd\n",
    "import matplotlib.pyplot as plt\n",
    "import numpy as np\n",
    "from datetime import datetime\n",
    "from tqdm.notebook import tqdm"
   ]
  },
  {
   "cell_type": "markdown",
   "id": "4a71c776-8a84-4d83-aec0-84550aea4192",
   "metadata": {},
   "source": [
    "### Dataset customisée par entraîner un modèle d'auto encodeur"
   ]
  },
  {
   "cell_type": "code",
   "execution_count": 2,
   "id": "d5aaeb23-22a9-4f8a-b657-7914e1f2e01b",
   "metadata": {},
   "outputs": [],
   "source": [
    "class AE_Dataset(Dataset):\n",
    "\n",
    "    \"\"\"Cette classe à été créée afin de créer facilement un DataLoader de pytorch\n",
    "    \"\"\"\n",
    "    def __init__(self, data,target):\n",
    "\n",
    "        super(AE_Dataset,self).__init__()\n",
    "        \n",
    "        #La target d'un auto encoder est lui le donnée initial car n'oublions pas que l'objectif \n",
    "        #de l'auto encodeur c'est de reconstituer la donnée initiale\n",
    "\n",
    "        self.data = np.copy(data)\n",
    "        self.targets = np.copy(target)\n",
    "\n",
    "        \n",
    "    def __len__(self):\n",
    "        return len(self.targets)\n",
    "\n",
    "    def __getitem__(self, index):\n",
    "        return torch.tensor(self.data[index],dtype=torch.float32), torch.tensor(self.targets[index],dtype=torch.float32)\n",
    "        "
   ]
  },
  {
   "cell_type": "code",
   "execution_count": 3,
   "id": "9cc24e95-4789-45f1-b4a3-17e92c6e74b8",
   "metadata": {},
   "outputs": [],
   "source": [
    "def confusin_matrix_display(ytest,ypred):\n",
    "    metrics.ConfusionMatrixDisplay(confusion_matrix(ytest,ypred)).plot()\n",
    "    plt.title(\"Confusion Matrix\")\n",
    "    plt.show()\n",
    "\n",
    "def precision_recall_display(ytest, ypred):\n",
    "    precision, recall, _ = precision_recall_curve(ytest, ypred)\n",
    "    PrecisionRecallDisplay(precision=precision, recall=recall).plot()\n",
    "    plt.title(\"Precision_Recall_Curve\")\n",
    "    plt.show()\n",
    "\n",
    "def roc_curve_disolay(ytest, ypred):\n",
    "    fpr, tpr, thresholds = metrics.roc_curve(ytest, ypred)\n",
    "    roc_auc = metrics.auc(fpr, tpr)\n",
    "    display = metrics.RocCurveDisplay(fpr=fpr, tpr=tpr, roc_auc=roc_auc)\n",
    "    print(f\"roc_auc {roc_auc}\")\n",
    "    display.plot()\n",
    "    plt.title(\"ROC_Curve\")\n",
    "    plt.show()\n",
    "\n",
    "def scores_(ytest,ypred):\n",
    "    df=pd.DataFrame({\"f1_score\" : [f1_score(ytest,ypred)],\n",
    "                     \"accuracy_score\" : [accuracy_score(ytest,ypred)],\n",
    "                     \"precision_score\" : [precision_score(ytest,ypred)],\n",
    "                     \"recall_score\" : [recall_score(ytest,ypred)]\n",
    "    })\n",
    "    print(df)\n",
    "    return df\n",
    " \n",
    "def draw_anomaly(y_true,score, seuil):\n",
    "    groupDF=pd.DataFrame({\n",
    "        \"error\":score,\n",
    "        \"true\":y_true\n",
    "    }).groupby('true')\n",
    "    fig, ax=plt.subplots(figsize=(12,8))\n",
    "\n",
    "    for name, group in groupDF:\n",
    "        ax.plot(group.index,group.error,marker='x' if name==1 else 'o', linestyle='',color='r' if name==1 else 'g',label=\"anomalie\" if name==1 else \"normal\")\n",
    "    ax.hlines(seuil,ax.get_xlim()[0],ax.get_xlim()[1], colors =\"b\", zorder=100,label=\"Seuil\")\n",
    "    ax.legend()\n",
    "    \n",
    "    plt.title(\"Anomalies\")\n",
    "    plt.xlabel(\"Données\")\n",
    "    plt.ylabel(\"Score(erreur)\")\n",
    "    plt.show()\n",
    "\n",
    "    \n",
    "def evaluation(ytrue,ypred):\n",
    "    confusin_matrix_display(ytrue,ypred)\n",
    "    # precision_recall_display(ytrue, ypred)\n",
    "    # roc_curve_disolay(ytrue, ypred)\n",
    "    scores_(ytrue,ypred)\n",
    "\n",
    "def transform_target(target):\n",
    "    \"\"\"Args:\n",
    "        target: np.ndarry or pd.DataFrame\n",
    "    \"\"\"\n",
    "    n=target.shape[0]\n",
    "    if isinstance(target,np.ndarray):\n",
    "        target[target==1]=-1\n",
    "        target[target==0]=1\n",
    "        \n",
    "    elif isinstance(target,pd.DataFrame) or isinstance(target,pd.Series):\n",
    "        target[target==1]=-1\n",
    "        target[target==0]=1\n",
    "    return target\n",
    "\n",
    "\n",
    "def inverse_transform_target(target):\n",
    "    n=target.shape[0]\n",
    "    if isinstance(target,pd.DataFrame) or isinstance(target,pd.Series):\n",
    "        target[target==1]=0\n",
    "        target[target==-1]=1\n",
    "        \n",
    "    elif isinstance(target,np.ndarray): \n",
    "        target[target==1]=0\n",
    "        target[target==-1]=1\n",
    "    return target"
   ]
  },
  {
   "cell_type": "code",
   "execution_count": 4,
   "id": "975c9f6e-2d7c-4386-8706-042b5acf2eff",
   "metadata": {},
   "outputs": [],
   "source": [
    "class CustomDataset:\n",
    "\n",
    "    def __init__(self, file_path, scaler,test_size=0.15, random_state=42):\n",
    "        \n",
    "        self.file_path = file_path\n",
    "        self.test_size = test_size\n",
    "        self.random_state = random_state\n",
    "        self.scaler = scaler\n",
    "        \n",
    "        self.data = None\n",
    "        self.target = None\n",
    "\n",
    "        # Chargement et prétraitement de la donnée\n",
    "        self._load_data()\n",
    "        self._preprocess_data()\n",
    "        self._split_data()\n",
    "\n",
    "        self.xtrain = self._xtrain # ce sont uniquement les données normales quui seront entraînées avec l'auto encoder\n",
    "        self.ytrain = torch.ones((self.xtrain.shape[0],1))\n",
    "\n",
    "        # Par contre les données de test devront à la fois contenir les données normales et les données anormales\n",
    "        #Ainsi les données de test seront la concatenation entre les données normales reservées pour le test et les données contenant que des 1\n",
    "\n",
    "\n",
    "        self.xtest = pd.concat([self._xtest, self.data[self.target==1]], axis=0)\n",
    "        self.ytest = pd.concat([self._ytest, self.target[self.target==1]], axis=0)\n",
    "\n",
    "        self.xtest.reset_index(drop=True, inplace=True)\n",
    "        self.ytest.reset_index(drop=True, inplace=True)\n",
    "\n",
    "        # Note : ytrain utilisé comme target lors de l'entraînement n'est le même format que ytest utilisé lors de la prédiction\n",
    "        # ytrain =xtrain alors que ytest =target (labels)(0 pour donnée normale et 1 pour donnée anormale)\n",
    "   \n",
    "        \n",
    "    def get_scaler(self):\n",
    "        return self.scaler\n",
    "        \n",
    "    def _load_data(self):\n",
    "        self.data = pd.read_csv(self.file_path)\n",
    "        \n",
    "        self.data.drop_duplicates(keep=\"last\", inplace=True)\n",
    "        self.target = self.data[\"Class\"]\n",
    "        self.data.drop([\"Class\", \"Time\"], axis=1,inplace=True)\n",
    "        \n",
    "\n",
    "    def _preprocess_data(self):\n",
    "\n",
    "        # Avec un modèle de réseaux de neurones profond, l'on n'est pas obligé de pré-traiter la donnée\n",
    "        if self.scaler is not None:\n",
    "            \n",
    "            data_scaled_array = self.scaler.fit_transform(self.data)\n",
    "            # self.data['Amount']=self.scaler.fit_transform(self.data['Amount'].values.reshape(self.data.shape[0],-1))\n",
    "\n",
    "            #Il est impératif d'ajouter l'argument index lors de la créaction d'un dataframe à partir d'un numpy array\n",
    "            # Dans notre cas, data_scaled_array est un tableau numpy. si l'argument \"index\" n'est pas ajouté alors l'index par défaut sera\n",
    "            # RangeIndex. Le RangeIndex est incompatible avec la Index. Par exemple il sera impossible de concater deux dataframes \n",
    "            # Ou un dataframe et une serie dont l'un possède Index et l'autre RangeIndex\n",
    "            self.data = pd.DataFrame(data_scaled_array, columns=self.data.columns,index=self.data.index)\n",
    "            \n",
    "\n",
    "    def _split_data(self):\n",
    "        \n",
    "        self._xtrain, self._xtest, self._ytrain, self._ytest = train_test_split(\n",
    "            self.data, self.target, test_size=self.test_size, random_state=self.random_state, shuffle=True)\n",
    "\n",
    "    def get_train_data(self):\n",
    "        return self.xtrain, self.ytrain\n",
    "\n",
    "    def get_test_data(self):\n",
    "        return self.xtest, self.ytest"
   ]
  },
  {
   "cell_type": "markdown",
   "id": "047f9ea2-841a-432e-b478-48cadadaabf0",
   "metadata": {},
   "source": [
    "## Generator Layer"
   ]
  },
  {
   "cell_type": "code",
   "execution_count": 5,
   "id": "3ab96b06-48b5-4d07-bd10-697c99e889f2",
   "metadata": {},
   "outputs": [],
   "source": [
    "class Generator(nn.Module):\n",
    "\n",
    "    def __init__(self,output_size: int,dropout: float) -> None:\n",
    "\n",
    "        super(Generator,self).__init__()\n",
    "\n",
    "        latent_size=m.ceil(output_size/6)\n",
    "        self.latent_size=latent_size +5\n",
    "\n",
    "        self.fc1=nn.Linear(in_features=latent_size +5,out_features=latent_size*3)\n",
    "        self.residual1=nn.Linear(in_features=latent_size+5,out_features=latent_size*4)\n",
    "        self.relu1=nn.ReLU()\n",
    "        self.dropout1=nn.Dropout(dropout)\n",
    "        self.fc2=nn.Linear(in_features=latent_size*3,out_features=latent_size*4)\n",
    "        self.layer_norm3=nn.LayerNorm(latent_size*4)\n",
    "        self.relu2=nn.ReLU()\n",
    "        self.residual2=nn.Linear(in_features=latent_size*4,out_features=output_size)\n",
    "        self.fc3=nn.Linear(in_features=latent_size*4,out_features=latent_size*5)\n",
    "        self.layer_norm4=nn.LayerNorm(latent_size*5)\n",
    "        self.relu3=nn.ReLU()\n",
    "        self.dropout2=nn.Dropout(dropout)\n",
    "        \n",
    "        self.fc4=nn.Linear(in_features=latent_size*5,out_features=output_size)\n",
    "        \n",
    "        \n",
    "\n",
    "\n",
    "    def forward(self,inputs: Tensor) -> Tensor:\n",
    "        x=self.relu1(self.fc1(inputs))\n",
    "        residual1=self.residual1(inputs)\n",
    "        x=self.dropout1(x)\n",
    "        x= self.relu2(self.layer_norm3(self.fc2(x) +residual1))\n",
    "        residual2=self.residual2(x)\n",
    "        x= self.relu3(self.layer_norm4(self.fc3(x)))\n",
    "        x=self.dropout2(x)\n",
    "        x=self=self.fc4(x) +residual2\n",
    "\n",
    "        return x"
   ]
  },
  {
   "cell_type": "markdown",
   "id": "7f55e561-7f32-41a5-88f2-1d008b9f5ddf",
   "metadata": {},
   "source": [
    "## Discriminator Layer"
   ]
  },
  {
   "cell_type": "code",
   "execution_count": 6,
   "id": "b15cbce9-1d22-4703-84cd-5db8817a9721",
   "metadata": {},
   "outputs": [],
   "source": [
    "class Discriminator(nn.Module):\n",
    "\n",
    "    def __init__(self,input_size: int,dropout: float) -> None:\n",
    "\n",
    "        super(Discriminator,self).__init__()\n",
    "        latent_size=m.ceil(input_size/6)\n",
    "        self.latent_size=latent_size\n",
    "\n",
    "        self.fc1=nn.Linear(in_features=input_size,out_features=latent_size*5)\n",
    "        self.residual1=nn.Linear(in_features=input_size,out_features=latent_size*4)\n",
    "        self.layer_norm1=nn.LayerNorm(latent_size*5)\n",
    "        self.relu1=nn.LeakyReLU(0.2)\n",
    "        self.dropout1=nn.Dropout(dropout)\n",
    "        self.fc2=nn.Linear(in_features=latent_size*5,out_features=latent_size*4)\n",
    "        self.layer_norm2=nn.LayerNorm(latent_size*4)\n",
    "        self.relu2=nn.LeakyReLU(0.2)\n",
    "        self.residual2=nn.Linear(in_features=latent_size*4,out_features=latent_size)\n",
    "        self.fc3=nn.Linear(in_features=latent_size*4,out_features=latent_size*3)\n",
    "        self.layer_norm3=nn.LayerNorm(latent_size*3)\n",
    "        self.relu3=nn.LeakyReLU(0.2)\n",
    "        self.dropout2=nn.Dropout(dropout)\n",
    "        self.fc4=nn.Linear(in_features=latent_size*3,out_features=latent_size)\n",
    "        self.fc5=nn.Linear(in_features=latent_size,out_features=1)\n",
    "        self.sigmoid=nn.Sigmoid()\n",
    "        \n",
    "\n",
    "\n",
    "    def forward(self,inputs: Tensor) -> Tensor:\n",
    "        \n",
    "        x=self.relu1(self.layer_norm1(self.fc1(inputs)))\n",
    "        residual1=self.residual1(inputs)\n",
    "        x=self.dropout1(x)\n",
    "        x= self.relu2(self.layer_norm2(self.fc2(x)+residual1))\n",
    "        residual2=self.residual2(x)\n",
    "        x= self.relu3(self.layer_norm3(self.fc3(x)))\n",
    "        x=self.dropout2(x)\n",
    "        x=self.fc4(x) +residual2\n",
    "        out=self.fc5(x)\n",
    "        x=self.sigmoid(out)\n",
    "\n",
    "        return out,x\n"
   ]
  },
  {
   "cell_type": "markdown",
   "id": "95c14f8f-0a44-4d7a-8097-e128fc3bfe3f",
   "metadata": {},
   "source": [
    "## AnoGAN"
   ]
  },
  {
   "cell_type": "code",
   "execution_count": 7,
   "id": "a353d927-e332-4123-94c2-dda7fcbfc476",
   "metadata": {},
   "outputs": [],
   "source": [
    "class AnoGAN(nn.Module):\n",
    "\n",
    "    def __init__(self,input_size: int,contamination: float=0.5,dropout: float=0.1,device: str=\"cuda\") -> None:\n",
    "\n",
    "        super(AnoGAN,self).__init__()\n",
    "        \n",
    "        self.generator=Generator(output_size=input_size, dropout=dropout)\n",
    "        self.discriminator=Discriminator(input_size=input_size,dropout=dropout)\n",
    "        self.latent_size=self.generator.latent_size\n",
    "        self.offset=contamination\n",
    "        self.test_epochs=10\n",
    "        \n",
    "        self.device= torch.device(\"cuda\") if device==\"cuda\" else torch.device(\"cpu\")\n",
    "        self.is_fitted=False\n",
    "\n",
    "        self.generator_loss=[]\n",
    "        self.discriminator_loss=[]\n",
    "\n",
    "        \n",
    "\n",
    "    def forward(self,inputs: Tensor) -> Tensor:\n",
    "        pass\n",
    "\n",
    "    \n",
    "    def train_one_epoch(self,train_loader:DataLoader,Gen_optimizer,Discr_optimizer,loss_fn):\n",
    "        \n",
    "        \"\"\"The function is use to train one epoch of the model\n",
    "            Args: \n",
    "                optimizer      : The optimizer algorithm to be use. SDG or Adam are used in most of cases\n",
    "                loss_function  : The loss function to use during the model training. CrossEntropyLoss and MSELoss are very often use for respectively\n",
    "                                classification and regression problem\n",
    "                train_loader   : A torch DataLoader which is use to iterate through the data during train step\n",
    "\n",
    "            Return : The last loss value on the train_loader\n",
    "                \n",
    "        \"\"\"\n",
    "        last_disc_loss=0 # Computing loss per batch\n",
    "        last_gen_loss=0\n",
    "        running_discr_loss=0\n",
    "        running_gen_loss=0\n",
    "        \n",
    "        for batch_index, batch in enumerate(train_loader):\n",
    "\n",
    "            ## Entrainement du Discriminateur\n",
    "            \n",
    "            Discr_optimizer.zero_grad() # Putting gradient to zero in order to accumulate upcoming gradient\n",
    "\n",
    "            #real data\n",
    "            real_data,target=batch[0].to(self.device),batch[1].to(self.device)\n",
    "\n",
    "            batch_size=real_data.shape[0]\n",
    "\n",
    "            #Forwards pass and loss computing for real data\n",
    "            _,real_outputs=self.discriminator.forward(real_data)\n",
    "            real_loss=loss_fn(real_outputs.to(self.device),target) # Computing the loss\n",
    "            real_loss.backward() # Computing the gradient\n",
    "\n",
    "            # Gaussian noise generation\n",
    "            z=torch.randn((batch_size,self.latent_size), device=self.device) # La méthode torch.randn permet de générer des données suivant la lois normales de moyenne 0 et d'écart type 1\n",
    "\n",
    "            #Generation de données factices\n",
    "\n",
    "            fake_data=self.generator.forward(z)\n",
    "            labels=torch.zeros((batch_size,1),device=self.device) # Labels for fake images generated\n",
    "\n",
    "            # Forward pass and loss computing for fake generated image\n",
    "            _,fake_outputs=self.discriminator.forward(fake_data)\n",
    "            fake_loss=loss_fn(fake_outputs,labels)\n",
    "            fake_loss.backward()\n",
    "\n",
    "            discriminator_loss=real_loss + fake_loss\n",
    "            running_discr_loss+=discriminator_loss.item()\n",
    "\n",
    "            Discr_optimizer.step()\n",
    "\n",
    "\n",
    "            ## Entrainement du generateur\n",
    "            Gen_optimizer.zero_grad()\n",
    "\n",
    "            #Generation de données factices pour l'entrainement du generateur\n",
    "            z=torch.randn((batch_size,self.latent_size),device=self.device)\n",
    "            fake_data1=self.generator.forward(z)\n",
    "            labels1=torch.ones((batch_size,1),device=self.device)\n",
    "\n",
    "            _,fake_output1 = self.discriminator.forward(fake_data1)\n",
    "            fake_loss1 = loss_fn(fake_output1,labels1)\n",
    "            fake_loss1.backward()\n",
    "\n",
    "            running_gen_loss+=fake_loss1.item()\n",
    "            \n",
    "            Gen_optimizer.step()\n",
    "            \n",
    "            if batch_index%100==99:\n",
    "                last_disc_loss=running_discr_loss/100 # Computing loss per batch\n",
    "                last_gen_loss=running_gen_loss/100\n",
    "                running_discr_loss=0\n",
    "                running_gen_loss=0\n",
    "                # print(\"batch {} loss {}\".format(batch_index+1,last_loss))\n",
    "        # before_lr = optimizer.param_groups[0][\"lr\"]\n",
    "        # scheduler.step()\n",
    "        # after_lr = optimizer.param_groups[0][\"lr\"]\n",
    "        # print(\"SGD lr %.8f -> %.8f\" % (before_lr, after_lr))\n",
    "        return last_gen_loss,last_disc_loss\n",
    "    \n",
    "    def predict(self, dataloader,contamination,test_epochs=10):\n",
    "        assert self.is_fitted==True, \"Le modèle n'est pas encore entraîné donc ne peut pas faire de prédiction\"\n",
    "        self.test_epochs=test_epochs\n",
    "        return self.decision_function(dataloader,contamination)\n",
    "\n",
    "\n",
    "    def decision_function(self,dataloader: DataLoader,contamination):\n",
    "        \n",
    "        contaminationn= contamination if contamination != self.offset  else self.offset\n",
    "        dataframe=self.compute_score_sample(dataloader)\n",
    "        dataframe.loc[-dataframe[\"score_sample\"] < (-dataframe[\"score_sample\"]).quantile(contaminationn), \"label\"] = -1\n",
    "        \n",
    "        return dataframe['label']\n",
    "\n",
    "    def score_sample(self,dataloader: DataLoader):\n",
    "        \n",
    "        dataframe=self.compute_score_sample(dataloader)\n",
    "\n",
    "        return dataframe[\"score_sample\"]\n",
    "\n",
    "    def residual_loss(self,x,G_z):\n",
    "        \n",
    "        return torch.sum(torch.abs(x - G_z))\n",
    "\n",
    "    def discrimination_loss(self,x,G_z):\n",
    "        \n",
    "      feature_G_z , _ = self.discriminator.forward(G_z)\n",
    "      feature_x , _ = self.discriminator.forward(x)\n",
    "        \n",
    "      return torch.sum(torch.abs( feature_x - feature_G_z))\n",
    "  \n",
    "    def Anomaly_score(self,x,G_z,Lambda=0.1):\n",
    "        \n",
    "        residual_loss = self.residual_loss(x,G_z)\n",
    "        discrimination_loss = self.discrimination_loss(x,G_z)\n",
    "        \n",
    "        total_loss = (1-Lambda)*residual_loss + Lambda*discrimination_loss\n",
    "        return total_loss\n",
    "        \n",
    "    def compute_score_sample(self,dataloader: DataLoader):\n",
    "        \n",
    "        reconstition_errors=[]\n",
    "        for batch in tqdm(dataloader):\n",
    "\n",
    "            data,target=batch[0].to(self.device),batch[1].to(self.device)\n",
    "\n",
    "            z=torch.randn(1, self.latent_size,device=self.device)\n",
    "\n",
    "            z_optimizer=optim.SGD(params=[z], lr=0.001,momentum=0.9)\n",
    "\n",
    "            error=0\n",
    "            for i in range(self.test_epochs):\n",
    "                \n",
    "                z_optimizer.zero_grad()\n",
    "                fake_data=self.generator.forward(z)\n",
    "                loss=self.Anomaly_score(data,fake_data,Lambda=0.1)\n",
    "\n",
    "                loss.backward()\n",
    "\n",
    "                error=loss.item()\n",
    "                \n",
    "                z_optimizer.step()\n",
    "\n",
    "            reconstition_errors.append(error)\n",
    "\n",
    "        \n",
    "        dataframe=pd.DataFrame({\n",
    "            \"score_sample\" : reconstition_errors,\n",
    "            \"label\" :[1 for _ in range(len(reconstition_errors))]\n",
    "        })\n",
    "\n",
    "        return dataframe\n",
    "                \n",
    "\n",
    "    def fit(self,train_loader,Gen_optimizer,Disc_optimizer,loss_fn,epochs=100,device=\"cuda\"):\n",
    "        \"\"\"The function is used to train the model through many epochs\n",
    "            Args: \n",
    "                optimizer             : The optimizer algorithm to be use. SDG or Adam are used in most of cases\n",
    "                train_loader          : A torch DataLoader which is use to iterate through the data during train step\n",
    "                loss_function         : The loss function to use during the model validation. Same as the training one\n",
    "                validataion_loader    : A torch DataLoader which is use to iterate through the data during validation step\n",
    "\n",
    "            Return : No return\n",
    "                \n",
    "        \"\"\"\n",
    "        self.to(self.device)\n",
    "        best_avg_vloss=1_000_000_000\n",
    "        for epoch in range(epochs):\n",
    "        \n",
    "            print(\"EPOCHS : {}\".format(epoch +1))\n",
    "            self.train(True) # Activate training mode\n",
    "            avg_loss_gen,avg_loss_disc=self.train_one_epoch(train_loader,Gen_optimizer,Disc_optimizer,loss_fn) # training the model on an epoch\n",
    "            \n",
    "            print(f\"Generator Loss {avg_loss_gen} vs Discriminator Loss  {avg_loss_disc}\")\n",
    "            self.generator_loss.append(avg_loss_gen)\n",
    "            self.discriminator_loss.append(avg_loss_disc)\n",
    "\n",
    "            if avg_loss_disc < best_avg_vloss :\n",
    "                best_avg_vloss=avg_loss_disc\n",
    "                model_path='/home/dah/anomalie_detection/anomalie_detection/models/model_{}'.format(datetime.now().strftime('%Y%m%d_%H%')) \n",
    "                torch.save(self.cpu().state_dict(),model_path)\n",
    "                self.to(self.device)\n",
    "                self.to(self.device)\n",
    "        self.is_fitted=True\n",
    "\n",
    "        return {\n",
    "            \"generator_loss\":self.generator_loss,\n",
    "            \"discriminator_loss\":self.discriminator_loss\n",
    "        }\n",
    "                "
   ]
  },
  {
   "cell_type": "code",
   "execution_count": 8,
   "id": "d1c20c6c-762f-4ce2-804e-fd2bf8ebba11",
   "metadata": {},
   "outputs": [
    {
     "name": "stdout",
     "output_type": "stream",
     "text": [
      "EPOCHS : 1\n",
      "Generator Loss 0.7109646582603455 vs Discriminator Loss  1.377546330690384\n",
      "EPOCHS : 2\n",
      "Generator Loss 0.6915187358856201 vs Discriminator Loss  1.388855026960373\n",
      "EPOCHS : 3\n",
      "Generator Loss 0.6940968632698059 vs Discriminator Loss  1.387194298505783\n",
      "EPOCHS : 4\n",
      "Generator Loss 0.6931284552812577 vs Discriminator Loss  1.3867016172409057\n",
      "EPOCHS : 5\n",
      "Generator Loss 0.6942642533779144 vs Discriminator Loss  1.3857070887088776\n",
      "EPOCHS : 6\n",
      "Generator Loss 0.6928552132844925 vs Discriminator Loss  1.3863807010650635\n",
      "EPOCHS : 7\n",
      "Generator Loss 0.6931179863214493 vs Discriminator Loss  1.3865833580493927\n",
      "EPOCHS : 8\n",
      "Generator Loss 0.6931310176849366 vs Discriminator Loss  1.3864181077480315\n",
      "EPOCHS : 9\n",
      "Generator Loss 0.693178744316101 vs Discriminator Loss  1.3864636313915253\n",
      "EPOCHS : 10\n",
      "Generator Loss 0.6931517952680588 vs Discriminator Loss  1.3863978922367095\n"
     ]
    }
   ],
   "source": [
    "# Reprodductibilité\n",
    "torch.manual_seed(42)\n",
    "\n",
    "# Creation Dataset \n",
    "dataset = CustomDataset(file_path=\"/home/dah/anomalie_detection/anomalie_detection/data/creditcard.csv\",scaler=MinMaxScaler())\n",
    "\n",
    "xtrain, ytrain = dataset.get_train_data()\n",
    "xtest, ytest = dataset.get_test_data()\n",
    "\n",
    "\n",
    "#Creation de DataLoader pytorch (Just un objet qui permet d'itérer plus faciler sur l'entièreté de la dataset)\n",
    "pytorch_train_dataset = AE_Dataset(xtrain,ytrain)\n",
    "pytorch_test_dataset = AE_Dataset(xtest,ytest)\n",
    "train_loader=DataLoader(dataset=pytorch_train_dataset,batch_size=100)\n",
    "test_loader=DataLoader(dataset=pytorch_test_dataset,batch_size=1)\n",
    "\n",
    "#Creation de modeèle\n",
    "model=AnoGAN(input_size=29,contamination=0.02,dropout=0.3,device=\"cpu\")\n",
    "\n",
    "#Creation des paramètres d'entrînement du modèle\n",
    "lr = 0.0002\n",
    "# Beta1 hyperparameter for Adam optimizers\n",
    "beta1 = 0.5\n",
    "epochs=10\n",
    "Gen_optimizer=optim.Adam(lr=lr, params=model.generator.parameters(),betas=(beta1, 0.999)) # Optimiseur\n",
    "Discr_optimizer=optim.Adam(lr=lr, params=model.discriminator.parameters(),betas=(beta1, 0.999)) # Optimiseur\n",
    "# scheduler = LinearLR(optimizer, start_factor=1e-1, end_factor=1e-5, total_iters=50) # Permet de changer le learning rate au cours de l'apprentissage\n",
    "\n",
    "                                                                                    #Plus on se rapproche du minimun plus le learning devient faible afin d'éviter les rebond et d'assurer la convergence vers le minimum\n",
    "loss_fn=nn.BCELoss(reduction='mean') # La fonction de perte\n",
    "\n",
    "history=model.fit(train_loader,Gen_optimizer=Gen_optimizer,Disc_optimizer=Discr_optimizer,loss_fn=loss_fn,epochs=epochs) #Entraînement du modèle\n",
    "\n"
   ]
  },
  {
   "cell_type": "markdown",
   "id": "a32ff182-bafc-4d8a-b8da-148cc1ddea90",
   "metadata": {},
   "source": [
    "### Visualisation des learnings curves du Generateur et du Discriminateur.\n",
    "N'ayant pas trop de données alors nous avons choisi le jeu de données de test comme je de données de validation lors de l'entraînement<br>\n",
    "Rappellons que notre jeu de données d'entraînement est uniquement constitué de données normales afin d'apprendre à reconstituer correctement ces derniers.<br>\n",
    "Cependata le jeu de données de test est constitué à la fois des données normales et des données anormales. Les données anormales détectées par notre auto encodeur seront celles dont l'erreur de reconstitution est la plus élevée<br>\n",
    "Si notres jeux de données de test contient par exemple 1.5 % de d'anomalies alors nous choisirons d'attribuer le label -1 aux 1.5 % de données ayant une haute erreur de reconstitution"
   ]
  },
  {
   "cell_type": "code",
   "execution_count": 9,
   "id": "5dc0e9c5-8452-473d-ba90-e672913e38a3",
   "metadata": {},
   "outputs": [
    {
     "data": {
      "image/png": "[encoded data removed]",
      "text/plain": [
       "<Figure size 640x480 with 1 Axes>"
      ]
     },
     "metadata": {},
     "output_type": "display_data"
    }
   ],
   "source": [
    "n=len(history['generator_loss'])\n",
    "epoch=[i for i in range(1,n+1)]\n",
    "plt.plot(epoch,history['generator_loss'],label=\"Generator Loss\")\n",
    "plt.plot(epoch,history['discriminator_loss'],label=\"Discriminator Loss\")\n",
    "\n",
    "plt.ylabel(\"BCELoss\")\n",
    "plt.xlabel(\"Epoch\")\n",
    "\n",
    "plt.show()"
   ]
  },
  {
   "cell_type": "code",
   "execution_count": 10,
   "id": "a14cee51-3b44-4511-bd6f-6a10c17f49c1",
   "metadata": {},
   "outputs": [],
   "source": [
    "# ypred=model.predict(test_loader,test_epochs=10)\n",
    "# ypred=inverse_transform_target(ypred)\n",
    "# evaluation(ytest,ypred)"
   ]
  },
  {
   "cell_type": "markdown",
   "id": "57beacca",
   "metadata": {},
   "source": [
    "### Histogramme de scores d'anomalies"
   ]
  },
  {
   "cell_type": "code",
   "execution_count": 11,
   "id": "247a762d",
   "metadata": {},
   "outputs": [
    {
     "data": {
      "application/vnd.jupyter.widget-view+json": {
       "model_id": "ed74e3db449248cab6fc7a7f3125a077",
       "version_major": 2,
       "version_minor": 0
      },
      "text/plain": [
       "  0%|          | 0/43032 [00:00<?, ?it/s]"
      ]
     },
     "metadata": {},
     "output_type": "display_data"
    }
   ],
   "source": [
    "\n",
    "score=model.score_sample(test_loader)\n"
   ]
  },
  {
   "cell_type": "code",
   "execution_count": 12,
   "id": "4ab8bdea",
   "metadata": {},
   "outputs": [
    {
     "data": {
      "image/png": "[encoded data removed]",
      "text/plain": [
       "<Figure size 2000x1000 with 1 Axes>"
      ]
     },
     "metadata": {},
     "output_type": "display_data"
    }
   ],
   "source": [
    "fig,ax=plt.subplots(figsize=(20,10))\n",
    "plt.xlim(min(score)-0.2, max(score))\n",
    "score.hist(bins=10000,grid=False)\n",
    "\n",
    "# Détermination de pourcentage de contamination\n",
    "q=97\n",
    "plt.axvline(np.percentile(score, q=q), color='red', linestyle='--', label=f'{q}e percentile')\n",
    "\n",
    "plt.show()"
   ]
  },
  {
   "cell_type": "markdown",
   "id": "1682f4a3",
   "metadata": {},
   "source": [
    "### Boite à moustache des scores d'anomalies"
   ]
  },
  {
   "cell_type": "code",
   "execution_count": 13,
   "id": "d4ec348c",
   "metadata": {},
   "outputs": [
    {
     "data": {
      "image/png": "[encoded data removed]",
      "text/plain": [
       "<Figure size 2000x1000 with 1 Axes>"
      ]
     },
     "metadata": {},
     "output_type": "display_data"
    }
   ],
   "source": [
    "fig,ax=plt.subplots(figsize=(20,10))\n",
    "# plt.xlim(min(score)-0.2, max(score))\n",
    "plt.boxplot(score)\n",
    "\n",
    "# Détermination de pourcentage de contamination\n",
    "q=96\n",
    "plt.axhline(np.percentile(score, q=q), color='red', linestyle='--', label=f'{q}e percentile')\n",
    "plt.legend()\n",
    "\n",
    "plt.show()\n"
   ]
  },
  {
   "cell_type": "markdown",
   "id": "4fc25418",
   "metadata": {},
   "source": [
    "### Prediction, matrice de confusion et autres metriques"
   ]
  },
  {
   "cell_type": "code",
   "execution_count": 14,
   "id": "06fcdeb4",
   "metadata": {},
   "outputs": [
    {
     "data": {
      "application/vnd.jupyter.widget-view+json": {
       "model_id": "daeefa83d8ea4af380fb34ddb06dc11b",
       "version_major": 2,
       "version_minor": 0
      },
      "text/plain": [
       "  0%|          | 0/43032 [00:00<?, ?it/s]"
      ]
     },
     "metadata": {},
     "output_type": "display_data"
    },
    {
     "data": {
      "image/png": "[encoded data removed]",
      "text/plain": [
       "<Figure size 640x480 with 2 Axes>"
      ]
     },
     "metadata": {},
     "output_type": "display_data"
    },
    {
     "name": "stdout",
     "output_type": "stream",
     "text": [
      "   f1_score  accuracy_score  precision_score  recall_score\n",
      "0  0.312859        0.963864         0.205575      0.654344\n"
     ]
    }
   ],
   "source": [
    "ypred=model.predict(test_loader,contamination=0.04,test_epochs=10)\n",
    "ypred=inverse_transform_target(ypred)\n",
    "evaluation(ytest,ypred)"
   ]
  },
  {
   "cell_type": "markdown",
   "id": "df5a8869",
   "metadata": {},
   "source": [
    "### Visualisation des anomalies"
   ]
  },
  {
   "cell_type": "code",
   "execution_count": 15,
   "id": "3309e7e6",
   "metadata": {},
   "outputs": [],
   "source": [
    "# draw_anomaly(y_true=ytest,score=score, seuil=np.percentile(score, q=q))"
   ]
  },
  {
   "cell_type": "code",
   "execution_count": 16,
   "id": "dda30b1e",
   "metadata": {},
   "outputs": [
    {
     "data": {
      "application/vnd.jupyter.widget-view+json": {
       "model_id": "0c8cd811f8184d24b63d9cecf06627e8",
       "version_major": 2,
       "version_minor": 0
      },
      "text/plain": [
       "  0%|          | 0/43032 [00:00<?, ?it/s]"
      ]
     },
     "metadata": {},
     "output_type": "display_data"
    },
    {
     "data": {
      "image/png": "[encoded data removed]",
      "text/plain": [
       "<Figure size 640x480 with 2 Axes>"
      ]
     },
     "metadata": {},
     "output_type": "display_data"
    },
    {
     "name": "stdout",
     "output_type": "stream",
     "text": [
      "   f1_score  accuracy_score  precision_score  recall_score\n",
      "0  0.453638        0.982199         0.369338        0.5878\n"
     ]
    }
   ],
   "source": [
    "ypred=model.predict(test_loader,contamination=0.02, test_epochs=110)\n",
    "ypred=inverse_transform_target(ypred)\n",
    "evaluation(ytest,ypred)"
   ]
  },
  {
   "cell_type": "markdown",
   "id": "1e784dbd",
   "metadata": {},
   "source": [
    "### Sauvegarde des résulatats"
   ]
  },
  {
   "cell_type": "code",
   "execution_count": 17,
   "id": "c7be763c",
   "metadata": {},
   "outputs": [],
   "source": [
    "file_name=\"../resultats/anogan.csv\"\n",
    "\n",
    "with open(file_name,\"w\",newline=\"\") as csvfile:\n",
    "    writer=csv.DictWriter(csvfile,fieldnames=[\"y_pred\",\"score_anomalie\",\"y_true\"])\n",
    "    writer.writeheader()\n",
    "    n=score.shape[0]\n",
    "    for i in range(n):\n",
    "        row={\n",
    "            \"y_pred\":ypred.iloc[i],\n",
    "            \"score_anomalie\":score.iloc[i],\n",
    "            \"y_true\":ytest.iloc[i],\n",
    "        }\n",
    "        writer.writerow(row)"
   ]
  },
  {
   "cell_type": "markdown",
   "id": "29e3134f",
   "metadata": {},
   "source": [
    "### Courbes ROC-AUC"
   ]
  },
  {
   "cell_type": "code",
   "execution_count": 18,
   "id": "20fbf945",
   "metadata": {},
   "outputs": [
    {
     "name": "stdout",
     "output_type": "stream",
     "text": [
      "AnoGAN: ROC AUC=0.889\n"
     ]
    },
    {
     "data": {
      "image/png": "[encoded data removed]",
      "text/plain": [
       "<Figure size 640x480 with 1 Axes>"
      ]
     },
     "metadata": {},
     "output_type": "display_data"
    }
   ],
   "source": [
    "ns_probs = [0 for _ in range(len(ytest))]\n",
    "# keep probabilities for the positive outcome only\n",
    "np_score = score.tolist()\n",
    "tensor=torch.tensor([np_score])\n",
    "lr_probs = torch.softmax(tensor,dim=1,dtype=torch.float32).squeeze(0).numpy()\n",
    "\n",
    "# calculate scores\n",
    "ns_auc = roc_auc_score(ytest, ns_probs)\n",
    "lr_auc = roc_auc_score(ytest, lr_probs)\n",
    "# summarize scores\n",
    "\n",
    "print('AnoGAN: ROC AUC=%.3f' % (lr_auc))\n",
    "# calculate roc curves\n",
    "ns_fpr, ns_tpr, _ = roc_curve(ytest, ns_probs)\n",
    "lr_fpr, lr_tpr, _ = roc_curve(ytest, lr_probs)\n",
    "# plot the roc curve for the model\n",
    "plt.plot(ns_fpr, ns_tpr, linestyle='--')\n",
    "plt.plot(lr_fpr, lr_tpr, linestyle='-', label='AnoGAN')\n",
    "# axis labels\n",
    "plt.xlabel('Taux de faux positifs')\n",
    "plt.ylabel('Taux de vrais positifs')\n",
    "# show the legend\n",
    "plt.legend()\n",
    "# show the plot\n",
    "plt.show()"
   ]
  },
  {
   "cell_type": "markdown",
   "id": "dfcfd158-0b7a-437b-8217-bcd17baeeb8a",
   "metadata": {},
   "source": [
    "#### Questions\n",
    "1. Combien de couche utilisé dans notre couche d'encodeur ?\n",
    "2. Quelle dimension pour la variable latente(la dimension de des donnée à la sortie des de la couche d'encodeur) ?\n",
    "3. Quelle est la bonne initialisation des poids de notre réseaux (Quelle fonction utilisée) ?\n",
    "4. Quel algo d'optimization utilisé (SGD, Adam, ...)?\n",
    "5. Quelle fonction d'activation utilisée ?\n",
    "6. Quelle pourcentage de contamination utilisé ?\n",
    "7. Comment détecter des problèmes de vanishing ou exploding gradient ?"
   ]
  },
  {
   "cell_type": "code",
   "execution_count": null,
   "id": "159f41fa-6972-4068-b054-6d5a93ba2f98",
   "metadata": {},
   "outputs": [],
   "source": []
  },
  {
   "cell_type": "markdown",
   "id": "643d7a8a-ced3-4ec2-b9e2-386150d78e20",
   "metadata": {},
   "source": [
    "### Référence\n",
    "https://arxiv.org/pdf/1703.05921.pdf <br>\n",
    "https://github.com/seokinj/anoGAN/blob/master/utils.py <br>\n",
    "https://github.com/seokinj/anoGAN/blob/master/train.py"
   ]
  },
  {
   "cell_type": "code",
   "execution_count": null,
   "id": "69d14fba-ecd8-4f82-a3f9-7941f18f4fbf",
   "metadata": {},
   "outputs": [],
   "source": []
  }
 ],
 "metadata": {
  "kernelspec": {
   "display_name": "Python 3 (ipykernel)",
   "language": "python",
   "name": "python3"
  },
  "language_info": {
   "codemirror_mode": {
    "name": "ipython",
    "version": 3
   },
   "file_extension": ".py",
   "mimetype": "text/x-python",
   "name": "python",
   "nbconvert_exporter": "python",
   "pygments_lexer": "ipython3",
   "version": "3.11.4"
  },
  "widgets": {
   "application/vnd.jupyter.widget-state+json": {
    "state": {
     "0af44adbfa464059a598a1f56e096a94": {
      "model_module": "@jupyter-widgets/controls",
      "model_module_version": "2.0.0",
      "model_name": "FloatProgressModel",
      "state": {
       "bar_style": "success",
       "layout": "IPY_MODEL_1e3901c9172f4582b378dd3fce0f15b2",
       "max": 43032,
       "style": "IPY_MODEL_5ec9ab311f8c47ada6f18890088d958a",
       "value": 43032
      }
     },
     "1e3901c9172f4582b378dd3fce0f15b2": {
      "model_module": "@jupyter-widgets/base",
      "model_module_version": "2.0.0",
      "model_name": "LayoutModel",
      "state": {}
     },
     "2d17c682e4fc482699ae09b13461a554": {
      "model_module": "@jupyter-widgets/base",
      "model_module_version": "2.0.0",
      "model_name": "LayoutModel",
      "state": {}
     },
     "3a384e3333394ab7b412ede689da9fbe": {
      "model_module": "@jupyter-widgets/controls",
      "model_module_version": "2.0.0",
      "model_name": "HTMLModel",
      "state": {
       "layout": "IPY_MODEL_b5bc1dec996342a3bb347165e70546bf",
       "style": "IPY_MODEL_c1181d899a2a46ea8b6db34122e4b23b",
       "value": " 43032/43032 [09:36&lt;00:00, 75.06it/s]"
      }
     },
     "5ec9ab311f8c47ada6f18890088d958a": {
      "model_module": "@jupyter-widgets/controls",
      "model_module_version": "2.0.0",
      "model_name": "ProgressStyleModel",
      "state": {
       "description_width": ""
      }
     },
     "7fa93e1130b34507b05fcd12856ef82e": {
      "model_module": "@jupyter-widgets/base",
      "model_module_version": "2.0.0",
      "model_name": "LayoutModel",
      "state": {}
     },
     "b0b0646ddc6749b2a3c7cb787f5b6e9d": {
      "model_module": "@jupyter-widgets/controls",
      "model_module_version": "2.0.0",
      "model_name": "HBoxModel",
      "state": {
       "children": [
        "IPY_MODEL_dcc1fbc821d84211921eb6a408ffcd8f",
        "IPY_MODEL_0af44adbfa464059a598a1f56e096a94",
        "IPY_MODEL_3a384e3333394ab7b412ede689da9fbe"
       ],
       "layout": "IPY_MODEL_7fa93e1130b34507b05fcd12856ef82e"
      }
     },
     "b1effc01fe774656b80625f47c98dcc3": {
      "model_module": "@jupyter-widgets/controls",
      "model_module_version": "2.0.0",
      "model_name": "HTMLStyleModel",
      "state": {
       "description_width": "",
       "font_size": null,
       "text_color": null
      }
     },
     "b5bc1dec996342a3bb347165e70546bf": {
      "model_module": "@jupyter-widgets/base",
      "model_module_version": "2.0.0",
      "model_name": "LayoutModel",
      "state": {}
     },
     "c1181d899a2a46ea8b6db34122e4b23b": {
      "model_module": "@jupyter-widgets/controls",
      "model_module_version": "2.0.0",
      "model_name": "HTMLStyleModel",
      "state": {
       "description_width": "",
       "font_size": null,
       "text_color": null
      }
     },
     "dcc1fbc821d84211921eb6a408ffcd8f": {
      "model_module": "@jupyter-widgets/controls",
      "model_module_version": "2.0.0",
      "model_name": "HTMLModel",
      "state": {
       "layout": "IPY_MODEL_2d17c682e4fc482699ae09b13461a554",
       "style": "IPY_MODEL_b1effc01fe774656b80625f47c98dcc3",
       "value": "100%"
      }
     }
    },
    "version_major": 2,
    "version_minor": 0
   }
  }
 },
 "nbformat": 4,
 "nbformat_minor": 5
}
